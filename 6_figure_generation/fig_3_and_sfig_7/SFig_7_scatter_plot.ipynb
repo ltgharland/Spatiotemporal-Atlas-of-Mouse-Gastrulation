{
 "cells": [
  {
   "cell_type": "markdown",
   "id": "f868bc78-05aa-4f69-ab49-27043cf2d2a0",
   "metadata": {
    "tags": []
   },
   "source": [
    "## Load in Packages"
   ]
  },
  {
   "cell_type": "code",
   "execution_count": 1,
   "id": "2736b184-0c5f-4b6d-ad30-8d529cc60009",
   "metadata": {},
   "outputs": [],
   "source": [
    "suppressPackageStartupMessages({ \n",
    "    library(data.table) \n",
    "    library(dplyr) \n",
    "    library(ggplot2) \n",
    "    library(SingleCellExperiment)\n",
    "    library(dplyr)\n",
    "    library(celldex)\n",
    "    library(SingleR)\n",
    "    library(RColorBrewer)\n",
    "    library(scater) \n",
    "    library(StabMap) \n",
    "    library(scran) \n",
    "    library(harmony) \n",
    "    library(patchwork)\n",
    "    library(Seurat)\n",
    "    library(plotly)\n",
    "    library(pheatmap)\n",
    "    library(batchelor)\n",
    "    library(ggpubr)\n",
    "    library(cowplot)\n",
    "    library(viridis)\n",
    "    library(ggplot2)\n",
    "    library(cowplot)\n",
    "    library(grid)\n",
    "    library(ragg) # For rasterized output\n",
    "    library(ggplot2)\n",
    "    library(Seurat)\n",
    "    library(patchwork)\n",
    "    library(cowplot)\n",
    "    library(ragg)\n",
    "    library(gridExtra)\n",
    "    library(ggplot2)\n",
    "    library(patchwork)\n",
    "    library(Cairo)\n",
    "    library(grid)\n",
    "    library(png)\n",
    "})"
   ]
  },
  {
   "cell_type": "markdown",
   "id": "84b5b729-285f-439b-a049-9be08fef2086",
   "metadata": {},
   "source": [
    "## Load in R Scripts that Contain Cell Type Colours Etc."
   ]
  },
  {
   "cell_type": "code",
   "execution_count": 2,
   "id": "5d7b9c80-cb13-4e2a-9a7e-e78d191eb32e",
   "metadata": {},
   "outputs": [],
   "source": [
    "script_files <- list.files(\"projects/03_seqFISH_FINAL/code/CELL_GENOMICS_REVISIONS/R_scripts\", \n",
    "                           pattern = \"\\\\.[rR]$\", full.names = TRUE)\n",
    "\n",
    "invisible(lapply(script_files, source))"
   ]
  },
  {
   "cell_type": "markdown",
   "id": "368dd5b5-eb8b-413a-93c0-630c398148f9",
   "metadata": {
    "tags": []
   },
   "source": [
    "## Data Locations"
   ]
  },
  {
   "cell_type": "code",
   "execution_count": 3,
   "id": "f6fba755-0681-42d2-a56c-e31b3a087403",
   "metadata": {
    "tags": []
   },
   "outputs": [],
   "source": [
    "##### Load in Seurat Objects for post QC analyses #####\n",
    "\n",
    "io = list()\n",
    "io$main = \"/rds/project/rds-SDzz0CATGms/users/ltgh2\" # this is the main directory\n",
    "\n",
    "# Set the working directory\n",
    "setwd(io$main)\n",
    "\n",
    "io$atlas = file.path(io$main, \"projects/03_seqFISH_FINAL/code/extended_atlas_integration/processed_downsampled/downsample_10K_within_timpoint_all_stages.Rds\")\n",
    "io$seqFISH = file.path(io$main, \"projects/03_seqFISH_FINAL/code/seqFISH_integration/processed/seqFISH_after_QC_filtering_within_and_across_dataset_integration_without_neighbour_features_E6_7_8.Rds\") \n",
    "\n",
    "##### Load in StabMAP_Outputs #####\n",
    "io$StabMAP_reweighted_MNNcorrected_original_counts_without_neigh = file.path(io$main, \"projects/03_seqFISH_FINAL/code/stab_map_all_together_post_QC/output/StabMAP_allstages_postQC_reweighted_MNNcorrected_original_counts_without_neigh.Rds\")\n",
    "io$StabMAP_reweighted_MNNcorrected_integrated_counts_without_neigh = file.path(io$main, \"projects/03_seqFISH_FINAL/code/stab_map_all_together_post_QC/output/StabMAP_allstages_postQC_reweighted_MNNcorrected_integrated_counts_without_neigh.Rds\")\n",
    "\n",
    "## Load in the seqFISH CellType Labels\n",
    "io$seqFISH_labels = file.path(io$main, \n",
    "                              \"projects/03_seqFISH_FINAL/code/stabmap_label_transfer/output/StabMAP_all_stages_post_QC_reweighted_MNNcorrected_original_counts_without_neigh_LABELS.Rds\")\n",
    "\n",
    "## Load in the seqFISH Imputed Gene Expression\n",
    "io$seqFISH_imputed_logcounts_e6 = file.path(io$main, \n",
    "                              \"projects/03_seqFISH_FINAL/code/stabmap_imputation/output/seqFISH_e6_postQC_imputed_RNA.Rds\")\n",
    "\n",
    "io$seqFISH_imputed_logcounts_e7 = file.path(io$main, \n",
    "                              \"projects/03_seqFISH_FINAL/code/stabmap_imputation/output/seqFISH_e7_postQC_imputed_RNA.Rds\")\n",
    "\n",
    "io$seqFISH_imputed_logcounts_e8_1 = file.path(io$main, \n",
    "                              \"projects/03_seqFISH_FINAL/code/stabmap_imputation/output/seqFISH_e8_embryo1_postQC_imputed_RNA.Rds\")\n",
    "\n",
    "io$seqFISH_imputed_logcounts_e8_2 = file.path(io$main, \n",
    "                              \"projects/03_seqFISH_FINAL/code/stabmap_imputation/output/seqFISH_e8_embryo2_postQC_imputed_RNA.Rds\")\n",
    "\n",
    "io$seqFISH_imputed_logcounts_e8_3 = file.path(io$main, \n",
    "                              \"projects/03_seqFISH_FINAL/code/stabmap_imputation/output/seqFISH_e8_embryo3_postQC_imputed_RNA.Rds\")\n",
    "\n",
    "## Load in the seqFISH UMAP coordinates\n",
    "io$UMAP_coordinates = file.path(io$main, \n",
    "                               \"projects/03_seqFISH_FINAL/code/stab_map_umap_generation/processed/StabMAP_allstage_postQC_MNNoriginal_UMAP.rds\")"
   ]
  },
  {
   "cell_type": "code",
   "execution_count": 4,
   "id": "96f5629f-53a8-497b-a5c6-9b692afdb4d2",
   "metadata": {},
   "outputs": [],
   "source": [
    "io$seqFISH_preQC = file.path(io$main, \"projects/03_seqFISH_FINAL/code/seqFISH_integration/processed/seqFISH_within_and_across_dataset_integration_without_neighbour_features_E6_7_8.Rds\") "
   ]
  },
  {
   "cell_type": "code",
   "execution_count": 5,
   "id": "266aea0a-da8f-415f-8b5c-6c4c8d213058",
   "metadata": {},
   "outputs": [],
   "source": [
    "##### Load in within timepoint integrated Seurat Objects for pre and post QC analyses #####\n",
    "io$timepoint_pre_QC = file.path(io$main, \n",
    "                               \"projects/03_seqFISH_FINAL/code/seqFISH_integration/processed/seqFISH_within_dataset_integration_without_neighbour_features_E6_7_8.Rds\")\n",
    "\n",
    "io$timepoint_post_QC = file.path(io$main, \n",
    "                               \"projects/03_seqFISH_FINAL/code/seqFISH_integration/processed/seqFISH_after_QC_filtering_within_dataset_integration_without_neighbour_features_E6_7_8.Rds\")"
   ]
  },
  {
   "cell_type": "code",
   "execution_count": 6,
   "id": "2a07d457-ed35-4910-b75f-5cdf62773809",
   "metadata": {},
   "outputs": [],
   "source": [
    "##### Load in within timepoint integrated Seurat Objects for pre and post QC analyses #####\n",
    "io$post_QC_early_embryos_ONLY = file.path(io$main, \n",
    "                               \"projects/03_seqFISH_FINAL/code/seqFISH_integration/processed/seqFISH_after_QC_filtering_within_and_across_dataset_integration_without_neighbour_features_E6_7_ONLY.Rds\")"
   ]
  },
  {
   "cell_type": "code",
   "execution_count": 7,
   "id": "e100c5a5-9172-461b-81c7-770182905f41",
   "metadata": {},
   "outputs": [],
   "source": [
    "##### Load in the refined annotations and final metadata #####\n",
    "io$FINAL_REFINED_ANNOTATIONS = file.path(io$main, \n",
    "                               \"projects/03_seqFISH_FINAL/code/CELL_GENOMICS_REVISIONS/outputs/1B_FINAL_REFINED_ANNOTATIONS_REVISIONS_POST_REVISION.Rds\")"
   ]
  },
  {
   "cell_type": "markdown",
   "id": "991cbfd6-5746-414c-b007-7ee31c9d0bf7",
   "metadata": {
    "tags": []
   },
   "source": [
    "## Load in Seurat Objects and to the Seurat Object add the StabMAP UMAP, Transferred Cell Type Labels and Imputed Gene Expression Matrix"
   ]
  },
  {
   "cell_type": "code",
   "execution_count": 8,
   "id": "f14d0ad0-8b82-4e5e-9a81-1db4dc922877",
   "metadata": {},
   "outputs": [
    {
     "data": {
      "text/plain": [
       "An object of class Seurat \n",
       "28723 features across 63188 samples within 4 assays \n",
       "Active assay: across_timepoint_integration (351 features, 351 variable features)\n",
       " 3 other assays present: originalexp, within_timepoint_integration, imputed\n",
       " 5 dimensional reductions calculated: pca, umap, spatial, Shila_PCA, Shila_UMAP"
      ]
     },
     "metadata": {},
     "output_type": "display_data"
    }
   ],
   "source": [
    "# Load in the seqFISH object_postQC\n",
    "seqFISH = readRDS(io$seqFISH)\n",
    "\n",
    "# Load in celltype, stage and anatomy labels\n",
    "seqFISH_labels = readRDS(io$seqFISH_labels)\n",
    "\n",
    "# Update the colnames in the seqFISH meta.data\n",
    "seqFISH_labels_updated <- seqFISH_labels\n",
    "colnames(seqFISH_labels_updated) <- c(\"nearest_cell_label_transfer\", \"celltype_extended_atlas\", \"stage\", \"anatomy\", \"somite_count\")\n",
    "\n",
    "\n",
    "seqFISH <- AddMetaData(seqFISH, metadata = seqFISH_labels_updated)\n",
    "\n",
    "# Load in the imputed gene expression \n",
    "seqFISH_imputed_logcounts_e6 = readRDS(io$seqFISH_imputed_logcounts_e6)\n",
    "seqFISH_imputed_logcounts_e7 = readRDS(io$seqFISH_imputed_logcounts_e7)\n",
    "seqFISH_imputed_logcounts_e8_1 = readRDS(io$seqFISH_imputed_logcounts_e8_1)\n",
    "seqFISH_imputed_logcounts_e8_2 = readRDS(io$seqFISH_imputed_logcounts_e8_2)\n",
    "seqFISH_imputed_logcounts_e8_3 = readRDS(io$seqFISH_imputed_logcounts_e8_3)\n",
    "\n",
    "# Create a combined matrix of gene expression across all time points\n",
    "imputed_expression <- cbind(seqFISH_imputed_logcounts_e6$scRNA.RNA, \n",
    "                           seqFISH_imputed_logcounts_e7$scRNA.RNA, \n",
    "                            seqFISH_imputed_logcounts_e8_1$scRNA.RNA, \n",
    "                            seqFISH_imputed_logcounts_e8_2$scRNA.RNA, \n",
    "                            seqFISH_imputed_logcounts_e8_3$scRNA.RNA)\n",
    "\n",
    "# Creat a new assay object to store imputed data\n",
    "imp <- CreateAssayObject(data = imputed_expression)\n",
    "\n",
    "# add this assay to the previously created Seurat object\n",
    "seqFISH[[\"imputed\"]] <- imp\n",
    "\n",
    "seqFISH_postQC <- seqFISH\n",
    "\n",
    "seqFISH_postQC"
   ]
  },
  {
   "cell_type": "code",
   "execution_count": 9,
   "id": "86cf449a-d861-4b9a-9a34-21d6536bf547",
   "metadata": {},
   "outputs": [],
   "source": [
    "post_QC_early_embryos_ONLY <- readRDS(io$post_QC_early_embryos_ONLY)"
   ]
  },
  {
   "cell_type": "code",
   "execution_count": 10,
   "id": "b9e97bcc-5314-4447-8ce2-2d53ceafe6c4",
   "metadata": {},
   "outputs": [],
   "source": [
    "# Load in the seqFISH object_postQC\n",
    "atlas = readRDS(io$atlas)"
   ]
  },
  {
   "cell_type": "code",
   "execution_count": 11,
   "id": "9fdb5d28-df7d-4d7d-a286-70aaab2e8e2c",
   "metadata": {},
   "outputs": [],
   "source": [
    "seqFISH_preQC = readRDS(io$seqFISH_preQC)"
   ]
  },
  {
   "cell_type": "code",
   "execution_count": 12,
   "id": "00593eff-2bbd-4c64-a7e6-062a68f70cad",
   "metadata": {},
   "outputs": [
    {
     "data": {
      "text/plain": [
       "An object of class Seurat \n",
       "1053 features across 73470 samples within 3 assays \n",
       "Active assay: across_timepoint_integration (351 features, 351 variable features)\n",
       " 2 other assays present: originalexp, within_timepoint_integration\n",
       " 5 dimensional reductions calculated: pca, umap, spatial, Shila_PCA, Shila_UMAP"
      ]
     },
     "metadata": {},
     "output_type": "display_data"
    }
   ],
   "source": [
    "seqFISH_preQC"
   ]
  },
  {
   "cell_type": "code",
   "execution_count": 13,
   "id": "b0c7c1a5-27ad-4858-b4b5-32a6be113b33",
   "metadata": {},
   "outputs": [
    {
     "name": "stderr",
     "output_type": "stream",
     "text": [
      "Warning message:\n",
      "“Keys should be one or more alphanumeric characters followed by an underscore, setting key from StabMap.original to StabMaporiginal_”\n",
      "Warning message:\n",
      "“All keys should be one or more alphanumeric characters followed by an underscore '_', setting key to StabMaporiginal_”\n"
     ]
    }
   ],
   "source": [
    "# Load in the UMAP coordinates\n",
    "UMAP_coordinates = readRDS(io$UMAP_coordinates)\n",
    "\n",
    "# Load in the StabMAP coordinates\n",
    "StabMAP_reweighted_MNNcorrected_original_counts_without_neigh = readRDS(io$StabMAP_reweighted_MNNcorrected_original_counts_without_neigh)\n",
    "\n",
    "##Create dimension reduced objects to insert into the seuart object\n",
    "StabMAP_original <- CreateDimReducObject(embeddings = StabMAP_reweighted_MNNcorrected_original_counts_without_neigh, \n",
    "                                         key = \"StabMap.original\",\n",
    "                                         assay = \"originalexp\")"
   ]
  },
  {
   "cell_type": "code",
   "execution_count": 14,
   "id": "5cf5dd61-90f9-4795-8b57-f20277d6adea",
   "metadata": {},
   "outputs": [],
   "source": [
    "# load in the final refined_annotations\n",
    "FINAL_REFINED_ANNOTATIONS_UPDATED = readRDS(io$FINAL_REFINED_ANNOTATIONS)"
   ]
  },
  {
   "cell_type": "code",
   "execution_count": 15,
   "id": "0d82313f-5daf-4be9-a7fa-61a473caf8f8",
   "metadata": {},
   "outputs": [],
   "source": [
    "FINAL_REFINED_ANNOTATIONS <- FINAL_REFINED_ANNOTATIONS_UPDATED %>% \n",
    "  select(-embryo)"
   ]
  },
  {
   "cell_type": "code",
   "execution_count": 16,
   "id": "20ce3eeb-0190-4580-b740-2ee4713c6f9b",
   "metadata": {},
   "outputs": [
    {
     "data": {
      "text/html": [
       "<style>\n",
       ".list-inline {list-style: none; margin:0; padding: 0}\n",
       ".list-inline>li {display: inline-block}\n",
       ".list-inline>li:not(:last-child)::after {content: \"\\00b7\"; padding: 0 .5ex}\n",
       "</style>\n",
       "<ol class=list-inline><li>'cell_ID'</li><li>'orig.ident'</li><li>'nCount_RNA'</li><li>'nFeature_RNA'</li><li>'seqFISH_celltype'</li><li>'extended_atlas_celltype'</li><li>'AP'</li><li>'DV'</li><li>'dataset'</li><li>'cluster'</li><li>'subcluster'</li><li>'cluster_subcluster'</li><li>'stage'</li><li>'anatomy'</li><li>'UMAP_1'</li><li>'UMAP_2'</li><li>'celltype_PijuanSala2019'</li><li>'majority_seqFISH_celltype'</li><li>'majority_seqFISH_celltype_proportion'</li><li>'majority_extended_atlas_celltype'</li><li>'majority_extended_atlas_celltype_proportion'</li><li>'majority_celltype_PijuanSala2019_celltype'</li><li>'majority_celltype_PijuanSala2019_celltype_proportion'</li><li>'stage_transfer'</li><li>'poor_stage_alignment'</li><li>'proportion_seqFISH_cells_per_subcluster'</li><li>'joint_clusters_pass_QC'</li><li>'stage_alignment_pass_QC'</li><li>'passed_QC'</li><li>'refined_annotation'</li></ol>\n"
      ],
      "text/latex": [
       "\\begin{enumerate*}\n",
       "\\item 'cell\\_ID'\n",
       "\\item 'orig.ident'\n",
       "\\item 'nCount\\_RNA'\n",
       "\\item 'nFeature\\_RNA'\n",
       "\\item 'seqFISH\\_celltype'\n",
       "\\item 'extended\\_atlas\\_celltype'\n",
       "\\item 'AP'\n",
       "\\item 'DV'\n",
       "\\item 'dataset'\n",
       "\\item 'cluster'\n",
       "\\item 'subcluster'\n",
       "\\item 'cluster\\_subcluster'\n",
       "\\item 'stage'\n",
       "\\item 'anatomy'\n",
       "\\item 'UMAP\\_1'\n",
       "\\item 'UMAP\\_2'\n",
       "\\item 'celltype\\_PijuanSala2019'\n",
       "\\item 'majority\\_seqFISH\\_celltype'\n",
       "\\item 'majority\\_seqFISH\\_celltype\\_proportion'\n",
       "\\item 'majority\\_extended\\_atlas\\_celltype'\n",
       "\\item 'majority\\_extended\\_atlas\\_celltype\\_proportion'\n",
       "\\item 'majority\\_celltype\\_PijuanSala2019\\_celltype'\n",
       "\\item 'majority\\_celltype\\_PijuanSala2019\\_celltype\\_proportion'\n",
       "\\item 'stage\\_transfer'\n",
       "\\item 'poor\\_stage\\_alignment'\n",
       "\\item 'proportion\\_seqFISH\\_cells\\_per\\_subcluster'\n",
       "\\item 'joint\\_clusters\\_pass\\_QC'\n",
       "\\item 'stage\\_alignment\\_pass\\_QC'\n",
       "\\item 'passed\\_QC'\n",
       "\\item 'refined\\_annotation'\n",
       "\\end{enumerate*}\n"
      ],
      "text/markdown": [
       "1. 'cell_ID'\n",
       "2. 'orig.ident'\n",
       "3. 'nCount_RNA'\n",
       "4. 'nFeature_RNA'\n",
       "5. 'seqFISH_celltype'\n",
       "6. 'extended_atlas_celltype'\n",
       "7. 'AP'\n",
       "8. 'DV'\n",
       "9. 'dataset'\n",
       "10. 'cluster'\n",
       "11. 'subcluster'\n",
       "12. 'cluster_subcluster'\n",
       "13. 'stage'\n",
       "14. 'anatomy'\n",
       "15. 'UMAP_1'\n",
       "16. 'UMAP_2'\n",
       "17. 'celltype_PijuanSala2019'\n",
       "18. 'majority_seqFISH_celltype'\n",
       "19. 'majority_seqFISH_celltype_proportion'\n",
       "20. 'majority_extended_atlas_celltype'\n",
       "21. 'majority_extended_atlas_celltype_proportion'\n",
       "22. 'majority_celltype_PijuanSala2019_celltype'\n",
       "23. 'majority_celltype_PijuanSala2019_celltype_proportion'\n",
       "24. 'stage_transfer'\n",
       "25. 'poor_stage_alignment'\n",
       "26. 'proportion_seqFISH_cells_per_subcluster'\n",
       "27. 'joint_clusters_pass_QC'\n",
       "28. 'stage_alignment_pass_QC'\n",
       "29. 'passed_QC'\n",
       "30. 'refined_annotation'\n",
       "\n",
       "\n"
      ],
      "text/plain": [
       " [1] \"cell_ID\"                                             \n",
       " [2] \"orig.ident\"                                          \n",
       " [3] \"nCount_RNA\"                                          \n",
       " [4] \"nFeature_RNA\"                                        \n",
       " [5] \"seqFISH_celltype\"                                    \n",
       " [6] \"extended_atlas_celltype\"                             \n",
       " [7] \"AP\"                                                  \n",
       " [8] \"DV\"                                                  \n",
       " [9] \"dataset\"                                             \n",
       "[10] \"cluster\"                                             \n",
       "[11] \"subcluster\"                                          \n",
       "[12] \"cluster_subcluster\"                                  \n",
       "[13] \"stage\"                                               \n",
       "[14] \"anatomy\"                                             \n",
       "[15] \"UMAP_1\"                                              \n",
       "[16] \"UMAP_2\"                                              \n",
       "[17] \"celltype_PijuanSala2019\"                             \n",
       "[18] \"majority_seqFISH_celltype\"                           \n",
       "[19] \"majority_seqFISH_celltype_proportion\"                \n",
       "[20] \"majority_extended_atlas_celltype\"                    \n",
       "[21] \"majority_extended_atlas_celltype_proportion\"         \n",
       "[22] \"majority_celltype_PijuanSala2019_celltype\"           \n",
       "[23] \"majority_celltype_PijuanSala2019_celltype_proportion\"\n",
       "[24] \"stage_transfer\"                                      \n",
       "[25] \"poor_stage_alignment\"                                \n",
       "[26] \"proportion_seqFISH_cells_per_subcluster\"             \n",
       "[27] \"joint_clusters_pass_QC\"                              \n",
       "[28] \"stage_alignment_pass_QC\"                             \n",
       "[29] \"passed_QC\"                                           \n",
       "[30] \"refined_annotation\"                                  "
      ]
     },
     "metadata": {},
     "output_type": "display_data"
    }
   ],
   "source": [
    "colnames(FINAL_REFINED_ANNOTATIONS)"
   ]
  },
  {
   "cell_type": "markdown",
   "id": "d17c7e40-5c2f-4ce0-97d9-96806402717c",
   "metadata": {
    "tags": []
   },
   "source": [
    "## Generate Individual Seurat Objects for seqFISH and scRNA"
   ]
  },
  {
   "cell_type": "markdown",
   "id": "1a86adcb-dbb3-42c6-9550-9c8cfedb758f",
   "metadata": {
    "tags": []
   },
   "source": [
    "### Update the Embryo Labels in the Seurat Objects"
   ]
  },
  {
   "cell_type": "code",
   "execution_count": 17,
   "id": "407a53f1-8931-451b-8799-e3b41a6dbbd2",
   "metadata": {},
   "outputs": [],
   "source": [
    "update_embryo_names <- function(seurat_obj) {\n",
    "    # Define the mapping for renaming embryos\n",
    "    embryo_mapping <- c(\"embryo1\" = \"embryo_5\",\n",
    "                        \"embryo2\" = \"embryo_6\",\n",
    "                        \"embryo3\" = \"embryo_7\",\n",
    "                        \"embryo6\" = \"embryo_1\",\n",
    "                        \"embryo7\" = \"embryo_2\",\n",
    "                        \"embryo4\" = \"embryo_3\",\n",
    "                        \"embryo5\" = \"embryo_4\")\n",
    "\n",
    "    embryo_sf_mapping <- c(\"embryo1\" = \"5\",\n",
    "                           \"embryo2\" = \"6\",\n",
    "                           \"embryo3\" = \"7\",\n",
    "                           \"embryo6\" = \"1\",\n",
    "                           \"embryo7\" = \"2\",\n",
    "                           \"embryo4\" = \"3\",\n",
    "                           \"embryo5\" = \"4\")\n",
    "\n",
    "    # Update embryo names\n",
    "    seurat_obj@meta.data$embryo_name_updated <- embryo_mapping[seurat_obj@meta.data$embryo]\n",
    "    seurat_obj@meta.data$embryo_name_updated_sf <- embryo_sf_mapping[seurat_obj@meta.data$embryo]\n",
    "    \n",
    "    return(seurat_obj)\n",
    "}\n",
    "\n",
    "# Example usage:\n",
    "seqFISH_preQC <- update_embryo_names(seqFISH_preQC)\n",
    "#seurat_combined_seqFISH <- update_embryo_names(seurat_combined_seqFISH)"
   ]
  },
  {
   "cell_type": "markdown",
   "id": "1e03e14c-43cf-45af-8aa6-b47367eb6d21",
   "metadata": {},
   "source": [
    "## Get Marker Genes List Organized"
   ]
  },
  {
   "cell_type": "code",
   "execution_count": 18,
   "id": "b105e3bf-072f-4c55-a801-4c1b51eb1fd4",
   "metadata": {},
   "outputs": [],
   "source": [
    "script_files <- list.files(\"projects/03_seqFISH_FINAL/code/CELL_GENOMICS_REVISIONS/R_scripts\", \n",
    "                           pattern = \"\\\\.[rR]$\", full.names = TRUE)\n",
    "\n",
    "invisible(lapply(script_files, source))"
   ]
  },
  {
   "cell_type": "code",
   "execution_count": 19,
   "id": "d30a1b02-e663-4494-a8ec-feed4d148c67",
   "metadata": {},
   "outputs": [
    {
     "name": "stdout",
     "output_type": "stream",
     "text": [
      " Named chr [1:579] \"Hoxa10\" \"Hoxa11\" \"Tbx2\" \"Tbx4\" \"Cdh5\" \"Hoxa11\" \"Plac1\" ...\n",
      " - attr(*, \"names\")= chr [1:579] \"Allantois1\" \"Allantois2\" \"Allantois3\" \"Allantois4\" ...\n"
     ]
    }
   ],
   "source": [
    "# Flatten the list into a single character vector\n",
    "all_marker_genes <- unlist(Imaz_Rosshandler_marker_genes)\n",
    "\n",
    "# Print the result\n",
    "str(all_marker_genes)"
   ]
  },
  {
   "cell_type": "code",
   "execution_count": 20,
   "id": "806f1c78-1319-4ac2-b2d8-3dfeef263b6c",
   "metadata": {},
   "outputs": [
    {
     "name": "stdout",
     "output_type": "stream",
     "text": [
      " chr [1:315] \"Hoxa10\" \"Hoxa11\" \"Tbx2\" \"Tbx4\" \"Cdh5\" \"Plac1\" \"Vcam1\" \"Aqp2\" ...\n"
     ]
    }
   ],
   "source": [
    "# Remove the names from the vector\n",
    "all_marker_genes <- unique(unname(all_marker_genes))\n",
    "\n",
    "# Print the result\n",
    "str(all_marker_genes)"
   ]
  },
  {
   "cell_type": "markdown",
   "id": "7b894c4b-06cd-41a8-9827-702ce53c58c6",
   "metadata": {
    "tags": []
   },
   "source": [
    "## PIPELINE TO GENERATE SUPPLEMENTARY FIGURES CONNECTED TO MAIN FIGURE 2"
   ]
  },
  {
   "cell_type": "markdown",
   "id": "10d0c3ba-5f35-47a9-947a-3d9fc22e4770",
   "metadata": {
    "tags": []
   },
   "source": [
    "#### getting Objects Ready"
   ]
  },
  {
   "cell_type": "code",
   "execution_count": 21,
   "id": "8f731a35-4908-4802-9a22-b1b428833a40",
   "metadata": {},
   "outputs": [],
   "source": [
    "### LOAD IN DF_TOTAL ###\n",
    "seqFISH_preQC <- AddMetaData(seqFISH_preQC, metadata = FINAL_REFINED_ANNOTATIONS)\n",
    "seqFISH_preQC@meta.data$refined_annotation <- as.character(seqFISH_preQC@meta.data$refined_annotation)\n",
    "seqFISH_preQC_updated <- seqFISH_preQC\n",
    "\n",
    "# Replace NA with \"failed_qc\"\n",
    "seqFISH_preQC_updated@meta.data$refined_annotation <- ifelse(\n",
    "  is.na(seqFISH_preQC_updated@meta.data$refined_annotation),\n",
    "  \"failed_qc\",\n",
    "  seqFISH_preQC_updated@meta.data$refined_annotation\n",
    ")\n",
    "\n",
    "# add the spatial coordinates to the data.frame\n",
    "spatial_coordinates <- as.data.frame(seqFISH_preQC_updated@reductions$spatial@cell.embeddings)\n",
    "spatial_coordinates$cell_ID <- row.names(spatial_coordinates)\n",
    "\n",
    "df <- seqFISH_preQC_updated@meta.data\n",
    "df_total <- cbind(spatial_coordinates, df)\n",
    "\n",
    "# Replace NA with \"failed_qc\"\n",
    "df_total$refined_annotation <- ifelse(\n",
    "  is.na(df_total$refined_annotation),\n",
    "  \"failed_qc\",\n",
    "  df_total$refined_annotation\n",
    ")"
   ]
  },
  {
   "cell_type": "code",
   "execution_count": 22,
   "id": "548dfbe0-1659-4cb3-979c-3945cba45e81",
   "metadata": {},
   "outputs": [
    {
     "data": {
      "text/html": [
       "<style>\n",
       ".list-inline {list-style: none; margin:0; padding: 0}\n",
       ".list-inline>li {display: inline-block}\n",
       ".list-inline>li:not(:last-child)::after {content: \"\\00b7\"; padding: 0 .5ex}\n",
       "</style>\n",
       "<ol class=list-inline><li>73470</li><li>57</li></ol>\n"
      ],
      "text/latex": [
       "\\begin{enumerate*}\n",
       "\\item 73470\n",
       "\\item 57\n",
       "\\end{enumerate*}\n"
      ],
      "text/markdown": [
       "1. 73470\n",
       "2. 57\n",
       "\n",
       "\n"
      ],
      "text/plain": [
       "[1] 73470    57"
      ]
     },
     "metadata": {},
     "output_type": "display_data"
    }
   ],
   "source": [
    "dim(df_total)"
   ]
  },
  {
   "cell_type": "code",
   "execution_count": 23,
   "id": "eed1bbc1-1328-4a3c-a9f7-60f3cdb58f44",
   "metadata": {},
   "outputs": [
    {
     "data": {
      "text/html": [
       "<table class=\"dataframe\">\n",
       "<caption>A data.frame: 6 x 53</caption>\n",
       "<thead>\n",
       "\t<tr><th></th><th scope=col>orig.ident</th><th scope=col>nCount_originalexp</th><th scope=col>nFeature_originalexp</th><th scope=col>dim1</th><th scope=col>dim2</th><th scope=col>dim3</th><th scope=col>sample_id</th><th scope=col>embryo</th><th scope=col>pos</th><th scope=col>fov</th><th scope=col>...</th><th scope=col>majority_extended_atlas_celltype_proportion</th><th scope=col>majority_celltype_PijuanSala2019_celltype</th><th scope=col>majority_celltype_PijuanSala2019_celltype_proportion</th><th scope=col>stage_transfer</th><th scope=col>poor_stage_alignment</th><th scope=col>proportion_seqFISH_cells_per_subcluster</th><th scope=col>joint_clusters_pass_QC</th><th scope=col>stage_alignment_pass_QC</th><th scope=col>passed_QC</th><th scope=col>refined_annotation</th></tr>\n",
       "\t<tr><th></th><th scope=col>&lt;fct&gt;</th><th scope=col>&lt;dbl&gt;</th><th scope=col>&lt;int&gt;</th><th scope=col>&lt;dbl&gt;</th><th scope=col>&lt;dbl&gt;</th><th scope=col>&lt;dbl&gt;</th><th scope=col>&lt;chr&gt;</th><th scope=col>&lt;chr&gt;</th><th scope=col>&lt;chr&gt;</th><th scope=col>&lt;chr&gt;</th><th scope=col>...</th><th scope=col>&lt;dbl&gt;</th><th scope=col>&lt;chr&gt;</th><th scope=col>&lt;dbl&gt;</th><th scope=col>&lt;chr&gt;</th><th scope=col>&lt;lgl&gt;</th><th scope=col>&lt;dbl&gt;</th><th scope=col>&lt;lgl&gt;</th><th scope=col>&lt;lgl&gt;</th><th scope=col>&lt;lgl&gt;</th><th scope=col>&lt;chr&gt;</th></tr>\n",
       "</thead>\n",
       "<tbody>\n",
       "\t<tr><th scope=row>embryo6_Pos0_cell2</th><td>embryo6</td><td>138</td><td>93</td><td>600.3434</td><td>125.1070</td><td>2.500691</td><td>sample01</td><td>embryo6</td><td>Pos0</td><td>fov.1</td><td>...</td><td>0.9444444</td><td>Anterior Primitive Streak</td><td>0.6777778</td><td>E7.25</td><td>FALSE</td><td>0.06666667</td><td>TRUE</td><td> TRUE</td><td> TRUE</td><td>Anterior Primitive Streak</td></tr>\n",
       "\t<tr><th scope=row>embryo6_Pos0_cell3</th><td>embryo6</td><td> 50</td><td>37</td><td>429.2308</td><td>210.4952</td><td>3.504292</td><td>sample01</td><td>embryo6</td><td>Pos0</td><td>fov.1</td><td>...</td><td>0.7821429</td><td>New cells                </td><td>0.7178571</td><td>E8.75</td><td> TRUE</td><td>0.34285714</td><td>TRUE</td><td>FALSE</td><td>FALSE</td><td>Migratory neural crest   </td></tr>\n",
       "\t<tr><th scope=row>embryo6_Pos0_cell4</th><td>embryo6</td><td>120</td><td>59</td><td>439.7686</td><td>221.7524</td><td>4.922626</td><td>sample01</td><td>embryo6</td><td>Pos0</td><td>fov.1</td><td>...</td><td>0.6019417</td><td>Epiblast                 </td><td>0.6601942</td><td>E7.25</td><td>FALSE</td><td>0.89320388</td><td>TRUE</td><td> TRUE</td><td> TRUE</td><td>Epiblast                 </td></tr>\n",
       "\t<tr><th scope=row>embryo6_Pos0_cell5</th><td>NA     </td><td> 28</td><td>23</td><td>413.1775</td><td>197.8247</td><td>1.840986</td><td>sample01</td><td>embryo6</td><td>Pos0</td><td>fov.1</td><td>...</td><td>       NA</td><td>NA                       </td><td>       NA</td><td>NA   </td><td>   NA</td><td>        NA</td><td>  NA</td><td>   NA</td><td>   NA</td><td>failed_qc                </td></tr>\n",
       "\t<tr><th scope=row>embryo6_Pos0_cell6</th><td>NA     </td><td> 16</td><td>10</td><td>436.8529</td><td>202.6335</td><td>5.505245</td><td>sample01</td><td>embryo6</td><td>Pos0</td><td>fov.1</td><td>...</td><td>       NA</td><td>NA                       </td><td>       NA</td><td>NA   </td><td>   NA</td><td>        NA</td><td>  NA</td><td>   NA</td><td>   NA</td><td>failed_qc                </td></tr>\n",
       "\t<tr><th scope=row>embryo6_Pos0_cell7</th><td>embryo6</td><td> 87</td><td>48</td><td>440.2362</td><td>164.0092</td><td>1.508630</td><td>sample01</td><td>embryo6</td><td>Pos0</td><td>fov.1</td><td>...</td><td>0.9482440</td><td>Epiblast                 </td><td>0.9667283</td><td>E7.25</td><td>FALSE</td><td>0.04621072</td><td>TRUE</td><td> TRUE</td><td> TRUE</td><td>Epiblast                 </td></tr>\n",
       "</tbody>\n",
       "</table>\n"
      ],
      "text/latex": [
       "A data.frame: 6 x 53\n",
       "\\begin{tabular}{r|lllllllllllllllllllll}\n",
       "  & orig.ident & nCount\\_originalexp & nFeature\\_originalexp & dim1 & dim2 & dim3 & sample\\_id & embryo & pos & fov & ... & majority\\_extended\\_atlas\\_celltype\\_proportion & majority\\_celltype\\_PijuanSala2019\\_celltype & majority\\_celltype\\_PijuanSala2019\\_celltype\\_proportion & stage\\_transfer & poor\\_stage\\_alignment & proportion\\_seqFISH\\_cells\\_per\\_subcluster & joint\\_clusters\\_pass\\_QC & stage\\_alignment\\_pass\\_QC & passed\\_QC & refined\\_annotation\\\\\n",
       "  & <fct> & <dbl> & <int> & <dbl> & <dbl> & <dbl> & <chr> & <chr> & <chr> & <chr> & ... & <dbl> & <chr> & <dbl> & <chr> & <lgl> & <dbl> & <lgl> & <lgl> & <lgl> & <chr>\\\\\n",
       "\\hline\n",
       "\tembryo6\\_Pos0\\_cell2 & embryo6 & 138 & 93 & 600.3434 & 125.1070 & 2.500691 & sample01 & embryo6 & Pos0 & fov.1 & ... & 0.9444444 & Anterior Primitive Streak & 0.6777778 & E7.25 & FALSE & 0.06666667 & TRUE &  TRUE &  TRUE & Anterior Primitive Streak\\\\\n",
       "\tembryo6\\_Pos0\\_cell3 & embryo6 &  50 & 37 & 429.2308 & 210.4952 & 3.504292 & sample01 & embryo6 & Pos0 & fov.1 & ... & 0.7821429 & New cells                 & 0.7178571 & E8.75 &  TRUE & 0.34285714 & TRUE & FALSE & FALSE & Migratory neural crest   \\\\\n",
       "\tembryo6\\_Pos0\\_cell4 & embryo6 & 120 & 59 & 439.7686 & 221.7524 & 4.922626 & sample01 & embryo6 & Pos0 & fov.1 & ... & 0.6019417 & Epiblast                  & 0.6601942 & E7.25 & FALSE & 0.89320388 & TRUE &  TRUE &  TRUE & Epiblast                 \\\\\n",
       "\tembryo6\\_Pos0\\_cell5 & NA      &  28 & 23 & 413.1775 & 197.8247 & 1.840986 & sample01 & embryo6 & Pos0 & fov.1 & ... &        NA & NA                        &        NA & NA    &    NA &         NA &   NA &    NA &    NA & failed\\_qc                \\\\\n",
       "\tembryo6\\_Pos0\\_cell6 & NA      &  16 & 10 & 436.8529 & 202.6335 & 5.505245 & sample01 & embryo6 & Pos0 & fov.1 & ... &        NA & NA                        &        NA & NA    &    NA &         NA &   NA &    NA &    NA & failed\\_qc                \\\\\n",
       "\tembryo6\\_Pos0\\_cell7 & embryo6 &  87 & 48 & 440.2362 & 164.0092 & 1.508630 & sample01 & embryo6 & Pos0 & fov.1 & ... & 0.9482440 & Epiblast                  & 0.9667283 & E7.25 & FALSE & 0.04621072 & TRUE &  TRUE &  TRUE & Epiblast                 \\\\\n",
       "\\end{tabular}\n"
      ],
      "text/markdown": [
       "\n",
       "A data.frame: 6 x 53\n",
       "\n",
       "| <!--/--> | orig.ident &lt;fct&gt; | nCount_originalexp &lt;dbl&gt; | nFeature_originalexp &lt;int&gt; | dim1 &lt;dbl&gt; | dim2 &lt;dbl&gt; | dim3 &lt;dbl&gt; | sample_id &lt;chr&gt; | embryo &lt;chr&gt; | pos &lt;chr&gt; | fov &lt;chr&gt; | ... ... | majority_extended_atlas_celltype_proportion &lt;dbl&gt; | majority_celltype_PijuanSala2019_celltype &lt;chr&gt; | majority_celltype_PijuanSala2019_celltype_proportion &lt;dbl&gt; | stage_transfer &lt;chr&gt; | poor_stage_alignment &lt;lgl&gt; | proportion_seqFISH_cells_per_subcluster &lt;dbl&gt; | joint_clusters_pass_QC &lt;lgl&gt; | stage_alignment_pass_QC &lt;lgl&gt; | passed_QC &lt;lgl&gt; | refined_annotation &lt;chr&gt; |\n",
       "|---|---|---|---|---|---|---|---|---|---|---|---|---|---|---|---|---|---|---|---|---|---|\n",
       "| embryo6_Pos0_cell2 | embryo6 | 138 | 93 | 600.3434 | 125.1070 | 2.500691 | sample01 | embryo6 | Pos0 | fov.1 | ... | 0.9444444 | Anterior Primitive Streak | 0.6777778 | E7.25 | FALSE | 0.06666667 | TRUE |  TRUE |  TRUE | Anterior Primitive Streak |\n",
       "| embryo6_Pos0_cell3 | embryo6 |  50 | 37 | 429.2308 | 210.4952 | 3.504292 | sample01 | embryo6 | Pos0 | fov.1 | ... | 0.7821429 | New cells                 | 0.7178571 | E8.75 |  TRUE | 0.34285714 | TRUE | FALSE | FALSE | Migratory neural crest    |\n",
       "| embryo6_Pos0_cell4 | embryo6 | 120 | 59 | 439.7686 | 221.7524 | 4.922626 | sample01 | embryo6 | Pos0 | fov.1 | ... | 0.6019417 | Epiblast                  | 0.6601942 | E7.25 | FALSE | 0.89320388 | TRUE |  TRUE |  TRUE | Epiblast                  |\n",
       "| embryo6_Pos0_cell5 | NA      |  28 | 23 | 413.1775 | 197.8247 | 1.840986 | sample01 | embryo6 | Pos0 | fov.1 | ... |        NA | NA                        |        NA | NA    |    NA |         NA |   NA |    NA |    NA | failed_qc                 |\n",
       "| embryo6_Pos0_cell6 | NA      |  16 | 10 | 436.8529 | 202.6335 | 5.505245 | sample01 | embryo6 | Pos0 | fov.1 | ... |        NA | NA                        |        NA | NA    |    NA |         NA |   NA |    NA |    NA | failed_qc                 |\n",
       "| embryo6_Pos0_cell7 | embryo6 |  87 | 48 | 440.2362 | 164.0092 | 1.508630 | sample01 | embryo6 | Pos0 | fov.1 | ... | 0.9482440 | Epiblast                  | 0.9667283 | E7.25 | FALSE | 0.04621072 | TRUE |  TRUE |  TRUE | Epiblast                  |\n",
       "\n"
      ],
      "text/plain": [
       "                   orig.ident nCount_originalexp nFeature_originalexp dim1    \n",
       "embryo6_Pos0_cell2 embryo6    138                93                   600.3434\n",
       "embryo6_Pos0_cell3 embryo6     50                37                   429.2308\n",
       "embryo6_Pos0_cell4 embryo6    120                59                   439.7686\n",
       "embryo6_Pos0_cell5 NA          28                23                   413.1775\n",
       "embryo6_Pos0_cell6 NA          16                10                   436.8529\n",
       "embryo6_Pos0_cell7 embryo6     87                48                   440.2362\n",
       "                   dim2     dim3     sample_id embryo  pos  fov   ...\n",
       "embryo6_Pos0_cell2 125.1070 2.500691 sample01  embryo6 Pos0 fov.1 ...\n",
       "embryo6_Pos0_cell3 210.4952 3.504292 sample01  embryo6 Pos0 fov.1 ...\n",
       "embryo6_Pos0_cell4 221.7524 4.922626 sample01  embryo6 Pos0 fov.1 ...\n",
       "embryo6_Pos0_cell5 197.8247 1.840986 sample01  embryo6 Pos0 fov.1 ...\n",
       "embryo6_Pos0_cell6 202.6335 5.505245 sample01  embryo6 Pos0 fov.1 ...\n",
       "embryo6_Pos0_cell7 164.0092 1.508630 sample01  embryo6 Pos0 fov.1 ...\n",
       "                   majority_extended_atlas_celltype_proportion\n",
       "embryo6_Pos0_cell2 0.9444444                                  \n",
       "embryo6_Pos0_cell3 0.7821429                                  \n",
       "embryo6_Pos0_cell4 0.6019417                                  \n",
       "embryo6_Pos0_cell5        NA                                  \n",
       "embryo6_Pos0_cell6        NA                                  \n",
       "embryo6_Pos0_cell7 0.9482440                                  \n",
       "                   majority_celltype_PijuanSala2019_celltype\n",
       "embryo6_Pos0_cell2 Anterior Primitive Streak                \n",
       "embryo6_Pos0_cell3 New cells                                \n",
       "embryo6_Pos0_cell4 Epiblast                                 \n",
       "embryo6_Pos0_cell5 NA                                       \n",
       "embryo6_Pos0_cell6 NA                                       \n",
       "embryo6_Pos0_cell7 Epiblast                                 \n",
       "                   majority_celltype_PijuanSala2019_celltype_proportion\n",
       "embryo6_Pos0_cell2 0.6777778                                           \n",
       "embryo6_Pos0_cell3 0.7178571                                           \n",
       "embryo6_Pos0_cell4 0.6601942                                           \n",
       "embryo6_Pos0_cell5        NA                                           \n",
       "embryo6_Pos0_cell6        NA                                           \n",
       "embryo6_Pos0_cell7 0.9667283                                           \n",
       "                   stage_transfer poor_stage_alignment\n",
       "embryo6_Pos0_cell2 E7.25          FALSE               \n",
       "embryo6_Pos0_cell3 E8.75           TRUE               \n",
       "embryo6_Pos0_cell4 E7.25          FALSE               \n",
       "embryo6_Pos0_cell5 NA                NA               \n",
       "embryo6_Pos0_cell6 NA                NA               \n",
       "embryo6_Pos0_cell7 E7.25          FALSE               \n",
       "                   proportion_seqFISH_cells_per_subcluster\n",
       "embryo6_Pos0_cell2 0.06666667                             \n",
       "embryo6_Pos0_cell3 0.34285714                             \n",
       "embryo6_Pos0_cell4 0.89320388                             \n",
       "embryo6_Pos0_cell5         NA                             \n",
       "embryo6_Pos0_cell6         NA                             \n",
       "embryo6_Pos0_cell7 0.04621072                             \n",
       "                   joint_clusters_pass_QC stage_alignment_pass_QC passed_QC\n",
       "embryo6_Pos0_cell2 TRUE                    TRUE                    TRUE    \n",
       "embryo6_Pos0_cell3 TRUE                   FALSE                   FALSE    \n",
       "embryo6_Pos0_cell4 TRUE                    TRUE                    TRUE    \n",
       "embryo6_Pos0_cell5   NA                      NA                      NA    \n",
       "embryo6_Pos0_cell6   NA                      NA                      NA    \n",
       "embryo6_Pos0_cell7 TRUE                    TRUE                    TRUE    \n",
       "                   refined_annotation       \n",
       "embryo6_Pos0_cell2 Anterior Primitive Streak\n",
       "embryo6_Pos0_cell3 Migratory neural crest   \n",
       "embryo6_Pos0_cell4 Epiblast                 \n",
       "embryo6_Pos0_cell5 failed_qc                \n",
       "embryo6_Pos0_cell6 failed_qc                \n",
       "embryo6_Pos0_cell7 Epiblast                 "
      ]
     },
     "metadata": {},
     "output_type": "display_data"
    }
   ],
   "source": [
    "head(df)"
   ]
  },
  {
   "cell_type": "code",
   "execution_count": 24,
   "id": "2471de3e-50a2-4613-b089-fa31533b44c9",
   "metadata": {},
   "outputs": [
    {
     "data": {
      "text/html": [
       "<table class=\"dataframe\">\n",
       "<caption>A data.frame: 6 x 57</caption>\n",
       "<thead>\n",
       "\t<tr><th></th><th scope=col>dim_1</th><th scope=col>dim_2</th><th scope=col>dim_3</th><th scope=col>cell_ID</th><th scope=col>orig.ident</th><th scope=col>nCount_originalexp</th><th scope=col>nFeature_originalexp</th><th scope=col>dim1</th><th scope=col>dim2</th><th scope=col>dim3</th><th scope=col>...</th><th scope=col>majority_extended_atlas_celltype_proportion</th><th scope=col>majority_celltype_PijuanSala2019_celltype</th><th scope=col>majority_celltype_PijuanSala2019_celltype_proportion</th><th scope=col>stage_transfer</th><th scope=col>poor_stage_alignment</th><th scope=col>proportion_seqFISH_cells_per_subcluster</th><th scope=col>joint_clusters_pass_QC</th><th scope=col>stage_alignment_pass_QC</th><th scope=col>passed_QC</th><th scope=col>refined_annotation</th></tr>\n",
       "\t<tr><th></th><th scope=col>&lt;dbl&gt;</th><th scope=col>&lt;dbl&gt;</th><th scope=col>&lt;dbl&gt;</th><th scope=col>&lt;chr&gt;</th><th scope=col>&lt;fct&gt;</th><th scope=col>&lt;dbl&gt;</th><th scope=col>&lt;int&gt;</th><th scope=col>&lt;dbl&gt;</th><th scope=col>&lt;dbl&gt;</th><th scope=col>&lt;dbl&gt;</th><th scope=col>...</th><th scope=col>&lt;dbl&gt;</th><th scope=col>&lt;chr&gt;</th><th scope=col>&lt;dbl&gt;</th><th scope=col>&lt;chr&gt;</th><th scope=col>&lt;lgl&gt;</th><th scope=col>&lt;dbl&gt;</th><th scope=col>&lt;lgl&gt;</th><th scope=col>&lt;lgl&gt;</th><th scope=col>&lt;lgl&gt;</th><th scope=col>&lt;chr&gt;</th></tr>\n",
       "</thead>\n",
       "<tbody>\n",
       "\t<tr><th scope=row>embryo6_Pos0_cell2</th><td>600.3434</td><td>125.1070</td><td>2.500691</td><td>embryo6_Pos0_cell2</td><td>embryo6</td><td>138</td><td>93</td><td>600.3434</td><td>125.1070</td><td>2.500691</td><td>...</td><td>0.9444444</td><td>Anterior Primitive Streak</td><td>0.6777778</td><td>E7.25</td><td>FALSE</td><td>0.06666667</td><td>TRUE</td><td> TRUE</td><td> TRUE</td><td>Anterior Primitive Streak</td></tr>\n",
       "\t<tr><th scope=row>embryo6_Pos0_cell3</th><td>429.2308</td><td>210.4952</td><td>3.504292</td><td>embryo6_Pos0_cell3</td><td>embryo6</td><td> 50</td><td>37</td><td>429.2308</td><td>210.4952</td><td>3.504292</td><td>...</td><td>0.7821429</td><td>New cells                </td><td>0.7178571</td><td>E8.75</td><td> TRUE</td><td>0.34285714</td><td>TRUE</td><td>FALSE</td><td>FALSE</td><td>Migratory neural crest   </td></tr>\n",
       "\t<tr><th scope=row>embryo6_Pos0_cell4</th><td>439.7686</td><td>221.7524</td><td>4.922626</td><td>embryo6_Pos0_cell4</td><td>embryo6</td><td>120</td><td>59</td><td>439.7686</td><td>221.7524</td><td>4.922626</td><td>...</td><td>0.6019417</td><td>Epiblast                 </td><td>0.6601942</td><td>E7.25</td><td>FALSE</td><td>0.89320388</td><td>TRUE</td><td> TRUE</td><td> TRUE</td><td>Epiblast                 </td></tr>\n",
       "\t<tr><th scope=row>embryo6_Pos0_cell5</th><td>413.1775</td><td>197.8247</td><td>1.840986</td><td>embryo6_Pos0_cell5</td><td>NA     </td><td> 28</td><td>23</td><td>413.1775</td><td>197.8247</td><td>1.840986</td><td>...</td><td>       NA</td><td>NA                       </td><td>       NA</td><td>NA   </td><td>   NA</td><td>        NA</td><td>  NA</td><td>   NA</td><td>   NA</td><td>failed_qc                </td></tr>\n",
       "\t<tr><th scope=row>embryo6_Pos0_cell6</th><td>436.8529</td><td>202.6335</td><td>5.505245</td><td>embryo6_Pos0_cell6</td><td>NA     </td><td> 16</td><td>10</td><td>436.8529</td><td>202.6335</td><td>5.505245</td><td>...</td><td>       NA</td><td>NA                       </td><td>       NA</td><td>NA   </td><td>   NA</td><td>        NA</td><td>  NA</td><td>   NA</td><td>   NA</td><td>failed_qc                </td></tr>\n",
       "\t<tr><th scope=row>embryo6_Pos0_cell7</th><td>440.2362</td><td>164.0092</td><td>1.508630</td><td>embryo6_Pos0_cell7</td><td>embryo6</td><td> 87</td><td>48</td><td>440.2362</td><td>164.0092</td><td>1.508630</td><td>...</td><td>0.9482440</td><td>Epiblast                 </td><td>0.9667283</td><td>E7.25</td><td>FALSE</td><td>0.04621072</td><td>TRUE</td><td> TRUE</td><td> TRUE</td><td>Epiblast                 </td></tr>\n",
       "</tbody>\n",
       "</table>\n"
      ],
      "text/latex": [
       "A data.frame: 6 x 57\n",
       "\\begin{tabular}{r|lllllllllllllllllllll}\n",
       "  & dim\\_1 & dim\\_2 & dim\\_3 & cell\\_ID & orig.ident & nCount\\_originalexp & nFeature\\_originalexp & dim1 & dim2 & dim3 & ... & majority\\_extended\\_atlas\\_celltype\\_proportion & majority\\_celltype\\_PijuanSala2019\\_celltype & majority\\_celltype\\_PijuanSala2019\\_celltype\\_proportion & stage\\_transfer & poor\\_stage\\_alignment & proportion\\_seqFISH\\_cells\\_per\\_subcluster & joint\\_clusters\\_pass\\_QC & stage\\_alignment\\_pass\\_QC & passed\\_QC & refined\\_annotation\\\\\n",
       "  & <dbl> & <dbl> & <dbl> & <chr> & <fct> & <dbl> & <int> & <dbl> & <dbl> & <dbl> & ... & <dbl> & <chr> & <dbl> & <chr> & <lgl> & <dbl> & <lgl> & <lgl> & <lgl> & <chr>\\\\\n",
       "\\hline\n",
       "\tembryo6\\_Pos0\\_cell2 & 600.3434 & 125.1070 & 2.500691 & embryo6\\_Pos0\\_cell2 & embryo6 & 138 & 93 & 600.3434 & 125.1070 & 2.500691 & ... & 0.9444444 & Anterior Primitive Streak & 0.6777778 & E7.25 & FALSE & 0.06666667 & TRUE &  TRUE &  TRUE & Anterior Primitive Streak\\\\\n",
       "\tembryo6\\_Pos0\\_cell3 & 429.2308 & 210.4952 & 3.504292 & embryo6\\_Pos0\\_cell3 & embryo6 &  50 & 37 & 429.2308 & 210.4952 & 3.504292 & ... & 0.7821429 & New cells                 & 0.7178571 & E8.75 &  TRUE & 0.34285714 & TRUE & FALSE & FALSE & Migratory neural crest   \\\\\n",
       "\tembryo6\\_Pos0\\_cell4 & 439.7686 & 221.7524 & 4.922626 & embryo6\\_Pos0\\_cell4 & embryo6 & 120 & 59 & 439.7686 & 221.7524 & 4.922626 & ... & 0.6019417 & Epiblast                  & 0.6601942 & E7.25 & FALSE & 0.89320388 & TRUE &  TRUE &  TRUE & Epiblast                 \\\\\n",
       "\tembryo6\\_Pos0\\_cell5 & 413.1775 & 197.8247 & 1.840986 & embryo6\\_Pos0\\_cell5 & NA      &  28 & 23 & 413.1775 & 197.8247 & 1.840986 & ... &        NA & NA                        &        NA & NA    &    NA &         NA &   NA &    NA &    NA & failed\\_qc                \\\\\n",
       "\tembryo6\\_Pos0\\_cell6 & 436.8529 & 202.6335 & 5.505245 & embryo6\\_Pos0\\_cell6 & NA      &  16 & 10 & 436.8529 & 202.6335 & 5.505245 & ... &        NA & NA                        &        NA & NA    &    NA &         NA &   NA &    NA &    NA & failed\\_qc                \\\\\n",
       "\tembryo6\\_Pos0\\_cell7 & 440.2362 & 164.0092 & 1.508630 & embryo6\\_Pos0\\_cell7 & embryo6 &  87 & 48 & 440.2362 & 164.0092 & 1.508630 & ... & 0.9482440 & Epiblast                  & 0.9667283 & E7.25 & FALSE & 0.04621072 & TRUE &  TRUE &  TRUE & Epiblast                 \\\\\n",
       "\\end{tabular}\n"
      ],
      "text/markdown": [
       "\n",
       "A data.frame: 6 x 57\n",
       "\n",
       "| <!--/--> | dim_1 &lt;dbl&gt; | dim_2 &lt;dbl&gt; | dim_3 &lt;dbl&gt; | cell_ID &lt;chr&gt; | orig.ident &lt;fct&gt; | nCount_originalexp &lt;dbl&gt; | nFeature_originalexp &lt;int&gt; | dim1 &lt;dbl&gt; | dim2 &lt;dbl&gt; | dim3 &lt;dbl&gt; | ... ... | majority_extended_atlas_celltype_proportion &lt;dbl&gt; | majority_celltype_PijuanSala2019_celltype &lt;chr&gt; | majority_celltype_PijuanSala2019_celltype_proportion &lt;dbl&gt; | stage_transfer &lt;chr&gt; | poor_stage_alignment &lt;lgl&gt; | proportion_seqFISH_cells_per_subcluster &lt;dbl&gt; | joint_clusters_pass_QC &lt;lgl&gt; | stage_alignment_pass_QC &lt;lgl&gt; | passed_QC &lt;lgl&gt; | refined_annotation &lt;chr&gt; |\n",
       "|---|---|---|---|---|---|---|---|---|---|---|---|---|---|---|---|---|---|---|---|---|---|\n",
       "| embryo6_Pos0_cell2 | 600.3434 | 125.1070 | 2.500691 | embryo6_Pos0_cell2 | embryo6 | 138 | 93 | 600.3434 | 125.1070 | 2.500691 | ... | 0.9444444 | Anterior Primitive Streak | 0.6777778 | E7.25 | FALSE | 0.06666667 | TRUE |  TRUE |  TRUE | Anterior Primitive Streak |\n",
       "| embryo6_Pos0_cell3 | 429.2308 | 210.4952 | 3.504292 | embryo6_Pos0_cell3 | embryo6 |  50 | 37 | 429.2308 | 210.4952 | 3.504292 | ... | 0.7821429 | New cells                 | 0.7178571 | E8.75 |  TRUE | 0.34285714 | TRUE | FALSE | FALSE | Migratory neural crest    |\n",
       "| embryo6_Pos0_cell4 | 439.7686 | 221.7524 | 4.922626 | embryo6_Pos0_cell4 | embryo6 | 120 | 59 | 439.7686 | 221.7524 | 4.922626 | ... | 0.6019417 | Epiblast                  | 0.6601942 | E7.25 | FALSE | 0.89320388 | TRUE |  TRUE |  TRUE | Epiblast                  |\n",
       "| embryo6_Pos0_cell5 | 413.1775 | 197.8247 | 1.840986 | embryo6_Pos0_cell5 | NA      |  28 | 23 | 413.1775 | 197.8247 | 1.840986 | ... |        NA | NA                        |        NA | NA    |    NA |         NA |   NA |    NA |    NA | failed_qc                 |\n",
       "| embryo6_Pos0_cell6 | 436.8529 | 202.6335 | 5.505245 | embryo6_Pos0_cell6 | NA      |  16 | 10 | 436.8529 | 202.6335 | 5.505245 | ... |        NA | NA                        |        NA | NA    |    NA |         NA |   NA |    NA |    NA | failed_qc                 |\n",
       "| embryo6_Pos0_cell7 | 440.2362 | 164.0092 | 1.508630 | embryo6_Pos0_cell7 | embryo6 |  87 | 48 | 440.2362 | 164.0092 | 1.508630 | ... | 0.9482440 | Epiblast                  | 0.9667283 | E7.25 | FALSE | 0.04621072 | TRUE |  TRUE |  TRUE | Epiblast                  |\n",
       "\n"
      ],
      "text/plain": [
       "                   dim_1    dim_2    dim_3    cell_ID            orig.ident\n",
       "embryo6_Pos0_cell2 600.3434 125.1070 2.500691 embryo6_Pos0_cell2 embryo6   \n",
       "embryo6_Pos0_cell3 429.2308 210.4952 3.504292 embryo6_Pos0_cell3 embryo6   \n",
       "embryo6_Pos0_cell4 439.7686 221.7524 4.922626 embryo6_Pos0_cell4 embryo6   \n",
       "embryo6_Pos0_cell5 413.1775 197.8247 1.840986 embryo6_Pos0_cell5 NA        \n",
       "embryo6_Pos0_cell6 436.8529 202.6335 5.505245 embryo6_Pos0_cell6 NA        \n",
       "embryo6_Pos0_cell7 440.2362 164.0092 1.508630 embryo6_Pos0_cell7 embryo6   \n",
       "                   nCount_originalexp nFeature_originalexp dim1     dim2    \n",
       "embryo6_Pos0_cell2 138                93                   600.3434 125.1070\n",
       "embryo6_Pos0_cell3  50                37                   429.2308 210.4952\n",
       "embryo6_Pos0_cell4 120                59                   439.7686 221.7524\n",
       "embryo6_Pos0_cell5  28                23                   413.1775 197.8247\n",
       "embryo6_Pos0_cell6  16                10                   436.8529 202.6335\n",
       "embryo6_Pos0_cell7  87                48                   440.2362 164.0092\n",
       "                   dim3     ... majority_extended_atlas_celltype_proportion\n",
       "embryo6_Pos0_cell2 2.500691 ... 0.9444444                                  \n",
       "embryo6_Pos0_cell3 3.504292 ... 0.7821429                                  \n",
       "embryo6_Pos0_cell4 4.922626 ... 0.6019417                                  \n",
       "embryo6_Pos0_cell5 1.840986 ...        NA                                  \n",
       "embryo6_Pos0_cell6 5.505245 ...        NA                                  \n",
       "embryo6_Pos0_cell7 1.508630 ... 0.9482440                                  \n",
       "                   majority_celltype_PijuanSala2019_celltype\n",
       "embryo6_Pos0_cell2 Anterior Primitive Streak                \n",
       "embryo6_Pos0_cell3 New cells                                \n",
       "embryo6_Pos0_cell4 Epiblast                                 \n",
       "embryo6_Pos0_cell5 NA                                       \n",
       "embryo6_Pos0_cell6 NA                                       \n",
       "embryo6_Pos0_cell7 Epiblast                                 \n",
       "                   majority_celltype_PijuanSala2019_celltype_proportion\n",
       "embryo6_Pos0_cell2 0.6777778                                           \n",
       "embryo6_Pos0_cell3 0.7178571                                           \n",
       "embryo6_Pos0_cell4 0.6601942                                           \n",
       "embryo6_Pos0_cell5        NA                                           \n",
       "embryo6_Pos0_cell6        NA                                           \n",
       "embryo6_Pos0_cell7 0.9667283                                           \n",
       "                   stage_transfer poor_stage_alignment\n",
       "embryo6_Pos0_cell2 E7.25          FALSE               \n",
       "embryo6_Pos0_cell3 E8.75           TRUE               \n",
       "embryo6_Pos0_cell4 E7.25          FALSE               \n",
       "embryo6_Pos0_cell5 NA                NA               \n",
       "embryo6_Pos0_cell6 NA                NA               \n",
       "embryo6_Pos0_cell7 E7.25          FALSE               \n",
       "                   proportion_seqFISH_cells_per_subcluster\n",
       "embryo6_Pos0_cell2 0.06666667                             \n",
       "embryo6_Pos0_cell3 0.34285714                             \n",
       "embryo6_Pos0_cell4 0.89320388                             \n",
       "embryo6_Pos0_cell5         NA                             \n",
       "embryo6_Pos0_cell6         NA                             \n",
       "embryo6_Pos0_cell7 0.04621072                             \n",
       "                   joint_clusters_pass_QC stage_alignment_pass_QC passed_QC\n",
       "embryo6_Pos0_cell2 TRUE                    TRUE                    TRUE    \n",
       "embryo6_Pos0_cell3 TRUE                   FALSE                   FALSE    \n",
       "embryo6_Pos0_cell4 TRUE                    TRUE                    TRUE    \n",
       "embryo6_Pos0_cell5   NA                      NA                      NA    \n",
       "embryo6_Pos0_cell6   NA                      NA                      NA    \n",
       "embryo6_Pos0_cell7 TRUE                    TRUE                    TRUE    \n",
       "                   refined_annotation       \n",
       "embryo6_Pos0_cell2 Anterior Primitive Streak\n",
       "embryo6_Pos0_cell3 Migratory neural crest   \n",
       "embryo6_Pos0_cell4 Epiblast                 \n",
       "embryo6_Pos0_cell5 failed_qc                \n",
       "embryo6_Pos0_cell6 failed_qc                \n",
       "embryo6_Pos0_cell7 Epiblast                 "
      ]
     },
     "metadata": {},
     "output_type": "display_data"
    }
   ],
   "source": [
    "head(df_total)"
   ]
  },
  {
   "cell_type": "code",
   "execution_count": 25,
   "id": "44f0a422-b657-4b1a-abd8-4e044c8f2cc6",
   "metadata": {},
   "outputs": [],
   "source": [
    "# Example usage:\n",
    "df_total$embryo_name_updated <- recode(df_total$embryo,\n",
    "                        \"embryo1\" = \"embryo_5\",\n",
    "                        \"embryo2\" = \"embryo_6\",\n",
    "                        \"embryo3\" = \"embryo_7\",\n",
    "                        \"embryo6\" = \"embryo_1\",\n",
    "                        \"embryo7\" = \"embryo_2\",\n",
    "                        \"embryo4\" = \"embryo_3\",\n",
    "                        \"embryo5\" = \"embryo_4\")\n",
    "\n",
    "df_total$embryo_name_updated_sf <- recode(df_total$embryo,\n",
    "                           \"embryo1\" = \"5\",\n",
    "                           \"embryo2\" = \"6\",\n",
    "                           \"embryo3\" = \"7\",\n",
    "                           \"embryo6\" = \"1\",\n",
    "                           \"embryo7\" = \"2\",\n",
    "                           \"embryo4\" = \"3\",\n",
    "                           \"embryo5\" = \"4\")"
   ]
  },
  {
   "cell_type": "code",
   "execution_count": 26,
   "id": "28aa8856-b051-4b23-896e-551d5833b852",
   "metadata": {},
   "outputs": [
    {
     "data": {
      "text/plain": [
       "\n",
       "    1     2     3     4     5     6     7 \n",
       " 3811  4355  4545  2083 19566 14941 24169 "
      ]
     },
     "metadata": {},
     "output_type": "display_data"
    }
   ],
   "source": [
    "table(df_total$embryo_name_updated_sf, useNA = \"ifany\")"
   ]
  },
  {
   "cell_type": "markdown",
   "id": "88cbdafd-49e0-4146-85ff-abd7c1f9a440",
   "metadata": {},
   "source": [
    "## Scatter Plot of Average Cell Type Position in AP/DV Axis"
   ]
  },
  {
   "cell_type": "code",
   "execution_count": 27,
   "id": "3657ee2a-6879-47ab-95c1-188c802ad9db",
   "metadata": {},
   "outputs": [],
   "source": [
    "# Define the subset of labels you want to display\n",
    "labels_to_display <- c(\"Allantois\", \"Allantois endothelium\", \"Anterior cardiopharyngeal progenitors\",\n",
    "               \"Anterior somitic tissues\",\n",
    "               \"Branchial arch neural crest\", \"Cardiomyocytes FHF 1\", \"Cardiomyocytes FHF 2\", \"Epicardium\",\n",
    "               \"Caudal epiblast\", \"Notochord\",\n",
    "               \"Cranial mesoderm\", \"Dorsal hindbrain progenitors\", \"Dorsal spinal cord progenitors\",\n",
    "               \"Ectoderm\", \"Embryo proper endothelium\",\n",
    "               \"Foregut\", \"Hindbrain neural progenitors\",\n",
    "               \"Hindgut\", \"Somitic mesoderm\", \"Gut tube\",\n",
    "               \"Midbrain/Hindbrain boundary\", \"Pharyngeal mesoderm\", \"Placodal ectoderm\",\n",
    "               \"Posterior somitic tissues\", \"Sclerotome\", \"Ventral forebrain progenitors\") # Replace with the labels you want to display"
   ]
  },
  {
   "cell_type": "code",
   "execution_count": 28,
   "id": "ba451b05-65b7-4cd8-9b57-47653b13edcb",
   "metadata": {},
   "outputs": [
    {
     "name": "stderr",
     "output_type": "stream",
     "text": [
      "Warning message:\n",
      "“\u001b[1m\u001b[22mThe `size` argument of `element_line()` is deprecated as of ggplot2 3.4.0.\n",
      "\u001b[36mℹ\u001b[39m Please use the `linewidth` argument instead.”\n",
      "Warning message:\n",
      "“\u001b[1m\u001b[22mRemoved 2 rows containing missing values (`geom_point()`).”\n"
     ]
    }
   ],
   "source": [
    "# Subset to only necessary columns\n",
    "df_subset <- subset(df_total, select = c(refined_annotation, AP, DV))\n",
    "\n",
    "# Group and summarize\n",
    "average_values_scRNA <- df_subset %>%\n",
    "  group_by(refined_annotation) %>%\n",
    "  summarise(avg_AP = mean(AP, na.rm = TRUE),\n",
    "            avg_DV = mean(DV, na.rm = TRUE),\n",
    "            sd_AP = sd(AP, na.rm = TRUE),\n",
    "            sd_DV = sd(DV, na.rm = TRUE),\n",
    "            .groups = 'drop') %>%\n",
    "  mutate(sd_sum = sd_AP + sd_DV)\n",
    "\n",
    "# Define axis limits\n",
    "x_range <- c(0, 100)\n",
    "y_range <- c(0, 100)\n",
    "\n",
    "# Create scatter plot\n",
    "scatter_plot <- ggplot(average_values_scRNA, aes(x = avg_DV, y = avg_AP)) +\n",
    "  geom_point(aes(color = refined_annotation, size = sd_sum)) +\n",
    "  geom_text(data = subset(average_values_scRNA, refined_annotation %in% labels_to_display),\n",
    "            aes(label = refined_annotation),  # <- Corrected label\n",
    "            nudge_y = 3, family = \"Helvetica\", size = 4) +\n",
    "  scale_color_manual(values = Harland_colors) +  # <- assumes Harland_colors is named vector\n",
    "  coord_fixed(1, xlim = x_range, ylim = y_range) +\n",
    "  theme(\n",
    "    panel.background = element_rect(fill = \"transparent\"),\n",
    "    panel.grid.major = element_line(color = \"black\"),\n",
    "    panel.grid.minor = element_blank(),\n",
    "    text = element_text(family = \"Helvetica\", size = 20),\n",
    "    legend.position = \"none\",\n",
    "    axis.line = element_line(color = \"black\", size = 0.5)\n",
    "  )\n",
    "\n",
    "width = 10\n",
    "height = 10\n",
    "# Save the grid plot as .svg file to specific file path\n",
    "ggsave(filename = \"projects/03_seqFISH_FINAL/code/CELL_GENOMICS_REVISIONS/GITHUB_UPLOAD_FOLDER/6_figure_generation/fig_3_and_sfig_7/output/seqFISH_scatter_plot.svg\", \n",
    "      plot = scatter_plot, \n",
    "      device = \"svg\",\n",
    "      width = width,\n",
    "      height = height)"
   ]
  },
  {
   "cell_type": "code",
   "execution_count": 29,
   "id": "81b4341f-02fb-4b0f-a668-547e5f090505",
   "metadata": {},
   "outputs": [
    {
     "name": "stderr",
     "output_type": "stream",
     "text": [
      "Warning message:\n",
      "“\u001b[1m\u001b[22mRemoved 2 rows containing missing values (`geom_point()`).”\n"
     ]
    },
    {
     "data": {
      "image/png": "[encoded data removed]",
      "text/plain": [
       "plot without title"
      ]
     },
     "metadata": {
      "image/png": {
       "height": 420,
       "width": 420
      }
     },
     "output_type": "display_data"
    }
   ],
   "source": [
    "scatter_plot"
   ]
  },
  {
   "cell_type": "markdown",
   "id": "aa1bd8bc-4ea0-4d66-96df-667ed14ce627",
   "metadata": {
    "tags": []
   },
   "source": [
    "## Print out Package Versions"
   ]
  },
  {
   "cell_type": "code",
   "execution_count": 30,
   "id": "4f394a7a-c761-4fb2-ab77-bd36cc30e273",
   "metadata": {},
   "outputs": [
    {
     "data": {
      "text/plain": [
       "R version 4.2.1 (2022-06-23)\n",
       "Platform: x86_64-pc-linux-gnu (64-bit)\n",
       "Running under: Ubuntu 20.04.5 LTS\n",
       "\n",
       "Matrix products: default\n",
       "BLAS:   /usr/lib/x86_64-linux-gnu/openblas-pthread/libblas.so.3\n",
       "LAPACK: /usr/lib/x86_64-linux-gnu/openblas-pthread/liblapack.so.3\n",
       "\n",
       "locale:\n",
       " [1] LC_CTYPE=C.UTF-8    LC_NUMERIC=C        LC_TIME=C          \n",
       " [4] LC_COLLATE=C        LC_MONETARY=C       LC_MESSAGES=C      \n",
       " [7] LC_PAPER=C          LC_NAME=C           LC_ADDRESS=C       \n",
       "[10] LC_TELEPHONE=C      LC_MEASUREMENT=C    LC_IDENTIFICATION=C\n",
       "\n",
       "attached base packages:\n",
       "[1] grid      stats4    stats     graphics  grDevices utils     datasets \n",
       "[8] methods   base     \n",
       "\n",
       "other attached packages:\n",
       " [1] png_0.1-8                   Cairo_1.6-0                \n",
       " [3] gridExtra_2.3               ragg_1.2.2                 \n",
       " [5] viridis_0.6.2               viridisLite_0.4.1          \n",
       " [7] cowplot_1.1.1               ggpubr_0.4.0               \n",
       " [9] batchelor_1.12.3            pheatmap_1.0.12            \n",
       "[11] plotly_4.10.0               sp_1.5-0                   \n",
       "[13] SeuratObject_4.1.2          Seurat_4.2.0               \n",
       "[15] patchwork_1.1.2             harmony_0.1.0              \n",
       "[17] Rcpp_1.0.10                 scran_1.26.2               \n",
       "[19] StabMap_0.1.8               igraph_1.4.1               \n",
       "[21] scater_1.24.0               scuttle_1.8.4              \n",
       "[23] RColorBrewer_1.1-3          SingleR_1.10.0             \n",
       "[25] celldex_1.6.0               SingleCellExperiment_1.20.0\n",
       "[27] SummarizedExperiment_1.28.0 Biobase_2.58.0             \n",
       "[29] GenomicRanges_1.50.2        GenomeInfoDb_1.34.9        \n",
       "[31] IRanges_2.32.0              S4Vectors_0.36.2           \n",
       "[33] BiocGenerics_0.44.0         MatrixGenerics_1.10.0      \n",
       "[35] matrixStats_0.63.0          ggplot2_3.4.1              \n",
       "[37] dplyr_1.1.0                 data.table_1.14.8          \n",
       "\n",
       "loaded via a namespace (and not attached):\n",
       "  [1] utf8_1.2.3                    reticulate_1.26              \n",
       "  [3] tidyselect_1.2.0              RSQLite_2.3.0                \n",
       "  [5] AnnotationDbi_1.60.2          htmlwidgets_1.6.1            \n",
       "  [7] BiocParallel_1.32.5           Rtsne_0.16                   \n",
       "  [9] munsell_0.5.0                 ScaledMatrix_1.6.0           \n",
       " [11] codetools_0.2-18              ica_1.0-3                    \n",
       " [13] statmod_1.5.0                 pbdZMQ_0.3-7                 \n",
       " [15] future_1.28.0                 miniUI_0.1.1.1               \n",
       " [17] withr_2.5.0                   spatstat.random_3.1-5        \n",
       " [19] colorspace_2.1-0              progressr_0.11.0             \n",
       " [21] filelock_1.0.2                uuid_1.1-0                   \n",
       " [23] ROCR_1.0-11                   ggsignif_0.6.3               \n",
       " [25] tensor_1.5                    listenv_0.8.0                \n",
       " [27] labeling_0.4.2                repr_1.1.4                   \n",
       " [29] GenomeInfoDbData_1.2.9        polyclip_1.10-0              \n",
       " [31] farver_2.1.1                  bit64_4.0.5                  \n",
       " [33] parallelly_1.32.1             vctrs_0.5.2                  \n",
       " [35] generics_0.1.3                BiocFileCache_2.6.1          \n",
       " [37] R6_2.5.1                      ggbeeswarm_0.6.0             \n",
       " [39] rsvd_1.0.5                    locfit_1.5-9.7               \n",
       " [41] bitops_1.0-7                  spatstat.utils_3.0-3         \n",
       " [43] cachem_1.0.7                  DelayedArray_0.24.0          \n",
       " [45] promises_1.2.0.1              scales_1.2.1                 \n",
       " [47] rgeos_0.5-9                   beeswarm_0.4.0               \n",
       " [49] gtable_0.3.1                  beachmat_2.14.0              \n",
       " [51] globals_0.16.1                goftest_1.2-3                \n",
       " [53] rlang_1.1.0                   systemfonts_1.0.4            \n",
       " [55] splines_4.2.1                 rstatix_0.7.0                \n",
       " [57] lazyeval_0.2.2                broom_1.0.1                  \n",
       " [59] spatstat.geom_3.2-1           BiocManager_1.30.18          \n",
       " [61] yaml_2.3.7                    reshape2_1.4.4               \n",
       " [63] abind_1.4-5                   backports_1.4.1              \n",
       " [65] httpuv_1.6.6                  tools_4.2.1                  \n",
       " [67] ellipsis_0.3.2                spatstat.core_2.4-4          \n",
       " [69] ggridges_0.5.4                plyr_1.8.8                   \n",
       " [71] base64enc_0.1-3               sparseMatrixStats_1.10.0     \n",
       " [73] zlibbioc_1.44.0               purrr_1.0.1                  \n",
       " [75] RCurl_1.98-1.10               rpart_4.1.16                 \n",
       " [77] deldir_1.0-6                  pbapply_1.5-0                \n",
       " [79] zoo_1.8-11                    ggrepel_0.9.1                \n",
       " [81] cluster_2.1.4                 magrittr_2.0.3               \n",
       " [83] scattermore_0.8               ResidualMatrix_1.6.1         \n",
       " [85] lmtest_0.9-40                 RANN_2.6.1                   \n",
       " [87] fitdistrplus_1.1-8            mime_0.12                    \n",
       " [89] evaluate_0.17                 xtable_1.8-4                 \n",
       " [91] compiler_4.2.1                tibble_3.2.0                 \n",
       " [93] KernSmooth_2.23-20            crayon_1.5.2                 \n",
       " [95] htmltools_0.5.4               mgcv_1.8-40                  \n",
       " [97] later_1.3.0                   tidyr_1.3.0                  \n",
       " [99] DBI_1.1.3                     ExperimentHub_2.4.0          \n",
       "[101] dbplyr_2.3.1                  MASS_7.3-58.1                \n",
       "[103] rappdirs_0.3.3                car_3.1-0                    \n",
       "[105] Matrix_1.5-1                  cli_3.6.0                    \n",
       "[107] parallel_4.2.1                metapod_1.6.0                \n",
       "[109] pkgconfig_2.0.3               IRdisplay_1.1                \n",
       "[111] spatstat.sparse_3.0-2         svglite_2.1.1                \n",
       "[113] vipor_0.4.5                   dqrng_0.3.0                  \n",
       "[115] XVector_0.38.0                stringr_1.5.0                \n",
       "[117] digest_0.6.31                 sctransform_0.3.5            \n",
       "[119] RcppAnnoy_0.0.19              spatstat.data_3.0-1          \n",
       "[121] Biostrings_2.66.0             leiden_0.4.3                 \n",
       "[123] uwot_0.1.14                   edgeR_3.40.2                 \n",
       "[125] DelayedMatrixStats_1.20.0     curl_5.0.0                   \n",
       "[127] shiny_1.7.2                   nlme_3.1-159                 \n",
       "[129] lifecycle_1.0.3               jsonlite_1.8.4               \n",
       "[131] carData_3.0-5                 BiocNeighbors_1.16.0         \n",
       "[133] limma_3.54.2                  fansi_1.0.4                  \n",
       "[135] pillar_1.8.1                  lattice_0.20-45              \n",
       "[137] KEGGREST_1.38.0               fastmap_1.1.1                \n",
       "[139] httr_1.4.5                    survival_3.4-0               \n",
       "[141] interactiveDisplayBase_1.34.0 glue_1.6.2                   \n",
       "[143] UpSetR_1.4.0                  bluster_1.8.0                \n",
       "[145] BiocVersion_3.15.2            bit_4.0.5                    \n",
       "[147] stringi_1.7.12                blob_1.2.3                   \n",
       "[149] textshaping_0.3.6             BiocSingular_1.14.0          \n",
       "[151] AnnotationHub_3.4.0           memoise_2.0.1                \n",
       "[153] IRkernel_1.3                  irlba_2.3.5.1                \n",
       "[155] future.apply_1.9.1           "
      ]
     },
     "metadata": {},
     "output_type": "display_data"
    }
   ],
   "source": [
    "sessionInfo()"
   ]
  }
 ],
 "metadata": {
  "kernelspec": {
   "display_name": "R",
   "language": "R",
   "name": "ir"
  },
  "language_info": {
   "codemirror_mode": "r",
   "file_extension": ".r",
   "mimetype": "text/x-r-source",
   "name": "R",
   "pygments_lexer": "r",
   "version": "4.2.1"
  }
 },
 "nbformat": 4,
 "nbformat_minor": 5
}
