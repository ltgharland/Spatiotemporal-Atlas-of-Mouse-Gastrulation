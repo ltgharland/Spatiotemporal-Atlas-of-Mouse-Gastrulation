{
 "cells": [
  {
   "cell_type": "markdown",
   "id": "be544951-7561-41e7-bce0-8fb47c8ff9a0",
   "metadata": {},
   "source": [
    "## Load Packages"
   ]
  },
  {
   "cell_type": "code",
   "execution_count": 1,
   "id": "2736b184-0c5f-4b6d-ad30-8d529cc60009",
   "metadata": {
    "tags": []
   },
   "outputs": [],
   "source": [
    "suppressPackageStartupMessages({ \n",
    "    library(data.table) \n",
    "    library(dplyr) \n",
    "    library(ggplot2) \n",
    "    library(SingleCellExperiment)\n",
    "    library(dplyr)\n",
    "    library(celldex)\n",
    "    library(SingleR)\n",
    "    library(RColorBrewer)\n",
    "    library(scater) \n",
    "    library(StabMap) \n",
    "    library(scran) \n",
    "    library(harmony) \n",
    "    library(patchwork)\n",
    "    library(Seurat)\n",
    "    library(plotly)\n",
    "    library(pheatmap)\n",
    "    library(batchelor)\n",
    "    library(ggpubr)\n",
    "    library(cowplot)\n",
    "    library(viridis)\n",
    "    library(patchwork)\n",
    "    library(Cairo)\n",
    "    library(grid)\n",
    "    library(png)\n",
    "    library(reshape2)  # Or use tidyr\n",
    "    library(ggplot2)\n",
    "    library(gridExtra)\n",
    "    library(patchwork)\n",
    "    library(grid)\n",
    "    library(Cairo)\n",
    "    library(png)\n",
    "})"
   ]
  },
  {
   "cell_type": "markdown",
   "id": "efbdb5ba-53d7-4951-825c-2b1deac2efca",
   "metadata": {
    "tags": []
   },
   "source": [
    "## Data Locations"
   ]
  },
  {
   "cell_type": "code",
   "execution_count": 2,
   "id": "f6fba755-0681-42d2-a56c-e31b3a087403",
   "metadata": {
    "tags": []
   },
   "outputs": [],
   "source": [
    "##### Load in Seurat Objects for post QC analyses #####\n",
    "\n",
    "io = list()\n",
    "io$main = \"/rds/project/rds-SDzz0CATGms/users/ltgh2\" # this is the main directory\n",
    "\n",
    "# Set the working directory\n",
    "setwd(io$main)\n",
    "\n",
    "# Load in the refined annotations\n",
    "io$refined_annotations = file.path(io$main, \"projects/03_seqFISH_FINAL/code/CELL_GENOMICS_REVISIONS/outputs/FINAL_REFINED_ANNOTATIONS_REVISIONS.Rds\") \n",
    "\n",
    "# Load in the pre_QC seqFISH OBJECT\n",
    "io$seqFISH_preQC = file.path(io$main, \"projects/03_seqFISH_FINAL/code/seqFISH_integration/processed/seqFISH_within_and_across_dataset_integration_without_neighbour_features_E6_7_8.Rds\") \n",
    "io$seqFISH_preQC_meta = file.path(io$main, \"projects/03_seqFISH_FINAL/code/CELL_GENOMICS_REVISIONS/outputs/Figure_1_seurats/seqFISH_preQC_metadata.rds\") \n",
    "\n",
    "# Load in the post_QC seqFISH OBJECT\n",
    "\n",
    "io$seqFISH_postQC = file.path(io$main, \"projects/03_seqFISH_FINAL/code/seqFISH_integration/processed/seqFISH_after_QC_filtering_within_and_across_dataset_integration_without_neighbour_features_E6_7_8.Rds\") \n",
    "io$seqFISH_postQC_UMAP = file.path(io$main, \"projects/03_seqFISH_FINAL/code/CELL_GENOMICS_REVISIONS/outputs/Figure_1_seurats/postQC_seqFISH_umap_dimreduced.rds\") \n",
    "io$seqFISH_postQC_pca = file.path(io$main, \"projects/03_seqFISH_FINAL/code/CELL_GENOMICS_REVISIONS/outputs/Figure_1_seurats/postQC_seqFISH_pca_dimreduced.rds\")\n",
    "\n",
    "\n",
    "## Load in the seqFISH Imputed Gene Expression\n",
    "io$seqFISH_imputed_logcounts_e6 = file.path(io$main, \n",
    "                              \"projects/03_seqFISH_FINAL/code/stabmap_imputation/output/seqFISH_e6_postQC_imputed_RNA.Rds\")\n",
    "\n",
    "io$seqFISH_imputed_logcounts_e7 = file.path(io$main, \n",
    "                              \"projects/03_seqFISH_FINAL/code/stabmap_imputation/output/seqFISH_e7_postQC_imputed_RNA.Rds\")\n",
    "\n",
    "io$seqFISH_imputed_logcounts_e8_1 = file.path(io$main, \n",
    "                              \"projects/03_seqFISH_FINAL/code/stabmap_imputation/output/seqFISH_e8_embryo1_postQC_imputed_RNA.Rds\")\n",
    "\n",
    "io$seqFISH_imputed_logcounts_e8_2 = file.path(io$main, \n",
    "                              \"projects/03_seqFISH_FINAL/code/stabmap_imputation/output/seqFISH_e8_embryo2_postQC_imputed_RNA.Rds\")\n",
    "\n",
    "io$seqFISH_imputed_logcounts_e8_3 = file.path(io$main, \n",
    "                              \"projects/03_seqFISH_FINAL/code/stabmap_imputation/output/seqFISH_e8_embryo3_postQC_imputed_RNA.Rds\")"
   ]
  },
  {
   "cell_type": "markdown",
   "id": "72c28738-42c2-4e1e-a1ca-105a5da3c9bb",
   "metadata": {
    "tags": []
   },
   "source": [
    "## Load in PreQC Seurat"
   ]
  },
  {
   "cell_type": "code",
   "execution_count": 3,
   "id": "f8d13246-ff5f-4c02-af3c-4df38ba0cc8e",
   "metadata": {},
   "outputs": [
    {
     "name": "stderr",
     "output_type": "stream",
     "text": [
      "Warning message:\n",
      "“Keys should be one or more alphanumeric characters followed by an underscore, setting key from shila_umap_ to shilaumap_”\n"
     ]
    }
   ],
   "source": [
    "# Load in the seqFISH object_postQC\n",
    "seqFISH_preQC = readRDS(io$seqFISH_preQC)\n",
    "seqFISH_preQC_meta = readRDS(io$seqFISH_preQC_meta)\n",
    "\n",
    "seqFISH_preQC <- seqFISH_preQC[,seqFISH_preQC@meta.data$Estage %in% c(\"E6.5\", \"E7.5\")]\n",
    "\n",
    "# Add the MetaData to the Object\n",
    "seqFISH_preQC <- AddMetaData(seqFISH_preQC, metadata = seqFISH_preQC_meta)"
   ]
  },
  {
   "cell_type": "markdown",
   "id": "375dce1d-39ad-4934-8f97-f544c0c45f16",
   "metadata": {},
   "source": [
    "## Load in PostQC Seurat"
   ]
  },
  {
   "cell_type": "code",
   "execution_count": 4,
   "id": "f14d0ad0-8b82-4e5e-9a81-1db4dc922877",
   "metadata": {},
   "outputs": [
    {
     "name": "stderr",
     "output_type": "stream",
     "text": [
      "Warning message:\n",
      "“Keys should be one or more alphanumeric characters followed by an underscore, setting key from shila_umap_ to shilaumap_”\n",
      "Warning message:\n",
      "“Cannot add objects with duplicate keys (offending key: UMAP_), setting key to 'seqfish_postqc_umap_'”\n",
      "Warning message:\n",
      "“Cannot add objects with duplicate keys (offending key: PC_), setting key to 'seqfish_postqc_pca_'”\n"
     ]
    }
   ],
   "source": [
    "# Load in the seqFISH object_postQC\n",
    "seqFISH_postQC = readRDS(io$seqFISH_postQC)\n",
    "seqFISH_postQC_UMAP = readRDS(io$seqFISH_postQC_UMAP)\n",
    "seqFISH_postQC_pca = readRDS(io$seqFISH_postQC_pca)\n",
    "\n",
    "# Load in the imputed gene expression \n",
    "seqFISH_imputed_logcounts_e6 = readRDS(io$seqFISH_imputed_logcounts_e6)\n",
    "seqFISH_imputed_logcounts_e7 = readRDS(io$seqFISH_imputed_logcounts_e7)\n",
    "seqFISH_imputed_logcounts_e8_1 = readRDS(io$seqFISH_imputed_logcounts_e8_1)\n",
    "seqFISH_imputed_logcounts_e8_2 = readRDS(io$seqFISH_imputed_logcounts_e8_2)\n",
    "seqFISH_imputed_logcounts_e8_3 = readRDS(io$seqFISH_imputed_logcounts_e8_3)\n",
    "\n",
    "# Create a combined matrix of gene expression across all time points\n",
    "imputed_expression <- cbind(seqFISH_imputed_logcounts_e6$scRNA.RNA, \n",
    "                            seqFISH_imputed_logcounts_e7$scRNA.RNA, \n",
    "                            seqFISH_imputed_logcounts_e8_1$scRNA.RNA, \n",
    "                            seqFISH_imputed_logcounts_e8_2$scRNA.RNA, \n",
    "                            seqFISH_imputed_logcounts_e8_3$scRNA.RNA)\n",
    "\n",
    "# Creat a new assay object to store imputed data\n",
    "imp <- CreateAssayObject(data = imputed_expression)\n",
    "\n",
    "# add this assay to the previously created Seurat object\n",
    "seqFISH_postQC[[\"imputed\"]] <- imp\n",
    "\n",
    "# only keep the early embryos \n",
    "seqFISH_postQC <- seqFISH_postQC[,seqFISH_postQC@meta.data$Estage %in% c(\"E6.5\", \"E7.5\")]\n",
    "\n",
    "# add the PCs and the UMAP coordinates\n",
    "seqFISH_postQC[[\"seqFISH_postQC_UMAP\"]] <- seqFISH_postQC_UMAP\n",
    "seqFISH_postQC[[\"seqFISH_postQC_pca\"]] <- seqFISH_postQC_pca\n",
    "\n",
    "# Add the MetaData to the Object\n",
    "seqFISH_postQC <- AddMetaData(seqFISH_postQC, metadata = seqFISH_preQC_meta)"
   ]
  },
  {
   "cell_type": "markdown",
   "id": "3e52b51b-7264-4b5f-aeee-84e0601ba8c8",
   "metadata": {},
   "source": [
    "## Load in the Refined Annotations"
   ]
  },
  {
   "cell_type": "code",
   "execution_count": 5,
   "id": "c68ae8e6-9ed3-4f32-a56f-969d078bf573",
   "metadata": {},
   "outputs": [],
   "source": [
    "# Load in the refined_annotations\n",
    "refined_annotations = readRDS(io$refined_annotations)"
   ]
  },
  {
   "cell_type": "code",
   "execution_count": 6,
   "id": "95b9209e-ebe1-45dc-a539-7c338a87fcb7",
   "metadata": {},
   "outputs": [
    {
     "data": {
      "text/html": [
       "<style>\n",
       ".list-inline {list-style: none; margin:0; padding: 0}\n",
       ".list-inline>li {display: inline-block}\n",
       ".list-inline>li:not(:last-child)::after {content: \"\\00b7\"; padding: 0 .5ex}\n",
       "</style>\n",
       "<ol class=list-inline><li>'cell_ID'</li><li>'orig.ident'</li><li>'nCount_RNA'</li><li>'nFeature_RNA'</li><li>'seqFISH_celltype'</li><li>'extended_atlas_celltype'</li><li>'AP'</li><li>'DV'</li><li>'dataset'</li><li>'cluster'</li><li>'subcluster'</li><li>'cluster_subcluster'</li><li>'stage'</li><li>'anatomy'</li><li>'UMAP_1'</li><li>'UMAP_2'</li><li>'celltype_PijuanSala2019'</li><li>'majority_seqFISH_celltype'</li><li>'majority_seqFISH_celltype_proportion'</li><li>'majority_extended_atlas_celltype'</li><li>'majority_extended_atlas_celltype_proportion'</li><li>'majority_celltype_PijuanSala2019_celltype'</li><li>'majority_celltype_PijuanSala2019_celltype_proportion'</li><li>'stage_transfer'</li><li>'poor_stage_alignment'</li><li>'proportion_seqFISH_cells_per_subcluster'</li><li>'joint_clusters_pass_QC'</li><li>'stage_alignment_pass_QC'</li><li>'passed_QC'</li><li>'refined_annotation'</li><li>'embryo'</li></ol>\n"
      ],
      "text/latex": [
       "\\begin{enumerate*}\n",
       "\\item 'cell\\_ID'\n",
       "\\item 'orig.ident'\n",
       "\\item 'nCount\\_RNA'\n",
       "\\item 'nFeature\\_RNA'\n",
       "\\item 'seqFISH\\_celltype'\n",
       "\\item 'extended\\_atlas\\_celltype'\n",
       "\\item 'AP'\n",
       "\\item 'DV'\n",
       "\\item 'dataset'\n",
       "\\item 'cluster'\n",
       "\\item 'subcluster'\n",
       "\\item 'cluster\\_subcluster'\n",
       "\\item 'stage'\n",
       "\\item 'anatomy'\n",
       "\\item 'UMAP\\_1'\n",
       "\\item 'UMAP\\_2'\n",
       "\\item 'celltype\\_PijuanSala2019'\n",
       "\\item 'majority\\_seqFISH\\_celltype'\n",
       "\\item 'majority\\_seqFISH\\_celltype\\_proportion'\n",
       "\\item 'majority\\_extended\\_atlas\\_celltype'\n",
       "\\item 'majority\\_extended\\_atlas\\_celltype\\_proportion'\n",
       "\\item 'majority\\_celltype\\_PijuanSala2019\\_celltype'\n",
       "\\item 'majority\\_celltype\\_PijuanSala2019\\_celltype\\_proportion'\n",
       "\\item 'stage\\_transfer'\n",
       "\\item 'poor\\_stage\\_alignment'\n",
       "\\item 'proportion\\_seqFISH\\_cells\\_per\\_subcluster'\n",
       "\\item 'joint\\_clusters\\_pass\\_QC'\n",
       "\\item 'stage\\_alignment\\_pass\\_QC'\n",
       "\\item 'passed\\_QC'\n",
       "\\item 'refined\\_annotation'\n",
       "\\item 'embryo'\n",
       "\\end{enumerate*}\n"
      ],
      "text/markdown": [
       "1. 'cell_ID'\n",
       "2. 'orig.ident'\n",
       "3. 'nCount_RNA'\n",
       "4. 'nFeature_RNA'\n",
       "5. 'seqFISH_celltype'\n",
       "6. 'extended_atlas_celltype'\n",
       "7. 'AP'\n",
       "8. 'DV'\n",
       "9. 'dataset'\n",
       "10. 'cluster'\n",
       "11. 'subcluster'\n",
       "12. 'cluster_subcluster'\n",
       "13. 'stage'\n",
       "14. 'anatomy'\n",
       "15. 'UMAP_1'\n",
       "16. 'UMAP_2'\n",
       "17. 'celltype_PijuanSala2019'\n",
       "18. 'majority_seqFISH_celltype'\n",
       "19. 'majority_seqFISH_celltype_proportion'\n",
       "20. 'majority_extended_atlas_celltype'\n",
       "21. 'majority_extended_atlas_celltype_proportion'\n",
       "22. 'majority_celltype_PijuanSala2019_celltype'\n",
       "23. 'majority_celltype_PijuanSala2019_celltype_proportion'\n",
       "24. 'stage_transfer'\n",
       "25. 'poor_stage_alignment'\n",
       "26. 'proportion_seqFISH_cells_per_subcluster'\n",
       "27. 'joint_clusters_pass_QC'\n",
       "28. 'stage_alignment_pass_QC'\n",
       "29. 'passed_QC'\n",
       "30. 'refined_annotation'\n",
       "31. 'embryo'\n",
       "\n",
       "\n"
      ],
      "text/plain": [
       " [1] \"cell_ID\"                                             \n",
       " [2] \"orig.ident\"                                          \n",
       " [3] \"nCount_RNA\"                                          \n",
       " [4] \"nFeature_RNA\"                                        \n",
       " [5] \"seqFISH_celltype\"                                    \n",
       " [6] \"extended_atlas_celltype\"                             \n",
       " [7] \"AP\"                                                  \n",
       " [8] \"DV\"                                                  \n",
       " [9] \"dataset\"                                             \n",
       "[10] \"cluster\"                                             \n",
       "[11] \"subcluster\"                                          \n",
       "[12] \"cluster_subcluster\"                                  \n",
       "[13] \"stage\"                                               \n",
       "[14] \"anatomy\"                                             \n",
       "[15] \"UMAP_1\"                                              \n",
       "[16] \"UMAP_2\"                                              \n",
       "[17] \"celltype_PijuanSala2019\"                             \n",
       "[18] \"majority_seqFISH_celltype\"                           \n",
       "[19] \"majority_seqFISH_celltype_proportion\"                \n",
       "[20] \"majority_extended_atlas_celltype\"                    \n",
       "[21] \"majority_extended_atlas_celltype_proportion\"         \n",
       "[22] \"majority_celltype_PijuanSala2019_celltype\"           \n",
       "[23] \"majority_celltype_PijuanSala2019_celltype_proportion\"\n",
       "[24] \"stage_transfer\"                                      \n",
       "[25] \"poor_stage_alignment\"                                \n",
       "[26] \"proportion_seqFISH_cells_per_subcluster\"             \n",
       "[27] \"joint_clusters_pass_QC\"                              \n",
       "[28] \"stage_alignment_pass_QC\"                             \n",
       "[29] \"passed_QC\"                                           \n",
       "[30] \"refined_annotation\"                                  \n",
       "[31] \"embryo\"                                              "
      ]
     },
     "metadata": {},
     "output_type": "display_data"
    }
   ],
   "source": [
    "colnames(refined_annotations)"
   ]
  },
  {
   "cell_type": "code",
   "execution_count": 7,
   "id": "d9239ae4-f34c-4842-b67f-3e4a6b80c5eb",
   "metadata": {},
   "outputs": [],
   "source": [
    "refined_annotations_ss <- subset(refined_annotations, select = c(refined_annotation, celltype_PijuanSala2019, extended_atlas_celltype))"
   ]
  },
  {
   "cell_type": "code",
   "execution_count": 8,
   "id": "f1ad01da-82fe-4983-b0ef-032ea2e5768b",
   "metadata": {},
   "outputs": [],
   "source": [
    "seqFISH_postQC <- AddMetaData(seqFISH_postQC, metadata = refined_annotations_ss)\n",
    "seqFISH_preQC <- AddMetaData(seqFISH_preQC, metadata = refined_annotations_ss)"
   ]
  },
  {
   "cell_type": "markdown",
   "id": "76b40113-160a-4441-81cd-84fff7b81963",
   "metadata": {},
   "source": [
    "## Load in R Scripts that Contain Cell Type Colours Etc."
   ]
  },
  {
   "cell_type": "code",
   "execution_count": 9,
   "id": "2463a9f2-5e6e-490a-8ecf-272f0d6ee141",
   "metadata": {},
   "outputs": [],
   "source": [
    "script_files <- list.files(\"projects/03_seqFISH_FINAL/code/CELL_GENOMICS_REVISIONS/R_scripts\", \n",
    "                           pattern = \"\\\\.[rR]$\", full.names = TRUE)\n",
    "\n",
    "invisible(lapply(script_files, source))"
   ]
  },
  {
   "cell_type": "markdown",
   "id": "e95ce1db-cd3f-4126-8c6f-481c3d0a8141",
   "metadata": {},
   "source": [
    "## Update Cell Type Labels"
   ]
  },
  {
   "cell_type": "code",
   "execution_count": 10,
   "id": "a72c6b1b-c4dd-4d77-9ee1-a52df57758ad",
   "metadata": {},
   "outputs": [
    {
     "data": {
      "text/html": [
       "<style>\n",
       ".list-inline {list-style: none; margin:0; padding: 0}\n",
       ".list-inline>li {display: inline-block}\n",
       ".list-inline>li:not(:last-child)::after {content: \"\\00b7\"; padding: 0 .5ex}\n",
       "</style>\n",
       "<ol class=list-inline><li>'seqFISH_celltype'</li><li>'seqFISH_celltype_updated_2'</li><li>'dim3_binarized'</li><li>'AP'</li><li>'DV'</li><li>'dim1'</li><li>'dim2'</li><li>'dim3'</li><li>'STABMAP_UMAP_1'</li><li>'STABMAP_UMAP_2'</li><li>'embryo'</li></ol>\n"
      ],
      "text/latex": [
       "\\begin{enumerate*}\n",
       "\\item 'seqFISH\\_celltype'\n",
       "\\item 'seqFISH\\_celltype\\_updated\\_2'\n",
       "\\item 'dim3\\_binarized'\n",
       "\\item 'AP'\n",
       "\\item 'DV'\n",
       "\\item 'dim1'\n",
       "\\item 'dim2'\n",
       "\\item 'dim3'\n",
       "\\item 'STABMAP\\_UMAP\\_1'\n",
       "\\item 'STABMAP\\_UMAP\\_2'\n",
       "\\item 'embryo'\n",
       "\\end{enumerate*}\n"
      ],
      "text/markdown": [
       "1. 'seqFISH_celltype'\n",
       "2. 'seqFISH_celltype_updated_2'\n",
       "3. 'dim3_binarized'\n",
       "4. 'AP'\n",
       "5. 'DV'\n",
       "6. 'dim1'\n",
       "7. 'dim2'\n",
       "8. 'dim3'\n",
       "9. 'STABMAP_UMAP_1'\n",
       "10. 'STABMAP_UMAP_2'\n",
       "11. 'embryo'\n",
       "\n",
       "\n"
      ],
      "text/plain": [
       " [1] \"seqFISH_celltype\"           \"seqFISH_celltype_updated_2\"\n",
       " [3] \"dim3_binarized\"             \"AP\"                        \n",
       " [5] \"DV\"                         \"dim1\"                      \n",
       " [7] \"dim2\"                       \"dim3\"                      \n",
       " [9] \"STABMAP_UMAP_1\"             \"STABMAP_UMAP_2\"            \n",
       "[11] \"embryo\"                    "
      ]
     },
     "metadata": {},
     "output_type": "display_data"
    }
   ],
   "source": [
    "colnames(seqFISH_preQC_meta)"
   ]
  },
  {
   "cell_type": "code",
   "execution_count": 11,
   "id": "6d5e8269-57ec-40b2-9e39-3fdfa76d5574",
   "metadata": {},
   "outputs": [
    {
     "data": {
      "text/plain": [
       "\n",
       "embryo_1 embryo_2 embryo_3 embryo_4 \n",
       "    3811     4355     4545     2083 "
      ]
     },
     "metadata": {},
     "output_type": "display_data"
    }
   ],
   "source": [
    "table(seqFISH_preQC_meta$embryo)"
   ]
  },
  {
   "cell_type": "code",
   "execution_count": 12,
   "id": "7041656b-99dc-409a-ac24-121db3eb992b",
   "metadata": {},
   "outputs": [
    {
     "name": "stdout",
     "output_type": "stream",
     "text": [
      " Factor w/ 19 levels \"LQ\",\"low quality\",..: 6 3 3 2 2 3 12 2 3 6 ...\n"
     ]
    }
   ],
   "source": [
    "str(seqFISH_preQC_meta$seqFISH_celltype_updated_2)"
   ]
  },
  {
   "cell_type": "code",
   "execution_count": 13,
   "id": "10bbe2fe-4b9b-4c30-a078-bdbf82a8e8ee",
   "metadata": {},
   "outputs": [],
   "source": [
    "df <- subset(seqFISH_preQC_meta, select = c(seqFISH_celltype_updated_2, embryo))\n",
    "\n",
    "df <- df %>%\n",
    "  mutate(seqFISH_celltype_updated_2 = as.character(seqFISH_celltype_updated_2)) %>%\n",
    "  mutate(seqFISH_celltype_updated_2 = case_when(\n",
    "    seqFISH_celltype_updated_2 == \"LQ\" & embryo == \"embryo_2\" ~ \"Axial Mesendoderm\",\n",
    "    seqFISH_celltype_updated_2 == \"LQ\" & embryo == \"embryo_1\" ~ \"Primitive Streak\",\n",
    "    seqFISH_celltype_updated_2 == \"Haematoendothelial Progenitors #2\" & embryo == \"embryo_4\" ~ \"Caudal Epiblast\",\n",
    "    TRUE ~ seqFISH_celltype_updated_2  # Keep the remaining names unchanged\n",
    "  ))"
   ]
  },
  {
   "cell_type": "code",
   "execution_count": 14,
   "id": "0efa1474-3d32-4d74-8dcb-065710297610",
   "metadata": {},
   "outputs": [],
   "source": [
    "seqFISH_postQC <- AddMetaData(seqFISH_postQC, metadata = df)\n",
    "seqFISH_preQC <- AddMetaData(seqFISH_preQC, metadata = df)"
   ]
  },
  {
   "cell_type": "code",
   "execution_count": 15,
   "id": "36abd8ac-eb2a-4cd0-92d4-dea9e5d3a8e2",
   "metadata": {},
   "outputs": [
    {
     "data": {
      "text/html": [
       "<style>\n",
       ".list-inline {list-style: none; margin:0; padding: 0}\n",
       ".list-inline>li {display: inline-block}\n",
       ".list-inline>li:not(:last-child)::after {content: \"\\00b7\"; padding: 0 .5ex}\n",
       "</style>\n",
       "<ol class=list-inline><li>'low quality'</li><li>'ExE Ectoderm Proximal #1'</li><li>'ExE Ectoderm Proximal #2'</li><li>'ExE Ectoderm Distal #1'</li><li>'ExE Ectoderm Distal #2'</li><li>'ExE Endoderm'</li><li>'Visceral Endoderm #1'</li><li>'Visceral Endoderm #2'</li><li>'ExE Mesoderm'</li><li>'Mesodermal Wings'</li><li>'Haematoendothelial Progenitors #1'</li><li>'Haematoendothelial Progenitors #2'</li><li>'Axial Mesendoderm'</li><li>'Definitive Endoderm'</li><li>'Rostral Ectoderm'</li><li>'Primitive Streak'</li><li>'Caudal Epiblast'</li><li>'Epiblast'</li></ol>\n"
      ],
      "text/latex": [
       "\\begin{enumerate*}\n",
       "\\item 'low quality'\n",
       "\\item 'ExE Ectoderm Proximal \\#1'\n",
       "\\item 'ExE Ectoderm Proximal \\#2'\n",
       "\\item 'ExE Ectoderm Distal \\#1'\n",
       "\\item 'ExE Ectoderm Distal \\#2'\n",
       "\\item 'ExE Endoderm'\n",
       "\\item 'Visceral Endoderm \\#1'\n",
       "\\item 'Visceral Endoderm \\#2'\n",
       "\\item 'ExE Mesoderm'\n",
       "\\item 'Mesodermal Wings'\n",
       "\\item 'Haematoendothelial Progenitors \\#1'\n",
       "\\item 'Haematoendothelial Progenitors \\#2'\n",
       "\\item 'Axial Mesendoderm'\n",
       "\\item 'Definitive Endoderm'\n",
       "\\item 'Rostral Ectoderm'\n",
       "\\item 'Primitive Streak'\n",
       "\\item 'Caudal Epiblast'\n",
       "\\item 'Epiblast'\n",
       "\\end{enumerate*}\n"
      ],
      "text/markdown": [
       "1. 'low quality'\n",
       "2. 'ExE Ectoderm Proximal #1'\n",
       "3. 'ExE Ectoderm Proximal #2'\n",
       "4. 'ExE Ectoderm Distal #1'\n",
       "5. 'ExE Ectoderm Distal #2'\n",
       "6. 'ExE Endoderm'\n",
       "7. 'Visceral Endoderm #1'\n",
       "8. 'Visceral Endoderm #2'\n",
       "9. 'ExE Mesoderm'\n",
       "10. 'Mesodermal Wings'\n",
       "11. 'Haematoendothelial Progenitors #1'\n",
       "12. 'Haematoendothelial Progenitors #2'\n",
       "13. 'Axial Mesendoderm'\n",
       "14. 'Definitive Endoderm'\n",
       "15. 'Rostral Ectoderm'\n",
       "16. 'Primitive Streak'\n",
       "17. 'Caudal Epiblast'\n",
       "18. 'Epiblast'\n",
       "\n",
       "\n"
      ],
      "text/plain": [
       " [1] \"low quality\"                       \"ExE Ectoderm Proximal #1\"         \n",
       " [3] \"ExE Ectoderm Proximal #2\"          \"ExE Ectoderm Distal #1\"           \n",
       " [5] \"ExE Ectoderm Distal #2\"            \"ExE Endoderm\"                     \n",
       " [7] \"Visceral Endoderm #1\"              \"Visceral Endoderm #2\"             \n",
       " [9] \"ExE Mesoderm\"                      \"Mesodermal Wings\"                 \n",
       "[11] \"Haematoendothelial Progenitors #1\" \"Haematoendothelial Progenitors #2\"\n",
       "[13] \"Axial Mesendoderm\"                 \"Definitive Endoderm\"              \n",
       "[15] \"Rostral Ectoderm\"                  \"Primitive Streak\"                 \n",
       "[17] \"Caudal Epiblast\"                   \"Epiblast\"                         "
      ]
     },
     "metadata": {},
     "output_type": "display_data"
    }
   ],
   "source": [
    "# Define the desired order of cell types\n",
    "ordered_celltypes <- c(\n",
    "  \"low quality\",\n",
    "    \n",
    "  \"ExE Ectoderm Proximal #1\",\n",
    "  \"ExE Ectoderm Proximal #2\",\n",
    "  \n",
    "  \"ExE Ectoderm Distal #1\",\n",
    "  \"ExE Ectoderm Distal #2\",\n",
    "\n",
    "  \"ExE Endoderm\",\n",
    "  \"Visceral Endoderm #1\",\n",
    "  \"Visceral Endoderm #2\",\n",
    "  \"ExE Mesoderm\",  \n",
    "  \"Mesodermal Wings\",\n",
    "  \"Haematoendothelial Progenitors #1\",\n",
    "  \"Haematoendothelial Progenitors #2\",\n",
    "\n",
    "  \"Axial Mesendoderm\",\n",
    "  \"Definitive Endoderm\",\n",
    "    \n",
    "\n",
    "  \"Rostral Ectoderm\",\n",
    "  \"Primitive Streak\",\n",
    "  \"Caudal Epiblast\",\n",
    "  \"Epiblast\"\n",
    "\n",
    ")\n",
    "\n",
    "# Convert to an ordered factor\n",
    "seqFISH_preQC@meta.data$seqFISH_celltype_updated_2 <- factor(\n",
    "  seqFISH_preQC@meta.data$seqFISH_celltype_updated_2,\n",
    "  levels = ordered_celltypes,\n",
    "  ordered = TRUE\n",
    ")\n",
    "\n",
    "# Check if ordering is correct\n",
    "levels(seqFISH_preQC@meta.data$seqFISH_celltype_updated_2)"
   ]
  },
  {
   "cell_type": "markdown",
   "id": "7d2dc80c-6d57-46a0-aaee-aa1ab6fe5c79",
   "metadata": {},
   "source": [
    "## Generate Main Figure 1 Figures"
   ]
  },
  {
   "cell_type": "code",
   "execution_count": 16,
   "id": "7abc4e39-2d88-4b7e-a31b-3b14b3c4b90e",
   "metadata": {},
   "outputs": [],
   "source": [
    "seqFISH_postQC$seqFISH_celltype_updated_2 <- factor(seqFISH_postQC$seqFISH_celltype_updated_2, \n",
    "                                                      levels = Harland_seqFISH_early_order)"
   ]
  },
  {
   "cell_type": "code",
   "execution_count": 17,
   "id": "ec522b53-c8de-4613-bec9-f5b5a7e01615",
   "metadata": {},
   "outputs": [
    {
     "data": {
      "text/plain": [
       "An object of class Seurat \n",
       "28723 features across 9237 samples within 4 assays \n",
       "Active assay: across_timepoint_integration (351 features, 351 variable features)\n",
       " 3 other assays present: originalexp, within_timepoint_integration, imputed\n",
       " 7 dimensional reductions calculated: pca, umap, spatial, Shila_PCA, Shila_UMAP, seqFISH_postQC_UMAP, seqFISH_postQC_pca"
      ]
     },
     "metadata": {},
     "output_type": "display_data"
    }
   ],
   "source": [
    "seqFISH_postQC"
   ]
  },
  {
   "cell_type": "markdown",
   "id": "f17815a2-8cd2-407e-b5a5-36eebbd47973",
   "metadata": {},
   "source": [
    "## Create SFig1 H and I"
   ]
  },
  {
   "cell_type": "code",
   "execution_count": 18,
   "id": "49a81125-6d03-48f8-9251-b233b0562df4",
   "metadata": {},
   "outputs": [
    {
     "data": {
      "text/plain": [
       "An object of class Seurat \n",
       "1053 features across 14794 samples within 3 assays \n",
       "Active assay: across_timepoint_integration (351 features, 351 variable features)\n",
       " 2 other assays present: originalexp, within_timepoint_integration\n",
       " 5 dimensional reductions calculated: pca, umap, spatial, Shila_PCA, Shila_UMAP"
      ]
     },
     "metadata": {},
     "output_type": "display_data"
    }
   ],
   "source": [
    "seqFISH_preQC"
   ]
  },
  {
   "cell_type": "code",
   "execution_count": 19,
   "id": "7da07fe0-3333-4c80-9211-02094afa2638",
   "metadata": {},
   "outputs": [
    {
     "data": {
      "text/plain": [
       "An object of class Seurat \n",
       "28723 features across 9237 samples within 4 assays \n",
       "Active assay: across_timepoint_integration (351 features, 351 variable features)\n",
       " 3 other assays present: originalexp, within_timepoint_integration, imputed\n",
       " 7 dimensional reductions calculated: pca, umap, spatial, Shila_PCA, Shila_UMAP, seqFISH_postQC_UMAP, seqFISH_postQC_pca"
      ]
     },
     "metadata": {},
     "output_type": "display_data"
    }
   ],
   "source": [
    "seqFISH_postQC"
   ]
  },
  {
   "cell_type": "markdown",
   "id": "2e2f96fb-5790-4072-929c-53ec44a0d5cd",
   "metadata": {},
   "source": [
    "## Spatial Plots with OriginalExp (seqFISH counts)"
   ]
  },
  {
   "cell_type": "code",
   "execution_count": 20,
   "id": "db536bb9-48d7-4610-95aa-0942433bb43e",
   "metadata": {},
   "outputs": [],
   "source": [
    "# Function to process originalexp data\n",
    "process_original_exp <- function(seqFISH_object, exp_term = \"originalexp\") {\n",
    "  exp_data <- as.data.frame(seqFISH_object@assays[[exp_term]]@data)\n",
    "  exp_data <- t(exp_data) # Transpose the data\n",
    "  exp_data <- as.data.frame(exp_data)\n",
    "  exp_data$cell_ID <- rownames(exp_data)\n",
    "  return(exp_data)\n",
    "}\n",
    "\n",
    "# Function to adjust dim1 and dim2 for all embryos\n",
    "adjust_coordinates <- function(meta_data) {\n",
    "  meta_data %>%\n",
    "    group_by(embryo) %>%\n",
    "    mutate(\n",
    "      dim1 = dim1 - min(dim1, na.rm = TRUE), # Shift dim1\n",
    "      dim2 = dim2 - min(dim2, na.rm = TRUE)  # Shift dim2\n",
    "    ) %>%\n",
    "    ungroup()\n",
    "}"
   ]
  },
  {
   "cell_type": "code",
   "execution_count": 21,
   "id": "f0ef6edc-cfd0-455e-9bff-1882e752fd0c",
   "metadata": {},
   "outputs": [],
   "source": [
    "# Process seqFISH_postQC\n",
    "seqFISH_postQC_originalexp <- process_original_exp(seqFISH_postQC, exp_term = \"originalexp\")\n",
    "seqFISH_postQC_meta <- adjust_coordinates(seqFISH_postQC@meta.data)\n",
    "\n",
    "# Process seqFISH_preQC\n",
    "seqFISH_preQC_meta <- adjust_coordinates(seqFISH_preQC@meta.data)\n",
    "\n",
    "# Merge meta data and processed originalexp data\n",
    "merged_originalexp <- merge(seqFISH_postQC_meta, seqFISH_postQC_originalexp, by = \"cell_ID\")"
   ]
  },
  {
   "cell_type": "code",
   "execution_count": 22,
   "id": "5fa93d67-6fe1-43f9-85f1-6e88a7697ddd",
   "metadata": {},
   "outputs": [],
   "source": [
    "plot_gene_expression <- function(merged_df, seqFISH_preQC_meta, embryo, gene, point_size = 1, text_size_2 = 10) {\n",
    "  # Filter and sort data by gene expression level\n",
    "  sorted_df <- merged_df[merged_df$embryo %in% c(embryo), ]\n",
    "  sorted_df <- sorted_df[order(sorted_df[[gene]], decreasing = FALSE), ]  # Order by expression\n",
    "  \n",
    "  # Get the range of gene expression values\n",
    "  gene_range <- range(sorted_df[[gene]], na.rm = TRUE)\n",
    "    \n",
    "  # Generate the plot\n",
    "  p <- ggplot() +\n",
    "    # Background points in grey for context\n",
    "    geom_point(data = seqFISH_preQC_meta[seqFISH_preQC_meta$embryo %in% c(embryo), ], \n",
    "               aes(x = dim1, y = dim2), color = 'grey90', size = 3) +\n",
    "    # Points colored by gene expression\n",
    "    geom_point(data = sorted_df, aes(x = dim1, y = dim2, color = .data[[gene]]), size = point_size) +\n",
    "    # Viridis color scale with min/max labels\n",
    "    viridis::scale_color_viridis(breaks = gene_range, labels = round(gene_range, 0)) +\n",
    "    coord_fixed() +\n",
    "    theme_void() +\n",
    "    facet_wrap(~embryo) +\n",
    "    theme(\n",
    "      legend.position = \"right\",\n",
    "      strip.text = element_blank(),               # <- Removed facet titles safely\n",
    "      legend.text = element_text(size = text_size_2),\n",
    "      legend.title = element_text(size = text_size_2)\n",
    "    ) +\n",
    "    labs(color = NULL)\n",
    "\n",
    "  return(p)\n",
    "}\n",
    "\n"
   ]
  },
  {
   "cell_type": "code",
   "execution_count": 23,
   "id": "7c5d62eb-ea3d-4fec-80b3-1188002a5849",
   "metadata": {},
   "outputs": [
    {
     "name": "stderr",
     "output_type": "stream",
     "text": [
      "Saved: projects/03_seqFISH_FINAL/code/CELL_GENOMICS_REVISIONS/GITHUB_UPLOAD_FOLDER/6_figure_generation/sfig_1_and_sfig_4/output/sfig1h/SFig1h_Slc7a3.png\n",
      "\n",
      "Saved: projects/03_seqFISH_FINAL/code/CELL_GENOMICS_REVISIONS/GITHUB_UPLOAD_FOLDER/6_figure_generation/sfig_1_and_sfig_4/output/sfig1h/SFig1h_Lhx1.png\n",
      "\n",
      "Saved: projects/03_seqFISH_FINAL/code/CELL_GENOMICS_REVISIONS/GITHUB_UPLOAD_FOLDER/6_figure_generation/sfig_1_and_sfig_4/output/sfig1h/SFig1h_Tbx3.png\n",
      "\n",
      "Saved: projects/03_seqFISH_FINAL/code/CELL_GENOMICS_REVISIONS/GITHUB_UPLOAD_FOLDER/6_figure_generation/sfig_1_and_sfig_4/output/sfig1h/SFig1h_Tal1.png\n",
      "\n",
      "Saved: projects/03_seqFISH_FINAL/code/CELL_GENOMICS_REVISIONS/GITHUB_UPLOAD_FOLDER/6_figure_generation/sfig_1_and_sfig_4/output/sfig1h/SFig1h_Zic3.png\n",
      "\n",
      "Saved: projects/03_seqFISH_FINAL/code/CELL_GENOMICS_REVISIONS/GITHUB_UPLOAD_FOLDER/6_figure_generation/sfig_1_and_sfig_4/output/sfig1h/SFig1h_Otx2.png\n",
      "\n",
      "Saved: projects/03_seqFISH_FINAL/code/CELL_GENOMICS_REVISIONS/GITHUB_UPLOAD_FOLDER/6_figure_generation/sfig_1_and_sfig_4/output/sfig1h/SFig1h_Soat2.png\n",
      "\n",
      "Saved: projects/03_seqFISH_FINAL/code/CELL_GENOMICS_REVISIONS/GITHUB_UPLOAD_FOLDER/6_figure_generation/sfig_1_and_sfig_4/output/sfig1h/SFig1h_Col4a1.png\n",
      "\n",
      "Saved: projects/03_seqFISH_FINAL/code/CELL_GENOMICS_REVISIONS/GITHUB_UPLOAD_FOLDER/6_figure_generation/sfig_1_and_sfig_4/output/sfig1h/SFig1h_Morc4.png\n",
      "\n",
      "Saved: projects/03_seqFISH_FINAL/code/CELL_GENOMICS_REVISIONS/GITHUB_UPLOAD_FOLDER/6_figure_generation/sfig_1_and_sfig_4/output/sfig1h/SFig1h_Cer1.png\n",
      "\n",
      "Saved: projects/03_seqFISH_FINAL/code/CELL_GENOMICS_REVISIONS/GITHUB_UPLOAD_FOLDER/6_figure_generation/sfig_1_and_sfig_4/output/sfig1h/SFig1h_Fgfr2.png\n",
      "\n",
      "Saved: projects/03_seqFISH_FINAL/code/CELL_GENOMICS_REVISIONS/GITHUB_UPLOAD_FOLDER/6_figure_generation/sfig_1_and_sfig_4/output/sfig1h/SFig1h_Tfap2c.png\n",
      "\n"
     ]
    }
   ],
   "source": [
    "# Create a directory to save the plots\n",
    "output_dir <- \"projects/03_seqFISH_FINAL/code/CELL_GENOMICS_REVISIONS/GITHUB_UPLOAD_FOLDER/6_figure_generation/sfig_1_and_sfig_4/output/sfig1h\"\n",
    "dir.create(output_dir, recursive = TRUE, showWarnings = FALSE)\n",
    "\n",
    "# Your list of genes\n",
    "genes_to_plot_sfig1h <- c(\"Slc7a3\", \"Lhx1\", \"Tbx3\",\n",
    "                          \"Tal1\", \"Zic3\", \"Otx2\",\n",
    "                          \"Soat2\", \"Col4a1\", \"Morc4\",\n",
    "                          \"Cer1\", \"Fgfr2\", \"Tfap2c\")\n",
    "\n",
    "# Loop through genes and save each plot\n",
    "for (gene in genes_to_plot_sfig1h) {\n",
    "  plot <- plot_gene_expression(\n",
    "    merged_df = merged_originalexp,\n",
    "    seqFISH_preQC_meta = seqFISH_preQC_meta,\n",
    "    embryo = c(\"embryo_1\", \"embryo_2\"),\n",
    "    gene = gene,\n",
    "    point_size = 2,\n",
    "    text_size_2 = 20\n",
    "  )\n",
    "  \n",
    "  # Save plot\n",
    "  output_path <- file.path(output_dir, paste0(\"SFig1h_\", gene, \".png\"))\n",
    "  ggsave(filename = output_path, plot = plot, width = 5, height = 5, dpi = 300)\n",
    "  message(\"Saved: \", output_path)\n",
    "}"
   ]
  },
  {
   "cell_type": "code",
   "execution_count": 24,
   "id": "9eb24081-fd92-460b-a168-65d578f8f2b9",
   "metadata": {},
   "outputs": [
    {
     "name": "stderr",
     "output_type": "stream",
     "text": [
      "Saved: projects/03_seqFISH_FINAL/code/CELL_GENOMICS_REVISIONS/GITHUB_UPLOAD_FOLDER/6_figure_generation/sfig_1_and_sfig_4/output/sfig1i/SFig1h_Tbx3.png\n",
      "\n",
      "Saved: projects/03_seqFISH_FINAL/code/CELL_GENOMICS_REVISIONS/GITHUB_UPLOAD_FOLDER/6_figure_generation/sfig_1_and_sfig_4/output/sfig1i/SFig1h_Dlk1.png\n",
      "\n",
      "Saved: projects/03_seqFISH_FINAL/code/CELL_GENOMICS_REVISIONS/GITHUB_UPLOAD_FOLDER/6_figure_generation/sfig_1_and_sfig_4/output/sfig1i/SFig1h_Nkx1-2.png\n",
      "\n",
      "Saved: projects/03_seqFISH_FINAL/code/CELL_GENOMICS_REVISIONS/GITHUB_UPLOAD_FOLDER/6_figure_generation/sfig_1_and_sfig_4/output/sfig1i/SFig1h_Cdx1.png\n",
      "\n",
      "Saved: projects/03_seqFISH_FINAL/code/CELL_GENOMICS_REVISIONS/GITHUB_UPLOAD_FOLDER/6_figure_generation/sfig_1_and_sfig_4/output/sfig1i/SFig1h_Lmo2.png\n",
      "\n",
      "Saved: projects/03_seqFISH_FINAL/code/CELL_GENOMICS_REVISIONS/GITHUB_UPLOAD_FOLDER/6_figure_generation/sfig_1_and_sfig_4/output/sfig1i/SFig1h_Fgf3.png\n",
      "\n",
      "Saved: projects/03_seqFISH_FINAL/code/CELL_GENOMICS_REVISIONS/GITHUB_UPLOAD_FOLDER/6_figure_generation/sfig_1_and_sfig_4/output/sfig1i/SFig1h_Cxcl12.png\n",
      "\n",
      "Saved: projects/03_seqFISH_FINAL/code/CELL_GENOMICS_REVISIONS/GITHUB_UPLOAD_FOLDER/6_figure_generation/sfig_1_and_sfig_4/output/sfig1i/SFig1h_Dnmt3l.png\n",
      "\n"
     ]
    }
   ],
   "source": [
    "# Create a directory to save the plots\n",
    "output_dir <- \"projects/03_seqFISH_FINAL/code/CELL_GENOMICS_REVISIONS/GITHUB_UPLOAD_FOLDER/6_figure_generation/sfig_1_and_sfig_4/output/sfig1i\"\n",
    "dir.create(output_dir, recursive = TRUE, showWarnings = FALSE)\n",
    "\n",
    "# Your list of genes\n",
    "genes_to_plot_sfig1i <- c(\"Tbx3\", \"Dlk1\",\n",
    "                         \"Nkx1-2\", \"Cdx1\",\n",
    "                         \"Lmo2\", \"Fgf3\",\n",
    "                         \"Cxcl12\", \"Dnmt3l\")\n",
    "\n",
    "# Loop through genes and save each plot\n",
    "for (gene in genes_to_plot_sfig1i) {\n",
    "  plot <- plot_gene_expression(\n",
    "    merged_df = merged_originalexp,\n",
    "    seqFISH_preQC_meta = seqFISH_preQC_meta,\n",
    "    embryo = c(\"embryo_3\", \"embryo_4\"),\n",
    "    gene = gene,\n",
    "    point_size = 2,\n",
    "    text_size_2 = 20\n",
    "  )\n",
    "  \n",
    "  # Save plot\n",
    "  output_path <- file.path(output_dir, paste0(\"SFig1h_\", gene, \".png\"))\n",
    "  ggsave(filename = output_path, plot = plot, width = 5, height = 5, dpi = 300)\n",
    "  message(\"Saved: \", output_path)\n",
    "}"
   ]
  },
  {
   "cell_type": "markdown",
   "id": "bdfb0622-7007-45a3-aa3b-1c760718f6c4",
   "metadata": {},
   "source": [
    "## Create SFig4D-G (Imputed Expression)"
   ]
  },
  {
   "cell_type": "code",
   "execution_count": 25,
   "id": "5b26255e-2581-4e08-9249-c08d5db61da9",
   "metadata": {},
   "outputs": [],
   "source": [
    "# Process seqFISH_postQC\n",
    "seqFISH_postQC_imputed <- process_original_exp(seqFISH_postQC, exp_term = \"imputed\")\n",
    "seqFISH_postQC_meta <- adjust_coordinates(seqFISH_postQC@meta.data)\n",
    "\n",
    "# Process seqFISH_preQC\n",
    "seqFISH_preQC_meta <- adjust_coordinates(seqFISH_preQC@meta.data)\n",
    "\n",
    "# Merge meta data and processed originalexp data\n",
    "merged_imputed <- merge(seqFISH_postQC_meta, seqFISH_postQC_imputed, by = \"cell_ID\")"
   ]
  },
  {
   "cell_type": "code",
   "execution_count": 26,
   "id": "a90d3bc0-b600-43c9-91c4-413b1af29e76",
   "metadata": {},
   "outputs": [
    {
     "name": "stderr",
     "output_type": "stream",
     "text": [
      "Saved: projects/03_seqFISH_FINAL/code/CELL_GENOMICS_REVISIONS/GITHUB_UPLOAD_FOLDER/6_figure_generation/sfig_1_and_sfig_4/output/sfig4d/SFig1h_Ascl2.png\n",
      "\n",
      "Saved: projects/03_seqFISH_FINAL/code/CELL_GENOMICS_REVISIONS/GITHUB_UPLOAD_FOLDER/6_figure_generation/sfig_1_and_sfig_4/output/sfig4d/SFig1h_Mesp1.png\n",
      "\n",
      "Saved: projects/03_seqFISH_FINAL/code/CELL_GENOMICS_REVISIONS/GITHUB_UPLOAD_FOLDER/6_figure_generation/sfig_1_and_sfig_4/output/sfig4d/SFig1h_Tal1.png\n",
      "\n",
      "Saved: projects/03_seqFISH_FINAL/code/CELL_GENOMICS_REVISIONS/GITHUB_UPLOAD_FOLDER/6_figure_generation/sfig_1_and_sfig_4/output/sfig4d/SFig1h_Sox17.png\n",
      "\n"
     ]
    }
   ],
   "source": [
    "# Create a directory to save the plots\n",
    "output_dir <- \"projects/03_seqFISH_FINAL/code/CELL_GENOMICS_REVISIONS/GITHUB_UPLOAD_FOLDER/6_figure_generation/sfig_1_and_sfig_4/output/sfig4d\"\n",
    "dir.create(output_dir, recursive = TRUE, showWarnings = FALSE)\n",
    "\n",
    "# Your list of genes\n",
    "genes_to_plot <- c(\"Ascl2\", \"Mesp1\", \"Tal1\", \"Sox17\")\n",
    "\n",
    "# Loop through genes and save each plot\n",
    "for (gene in genes_to_plot) {\n",
    "  plot <- plot_gene_expression(\n",
    "    merged_df = merged_imputed,\n",
    "    seqFISH_preQC_meta = seqFISH_preQC_meta,\n",
    "    embryo = c(\"embryo_1\", \"embryo_2\"),\n",
    "    gene = gene,\n",
    "    point_size = 2,\n",
    "    text_size_2 = 20\n",
    "  )\n",
    "  \n",
    "  # Save plot\n",
    "  output_path <- file.path(output_dir, paste0(\"SFig1h_\", gene, \".png\"))\n",
    "  ggsave(filename = output_path, plot = plot, width = 5, height = 5, dpi = 300)\n",
    "  message(\"Saved: \", output_path)\n",
    "}"
   ]
  },
  {
   "cell_type": "code",
   "execution_count": 27,
   "id": "19b08400-3dae-4a6a-8819-b9796aff1ff1",
   "metadata": {},
   "outputs": [
    {
     "name": "stderr",
     "output_type": "stream",
     "text": [
      "Saved: projects/03_seqFISH_FINAL/code/CELL_GENOMICS_REVISIONS/GITHUB_UPLOAD_FOLDER/6_figure_generation/sfig_1_and_sfig_4/output/sfig4e/SFig1h_Gata1.png\n",
      "\n",
      "Saved: projects/03_seqFISH_FINAL/code/CELL_GENOMICS_REVISIONS/GITHUB_UPLOAD_FOLDER/6_figure_generation/sfig_1_and_sfig_4/output/sfig4e/SFig1h_Perp.png\n",
      "\n",
      "Saved: projects/03_seqFISH_FINAL/code/CELL_GENOMICS_REVISIONS/GITHUB_UPLOAD_FOLDER/6_figure_generation/sfig_1_and_sfig_4/output/sfig4e/SFig1h_Cxcl12.png\n",
      "\n",
      "Saved: projects/03_seqFISH_FINAL/code/CELL_GENOMICS_REVISIONS/GITHUB_UPLOAD_FOLDER/6_figure_generation/sfig_1_and_sfig_4/output/sfig4e/SFig1h_Sox17.png\n",
      "\n"
     ]
    }
   ],
   "source": [
    "# Create a directory to save the plots\n",
    "output_dir <- \"projects/03_seqFISH_FINAL/code/CELL_GENOMICS_REVISIONS/GITHUB_UPLOAD_FOLDER/6_figure_generation/sfig_1_and_sfig_4/output/sfig4e\"\n",
    "dir.create(output_dir, recursive = TRUE, showWarnings = FALSE)\n",
    "\n",
    "# Your list of genes\n",
    "genes_to_plot <- c(\"Gata1\", \"Perp\", \"Cxcl12\", \"Sox17\")\n",
    "\n",
    "# Loop through genes and save each plot\n",
    "for (gene in genes_to_plot) {\n",
    "  plot <- plot_gene_expression(\n",
    "    merged_df = merged_imputed,\n",
    "    seqFISH_preQC_meta = seqFISH_preQC_meta,\n",
    "    embryo = c(\"embryo_3\"),\n",
    "    gene = gene,\n",
    "    point_size = 2,\n",
    "    text_size_2 = 20\n",
    "  )\n",
    "  \n",
    "  # Save plot\n",
    "  output_path <- file.path(output_dir, paste0(\"SFig1h_\", gene, \".png\"))\n",
    "  ggsave(filename = output_path, plot = plot, width = 5, height = 5, dpi = 300)\n",
    "  message(\"Saved: \", output_path)\n",
    "}"
   ]
  },
  {
   "cell_type": "code",
   "execution_count": 28,
   "id": "33b9ca1e-2efe-456a-b4c9-25d541913f99",
   "metadata": {},
   "outputs": [
    {
     "name": "stderr",
     "output_type": "stream",
     "text": [
      "Saved: projects/03_seqFISH_FINAL/code/CELL_GENOMICS_REVISIONS/GITHUB_UPLOAD_FOLDER/6_figure_generation/sfig_1_and_sfig_4/output/sfig4f/SFig1h_Afp.png\n",
      "\n",
      "Saved: projects/03_seqFISH_FINAL/code/CELL_GENOMICS_REVISIONS/GITHUB_UPLOAD_FOLDER/6_figure_generation/sfig_1_and_sfig_4/output/sfig4f/SFig1h_Foxa2.png\n",
      "\n",
      "Saved: projects/03_seqFISH_FINAL/code/CELL_GENOMICS_REVISIONS/GITHUB_UPLOAD_FOLDER/6_figure_generation/sfig_1_and_sfig_4/output/sfig4f/SFig1h_Cer1.png\n",
      "\n",
      "Saved: projects/03_seqFISH_FINAL/code/CELL_GENOMICS_REVISIONS/GITHUB_UPLOAD_FOLDER/6_figure_generation/sfig_1_and_sfig_4/output/sfig4f/SFig1h_Lefty2.png\n",
      "\n",
      "Saved: projects/03_seqFISH_FINAL/code/CELL_GENOMICS_REVISIONS/GITHUB_UPLOAD_FOLDER/6_figure_generation/sfig_1_and_sfig_4/output/sfig4f/SFig1h_Aplnr.png\n",
      "\n",
      "Saved: projects/03_seqFISH_FINAL/code/CELL_GENOMICS_REVISIONS/GITHUB_UPLOAD_FOLDER/6_figure_generation/sfig_1_and_sfig_4/output/sfig4f/SFig1h_Hoxb1.png\n",
      "\n",
      "Saved: projects/03_seqFISH_FINAL/code/CELL_GENOMICS_REVISIONS/GITHUB_UPLOAD_FOLDER/6_figure_generation/sfig_1_and_sfig_4/output/sfig4f/SFig1h_Fgf8.png\n",
      "\n",
      "Saved: projects/03_seqFISH_FINAL/code/CELL_GENOMICS_REVISIONS/GITHUB_UPLOAD_FOLDER/6_figure_generation/sfig_1_and_sfig_4/output/sfig4f/SFig1h_Otx2.png\n",
      "\n"
     ]
    }
   ],
   "source": [
    "# Create a directory to save the plots\n",
    "output_dir <- \"projects/03_seqFISH_FINAL/code/CELL_GENOMICS_REVISIONS/GITHUB_UPLOAD_FOLDER/6_figure_generation/sfig_1_and_sfig_4/output/sfig4f\"\n",
    "dir.create(output_dir, recursive = TRUE, showWarnings = FALSE)\n",
    "\n",
    "# Your list of genes\n",
    "genes_to_plot <- c(\"Afp\", \"Foxa2\", \"Cer1\", \"Lefty2\",\n",
    "                  \"Aplnr\", \"Hoxb1\", \"Fgf8\", \"Otx2\")\n",
    "\n",
    "# Loop through genes and save each plot\n",
    "for (gene in genes_to_plot) {\n",
    "  plot <- plot_gene_expression(\n",
    "    merged_df = merged_imputed,\n",
    "    seqFISH_preQC_meta = seqFISH_preQC_meta,\n",
    "    embryo = c(\"embryo_1\", \"embryo_2\"),\n",
    "    gene = gene,\n",
    "    point_size = 2,\n",
    "    text_size_2 = 20\n",
    "  )\n",
    "  \n",
    "  # Save plot\n",
    "  output_path <- file.path(output_dir, paste0(\"SFig1h_\", gene, \".png\"))\n",
    "  ggsave(filename = output_path, plot = plot, width = 5, height = 5, dpi = 300)\n",
    "  message(\"Saved: \", output_path)\n",
    "}"
   ]
  },
  {
   "cell_type": "code",
   "execution_count": 30,
   "id": "0411d4be-ef9d-4670-b469-6a40e588b2b0",
   "metadata": {},
   "outputs": [
    {
     "name": "stderr",
     "output_type": "stream",
     "text": [
      "Saved: projects/03_seqFISH_FINAL/code/CELL_GENOMICS_REVISIONS/GITHUB_UPLOAD_FOLDER/6_figure_generation/sfig_1_and_sfig_4/output/sfig4g/SFig1h_Bmp4.png\n",
      "\n",
      "Saved: projects/03_seqFISH_FINAL/code/CELL_GENOMICS_REVISIONS/GITHUB_UPLOAD_FOLDER/6_figure_generation/sfig_1_and_sfig_4/output/sfig4g/SFig1h_Cdx1.png\n",
      "\n",
      "Saved: projects/03_seqFISH_FINAL/code/CELL_GENOMICS_REVISIONS/GITHUB_UPLOAD_FOLDER/6_figure_generation/sfig_1_and_sfig_4/output/sfig4g/SFig1h_Otx2.png\n",
      "\n",
      "Saved: projects/03_seqFISH_FINAL/code/CELL_GENOMICS_REVISIONS/GITHUB_UPLOAD_FOLDER/6_figure_generation/sfig_1_and_sfig_4/output/sfig4g/SFig1h_Hand1.png\n",
      "\n",
      "Saved: projects/03_seqFISH_FINAL/code/CELL_GENOMICS_REVISIONS/GITHUB_UPLOAD_FOLDER/6_figure_generation/sfig_1_and_sfig_4/output/sfig4g/SFig1h_Fst.png\n",
      "\n",
      "Saved: projects/03_seqFISH_FINAL/code/CELL_GENOMICS_REVISIONS/GITHUB_UPLOAD_FOLDER/6_figure_generation/sfig_1_and_sfig_4/output/sfig4g/SFig1h_Ptgis.png\n",
      "\n"
     ]
    }
   ],
   "source": [
    "# Create a directory to save the plots\n",
    "output_dir <- \"projects/03_seqFISH_FINAL/code/CELL_GENOMICS_REVISIONS/GITHUB_UPLOAD_FOLDER/6_figure_generation/sfig_1_and_sfig_4/output/sfig4g\"\n",
    "dir.create(output_dir, recursive = TRUE, showWarnings = FALSE)\n",
    "\n",
    "# Your list of genes\n",
    "genes_to_plot <- c(\"Bmp4\", \"Cdx1\", \"Otx2\", \"Hand1\", \"Fst\", \"Ptgis\")\n",
    "\n",
    "# Loop through genes and save each plot\n",
    "for (gene in genes_to_plot) {\n",
    "  plot <- plot_gene_expression(\n",
    "    merged_df = merged_imputed,\n",
    "    seqFISH_preQC_meta = seqFISH_preQC_meta,\n",
    "    embryo = c(\"embryo_3\"),\n",
    "    gene = gene,\n",
    "    point_size = 2,\n",
    "    text_size_2 = 20\n",
    "  )\n",
    "  \n",
    "  # Save plot\n",
    "  output_path <- file.path(output_dir, paste0(\"SFig1h_\", gene, \".png\"))\n",
    "  ggsave(filename = output_path, plot = plot, width = 5, height = 5, dpi = 300)\n",
    "  message(\"Saved: \", output_path)\n",
    "}"
   ]
  },
  {
   "cell_type": "markdown",
   "id": "c6a8f879-fc5d-4994-9652-ca3db523869a",
   "metadata": {},
   "source": [
    "## Print out Package Versions"
   ]
  },
  {
   "cell_type": "code",
   "execution_count": 31,
   "id": "27821f88-9dd2-42b5-b534-350e23d1dc7b",
   "metadata": {},
   "outputs": [
    {
     "data": {
      "text/plain": [
       "R version 4.2.1 (2022-06-23)\n",
       "Platform: x86_64-pc-linux-gnu (64-bit)\n",
       "Running under: Ubuntu 20.04.5 LTS\n",
       "\n",
       "Matrix products: default\n",
       "BLAS:   /usr/lib/x86_64-linux-gnu/openblas-pthread/libblas.so.3\n",
       "LAPACK: /usr/lib/x86_64-linux-gnu/openblas-pthread/liblapack.so.3\n",
       "\n",
       "locale:\n",
       " [1] LC_CTYPE=C.UTF-8    LC_NUMERIC=C        LC_TIME=C          \n",
       " [4] LC_COLLATE=C        LC_MONETARY=C       LC_MESSAGES=C      \n",
       " [7] LC_PAPER=C          LC_NAME=C           LC_ADDRESS=C       \n",
       "[10] LC_TELEPHONE=C      LC_MEASUREMENT=C    LC_IDENTIFICATION=C\n",
       "\n",
       "attached base packages:\n",
       "[1] grid      stats4    stats     graphics  grDevices utils     datasets \n",
       "[8] methods   base     \n",
       "\n",
       "other attached packages:\n",
       " [1] gridExtra_2.3               reshape2_1.4.4             \n",
       " [3] png_0.1-8                   Cairo_1.6-0                \n",
       " [5] viridis_0.6.2               viridisLite_0.4.1          \n",
       " [7] cowplot_1.1.1               ggpubr_0.4.0               \n",
       " [9] batchelor_1.12.3            pheatmap_1.0.12            \n",
       "[11] plotly_4.10.0               sp_1.5-0                   \n",
       "[13] SeuratObject_4.1.2          Seurat_4.2.0               \n",
       "[15] patchwork_1.1.2             harmony_0.1.0              \n",
       "[17] Rcpp_1.0.10                 scran_1.26.2               \n",
       "[19] StabMap_0.1.8               igraph_1.4.1               \n",
       "[21] scater_1.24.0               scuttle_1.8.4              \n",
       "[23] RColorBrewer_1.1-3          SingleR_1.10.0             \n",
       "[25] celldex_1.6.0               SingleCellExperiment_1.20.0\n",
       "[27] SummarizedExperiment_1.28.0 Biobase_2.58.0             \n",
       "[29] GenomicRanges_1.50.2        GenomeInfoDb_1.34.9        \n",
       "[31] IRanges_2.32.0              S4Vectors_0.36.2           \n",
       "[33] BiocGenerics_0.44.0         MatrixGenerics_1.10.0      \n",
       "[35] matrixStats_0.63.0          ggplot2_3.4.1              \n",
       "[37] dplyr_1.1.0                 data.table_1.14.8          \n",
       "\n",
       "loaded via a namespace (and not attached):\n",
       "  [1] utf8_1.2.3                    reticulate_1.26              \n",
       "  [3] tidyselect_1.2.0              RSQLite_2.3.0                \n",
       "  [5] AnnotationDbi_1.60.2          htmlwidgets_1.6.1            \n",
       "  [7] BiocParallel_1.32.5           Rtsne_0.16                   \n",
       "  [9] munsell_0.5.0                 ScaledMatrix_1.6.0           \n",
       " [11] ragg_1.2.2                    codetools_0.2-18             \n",
       " [13] ica_1.0-3                     statmod_1.5.0                \n",
       " [15] pbdZMQ_0.3-7                  future_1.28.0                \n",
       " [17] miniUI_0.1.1.1                withr_2.5.0                  \n",
       " [19] spatstat.random_3.1-5         colorspace_2.1-0             \n",
       " [21] progressr_0.11.0              filelock_1.0.2               \n",
       " [23] uuid_1.1-0                    ROCR_1.0-11                  \n",
       " [25] ggsignif_0.6.3                tensor_1.5                   \n",
       " [27] listenv_0.8.0                 labeling_0.4.2               \n",
       " [29] repr_1.1.4                    GenomeInfoDbData_1.2.9       \n",
       " [31] polyclip_1.10-0               farver_2.1.1                 \n",
       " [33] bit64_4.0.5                   parallelly_1.32.1            \n",
       " [35] vctrs_0.5.2                   generics_0.1.3               \n",
       " [37] BiocFileCache_2.6.1           R6_2.5.1                     \n",
       " [39] ggbeeswarm_0.6.0              rsvd_1.0.5                   \n",
       " [41] locfit_1.5-9.7                bitops_1.0-7                 \n",
       " [43] spatstat.utils_3.0-3          cachem_1.0.7                 \n",
       " [45] DelayedArray_0.24.0           promises_1.2.0.1             \n",
       " [47] scales_1.2.1                  rgeos_0.5-9                  \n",
       " [49] beeswarm_0.4.0                gtable_0.3.1                 \n",
       " [51] beachmat_2.14.0               globals_0.16.1               \n",
       " [53] goftest_1.2-3                 rlang_1.1.0                  \n",
       " [55] systemfonts_1.0.4             splines_4.2.1                \n",
       " [57] rstatix_0.7.0                 lazyeval_0.2.2               \n",
       " [59] broom_1.0.1                   spatstat.geom_3.2-1          \n",
       " [61] BiocManager_1.30.18           yaml_2.3.7                   \n",
       " [63] abind_1.4-5                   backports_1.4.1              \n",
       " [65] httpuv_1.6.6                  tools_4.2.1                  \n",
       " [67] ellipsis_0.3.2                spatstat.core_2.4-4          \n",
       " [69] ggridges_0.5.4                plyr_1.8.8                   \n",
       " [71] base64enc_0.1-3               sparseMatrixStats_1.10.0     \n",
       " [73] zlibbioc_1.44.0               purrr_1.0.1                  \n",
       " [75] RCurl_1.98-1.10               rpart_4.1.16                 \n",
       " [77] deldir_1.0-6                  pbapply_1.5-0                \n",
       " [79] zoo_1.8-11                    ggrepel_0.9.1                \n",
       " [81] cluster_2.1.4                 magrittr_2.0.3               \n",
       " [83] scattermore_0.8               ResidualMatrix_1.6.1         \n",
       " [85] lmtest_0.9-40                 RANN_2.6.1                   \n",
       " [87] fitdistrplus_1.1-8            mime_0.12                    \n",
       " [89] evaluate_0.17                 xtable_1.8-4                 \n",
       " [91] compiler_4.2.1                tibble_3.2.0                 \n",
       " [93] KernSmooth_2.23-20            crayon_1.5.2                 \n",
       " [95] htmltools_0.5.4               mgcv_1.8-40                  \n",
       " [97] later_1.3.0                   tidyr_1.3.0                  \n",
       " [99] DBI_1.1.3                     ExperimentHub_2.4.0          \n",
       "[101] dbplyr_2.3.1                  MASS_7.3-58.1                \n",
       "[103] rappdirs_0.3.3                car_3.1-0                    \n",
       "[105] Matrix_1.5-1                  cli_3.6.0                    \n",
       "[107] parallel_4.2.1                metapod_1.6.0                \n",
       "[109] pkgconfig_2.0.3               IRdisplay_1.1                \n",
       "[111] spatstat.sparse_3.0-2         vipor_0.4.5                  \n",
       "[113] dqrng_0.3.0                   XVector_0.38.0               \n",
       "[115] stringr_1.5.0                 digest_0.6.31                \n",
       "[117] sctransform_0.3.5             RcppAnnoy_0.0.19             \n",
       "[119] spatstat.data_3.0-1           Biostrings_2.66.0            \n",
       "[121] leiden_0.4.3                  uwot_0.1.14                  \n",
       "[123] edgeR_3.40.2                  DelayedMatrixStats_1.20.0    \n",
       "[125] curl_5.0.0                    shiny_1.7.2                  \n",
       "[127] nlme_3.1-159                  lifecycle_1.0.3              \n",
       "[129] jsonlite_1.8.4                carData_3.0-5                \n",
       "[131] BiocNeighbors_1.16.0          limma_3.54.2                 \n",
       "[133] fansi_1.0.4                   pillar_1.8.1                 \n",
       "[135] lattice_0.20-45               KEGGREST_1.38.0              \n",
       "[137] fastmap_1.1.1                 httr_1.4.5                   \n",
       "[139] survival_3.4-0                interactiveDisplayBase_1.34.0\n",
       "[141] glue_1.6.2                    UpSetR_1.4.0                 \n",
       "[143] bluster_1.8.0                 BiocVersion_3.15.2           \n",
       "[145] bit_4.0.5                     stringi_1.7.12               \n",
       "[147] blob_1.2.3                    textshaping_0.3.6            \n",
       "[149] BiocSingular_1.14.0           AnnotationHub_3.4.0          \n",
       "[151] memoise_2.0.1                 IRkernel_1.3                 \n",
       "[153] irlba_2.3.5.1                 future.apply_1.9.1           "
      ]
     },
     "metadata": {},
     "output_type": "display_data"
    }
   ],
   "source": [
    "sessionInfo()"
   ]
  }
 ],
 "metadata": {
  "kernelspec": {
   "display_name": "R",
   "language": "R",
   "name": "ir"
  },
  "language_info": {
   "codemirror_mode": "r",
   "file_extension": ".r",
   "mimetype": "text/x-r-source",
   "name": "R",
   "pygments_lexer": "r",
   "version": "4.2.1"
  }
 },
 "nbformat": 4,
 "nbformat_minor": 5
}
