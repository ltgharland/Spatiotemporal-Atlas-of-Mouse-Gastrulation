{
 "cells": [
  {
   "cell_type": "code",
   "execution_count": 2,
   "id": "2736b184-0c5f-4b6d-ad30-8d529cc60009",
   "metadata": {},
   "outputs": [],
   "source": [
    "suppressPackageStartupMessages({ \n",
    "    library(data.table) \n",
    "    library(dplyr) \n",
    "    library(ggplot2) \n",
    "    library(SingleCellExperiment)\n",
    "    library(dplyr)\n",
    "    library(celldex)\n",
    "    library(SingleR)\n",
    "    library(RColorBrewer)\n",
    "    library(scater) \n",
    "    library(StabMap) \n",
    "    library(scran) \n",
    "    library(harmony) \n",
    "    library(patchwork)\n",
    "    library(Seurat)\n",
    "    library(plotly)\n",
    "    library(pheatmap)\n",
    "    library(batchelor)\n",
    "    library(ggpubr)\n",
    "    library(cowplot)\n",
    "    library(viridis)\n",
    "    library(Matrix)\n",
    "})"
   ]
  },
  {
   "cell_type": "markdown",
   "id": "eb9d92d0-59ff-4866-a1d0-6cc2f398fb5c",
   "metadata": {
    "jp-MarkdownHeadingCollapsed": true,
    "tags": []
   },
   "source": [
    "## List of Cell Types"
   ]
  },
  {
   "cell_type": "code",
   "execution_count": 3,
   "id": "a3c688c8-31de-4157-b050-c79c8a43f1fa",
   "metadata": {},
   "outputs": [],
   "source": [
    "#############################\n",
    "######### MESODERM ##########\n",
    "#############################\n",
    "\n",
    "## list mesoderm posterior --> anterior along the primitive streak\n",
    "\n",
    "Early_gastrula <- c(\"ExE ectoderm\",\n",
    "                    \"Epiblast\",\n",
    "                    \"Caudal epiblast\",\n",
    "                    \"Primitive Streak\",\n",
    "                    \"Nascent mesoderm\",\n",
    "                    \"PGC\")\n",
    "\n",
    "yolksac_blood <- c(\"Haematoendothelial progenitors\", \n",
    "                   \"EMP\", \n",
    "                   \"MEP\", \n",
    "                   \"Megakaryocyte progenitors\", \n",
    "                   \"Blood progenitors\", \n",
    "                   \"Erythroid\", \n",
    "                   \"Chorioallantoic-derived erythroid progenitors\")\n",
    "\n",
    "endo <- c(\"YS endothelium\",\n",
    "          \"Venous endothelium\",\n",
    "          \"Embryo proper endothelium\",\n",
    "          \"Allantois endothelium\")\n",
    "    \n",
    "yolksac_other <- c(\"YS mesothelium-derived endothelial progenitors\",\n",
    "                   \"YS mesothelium\")\n",
    "\n",
    "mesenchymal <- c(\"Embryo proper mesothelium\",\n",
    "                 \"Mesenchyme\")                   \n",
    "                \n",
    "allantois <- c(\"Allantois endothelium\", \n",
    "               \"Allantois\")\n"
   ]
  },
  {
   "cell_type": "code",
   "execution_count": 4,
   "id": "fd2819ec-fbf3-4a1e-a6a3-d43e7f7fdef2",
   "metadata": {},
   "outputs": [],
   "source": [
    "#############################\n",
    "######### MESODERM ##########\n",
    "#############################\n",
    "\n",
    "## list mesoderm posterior --> anterior along the primitive streak\n",
    "\n",
    "Early_gastrula <- c(\"Primitive Streak\",\n",
    "                    \"Nascent mesoderm\",\n",
    "                    \"PGC\")\n",
    "\n",
    "yolksac_blood <- c(\"Haematoendothelial progenitors\", \n",
    "                   \"EMP\", \n",
    "                   \"MEP\", \n",
    "                   \"Megakaryocyte progenitors\", \n",
    "                   \"Blood progenitors\", \n",
    "                   \"Erythroid\", \n",
    "                   \"Chorioallantoic-derived erythroid progenitors\")\n",
    "\n",
    "endo <- c(\"YS endothelium\",\n",
    "          \"Venous endothelium\",\n",
    "          \"Embryo proper endothelium\",\n",
    "          \"Allantois endothelium\")\n",
    "    \n",
    "yolksac_other <- c(\"YS mesothelium-derived endothelial progenitors\",\n",
    "                   \"YS mesothelium\")\n",
    "\n",
    "yolksac_other_2 <- c(\"YS mesothelium-derived endothelial progenitors\"\n",
    "                   #\"YS mesothelium\"\n",
    "                     )\n",
    "\n",
    "mesenchymal <- c(\"Embryo proper mesothelium\",\n",
    "                 \"Mesenchyme\")                   \n",
    "                \n",
    "allantois <- c(\"Allantois\" \n",
    "               #\"Allantois endothelium\"\n",
    "              )\n",
    "\n",
    "ExE_mesoderm <- c(yolksac_blood, endo, yolksac_other, mesenchymal, allantois) \n",
    "\n",
    "Cranial_mesoderm <- c(\"Cranial mesoderm\")\n",
    "\n",
    "Cardiac_mesoderm <- c(\"Pharyngeal mesoderm\",\n",
    "                  \"Cardiopharyngeal progenitors\",\n",
    "                  \"Cardiopharyngeal progenitors SHF\",\n",
    "                  \"Anterior cardiopharyngeal progenitors\",\n",
    "                  \"Cardiopharyngeal progenitors FHF\",\n",
    "                  \"Cardiomyocytes FHF 1\",\n",
    "                  \"Cardiomyocytes FHF 2\",\n",
    "                  \"Cardiomyocytes SHF 1\",\n",
    "                  \"Cardiomyocytes SHF 2\",\n",
    "                  \"Epicardium\",\n",
    "                  \"Endocardium\")\n",
    "\n",
    "Lateral_plate_mesoderm <- c(\"Lateral plate mesoderm\",\n",
    "                           \"Limb mesoderm\",\n",
    "                           \"Forelimb\")\n",
    "\n",
    "Intermediate_mesoderm <- c(\"Intermediate mesoderm\", \"Kidney primordium\")\n",
    "\n",
    "Paraxial_mesoderm <- c(\"Paraxial mesoderm\", \n",
    "                  \"Presomitic mesoderm\", \n",
    "                  \"Somitic mesoderm\",\n",
    "                  \"Anterior somitic tissues\",\n",
    "                  \"Posterior somitic tissues\",\n",
    "                  \"Dermomyotome\", \n",
    "                  \"Endotome\", \n",
    "                  \"Sclerotome\")\n",
    "\n",
    "Axial_mesoderm <- c(\"Caudal mesoderm\", \n",
    "                  \"NMPs\", \n",
    "                  \"NMPs/Mesoderm-biased\",\n",
    "                  \"Node\",\n",
    "                  \"Notochord\")\n",
    "                       \n",
    "Frontonasal_mesenchyme <- c(\"Frontonasal mesenchyme\")\n",
    "\n",
    "mesoderm_list <- c(Early_gastrula,\n",
    "                   ExE_mesoderm, \n",
    "                   Cranial_mesoderm, \n",
    "                   Cardiac_mesoderm, \n",
    "                   Lateral_plate_mesoderm, \n",
    "                   Intermediate_mesoderm, \n",
    "                   Paraxial_mesoderm, \n",
    "                   Axial_mesoderm,\n",
    "                   Frontonasal_mesenchyme)\n",
    "\n",
    "non_ExE_mesoderm_list <- c(Early_gastrula,\n",
    "                   Cranial_mesoderm, \n",
    "                   Cardiac_mesoderm, \n",
    "                   Lateral_plate_mesoderm, \n",
    "                   Intermediate_mesoderm, \n",
    "                   Paraxial_mesoderm, \n",
    "                   Axial_mesoderm,\n",
    "                   Frontonasal_mesenchyme)\n",
    "\n",
    "cardiac_somitic_mesoderm_list <- c(Cranial_mesoderm, \n",
    "                   Cardiac_mesoderm, \n",
    "                   Lateral_plate_mesoderm, \n",
    "                   Intermediate_mesoderm, \n",
    "                   Paraxial_mesoderm, \n",
    "                   Axial_mesoderm,\n",
    "                   Frontonasal_mesenchyme)\n",
    "\n",
    "hemato_endo <- c(yolksac_blood, \n",
    "                   endo, \n",
    "                   yolksac_other_2, \n",
    "                   allantois)"
   ]
  },
  {
   "cell_type": "code",
   "execution_count": 5,
   "id": "52897c55-a24d-4676-b68f-efa124f25b68",
   "metadata": {},
   "outputs": [
    {
     "name": "stdout",
     "output_type": "stream",
     "text": [
      " chr [1:50] \"Primitive Streak\" \"Nascent mesoderm\" \"PGC\" ...\n"
     ]
    }
   ],
   "source": [
    "str(mesoderm_list)"
   ]
  },
  {
   "cell_type": "code",
   "execution_count": 6,
   "id": "9f51abd6-0ef3-4972-82db-9818e9c86dc8",
   "metadata": {},
   "outputs": [],
   "source": [
    "#############################\n",
    "######### ECTODERM ##########\n",
    "#############################\n",
    "\n",
    "Surface_ectoderm <- c(\"Amniotic ectoderm\",\n",
    "                  \"Surface ectoderm\",\n",
    "                  \"Epidermis\",\n",
    "                  \"Placodal ectoderm\",\n",
    "                  \"Otic placode\",\n",
    "                  \"Otic neural progenitors\",\n",
    "                  \"Limb ectoderm\")\n",
    "\n",
    "# list A --> P + D --> V\n",
    "Neural_tube <- c(\"Neural tube\",\n",
    "                \"Optic vesicle\",\n",
    "                \"Early dorsal forebrain progenitors\",\n",
    "                \"Late dorsal forebrain progenitors\",\n",
    "                \"Ventral forebrain progenitors\",\n",
    "                \"Midbrain progenitors\",\n",
    "                \"Dorsal midbrain neurons\",\n",
    "                \"Midbrain/Hindbrain boundary\",\n",
    "                \"Dorsal hindbrain progenitors\", \n",
    "                \"Hindbrain floor plate\",\n",
    "                \"Hindbrain neural progenitors\",\n",
    "                \"Ventral hindbrain progenitors\",\n",
    "                \"Dorsal spinal cord progenitors\",\n",
    "                \"Spinal cord progenitors\")\n",
    "\n",
    "Neural_crest <- c(\"Migratory neural crest\",\n",
    "                \"Branchial arch neural crest\")\n",
    "\n",
    "extra_ectoderm <- c(\"Ectoderm\", \"Non-neural ectoderm\")\n",
    "\n",
    "ectoderm_list <- c(Surface_ectoderm, Neural_tube, Neural_crest, extra_ectoderm, \"Epiblast\", \"Caudal epiblast\")\n",
    "\n"
   ]
  },
  {
   "cell_type": "code",
   "execution_count": 7,
   "id": "9ce3557f-af18-42b9-bc82-34678b822a0a",
   "metadata": {},
   "outputs": [],
   "source": [
    "#############################\n",
    "######### ENDODERM ##########\n",
    "#############################\n",
    "## list endoderm early --> late, anterior --> posterior \n",
    "\n",
    "Primitive_endoderm <- c(\"Parietal endoderm\", \n",
    "                     \"ExE endoderm\",\n",
    "                     \"Visceral endoderm\")\n",
    "\n",
    "Definitive_endoderm <- c(\"Anterior Primitive Streak\",\n",
    "                 \"Gut tube\",\n",
    "                 \"Foregut\",\n",
    "                 \"Midgut\",\n",
    "                 \"Hindgut\",\n",
    "                 \"Pharyngeal endoderm\",\n",
    "                 \"Thyroid primordium\")\n",
    "\n",
    "endoderm_list <- c(Definitive_endoderm, Primitive_endoderm)"
   ]
  },
  {
   "cell_type": "code",
   "execution_count": 8,
   "id": "e3a49c78-d5c1-4807-b259-1d13367ed815",
   "metadata": {},
   "outputs": [
    {
     "name": "stdout",
     "output_type": "stream",
     "text": [
      " chr [1:27] \"Amniotic ectoderm\" \"Surface ectoderm\" \"Epidermis\" ...\n"
     ]
    }
   ],
   "source": [
    "str(ectoderm_list)"
   ]
  },
  {
   "cell_type": "code",
   "execution_count": 9,
   "id": "8365e12e-af89-43b7-a7e2-25f5726b8523",
   "metadata": {},
   "outputs": [
    {
     "name": "stdout",
     "output_type": "stream",
     "text": [
      " chr [1:87] \"Amniotic ectoderm\" \"Surface ectoderm\" \"Epidermis\" ...\n"
     ]
    }
   ],
   "source": [
    "all_germlayer_list <- c(ectoderm_list, mesoderm_list, endoderm_list)\n",
    "\n",
    "str(all_germlayer_list)"
   ]
  },
  {
   "cell_type": "code",
   "execution_count": 10,
   "id": "599aee9c-4f61-4eff-a9ba-73fac5e02841",
   "metadata": {},
   "outputs": [],
   "source": [
    "all_cells <- c(\"Allantois\", \"Allantois endothelium\", \"Amniotic ectoderm\", \"Anterior cardiopharyngeal progenitors\",\n",
    "               \"Anterior Primitive Streak\", \"Anterior somitic tissues\", \"Blood progenitors\",\n",
    "               \"Branchial arch neural crest\", \"Cardiomyocytes FHF 1\", \"Cardiomyocytes FHF 2\", \"Cardiomyocytes SHF 1\",\n",
    "               \"Cardiomyocytes SHF 2\", \"Cardiopharyngeal progenitors\", \"Cardiopharyngeal progenitors FHF\",\n",
    "               \"Cardiopharyngeal progenitors SHF\", \"Caudal epiblast\", \"Caudal mesoderm\",\n",
    "               \"Chorioallantoic-derived erythroid progenitors\", \"Cranial mesoderm\", \"Dermomyotome\",\n",
    "               \"Dorsal hindbrain progenitors\", \"Dorsal midbrain neurons\", \"Dorsal spinal cord progenitors\",\n",
    "               \"Early dorsal forebrain progenitors\", \"Ectoderm\", \"Embryo proper endothelium\",\n",
    "               \"Embryo proper mesothelium\", \"EMP\", \"Endocardium\", \"Endotome\", \"Epiblast\", \"Epicardium\", \"Epidermis\",\n",
    "               \"Erythroid\", \"ExE ectoderm\", \"ExE endoderm\", \"Foregut\", \"Forelimb\", \"Frontonasal mesenchyme\",\n",
    "               \"Gut tube\", \"Haematoendothelial progenitors\", \"Hindbrain floor plate\", \"Hindbrain neural progenitors\",\n",
    "               \"Hindgut\", \"Intermediate mesoderm\", \"Kidney primordium\", \"Late dorsal forebrain progenitors\",\n",
    "               \"Lateral plate mesoderm\", \"Limb ectoderm\", \"Limb mesoderm\", \"Megakaryocyte progenitors\", \"MEP\",\n",
    "               \"Mesenchyme\", \"Midbrain progenitors\", \"Midbrain/Hindbrain boundary\", \"Midgut\", \"Migratory neural crest\",\n",
    "               \"Nascent mesoderm\", \"Neural tube\", \"NMPs\", \"NMPs/Mesoderm-biased\", \"Node\", \"Non-neural ectoderm\",\n",
    "               \"Notochord\", \"Optic vesicle\", \"Otic neural progenitors\", \"Otic placode\", \"Paraxial mesoderm\",\n",
    "               \"Parietal endoderm\", \"PGC\", \"Pharyngeal endoderm\", \"Pharyngeal mesoderm\", \"Placodal ectoderm\",\n",
    "               \"Posterior somitic tissues\", \"Presomitic mesoderm\", \"Primitive Streak\", \"Sclerotome\", \"Somitic mesoderm\",\n",
    "               \"Spinal cord progenitors\", \"Surface ectoderm\", \"Thyroid primordium\", \"Venous endothelium\",\n",
    "               \"Ventral forebrain progenitors\", \"Ventral hindbrain progenitors\", \"Visceral endoderm\",\n",
    "               \"YS endothelium\", \"YS mesothelium\", \"YS mesothelium-derived endothelial progenitors\")"
   ]
  },
  {
   "cell_type": "code",
   "execution_count": 11,
   "id": "11d7ae00-bb02-4f04-854f-2fb5a79c2de7",
   "metadata": {},
   "outputs": [
    {
     "name": "stdout",
     "output_type": "stream",
     "text": [
      " chr [1:88] \"Allantois\" \"Allantois endothelium\" \"Amniotic ectoderm\" ...\n"
     ]
    }
   ],
   "source": [
    "str(all_cells)"
   ]
  },
  {
   "cell_type": "code",
   "execution_count": 12,
   "id": "4e86faa1-c566-4288-968a-407383419f05",
   "metadata": {},
   "outputs": [
    {
     "name": "stdout",
     "output_type": "stream",
     "text": [
      " [1] \"Allantois\"                                    \n",
      " [2] \"Allantois endothelium\"                        \n",
      " [3] \"Amniotic ectoderm\"                            \n",
      " [4] \"Anterior cardiopharyngeal progenitors\"        \n",
      " [5] \"Anterior Primitive Streak\"                    \n",
      " [6] \"Anterior somitic tissues\"                     \n",
      " [7] \"Blood progenitors\"                            \n",
      " [8] \"Branchial arch neural crest\"                  \n",
      " [9] \"Cardiomyocytes FHF 1\"                         \n",
      "[10] \"Cardiomyocytes FHF 2\"                         \n",
      "[11] \"Cardiomyocytes SHF 1\"                         \n",
      "[12] \"Cardiomyocytes SHF 2\"                         \n",
      "[13] \"Cardiopharyngeal progenitors\"                 \n",
      "[14] \"Cardiopharyngeal progenitors FHF\"             \n",
      "[15] \"Cardiopharyngeal progenitors SHF\"             \n",
      "[16] \"Caudal epiblast\"                              \n",
      "[17] \"Caudal mesoderm\"                              \n",
      "[18] \"Chorioallantoic-derived erythroid progenitors\"\n",
      "[19] \"Cranial mesoderm\"                             \n",
      "[20] \"Dermomyotome\"                                 \n",
      "[21] \"Dorsal hindbrain progenitors\"                 \n",
      "[22] \"Dorsal midbrain neurons\"                      \n",
      " [1] \"Dorsal spinal cord progenitors\"     \"Early dorsal forebrain progenitors\"\n",
      " [3] \"Ectoderm\"                           \"Embryo proper endothelium\"         \n",
      " [5] \"Embryo proper mesothelium\"          \"EMP\"                               \n",
      " [7] \"Endocardium\"                        \"Endotome\"                          \n",
      " [9] \"Epiblast\"                           \"Epicardium\"                        \n",
      "[11] \"Epidermis\"                          \"Erythroid\"                         \n",
      "[13] \"ExE ectoderm\"                       \"ExE endoderm\"                      \n",
      "[15] \"Foregut\"                            \"Forelimb\"                          \n",
      "[17] \"Frontonasal mesenchyme\"             \"Gut tube\"                          \n",
      "[19] \"Haematoendothelial progenitors\"     \"Hindbrain floor plate\"             \n",
      "[21] \"Hindbrain neural progenitors\"       \"Hindgut\"                           \n",
      " [1] \"Intermediate mesoderm\"             \"Kidney primordium\"                \n",
      " [3] \"Late dorsal forebrain progenitors\" \"Lateral plate mesoderm\"           \n",
      " [5] \"Limb ectoderm\"                     \"Limb mesoderm\"                    \n",
      " [7] \"Megakaryocyte progenitors\"         \"MEP\"                              \n",
      " [9] \"Mesenchyme\"                        \"Midbrain progenitors\"             \n",
      "[11] \"Midbrain/Hindbrain boundary\"       \"Midgut\"                           \n",
      "[13] \"Migratory neural crest\"            \"Nascent mesoderm\"                 \n",
      "[15] \"Neural tube\"                       \"NMPs\"                             \n",
      "[17] \"NMPs/Mesoderm-biased\"              \"Node\"                             \n",
      "[19] \"Non-neural ectoderm\"               \"Notochord\"                        \n",
      "[21] \"Optic vesicle\"                     \"Otic neural progenitors\"          \n",
      " [1] \"Otic placode\"                                  \n",
      " [2] \"Paraxial mesoderm\"                             \n",
      " [3] \"Parietal endoderm\"                             \n",
      " [4] \"PGC\"                                           \n",
      " [5] \"Pharyngeal endoderm\"                           \n",
      " [6] \"Pharyngeal mesoderm\"                           \n",
      " [7] \"Placodal ectoderm\"                             \n",
      " [8] \"Posterior somitic tissues\"                     \n",
      " [9] \"Presomitic mesoderm\"                           \n",
      "[10] \"Primitive Streak\"                              \n",
      "[11] \"Sclerotome\"                                    \n",
      "[12] \"Somitic mesoderm\"                              \n",
      "[13] \"Spinal cord progenitors\"                       \n",
      "[14] \"Surface ectoderm\"                              \n",
      "[15] \"Thyroid primordium\"                            \n",
      "[16] \"Venous endothelium\"                            \n",
      "[17] \"Ventral forebrain progenitors\"                 \n",
      "[18] \"Ventral hindbrain progenitors\"                 \n",
      "[19] \"Visceral endoderm\"                             \n",
      "[20] \"YS endothelium\"                                \n",
      "[21] \"YS mesothelium\"                                \n",
      "[22] \"YS mesothelium-derived endothelial progenitors\"\n"
     ]
    }
   ],
   "source": [
    "# Split the character vector into four smaller vectors\n",
    "split_size <- 22\n",
    "char_vector_1 <- all_cells[1:split_size]\n",
    "char_vector_2 <- all_cells[(split_size + 1):(2 * split_size)]\n",
    "char_vector_3 <- all_cells[(2 * split_size + 1):(3 * split_size)]\n",
    "char_vector_4 <- all_cells[(3 * split_size + 1):length(all_cells)]\n",
    "\n",
    "# Print the smaller vectors\n",
    "print(char_vector_1)\n",
    "print(char_vector_2)\n",
    "print(char_vector_3)\n",
    "print(char_vector_4)"
   ]
  },
  {
   "cell_type": "code",
   "execution_count": 13,
   "id": "c69aa8c5-6c0a-422a-a8f8-783e57faf3f6",
   "metadata": {},
   "outputs": [
    {
     "name": "stdout",
     "output_type": "stream",
     "text": [
      "[1] \"ExE ectoderm\"\n"
     ]
    }
   ],
   "source": [
    "not_in_both <- setdiff(unique(c(all_cells, all_germlayer_list)), intersect(all_cells, all_germlayer_list))\n",
    "\n",
    "# Display the names that do not appear in both lists\n",
    "print(not_in_both)"
   ]
  },
  {
   "cell_type": "code",
   "execution_count": 14,
   "id": "47cb6fd3-4560-446a-b162-038e72556e07",
   "metadata": {},
   "outputs": [],
   "source": [
    "ordered_cell_types_post_QC <- c(\n",
    "    # extraembryonic\n",
    "    \n",
    "  \"proximal ExE ectoderm #1\",\n",
    "  \"proximal ExE ectoderm #2\",\n",
    "\n",
    "  \"distal ExE ectoderm #1\",\n",
    "  \"distal ExE ectoderm #2\",\n",
    "  \"ExE ectoderm #3\",\n",
    "    \n",
    "  \"visceral endoderm #1\",\n",
    "\n",
    "  \"visceral endoderm #2\",\n",
    "        \"ExE endoderm\",\n",
    "    \n",
    "  # Ectoderm\n",
    "\n",
    "  \"brain #1\",\n",
    "  \"brain #2\",\n",
    "  \"brain #3\",\n",
    "  \"brain #6\",\n",
    "  \"brain #5\",\n",
    "  \"brain #4\",\n",
    "\n",
    "          \"spinal cord\",\n",
    "\n",
    "  \"otic placode\",\n",
    "  \"surface ectoderm #1\",\n",
    "  \"surface ectoderm #2\",\n",
    "\n",
    "  \"neural crest #1\",\n",
    "  \"neural crest #2\",\n",
    "  \"neural crest #3\",\n",
    "\n",
    "\n",
    "    \n",
    "  # Mesoderm\n",
    "# Early\n",
    "      \"epiblast\",\n",
    "      \"caudal epiblast\",\n",
    "      \"rostral epiblast\",\n",
    "\n",
    "    \"primitive streak\",\n",
    "  \"ExE mesoderm\",\n",
    "  \"mesodermal wings\",\n",
    "# LPM\n",
    "      \"lateral plate mesoderm\",\n",
    "\n",
    "  \"posterior somatic LP mesoderm #1\",\n",
    "          \"posterior somatic LP mesoderm #2\",\n",
    "    \n",
    "      \"mesenchyme\",\n",
    "          \"allantois\",\n",
    "    \n",
    "# blood\n",
    "       \"blood\",\n",
    "  \"haematoendothelial\",\n",
    "\n",
    "     \"macrophage\",\n",
    "    \n",
    "# endo\n",
    "    \"endothelium #1\",\n",
    "  \"endothelium #2\",\n",
    "\n",
    "\n",
    "  \n",
    "# heart\n",
    "  \"cardiomyocytes\",\n",
    "  \"splanchnic LP mesoderm #1\",\n",
    "  \"splanchnic LP mesoderm #2\",\n",
    "    \n",
    "# paraxial\n",
    "      \"anterior somitic tissue\",\n",
    "  \"posterior somitic tissue\",\n",
    "  \"paraxial mesoderm\",\n",
    "    \"presomitic mesoderm\",\n",
    "\n",
    "    \n",
    "    \n",
    "\n",
    "\n",
    "      # Endoderm\n",
    "\n",
    "  \"definitive endoderm\",\n",
    "  \"hindgut\",\n",
    "  \"midgut\",\n",
    "\n",
    "  \"ventral foregut\",\n",
    "  \"dorsal foregut\"\n",
    "  \n",
    "  # Miscellaneous\n",
    "\n",
    ")"
   ]
  },
  {
   "cell_type": "code",
   "execution_count": 15,
   "id": "33ce8183-0310-49e3-8e3f-c45b5395f7d5",
   "metadata": {},
   "outputs": [],
   "source": [
    "ordered_cell_types_extended <- c(\n",
    "    # extraembryonic\n",
    "    \n",
    "  \"ExE ectoderm\",\n",
    "    \"Visceral endoderm\",\n",
    "  \"ExE endoderm\",\n",
    "  \"Parietal endoderm\",\n",
    "    \n",
    "  # Ectoderm\n",
    "\n",
    "  \n",
    "    \n",
    "      \"Ventral hindbrain progenitors\",\n",
    "      \"Midbrain/Hindbrain boundary\",\n",
    "      \"Hindbrain neural progenitors\",\n",
    "  \"Optic vesicle\",\n",
    "  \"Ventral forebrain progenitors\",\n",
    "  \"Early dorsal forebrain progenitors\",\n",
    "  \"Late dorsal forebrain progenitors\",\n",
    "\n",
    "  \"Hindbrain floor plate\",\n",
    "    \n",
    "  \"Midbrain progenitors\",\n",
    "  \"Dorsal midbrain neurons\",\n",
    "\n",
    "  \"Dorsal hindbrain progenitors\",\n",
    "\n",
    "\n",
    "  \"Neural tube\",\n",
    " \n",
    "  \"Frontonasal mesenchyme\",\n",
    "  \"Spinal cord progenitors\",\n",
    "  \"Dorsal spinal cord progenitors\",\n",
    "  \"Non-neural ectoderm\",\n",
    "  \"Surface ectoderm\",\n",
    "  \"Epidermis\",\n",
    "  \"Limb ectoderm\",\n",
    "  \"Amniotic ectoderm\",\n",
    "  \"Placodal ectoderm\",\n",
    "  \"Otic placode\",\n",
    "  \"Otic neural progenitors\",\n",
    "    \n",
    "\n",
    "  \"Branchial arch neural crest\",\n",
    "     \"Migratory neural crest\",\n",
    "    \n",
    "  # Mesoderm\n",
    "    # EARLY\n",
    "    \"Ectoderm\",\n",
    "      \"Epiblast\",\n",
    "  \"Caudal epiblast\",\n",
    "      \"Primitive Streak\",\n",
    "\n",
    "     \"Nascent mesoderm\",\n",
    "  \"Intermediate mesoderm\",\n",
    "  \"Caudal mesoderm\",\n",
    "    \n",
    "    #LPM\n",
    "      \"Lateral plate mesoderm\",\n",
    "\n",
    "  \"Limb mesoderm\",\n",
    "  \"Forelimb\",\n",
    "  \"Kidney primordium\",\n",
    "      \"Mesenchyme\",\n",
    "    \n",
    "          \"Allantois\",\n",
    "    # BLOOD\n",
    "\n",
    "  \"Blood progenitors\",\n",
    "  \"Erythroid\",\n",
    "  \"Chorioallantoic-derived erythroid progenitors\",\n",
    "  \"Megakaryocyte progenitors\",\n",
    "  \"MEP\",\n",
    "  \"EMP\",\n",
    "     \"Haematoendothelial progenitors\",\n",
    "    \n",
    "    #ENDO\n",
    "\n",
    "  \"YS endothelium\",\n",
    "  \"YS mesothelium-derived endothelial progenitors\",\n",
    "  \"Allantois endothelium\",\n",
    "  \"Embryo proper endothelium\",\n",
    "  \"Venous endothelium\",\n",
    "  \"Endocardium\",\n",
    "\n",
    "\n",
    "    \n",
    "    # HEART\n",
    "      \"Cardiopharyngeal progenitors FHF\",\n",
    "  \"Cardiomyocytes FHF 1\",\n",
    "  \"Cardiomyocytes FHF 2\",\n",
    "  \"Cardiopharyngeal progenitors SHF\",\n",
    "  \"Cardiomyocytes SHF 1\",\n",
    "  \"Cardiomyocytes SHF 2\",\n",
    "     \"Pharyngeal mesoderm\",\n",
    "  \"Cardiopharyngeal progenitors\",\n",
    "  \"Anterior cardiopharyngeal progenitors\",\n",
    "      \"Epicardium\",\n",
    "    \n",
    "    #PARAXIAL\n",
    "         \"Anterior somitic tissues\",\n",
    "      \"Presomitic mesoderm\",\n",
    "  \"Somitic mesoderm\",\n",
    " \n",
    "  \"Paraxial mesoderm\",\n",
    "       \"Endotome\",\n",
    "\n",
    "\n",
    "  \"Sclerotome\",\n",
    "  \"Dermomyotome\",\n",
    "         \"Posterior somitic tissues\",\n",
    "    \n",
    "  \"PGC\",\n",
    "  \"NMPs/Mesoderm-biased\",\n",
    "  \"NMPs\",\n",
    "  \"Node\",\n",
    "  \"Notochord\",\n",
    " \n",
    "\n",
    "\n",
    " \n",
    "  \"Cranial mesoderm\",\n",
    "  \"YS mesothelium\",\n",
    "  \"Embryo proper mesothelium\",\n",
    "\n",
    " \n",
    "    \n",
    "  # Endoderm\n",
    "  \"Anterior Primitive Streak\",\n",
    "\n",
    "  \"Gut tube\",\n",
    "  \"Hindgut\",\n",
    "  \"Midgut\",\n",
    "  \"Foregut\",\n",
    "  \"Pharyngeal endoderm\",\n",
    "  \"Thyroid primordium\"\n",
    "  \n",
    "\n",
    ")\n"
   ]
  },
  {
   "cell_type": "markdown",
   "id": "b2776efa-f332-4aa8-8a3d-a07318f7fd1a",
   "metadata": {
    "jp-MarkdownHeadingCollapsed": true,
    "tags": []
   },
   "source": [
    "## Celltype Colours"
   ]
  },
  {
   "cell_type": "code",
   "execution_count": 16,
   "id": "956097ed-425c-4c90-b2bb-3e1e46184729",
   "metadata": {},
   "outputs": [],
   "source": [
    "embryo_colors <- c(\n",
    "  \"embryo_1\" = \"#1f78b4\",  # shades of blue\n",
    "  \"embryo_2\" = \"#a6cee3\",  # shades of blue\n",
    "  \"embryo_3\" = \"#33a02c\",  # shades of green\n",
    "  \"embryo_4\" = \"#b2df8a\",  # shades of green\n",
    "  \"embryo_5\" = \"#ff7f00\",  # shades of orange\n",
    "  \"embryo_6\" = \"#fdbf6f\",  # shades of orange\n",
    "  \"embryo_7\" = \"#ffcc00\"   # shades of orange\n",
    ")\n"
   ]
  },
  {
   "cell_type": "code",
   "execution_count": 17,
   "id": "87284418-ff47-49bc-87d9-fb3624bd0ccb",
   "metadata": {},
   "outputs": [],
   "source": [
    "stage_ID_colors <- c(\n",
    "  \"embryo_1\" = \"#1f78b4\",  # shades of blue\n",
    "  \"embryo_2\" = \"#a6cee3\",  # shades of blue\n",
    "  \"embryo_3\" = \"#33a02c\",  # shades of green\n",
    "  \"embryo_4\" = \"#b2df8a\",  # shades of green\n",
    "  \"embryo_5\" = \"#ff7f00\",  # shades of orange\n",
    "  \"embryo_6\" = \"#fdbf6f\",  # shades of orange\n",
    "  \"embryo_7\" = \"#ffcc00\",   # shades of orange\n",
    "    \n",
    "\"E6.5\" = \"#F21A00\",\n",
    "\"E6.75\" = \"#EC4B00\",\n",
    "\"E7.0\" = \"#E67D00\",\n",
    "\"E7.25\" = \"#E1AF00\",\n",
    "\"E7.5\" = \"#E4B80E\",\n",
    "\"E7.75\"=\"#E7C21C\",\n",
    "\"E8.0\" = \"#EBCC2A\",\n",
    "\"E8.25\" = \"#C4C55D\",\n",
    "\"E8.5\" = \"#9EBE91\",\n",
    "\"E8.75\" = \"#78B7C5\",\n",
    "\"E9.0\" = \"#3399FF\",\n",
    "\"E9.25\"=\"#297ACC\",\n",
    "\"E9.5\"=\"#2162A3\",\n",
    "\"Mixed gastrulation\" = \"#BEBEBE\"\n",
    ")\n"
   ]
  },
  {
   "cell_type": "code",
   "execution_count": 18,
   "id": "56ea5973-1541-423d-a3cf-bf9c5bc170e4",
   "metadata": {},
   "outputs": [],
   "source": [
    "post_QC_cluster_colors_E6_E7 <- c(\n",
    "  \"failed_qc\" = \"#CCCCCC\",\n",
    "  \"0\" = \"#7FC97F\",   # Green\n",
    "  \"1\" = \"#BEAED4\",   # Purple\n",
    "  \"2\" = \"#FDC086\",   # Orange\n",
    "  \"3\" = \"#FFFF99\",   # Yellow\n",
    "  \"4\" = \"#386CB0\",   # Blue\n",
    "  \"5\" = \"#F0027F\",   # Red\n",
    "  \"6\" = \"#ADD8E6\",   # Light blue (adjusted)\n",
    "  \"7\" = \"#444444\",   # Dark grey (adjusted)\n",
    "  \"8\" = \"#FFC0CB\",   # Pale pink (adjusted)\n",
    "  \"9\" = \"#D95F02\",   # Dark orange\n",
    "  \"10\" = \"#7570B3\",  # Dark purple\n",
    "  \"11\" = \"#800000\",  # Maroon (adjusted)\n",
    "  \"12\" = \"#66A61E\",  # Dark green\n",
    "  \"13\" = \"#E6AB02\",  # Dark yellow\n",
    "  \"14\" = \"#FF7F00\",  # Orange\n",
    "  \"15\" = \"#6A3D9A\"   # Dark purple (adjusted)\n",
    ")\n"
   ]
  },
  {
   "cell_type": "code",
   "execution_count": 19,
   "id": "d3ede8bf-542e-4fbc-8c28-a26394caacf7",
   "metadata": {},
   "outputs": [],
   "source": [
    "post_QC_cluster_colors_E8 <- c(\n",
    "  \"failed_qc\" = \"#CCCCCC\",\n",
    "  \"0\" = \"#7FC97F\",    # Green\n",
    "  \"1\" = \"#BEAED4\",    # Purple\n",
    "  \"2\" = \"#FDC086\",    # Orange\n",
    "  \"3\" = \"#FFFF99\",    # Yellow\n",
    "  \"4\" = \"#386CB0\",    # Blue\n",
    "  \"5\" = \"#F0027F\",    # Red\n",
    "  \"6\" = \"#ADD8E6\",    # Light blue\n",
    "  \"7\" = \"#444444\",    # Dark grey\n",
    "  \"8\" = \"#FFC0CB\",    # Pale pink\n",
    "  \"9\" = \"#D95F02\",    # Dark orange\n",
    "  \"10\" = \"#7570B3\",   # Dark purple\n",
    "  \"11\" = \"#800000\",   # Maroon\n",
    "  \"12\" = \"#66A61E\",   # Dark green\n",
    "  \"13\" = \"#E6AB02\",   # Dark yellow\n",
    "  \"14\" = \"#FF7F00\",   # Orange\n",
    "  \"15\" = \"#6A3D9A\",   # Dark purple\n",
    "  \"16\" = \"#1F78B4\",   # Medium blue\n",
    "  \"17\" = \"#33A02C\",   # Green (adjusted)\n",
    "  \"18\" = \"#FB9A99\",   # Light red\n",
    "  \"19\" = \"#E31A1C\",   # Red (adjusted)\n",
    "  \"20\" = \"#FDBF6F\",   # Light orange\n",
    "  \"21\" = \"#CAB2D6\",   # Lavender\n",
    "  \"22\" = \"#B2DF8A\",   # Light green (adjusted)\n",
    "  \"23\" = \"#B15928\",   # Brown\n",
    "  \"24\" = \"#FBB4AE\",   # Light pink\n",
    "  \"25\" = \"#FFD92F\",   # Yellow (adjusted)\n",
    "  \"26\" = \"#A6CEE3\",   # Light blue (adjusted)\n",
    "  \"27\" = \"#F0E442\",   # Yellow (adjusted)\n",
    "  \"28\" = \"#FFEDA0\",   # Light orange (adjusted)\n",
    "  \"29\" = \"#1B9E77\",   # Dark green (adjusted)\n",
    "  \"30\" = \"#FD8D3C\",   # Dark orange (adjusted)\n",
    "  \"31\" = \"#800080\",   # Purple (adjusted)\n",
    "  \"32\" = \"#000000\"    # Black\n",
    ")"
   ]
  },
  {
   "cell_type": "code",
   "execution_count": 20,
   "id": "5848f66d-408d-4d55-b7c4-a231d98e5937",
   "metadata": {},
   "outputs": [],
   "source": [
    "post_QC_celltype_colours <- c(\n",
    "  \"failed_qc\" = \"#CCCCCC\",\n",
    "  \"rostral epiblast\" = \"#FFA07A\",   # Light Salmon\n",
    "  \"ExE mesoderm\" = \"#8A2BE2\",   # Blue Violet \n",
    "  \"primitive streak\" = \"#FF6347\",   # Tomato\n",
    "  \"distal ExE ectoderm #1\" = \"#FFD700\",   # Gold\n",
    "  \"visceral endoderm #1\" = \"#00BFFF\",   # Deep Sky Blue\n",
    "  \"caudal epiblast\" = \"#FF4500\",   # Orange Red\n",
    "  \"epiblast\" = \"#87CEEB\",   # Sky Blue\n",
    "  \"proximal ExE ectoderm #2\" = \"#A9A9A9\",   # Dark Gray\n",
    "  \"proximal ExE ectoderm #1\" = \"#FF69B4\",   # Hot Pink\n",
    "  \"distal ExE ectoderm #2\" = \"#FF8C00\",   # Dark Orange\n",
    "  \"ExE endoderm\" = \"#9400D3\",  # Dark Violet\n",
    "  \"visceral endoderm #2\" = \"#800000\",  # Maroon\n",
    "  \"haematoendothelial\" = \"#556B2F\",  # Dark Olive Green\n",
    "  \"definitive endoderm\" = \"#8B4513\",  # Saddle Brown\n",
    "  \"ExE ectoderm #3\" = \"#FF4500\",  # Orange Red\n",
    "  \"mesodermal wings\" = \"#9932CC\",   # Dark Orchid\n",
    "  \"endothelium #1\" = \"#3CB371\",    # Medium Sea Green\n",
    "  \"spinal cord\" = \"#9400D3\",    # Dark Violet\n",
    "  \"blood\" = \"#FF6347\",    # Tomato\n",
    "  \"anterior somitic tissue\" = \"#FFD700\",    # Gold\n",
    "  \"lateral plate mesoderm\" = \"#4169E1\",    # Royal Blue\n",
    "  \"brain #1\" = \"#FF0000\",    # Red\n",
    "  \"posterior somitic tissue\" = \"#87CEEB\",    # Sky Blue\n",
    "  \"brain #2\" = \"#A9A9A9\",    # Dark Grey\n",
    "  \"brain #3\" = \"#FF69B4\",    # Hot Pink\n",
    "  \"cardiomyocytes\" = \"#FF8C00\",    # Dark Orange\n",
    "  \"posterior somatic LP mesoderm #2\" = \"#8A2BE2\",   # Blue Violet\n",
    "  \"hindgut\" = \"#800000\",   # Maroon\n",
    "  \"midgut\" = \"#556B2F\",   # Dark Olive Green\n",
    "  \"neural crest #1\" = \"#8B4513\",   # Saddle Brown\n",
    "  \"mesenchyme\" = \"#FF6347\",   # Tomato\n",
    "  \"paraxial mesoderm\" = \"#9932CC\",   # Dark Orchid\n",
    "  \"surface ectoderm #1\" = \"#4169E1\",   # Royal Blue\n",
    "  \"presomitic mesoderm\" = \"#3CB371\",   # Medium Sea Green\n",
    "  \"surface ectoderm #2\" = \"#FF69B4\",   # Hot Pink\n",
    "  \"neural crest #2\" = \"#FF0000\",   # Red\n",
    "  \"brain #6\" = \"#FFD700\",   # Gold\n",
    "  \"posterior somatic LP mesoderm #1\" = \"#E6E6FA\",   # Lavender\n",
    "  \"dorsal foregut\" = \"#32CD32\",   # Lime Green\n",
    "  \"splanchnic LP mesoderm #1\" = \"#8B4513\",   # Saddle Brown\n",
    "  \"splanchnic LP mesoderm #2\" = \"#FFB6C1\",   # Light Pink\n",
    "  \"allantois\" = \"#FFD700\",   # Gold\n",
    "  \"ventral foregut\" = \"#87CEEB\",   # Sky Blue\n",
    "  \"brain #5\" = \"#FFD700\",   # Gold\n",
    "  \"endothelium #2\" = \"#FFA500\",   # Orange\n",
    "  \"neural crest #3\" = \"#556B2F\",   # Dark Olive Green\n",
    "  \"brain #4\" = \"#FF8C00\",   # Dark Orange\n",
    "  \"otic placode\" = \"#800080\",   # Purple\n",
    "  \"macrophage\" = \"#808080\"    # Gray\n",
    ")\n"
   ]
  },
  {
   "cell_type": "code",
   "execution_count": 224,
   "id": "868a9563-52c6-41a2-aabb-dca072b0de04",
   "metadata": {},
   "outputs": [],
   "source": [
    "post_QC_celltype_colours <- c(\n",
    "  \"failed_qc\" = \"#CCCCCC\", # Gray\n",
    "  \"rostral epiblast\" = \"#FFA07A\", # Light Salmon\n",
    "  \"ExE mesoderm\" = \"#8A2BE2\", # Blue Violet\n",
    "  \"primitive streak\" = \"#FF6347\", # Tomato\n",
    "  \"distal ExE ectoderm #1\" = \"#FFD700\", # Gold\n",
    "  \"visceral endoderm #1\" = \"#00BFFF\", # Deep Sky Blue\n",
    "  \"caudal epiblast\" = \"#FF4500\", # Orange Red\n",
    "  \"epiblast\" = \"#87CEEB\", # Sky Blue\n",
    "  \"proximal ExE ectoderm #2\" = \"#A9A9A9\", # Dark Gray\n",
    "  \"proximal ExE ectoderm #1\" = \"#FF69B4\", # Hot Pink\n",
    "  \"distal ExE ectoderm #2\" = \"#FF8C00\", # Dark Orange\n",
    "  \"ExE endoderm\" = \"#9400D3\", # Dark Violet\n",
    "  \"visceral endoderm #2\" = \"#800000\", # Maroon\n",
    "  \"haematoendothelial\" = \"#556B2F\", # Dark Olive Green\n",
    "  \"definitive endoderm\" = \"#8B4513\", # Saddle Brown\n",
    "  \"ExE ectoderm #3\" = \"#1E90FF\", # Dodger Blue\n",
    "  \"mesodermal wings\" = \"#9932CC\", # Dark Orchid\n",
    "  \"endothelium #1\" = \"#3CB371\", # Medium Sea Green\n",
    "  \"spinal cord\" = \"#D2691E\", # Chocolate\n",
    "  \"blood\" = \"#FF1493\", # Deep Pink\n",
    "  \"anterior somitic tissue\" = \"#FFDAB9\", # Peach Puff\n",
    "  \"lateral plate mesoderm\" = \"#4169E1\", # Royal Blue\n",
    "  \"brain #1\" = \"#FF0000\", # Red\n",
    "  \"posterior somitic tissue\" = \"#87CEFA\", # Light Sky Blue\n",
    "  \"brain #2\" = \"#00FA9A\", # Medium Spring Green\n",
    "  \"brain #3\" = \"#7B68EE\", # Medium Slate Blue\n",
    "  \"cardiomyocytes\" = \"#B22222\", # Firebrick\n",
    "  \"posterior somatic LP mesoderm #2\" = \"#8B0000\", # Dark Red\n",
    "  \"hindgut\" = \"#FF4500\", # Orange Red\n",
    "  \"midgut\" = \"#2E8B57\", # Sea Green\n",
    "  \"neural crest #1\" = \"#8B4513\", # Saddle Brown\n",
    "  \"mesenchyme\" = \"#D8BFD8\", # Thistle\n",
    "  \"paraxial mesoderm\" = \"#DDA0DD\", # Plum\n",
    "  \"surface ectoderm #1\" = \"#FFE4B5\", # Moccasin\n",
    "  \"presomitic mesoderm\" = \"#3CB371\", # Medium Sea Green\n",
    "  \"surface ectoderm #2\" = \"#B0E0E6\", # Powder Blue\n",
    "  \"neural crest #2\" = \"#FF69B4\", # Hot Pink\n",
    "  \"brain #6\" = \"#FFD700\", # Gold\n",
    "  \"posterior somatic LP mesoderm #1\" = \"#E6E6FA\", # Lavender\n",
    "  \"dorsal foregut\" = \"#32CD32\", # Lime Green\n",
    "  \"splanchnic LP mesoderm #1\" = \"#8B4513\", # Saddle Brown\n",
    "  \"splanchnic LP mesoderm #2\" = \"#FFB6C1\", # Light Pink\n",
    "  \"allantois\" = \"#D2B48C\", # Tan\n",
    "  \"ventral foregut\" = \"#87CEEB\", # Sky Blue\n",
    "  \"brain #5\" = \"#8A2BE2\", # Blue Violet\n",
    "  \"endothelium #2\" = \"#FFA500\", # Orange\n",
    "  \"neural crest #3\" = \"#006400\", # Dark Green\n",
    "  \"brain #4\" = \"#FF8C00\", # Dark Orange\n",
    "  \"otic placode\" = \"#800080\", # Purple\n",
    "  \"macrophage\" = \"#808080\" # Gray\n",
    ")\n"
   ]
  },
  {
   "cell_type": "code",
   "execution_count": 21,
   "id": "0ddd5190-f6bb-481c-bed1-2e9b701901ad",
   "metadata": {},
   "outputs": [],
   "source": [
    "post_QC_celltype_colours_updated <- c(\n",
    "  \"failed_qc\" = \"#CCCCCC\",\n",
    "  \"rostral epiblast\" = \"#FFA07A\",   # Light Salmon\n",
    "  \"ExE mesoderm\" = \"#8A2BE2\",   # Blue Violet\n",
    "  \"primitive streak\" = \"#FF6347\",   # Tomato\n",
    "  \"distal ExE ectoderm #1\" = \"#FFD700\",   # Gold\n",
    "  \"visceral endoderm #1\" = \"#00BFFF\",   # Deep Sky Blue\n",
    "  \"caudal epiblast\" = \"#FF4500\",   # Orange Red\n",
    "  \"epiblast\" = \"#87CEEB\",   # Sky Blue\n",
    "  \"proximal ExE ectoderm #2\" = \"#A9A9A9\",   # Dark Gray\n",
    "  \"proximal ExE ectoderm #1\" = \"#FF69B4\",   # Hot Pink\n",
    "  \"distal ExE ectoderm #2\" = \"#FF8C00\",   # Dark Orange\n",
    "  \"ExE endoderm\" = \"#9400D3\",  # Dark Violet\n",
    "  \"visceral endoderm #2\" = \"#800000\",  # Maroon\n",
    "  \"haematoendothelial\" = \"#556B2F\",  # Dark Olive Green\n",
    "  \"definitive endoderm\" = \"#8B4513\",  # Saddle Brown\n",
    "  \"ExE ectoderm #3\" = \"#FF4500\",  # Orange Red\n",
    "  \"mesodermal wings\" = \"#9932CC\",   # Dark Orchid\n",
    "  \"endothelium #1\" = \"#3CB371\",    # Medium Sea Green\n",
    "  \"spinal cord\" = \"#9400D3\",    # Dark Violet\n",
    "  \"blood\" = \"#FF6347\",    # Tomato\n",
    "  \"anterior somitic tissue\" = \"#FFD700\",    # Gold\n",
    "  \"lateral plate mesoderm\" = \"#4169E1\",    # Royal Blue\n",
    "  \"brain #1\" = \"#FF0000\",    # Red\n",
    "  \"posterior somitic tissue\" = \"#87CEEB\",    # Sky Blue\n",
    "  \"brain #2\" = \"#A9A9A9\",    # Dark Grey\n",
    "  \"brain #3\" = \"#FF69B4\",    # Hot Pink\n",
    "  \"cardiomyocytes\" = \"#FF8C00\",    # Dark Orange\n",
    "  \"posterior somatic LP mesoderm #2\" = \"#8A2BE2\",   # Blue Violet\n",
    "  \"hindgut\" = \"#800000\",   # Maroon\n",
    "  \"midgut\" = \"#556B2F\",   # Dark Olive Green\n",
    "  \"neural crest #1\" = \"#8B4513\",   # Saddle Brown\n",
    "  \"mesenchyme\" = \"#FF6347\",   # Tomato\n",
    "  \"paraxial mesoderm\" = \"#9932CC\",   # Dark Orchid\n",
    "  \"surface ectoderm #1\" = \"#4169E1\",   # Royal Blue\n",
    "  \"presomitic mesoderm\" = \"#3CB371\",   # Medium Sea Green\n",
    "  \"surface ectoderm #2\" = \"#FF69B4\",   # Hot Pink\n",
    "  \"neural crest #2\" = \"#FF0000\",   # Red\n",
    "  \"brain #6\" = \"#FFD700\",   # Gold\n",
    "  \"posterior somatic LP mesoderm #1\" = \"#E6E6FA\",   # Lavender\n",
    "  \"dorsal foregut\" = \"#32CD32\",   # Lime Green\n",
    "  \"splanchnic LP mesoderm #1\" = \"#8B4513\",   # Saddle Brown\n",
    "  \"splanchnic LP mesoderm #2\" = \"#FFB6C1\",   # Light Pink\n",
    "  \"allantois\" = \"#FFD700\",   # Gold\n",
    "  \"ventral foregut\" = \"#87CEEB\",   # Sky Blue\n",
    "  \"brain #5\" = \"#FFD700\",   # Gold\n",
    "  \"endothelium #2\" = \"#FFA500\",   # Orange\n",
    "  \"neural crest #3\" = \"#556B2F\",   # Dark Olive Green\n",
    "  \"brain #4\" = \"#FF8C00\",   # Dark Orange\n",
    "  \"otic placode\" = \"#800080\",   # Purple\n",
    "  \"macrophage\" = \"#808080\"    # Gray\n",
    ")\n"
   ]
  },
  {
   "cell_type": "code",
   "execution_count": 22,
   "id": "3a9b284a-06e3-4b5a-8265-0c320f8622d8",
   "metadata": {},
   "outputs": [],
   "source": [
    "ordered_cell_types_post_QC <- c(\n",
    "  # Endoderm\n",
    "  \"primitive streak\",\n",
    "  \"visceral endoderm #1\",\n",
    "  \"caudal epiblast\",\n",
    "  \"definitive endoderm\",\n",
    "  \"ExE endoderm\",\n",
    "  \"visceral endoderm #2\",\n",
    "  \"hindgut\",\n",
    "  \"midgut\",\n",
    "  \"allantois\",\n",
    "  \"ventral foregut\",\n",
    "  \n",
    "  # Mesoderm\n",
    "  \"ExE mesoderm\",\n",
    "  \"haematoendothelial\",\n",
    "  \"mesodermal wings\",\n",
    "  \"lateral plate mesoderm\",\n",
    "  \"mesenchyme\",\n",
    "  \"paraxial mesoderm\",\n",
    "  \"splanchnic LP mesoderm #1\",\n",
    "  \"splanchnic LP mesoderm #2\",\n",
    "  \"posterior somatic LP mesoderm #2\",\n",
    "  \"spinal cord\",\n",
    "  \"blood\",\n",
    "  \"cardiomyocytes\",\n",
    "  \n",
    "  # Ectoderm\n",
    "  \"rostral epiblast\",\n",
    "  \"distal ExE ectoderm #1\",\n",
    "  \"epiblast\",\n",
    "  \"proximal ExE ectoderm #2\",\n",
    "  \"proximal ExE ectoderm #1\",\n",
    "  \"distal ExE ectoderm #2\",\n",
    "  \"ExE ectoderm #3\",\n",
    "  \"brain #1\",\n",
    "  \"brain #2\",\n",
    "  \"brain #3\",\n",
    "  \"brain #6\",\n",
    "  \"brain #5\",\n",
    "  \"brain #4\",\n",
    "  \"otic placode\",\n",
    "  \"surface ectoderm #1\",\n",
    "  \"surface ectoderm #2\",\n",
    "  \"endothelium #1\",\n",
    "  \"endothelium #2\",\n",
    "  \"neural crest #1\",\n",
    "  \"neural crest #2\",\n",
    "  \"neural crest #3\",\n",
    "  \n",
    "  # Miscellaneous\n",
    "  \"macrophage\"\n",
    ")\n"
   ]
  },
  {
   "cell_type": "code",
   "execution_count": 23,
   "id": "5d59f132-a24b-42eb-8c1f-5e4a49c0ba89",
   "metadata": {},
   "outputs": [],
   "source": [
    "seurat_colors <- c(\n",
    " \"failed_qc\" = \"#CCCCCC\",\n",
    " \"0\" = \"#FACB12\",\n",
    "  \"1\" = \"#DABE99\",\n",
    "  \"2\" = \"#9e6762\",\n",
    "  \"3\" = \"#635547\",\n",
    "  \"4\" = \"#c19f70\",\n",
    "  \"5\" = \"#F397C0\",\n",
    "  \"6\" = \"#ff00b2\",\n",
    "  \"7\" = \"#ffb7ff\",\n",
    "  \"8\" = \"#95e1ff\",\n",
    "  \"9\" = \"#97bad3\",\n",
    "  \"10\" = \"#C594BF\",\n",
    "  \"11\" = \"#139992\",\n",
    "  \"12\" = \"#3F84AA\",\n",
    "  \"13\" = \"#F9DFE6\",\n",
    "  \"14\" = \"#e35f82\",\n",
    "  \"15\" = \"#d02d75\",\n",
    "  \"16\" = \"#e85639\",\n",
    "  \"17\" = \"#5581ca\",\n",
    "  \"18\" = \"#005579\",\n",
    "  \"19\" = \"#5adbe4\",\n",
    "  \"20\" = \"#8DB5CE\",\n",
    "  \"21\" = \"#456722\",\n",
    "  \"22\" = \"#d5e839\",\n",
    "  \"23\" = \"#e3cb3a\",\n",
    "  \"24\" = \"#00BFC4\",\n",
    "  \"25\" = \"#C9EBFB\",\n",
    "  \"26\" = \"#556789\",\n",
    "  \"27\" = \"#683ed8\",\n",
    "  \"28\" = \"#532C8A\",\n",
    "  \"29\" = \"#cc7818\",\n",
    "  \"30\" = \"#ff7f9c\",\n",
    "  \"31\" = \"#f79083\",\n",
    "  \"32\" = \"#ff487d\",\n",
    "  \"33\" = \"#d780b0\",\n",
    "  \"34\" = \"#a64d7e\",\n",
    "  \"35\" = \"#B51D8D\",\n",
    "  \"36\" = \"#4b7193\",\n",
    "  \"37\" = \"#5d70dc\",\n",
    "  \"38\" = \"#332c6c\",\n",
    "  \"39\" = \"#FBBE92\",\n",
    "  \"40\" = \"#6c4b4c\",\n",
    "  \"41\" = \"#4b7193\",\n",
    "  \"42\" = \"#5d70dc\",\n",
    "  \"43\" = \"#332c6c\",\n",
    "  \"44\" = \"#FBBE92\",\n",
    "  \"45\" = \"#6c4b4c\",\n",
    "  \"46\" = \"#C72228\",\n",
    "  \"47\" = \"#E50000\",\n",
    "  \"48\" = \"#e3cb3a\",\n",
    "  \"49\" = \"#EF4E22\",\n",
    "  \"50\" = \"#7c2a47\",\n",
    "  \"51\" = \"#ff891c\",\n",
    "  \"52\" = \"#AE3F3F\",\n",
    "  \"53\" = \"#2f4a60\",\n",
    "  \"54\" = \"#90e3bf\",\n",
    "  \"55\" = \"#bd3400\",\n",
    "  \"56\" = \"#9d0049\",\n",
    "  \"57\" = \"#89c1f5\",\n",
    "  \"58\" = \"#8EC792\",\n",
    "  \"59\" = \"#ff675c\",\n",
    "  \"60\" = \"#bd7300\",\n",
    "  \"61\" = \"#a0b689\",\n",
    "  \"62\" = \"#0f8073\",\n",
    "  \"63\" = \"#7a9941\",\n",
    "  \"64\" = \"#8ab3b5\",\n",
    "  \"65\" = \"#9bf981\",\n",
    "  \"66\" = \"#12ed4c\",\n",
    "  \"67\" = \"#7e907a\",\n",
    "  \"68\" = \"#2c6521\",\n",
    "  \"69\" = \"#bf9da8\",\n",
    "  \"70\" = \"#59b545\",\n",
    "  \"71\" = \"#233629\",\n",
    "  \"72\" = \"#4a6798\",\n",
    "  \"73\" = \"#bd84b0\",\n",
    "  \"74\" = \"#d3b1b1\",\n",
    "  \"75\" = \"#6b2035\",\n",
    "  \"76\" = \"#e273d6\",\n",
    "  \"77\" = \"#f7f79e\",\n",
    "  \"78\" = \"#fcff00\",\n",
    "  \"79\" = \"#fff335\",\n",
    "  \"80\" = \"#ffd731\",\n",
    "  \"81\" = \"#dbb400\",\n",
    "  \"82\" = \"#ff5c00\",\n",
    "  \"83\" = \"#f1a262\",\n",
    "  \"84\" = \"#00b000\",\n",
    "  \"85\" = \"#F6BFCB\",\n",
    "  \"86\" = \"#7F6874\",\n",
    "  \"87\" = \"#989898\",\n",
    "  \"88\" = \"#1A1A1A\"\n",
    ")"
   ]
  },
  {
   "cell_type": "code",
   "execution_count": 24,
   "id": "e8692783-80c7-4cf0-bc6a-d323410cdf69",
   "metadata": {},
   "outputs": [],
   "source": [
    "stages_colors = c(\n",
    "\"E6.5\" = \"#F21A00\",\n",
    "\"E6.75\" = \"#EC4B00\",\n",
    "\"E7.0\" = \"#E67D00\",\n",
    "\"E7.25\" = \"#E1AF00\",\n",
    "\"E7.5\" = \"#E4B80E\",\n",
    "\"E7.75\"=\"#E7C21C\",\n",
    "\"E8.0\" = \"#EBCC2A\",\n",
    "\"E8.25\" = \"#C4C55D\",\n",
    "\"E8.5\" = \"#9EBE91\",\n",
    "\"E8.75\" = \"#78B7C5\",\n",
    "\"E9.0\" = \"#3399FF\",\n",
    "\"E9.25\"=\"#297ACC\",\n",
    "\"E9.5\"=\"#2162A3\",\n",
    "\"Mixed gastrulation\" = \"#BEBEBE\")"
   ]
  },
  {
   "cell_type": "code",
   "execution_count": 25,
   "id": "408234fe-538d-4851-98fd-4f0d15ed5a79",
   "metadata": {},
   "outputs": [],
   "source": [
    "anatomy_colors = c(\n",
    "\"EP\" = \"#000000\",\n",
    "\"YS\" = \"#5E4FA2\",\n",
    "\"Anterior section\" = \"#774611\",\n",
    "\"Posterior section\" = \"#A2D630\",\n",
    "\"Medial section\" = \"#D95F02\",\n",
    "\"Posterior\"=\"#E2C207\",\n",
    "\"Anterior\" = \"#F71616\",\n",
    "\"Pooled\" = \"#BEBEBE\",\n",
    "\"NA\" = \"#BEBEBE\")"
   ]
  },
  {
   "cell_type": "code",
   "execution_count": 26,
   "id": "0c5402f9-9ce8-42f6-be62-0dbe48a28010",
   "metadata": {
    "tags": []
   },
   "outputs": [],
   "source": [
    "original.colors = c(\n",
    "  \"Epiblast\" = \"#635547\",\n",
    "  \"Primitive Streak\" = \"#DABE99\",\n",
    "  \"Anterior Primitive Streak\" = \"#c19f70\",\n",
    "  \"Caudal epiblast\" = \"#9e6762\",\n",
    "  \"PGC\" = \"#FACB12\",\n",
    "  \"Anterior Primitive_Streak\" = \"#c19f70\",\n",
    "  \"Notochord\" = \"#0F4A9C\",\n",
    "  \"Def. endoderm\" = \"#F397C0\",\n",
    "  \"Gut\" = \"#EF5A9D\",\n",
    "  \"Nascent mesoderm\" = \"#C594BF\",\n",
    "  \"Mixed mesoderm\" = \"#DFCDE4\",\n",
    "  \"Intermediate mesoderm\" = \"#139992\",\n",
    "  \"Caudal Mesoderm\" = \"#3F84AA\",\n",
    "  \"Paraxial mesoderm\" = \"#8DB5CE\",\n",
    "  \"Somitic mesoderm\" = \"#005579\",\n",
    "  \"Pharyngeal mesoderm\" = \"#C9EBFB\",\n",
    "  \"Cardiomyocytes\" = \"#B51D8D\",\n",
    "  \"Allantois\" = \"#532C8A\",\n",
    "  \"ExE mesoderm\" = \"#8870ad\",\n",
    "  \"Mesenchyme\" = \"#cc7818\",\n",
    "  \"Haematoendothelial progenitors\" = \"#FBBE92\",\n",
    "  \"Endothelium\" = \"#ff891c\",\n",
    "  \"Blood progenitors\" = \"#c9a997\",\n",
    "  \"Blood progenitors 1\" = \"#f9decf\",\n",
    "  \"Blood progenitors 2\" = \"#c9a997\",\n",
    "  \"Erythroid\" = \"#EF4E22\",\n",
    "  \"Erythroid1\" = \"#C72228\",\n",
    "  \"Erythroid2\" = \"#f79083\",\n",
    "  \"Erythroid3\" = \"#EF4E22\",\n",
    "  \"NMP\" = \"#8EC792\",\n",
    "  \"Neurectoderm\" = \"#65A83E\",\n",
    "  \"Rostral neurectoderm\" = \"#65A83E\",\n",
    "  \"Caudal neurectoderm\" = \"#354E23\",\n",
    "  \"Neural crest\" = \"#C3C388\",\n",
    "  \"Forebrain Midbrain_Hindbrain\" = \"#647a4f\",\n",
    "  \"Spinal cord\" = \"#CDE088\",\n",
    "  \"Surface ectoderm\" = \"#f7f79e\",\n",
    "  \"Visceral endoderm\" = \"#F6BFCB\",\n",
    "  \"ExE endoderm\" = \"#7F6874\",\n",
    "  \"ExE ectoderm\" = \"#989898\",\n",
    "  \"Parietal endoderm\" = \"#1A1A1A\"\n",
    ")"
   ]
  },
  {
   "cell_type": "code",
   "execution_count": 27,
   "id": "476ebfa1-0657-43af-bc2b-f25a04f77fc4",
   "metadata": {},
   "outputs": [],
   "source": [
    "celltype.colors.extended = c(\n",
    "\"Epiblast\" = \"#635547\",\n",
    "\"Primitive Streak\" = \"#DABE99\",\n",
    "\"Caudal epiblast\" = \"#9e6762\",\n",
    "\"PGC\" = \"#FACB12\",\n",
    "\"Anterior Primitive Streak\" = \"#c19f70\",\n",
    "\"Node\"=\"#153b3d\",\n",
    "\"Notochord\" = \"#0F4A9C\",\n",
    "\"Gut tube\" = \"#EF5A9D\",\n",
    "\"Hindgut\" = \"#F397C0\",\n",
    "\"Midgut\" = \"#ff00b2\",\n",
    "\"Foregut\" = \"#ffb7ff\",\n",
    "\"Pharyngeal endoderm\"=\"#95e1ff\",\n",
    "\"Thyroid primordium\"=\"#97bad3\",\n",
    "\"Nascent mesoderm\" = \"#C594BF\",\n",
    "\"Intermediate mesoderm\" = \"#139992\",\n",
    "\"Caudal mesoderm\" = \"#3F84AA\",\n",
    "\"Lateral plate mesoderm\" = \"#F9DFE6\",\n",
    "\"Limb mesoderm\" = \"#e35f82\",\n",
    "\"Forelimb\" = \"#d02d75\",\n",
    "\"Kidney primordium\" = \"#e85639\",\n",
    "\"Presomitic mesoderm\"=\"#5581ca\",#\"#0000ff\",#blue\n",
    "\"Somitic mesoderm\" = \"#005579\",\n",
    "\"Posterior somitic tissues\" = \"#5adbe4\",#\"#40e0d0\",#turquoise\n",
    "\"Paraxial mesoderm\" = \"#8DB5CE\",\n",
    "\"Cranial mesoderm\" = \"#456722\",#\"#006400\",#darkgreen\n",
    "\"Anterior somitic tissues\"= \"#d5e839\",\n",
    "\"Sclerotome\" = \"#e3cb3a\",#\"#ffff00\",#yellow\n",
    "\"Dermomyotome\" = \"#00BFC4\",#\"#a52a2a\",#brown\n",
    "\"Pharyngeal mesoderm\" = \"#C9EBFB\",\n",
    "\"Cardiopharyngeal progenitors\" = \"#556789\",\n",
    "\"Anterior cardiopharyngeal progenitors\"=\"#683ed8\",\n",
    "\"Allantois\" = \"#532C8A\",\n",
    "\"Mesenchyme\" = \"#cc7818\",\n",
    "\"YS mesothelium\" = \"#ff7f9c\",\n",
    "\"Epicardium\"=\"#f79083\",\n",
    "\"Embryo proper mesothelium\" = \"#ff487d\",\n",
    "\"Cardiopharyngeal progenitors FHF\"=\"#d780b0\",\n",
    "\"Cardiomyocytes FHF 1\"=\"#a64d7e\",\n",
    "\"Cardiomyocytes FHF 2\"=\"#B51D8D\",\n",
    "\"Cardiopharyngeal progenitors SHF\"=\"#4b7193\",\n",
    "\"Cardiomyocytes SHF 1\"=\"#5d70dc\",\n",
    "\"Cardiomyocytes SHF 2\"=\"#332c6c\",\n",
    "\"Haematoendothelial progenitors\" = \"#FBBE92\",\n",
    "\"Blood progenitors\" = \"#6c4b4c\",\n",
    "\"Erythroid\" = \"#C72228\",\n",
    "\"Chorioallantoic-derived erythroid progenitors\"=\"#E50000\",\n",
    "\"Megakaryocyte progenitors\"=\"#e3cb3a\",\n",
    "\"MEP\"=\"#EF4E22\",\n",
    "\"EMP\"=\"#7c2a47\",\n",
    "\"YS endothelium\"=\"#ff891c\",\n",
    "\"YS mesothelium-derived endothelial progenitors\"=\"#AE3F3F\",\n",
    "\"Allantois endothelium\"=\"#2f4a60\",\n",
    "\"Embryo proper endothelium\"=\"#90e3bf\",\n",
    "\"Venous endothelium\"=\"#bd3400\",\n",
    "\"Endocardium\"=\"#9d0049\",\n",
    "\"NMPs/Mesoderm-biased\" = \"#89c1f5\",\n",
    "\"NMPs\" = \"#8EC792\",\n",
    "\"Ectoderm\" = \"#ff675c\",\n",
    "\"Optic vesicle\" = \"#bd7300\",\n",
    "\"Ventral forebrain progenitors\"=\"#a0b689\",\n",
    "\"Early dorsal forebrain progenitors\"=\"#0f8073\",\n",
    "\"Late dorsal forebrain progenitors\"=\"#7a9941\",\n",
    "\"Midbrain/Hindbrain boundary\"=\"#8ab3b5\",\n",
    "\"Midbrain progenitors\"=\"#9bf981\",\n",
    "\"Dorsal midbrain neurons\"=\"#12ed4c\",\n",
    "\"Ventral hindbrain progenitors\"=\"#7e907a\",\n",
    "\"Dorsal hindbrain progenitors\"=\"#2c6521\",\n",
    "\"Hindbrain floor plate\"=\"#bf9da8\",\n",
    "\"Hindbrain neural progenitors\"=\"#59b545\",\n",
    "\"Neural tube\"=\"#233629\",\n",
    "\"Migratory neural crest\"=\"#4a6798\",\n",
    "\"Branchial arch neural crest\"=\"#bd84b0\",\n",
    "\"Frontonasal mesenchyme\"=\"#d3b1b1\",\n",
    "\"Spinal cord progenitors\"=\"#6b2035\",\n",
    "\"Dorsal spinal cord progenitors\"=\"#e273d6\",\n",
    "\"Non-neural ectoderm\" = \"#f7f79e\",\n",
    "\"Surface ectoderm\" = \"#fcff00\",\n",
    "\"Epidermis\" = \"#fff335\",\n",
    "\"Limb ectoderm\" = \"#ffd731\",\n",
    "\"Amniotic ectoderm\" = \"#dbb400\",\n",
    "\"Placodal ectoderm\" = \"#ff5c00\",\n",
    "\"Otic placode\"=\"#f1a262\",\n",
    "\"Otic neural progenitors\"=\"#00b000\",\n",
    "\"Visceral endoderm\" = \"#F6BFCB\",\n",
    "\"ExE endoderm\" = \"#7F6874\",\n",
    "\"ExE ectoderm\" = \"#989898\",\n",
    "\"Parietal endoderm\" = \"#1A1A1A\",\n",
    "\"Endotome\" = \"#808080\",\n",
    "\"unresolved\" = \"#1A1A1A\"\n",
    ")"
   ]
  },
  {
   "cell_type": "code",
   "execution_count": 28,
   "id": "011e499c-41b8-4772-9c47-5593575bb6a6",
   "metadata": {},
   "outputs": [],
   "source": [
    "ordered_cell_types_extended <- c(\n",
    "  # Ectoderm\n",
    "  \"Ectoderm\",\n",
    "  \"Optic vesicle\",\n",
    "  \"Ventral forebrain progenitors\",\n",
    "  \"Early dorsal forebrain progenitors\",\n",
    "  \"Late dorsal forebrain progenitors\",\n",
    "  \"Midbrain/Hindbrain boundary\",\n",
    "  \"Midbrain progenitors\",\n",
    "  \"Dorsal midbrain neurons\",\n",
    "  \"Ventral hindbrain progenitors\",\n",
    "  \"Dorsal hindbrain progenitors\",\n",
    "  \"Hindbrain floor plate\",\n",
    "  \"Hindbrain neural progenitors\",\n",
    "  \"Neural tube\",\n",
    "  \"Migratory neural crest\",\n",
    "  \"Branchial arch neural crest\",\n",
    "  \"Frontonasal mesenchyme\",\n",
    "  \"Spinal cord progenitors\",\n",
    "  \"Dorsal spinal cord progenitors\",\n",
    "  \"Non-neural ectoderm\",\n",
    "  \"Surface ectoderm\",\n",
    "  \"Epidermis\",\n",
    "  \"Limb ectoderm\",\n",
    "  \"Amniotic ectoderm\",\n",
    "  \"Placodal ectoderm\",\n",
    "  \"Otic placode\",\n",
    "  \"Otic neural progenitors\",\n",
    "\n",
    "  # Endoderm\n",
    "  \"Visceral endoderm\",\n",
    "  \"ExE endoderm\",\n",
    "  \"Parietal endoderm\",\n",
    "  \"Endotome\",\n",
    "  \"Primitive Streak\",\n",
    "  \"Caudal epiblast\",\n",
    "  \"Gut tube\",\n",
    "  \"Hindgut\",\n",
    "  \"Midgut\",\n",
    "  \"Foregut\",\n",
    "  \"Pharyngeal endoderm\",\n",
    "  \"Thyroid primordium\",\n",
    "  \n",
    "  # Mesoderm\n",
    "  \"NMPs/Mesoderm-biased\",\n",
    "  \"NMPs\",\n",
    "  \"Notochord\",\n",
    "  \"Nascent mesoderm\",\n",
    "  \"Intermediate mesoderm\",\n",
    "  \"Caudal mesoderm\",\n",
    "  \"Lateral plate mesoderm\",\n",
    "  \"Limb mesoderm\",\n",
    "  \"Forelimb\",\n",
    "  \"Kidney primordium\",\n",
    "  \"Presomitic mesoderm\",\n",
    "  \"Somitic mesoderm\",\n",
    "  \"Posterior somitic tissues\",\n",
    "  \"Paraxial mesoderm\",\n",
    "  \"Cranial mesoderm\",\n",
    "  \"Anterior somitic tissues\",\n",
    "  \"Sclerotome\",\n",
    "  \"Dermomyotome\",\n",
    "  \"Pharyngeal mesoderm\",\n",
    "  \"Cardiopharyngeal progenitors\",\n",
    "  \"Anterior cardiopharyngeal progenitors\",\n",
    "  \"Allantois\",\n",
    "  \"Mesenchyme\",\n",
    "  \"YS mesothelium\",\n",
    "  \"Epicardium\",\n",
    "  \"Embryo proper mesothelium\",\n",
    "  \"Cardiopharyngeal progenitors FHF\",\n",
    "  \"Cardiomyocytes FHF 1\",\n",
    "  \"Cardiomyocytes FHF 2\",\n",
    "  \"Cardiopharyngeal progenitors SHF\",\n",
    "  \"Cardiomyocytes SHF 1\",\n",
    "  \"Cardiomyocytes SHF 2\",\n",
    "  \"Haematoendothelial progenitors\",\n",
    "  \"Blood progenitors\",\n",
    "  \"Erythroid\",\n",
    "  \"Chorioallantoic-derived erythroid progenitors\",\n",
    "  \"Megakaryocyte progenitors\",\n",
    "  \"MEP\",\n",
    "  \"EMP\",\n",
    "  \"YS endothelium\",\n",
    "  \"YS mesothelium-derived endothelial progenitors\",\n",
    "  \"Allantois endothelium\",\n",
    "  \"Embryo proper endothelium\",\n",
    "  \"Venous endothelium\",\n",
    "  \"Endocardium\"\n",
    ")\n"
   ]
  },
  {
   "cell_type": "code",
   "execution_count": 29,
   "id": "12045949-94a1-4bff-b8a0-b2bc2094263d",
   "metadata": {},
   "outputs": [],
   "source": [
    "celltype.extended <- c(\n",
    "\"failed_qc\",\n",
    "\"Epiblast\",\n",
    "\"Primitive Streak\",\n",
    "\"Caudal epiblast\",\n",
    "\"PGC\",\n",
    "\"Anterior Primitive Streak\",\n",
    "\"Node\",\n",
    "\"Notochord\",\n",
    "\"Gut tube\",\n",
    "\"Hindgut\",\n",
    "\"Midgut\",\n",
    "\"Foregut\",\n",
    "\"Pharyngeal endoderm\",\n",
    "\"Thyroid primordium\",\n",
    "\"Nascent mesoderm\",\n",
    "\"Intermediate mesoderm\",\n",
    "\"Caudal mesoderm\",\n",
    "\"Lateral plate mesoderm\",\n",
    "\"Limb mesoderm\",\n",
    "\"Forelimb\",\n",
    "\"Kidney primordium\",\n",
    "\"Presomitic mesoderm\",\n",
    "\"Somitic mesoderm\",\n",
    "\"Posterior somitic tissues\",\n",
    "\"Paraxial mesoderm\",\n",
    "\"Cranial mesoderm\",\n",
    "\"Anterior somitic tissues\",\n",
    "\"Sclerotome\",\n",
    "\"Dermomyotome\",\n",
    "\"Pharyngeal mesoderm\",\n",
    "\"Cardiopharyngeal progenitors\",\n",
    "\"Anterior cardiopharyngeal progenitors\",\n",
    "\"Allantois\",\n",
    "\"Mesenchyme\",\n",
    "\"YS mesothelium\",\n",
    "\"Epicardium\",\n",
    "\"Embryo proper mesothelium\",\n",
    "\"Cardiopharyngeal progenitors FHF\",\n",
    "\"Cardiomyocytes FHF 1\",\n",
    "\"Cardiomyocytes FHF 2\",\n",
    "\"Cardiopharyngeal progenitors SHF\",\n",
    "\"Cardiomyocytes SHF 1\",\n",
    "\"Cardiomyocytes SHF 2\",\n",
    "\"Haematoendothelial progenitors\",\n",
    "\"Blood progenitors\",\n",
    "\"Erythroid\",\n",
    "\"Chorioallantoic-derived erythroid progenitors\",\n",
    "\"Megakaryocyte progenitors\",\n",
    "\"MEP\",\n",
    "\"EMP\",\n",
    "\"YS endothelium\",\n",
    "\"YS mesothelium-derived endothelial progenitors\",\n",
    "\"Allantois endothelium\",\n",
    "\"Embryo proper endothelium\",\n",
    "\"Venous endothelium\",\n",
    "\"Endocardium\",\n",
    "\"NMPs/Mesoderm-biased\",\n",
    "\"NMPs\",\n",
    "\"Ectoderm\",\n",
    "\"Optic vesicle\",\n",
    "\"Ventral forebrain progenitors\",\n",
    "\"Early dorsal forebrain progenitors\",\n",
    "\"Late dorsal forebrain progenitors\",\n",
    "\"Midbrain/Hindbrain boundary\",\n",
    "\"Midbrain progenitors\",\n",
    "\"Dorsal midbrain neurons\",\n",
    "\"Ventral hindbrain progenitors\",\n",
    "\"Dorsal hindbrain progenitors\",\n",
    "\"Hindbrain floor plate\",\n",
    "\"Hindbrain neural progenitors\",\n",
    "\"Neural tube\",\n",
    "\"Migratory neural crest\",\n",
    "\"Branchial arch neural crest\",\n",
    "\"Frontonasal mesenchyme\",\n",
    "\"Spinal cord progenitors\",\n",
    "\"Dorsal spinal cord progenitors\",\n",
    "\"Non-neural ectoderm\",\n",
    "\"Surface ectoderm\",\n",
    "\"Epidermis\",\n",
    "\"Limb ectoderm\",\n",
    "\"Amniotic ectoderm\",\n",
    "\"Placodal ectoderm\",\n",
    "\"Otic placode\",\n",
    "\"Otic neural progenitors\",\n",
    "\"Visceral endoderm\",\n",
    "\"ExE endoderm\",\n",
    "\"ExE ectoderm\",\n",
    "\"Parietal endoderm\",\n",
    "\"Endotome\"\n",
    ")\n"
   ]
  },
  {
   "cell_type": "markdown",
   "id": "efbdb5ba-53d7-4951-825c-2b1deac2efca",
   "metadata": {
    "tags": []
   },
   "source": [
    "## Data Locations"
   ]
  },
  {
   "cell_type": "code",
   "execution_count": 30,
   "id": "69a32a18-83c3-4c6d-bdbc-1c4a0879836d",
   "metadata": {},
   "outputs": [],
   "source": [
    "##### Load in Seurat Objects for post QC analyses #####\n",
    "\n",
    "io = list()\n",
    "io$main = \"/rds/project/rds-SDzz0CATGms/users/ltgh2\" # this is the main directory\n",
    "\n",
    "# Set the working directory\n",
    "setwd(io$main)\n",
    "\n",
    "io$seqFISH_preQC = file.path(io$main, \"projects/03_seqFISH_FINAL/code/seqFISH_integration/processed/seqFISH_within_and_across_dataset_integration_without_neighbour_features_E6_7_8.Rds\") \n",
    "\n",
    "##### Load in StabMAP_Outputs #####\n",
    "io$StabMAP_reweighted_MNNcorrected_original_counts_without_neigh_preQC = file.path(io$main, \"projects/03_seqFISH_FINAL/code/stab_map_all_together/output/StabMAP_allstages_postQC_reweighted_MNNcorrected_original_counts_without_neigh.Rds\")\n",
    "io$StabMAP_reweighted_MNNcorrected_integrated_counts_without_neigh_preQC = file.path(io$main, \"projects/03_seqFISH_FINAL/code/stab_map_all_together/output/StabMAP_allstages_postQC_reweighted_MNNcorrected_integrated_counts_without_neigh.Rds\")\n",
    "\n",
    "## Load in the seqFISH CellType Labels\n",
    "io$seqFISH_labels_preQC = file.path(io$main, \n",
    "                              \"projects/03_seqFISH_FINAL/code/stabmap_label_transfer/output/StabMAP_all_stages_reweighted_MNNcorrected_original_counts_without_neigh_LABELS.Rds\")\n",
    "\n",
    "## Load in the seqFISH UMAP coordinates\n",
    "io$seqFISH_UMAP_preQC = file.path(io$main, \n",
    "                               \"projects/03_seqFISH_FINAL/code/stab_map_umap_generation/processed/StabMAP_allstage_MNNoriginal_UMAP.rds\")"
   ]
  },
  {
   "cell_type": "code",
   "execution_count": 31,
   "id": "98d0b104-a5d8-4081-8133-6b05676da692",
   "metadata": {
    "tags": []
   },
   "outputs": [],
   "source": [
    "##### Load in Seurat Objects for post QC analyses #####\n",
    "\n",
    "# Set the working directory\n",
    "setwd(io$main)\n",
    "\n",
    "io$atlas = file.path(io$main, \"projects/03_seqFISH_FINAL/code/extended_atlas_integration/processed_downsampled/downsample_10K_within_timpoint_all_stages.Rds\")\n",
    "io$seqFISH = file.path(io$main, \"projects/03_seqFISH_FINAL/code/seqFISH_integration/processed/seqFISH_after_QC_filtering_within_and_across_dataset_integration_without_neighbour_features_E6_7_8.Rds\") \n",
    "\n",
    "##### Load in StabMAP_Outputs #####\n",
    "io$StabMAP_reweighted_MNNcorrected_original_counts_without_neigh = file.path(io$main, \"projects/03_seqFISH_FINAL/code/stab_map_all_together_post_QC/output/StabMAP_allstages_postQC_reweighted_MNNcorrected_original_counts_without_neigh.Rds\")\n",
    "io$StabMAP_reweighted_MNNcorrected_integrated_counts_without_neigh = file.path(io$main, \"projects/03_seqFISH_FINAL/code/stab_map_all_together_post_QC/output/StabMAP_allstages_postQC_reweighted_MNNcorrected_integrated_counts_without_neigh.Rds\")\n",
    "\n",
    "## Load in the seqFISH CellType Labels\n",
    "io$seqFISH_labels = file.path(io$main, \n",
    "                              \"projects/03_seqFISH_FINAL/code/stabmap_label_transfer/output/StabMAP_all_stages_post_QC_reweighted_MNNcorrected_original_counts_without_neigh_LABELS.Rds\")\n",
    "\n",
    "## Load in the seqFISH Imputed Gene Expression\n",
    "io$seqFISH_imputed_logcounts_e6 = file.path(io$main, \n",
    "                              \"projects/03_seqFISH_FINAL/code/stabmap_imputation/output/seqFISH_e6_postQC_imputed_RNA.Rds\")\n",
    "\n",
    "io$seqFISH_imputed_logcounts_e7 = file.path(io$main, \n",
    "                              \"projects/03_seqFISH_FINAL/code/stabmap_imputation/output/seqFISH_e7_postQC_imputed_RNA.Rds\")\n",
    "\n",
    "io$seqFISH_imputed_logcounts_e8_1 = file.path(io$main, \n",
    "                              \"projects/03_seqFISH_FINAL/code/stabmap_imputation/output/seqFISH_e8_embryo1_postQC_imputed_RNA.Rds\")\n",
    "\n",
    "io$seqFISH_imputed_logcounts_e8_2 = file.path(io$main, \n",
    "                              \"projects/03_seqFISH_FINAL/code/stabmap_imputation/output/seqFISH_e8_embryo2_postQC_imputed_RNA.Rds\")\n",
    "\n",
    "io$seqFISH_imputed_logcounts_e8_3 = file.path(io$main, \n",
    "                              \"projects/03_seqFISH_FINAL/code/stabmap_imputation/output/seqFISH_e8_embryo3_postQC_imputed_RNA.Rds\")\n",
    "\n",
    "## Load in the seqFISH Imputed RAW COUNTS Gene Expression\n",
    "io$seqFISH_imputed_counts_e6 = file.path(io$main, \n",
    "                              \"projects/03_seqFISH_FINAL/code/stabmap_imputation/output/seqFISH_e6_postQC_imputed_raw_RNA_counts.Rds\")\n",
    "\n",
    "io$seqFISH_imputed_counts_e7 = file.path(io$main, \n",
    "                              \"projects/03_seqFISH_FINAL/code/stabmap_imputation/output/seqFISH_e7_postQC_imputed_raw_RNA_counts.Rds\")\n",
    "\n",
    "io$seqFISH_imputed_counts_e8_1 = file.path(io$main, \n",
    "                              \"projects/03_seqFISH_FINAL/code/stabmap_imputation/output/seqFISH_embryo_1_postQC_imputed_raw_RNA_counts.Rds\")\n",
    "\n",
    "io$seqFISH_imputed_counts_e8_2 = file.path(io$main, \n",
    "                              \"projects/03_seqFISH_FINAL/code/stabmap_imputation/output/seqFISH_embryo_2_postQC_imputed_raw_RNA_counts.Rds\")\n",
    "\n",
    "io$seqFISH_imputed_counts_e8_3 = file.path(io$main, \n",
    "                              \"projects/03_seqFISH_FINAL/code/stabmap_imputation/output/seqFISH_embryo_3_postQC_imputed_raw_RNA_counts.Rds\")\n",
    "\n",
    "\n",
    "## Load in the seqFISH UMAP coordinates\n",
    "io$seqFISH_UMAP = file.path(io$main, \n",
    "                               \"projects/03_seqFISH_FINAL/code/stab_map_umap_generation/processed/StabMAP_allstage_postQC_MNNoriginal_UMAP_seqFISH.rds\")"
   ]
  },
  {
   "cell_type": "code",
   "execution_count": 32,
   "id": "2edcabdd-099b-4d43-a203-a34f47a6101d",
   "metadata": {},
   "outputs": [],
   "source": [
    "##### Load in StabMAP_Outputs #####\n",
    "io$StabMAP_reweighted_MNNcorrected_original_counts_without_neigh = file.path(io$main, \"projects/03_seqFISH_FINAL/code/stab_map_all_together_post_QC/output/StabMAP_allstages_postQC_reweighted_MNNcorrected_original_counts_without_neigh.Rds\")\n",
    "io$StabMAP_reweighted_MNNcorrected_integrated_counts_without_neigh = file.path(io$main, \"projects/03_seqFISH_FINAL/code/stab_map_all_together_post_QC/output/StabMAP_allstages_postQC_reweighted_MNNcorrected_integrated_counts_without_neigh.Rds\")"
   ]
  },
  {
   "cell_type": "markdown",
   "id": "72c28738-42c2-4e1e-a1ca-105a5da3c9bb",
   "metadata": {
    "tags": []
   },
   "source": [
    "## Load in Seurat Objects and to the Seurat Object add the StabMAP UMAP, Transferred Cell Type Labels and Imputed Gene Expression Matrix"
   ]
  },
  {
   "cell_type": "code",
   "execution_count": 33,
   "id": "f14d0ad0-8b82-4e5e-9a81-1db4dc922877",
   "metadata": {},
   "outputs": [
    {
     "name": "stderr",
     "output_type": "stream",
     "text": [
      "Warning message:\n",
      "“Cannot add objects with duplicate keys (offending key: UMAP_), setting key to 'stabmap_umap_'”\n"
     ]
    },
    {
     "data": {
      "text/plain": [
       "An object of class Seurat \n",
       "56393 features across 63188 samples within 5 assays \n",
       "Active assay: across_timepoint_integration (351 features, 351 variable features)\n",
       " 4 other assays present: originalexp, within_timepoint_integration, imputed, imputedcounts\n",
       " 6 dimensional reductions calculated: pca, umap, spatial, Shila_PCA, Shila_UMAP, StabMAP_UMAP"
      ]
     },
     "metadata": {},
     "output_type": "display_data"
    }
   ],
   "source": [
    "# Load in the seqFISH object_postQC\n",
    "seqFISH = readRDS(io$seqFISH)\n",
    "\n",
    "# Load in celltype, stage and anatomy labels\n",
    "seqFISH_labels = readRDS(io$seqFISH_labels)\n",
    "seqFISH <- AddMetaData(seqFISH, metadata = seqFISH_labels)\n",
    "\n",
    "# Load in the StabMAP UMAP coordinates\n",
    "seqFISH_UMAP = readRDS(io$seqFISH_UMAP)\n",
    "seqFISH[[\"StabMAP_UMAP\"]] <- seqFISH_UMAP\n",
    "\n",
    "### this is the log normalized imputed gene expression from the 5 nearest neightbours using impute Embedding, fun = mean ####\n",
    "# Load in the imputed gene expression \n",
    "seqFISH_imputed_logcounts_e6 = readRDS(io$seqFISH_imputed_logcounts_e6)\n",
    "seqFISH_imputed_logcounts_e7 = readRDS(io$seqFISH_imputed_logcounts_e7)\n",
    "seqFISH_imputed_logcounts_e8_1 = readRDS(io$seqFISH_imputed_logcounts_e8_1)\n",
    "seqFISH_imputed_logcounts_e8_2 = readRDS(io$seqFISH_imputed_logcounts_e8_2)\n",
    "seqFISH_imputed_logcounts_e8_3 = readRDS(io$seqFISH_imputed_logcounts_e8_3)\n",
    "\n",
    "# Create a combined matrix of gene expression across all time points\n",
    "imputed_expression <- cbind(seqFISH_imputed_logcounts_e6$scRNA.RNA, \n",
    "                            seqFISH_imputed_logcounts_e7$scRNA.RNA, \n",
    "                            seqFISH_imputed_logcounts_e8_1$scRNA.RNA, \n",
    "                            seqFISH_imputed_logcounts_e8_2$scRNA.RNA, \n",
    "                            seqFISH_imputed_logcounts_e8_3$scRNA.RNA)\n",
    "\n",
    "# Creat a new assay object to store imputed data\n",
    "imp <- CreateAssayObject(data = imputed_expression)\n",
    "\n",
    "# add this assay to the previously created Seurat object\n",
    "seqFISH[[\"imputed\"]] <- imp\n",
    "\n",
    "### this is the log normalized imputed gene expression from the 5 nearest neightbours using impute Embedding, fun = mean ####\n",
    "# Load in the imputed gene expression \n",
    "seqFISH_imputed_counts_e6 = readRDS(io$seqFISH_imputed_counts_e6)\n",
    "seqFISH_imputed_counts_e7 = readRDS(io$seqFISH_imputed_counts_e7)\n",
    "seqFISH_imputed_counts_e8_1 = readRDS(io$seqFISH_imputed_counts_e8_1)\n",
    "seqFISH_imputed_counts_e8_2 = readRDS(io$seqFISH_imputed_counts_e8_2)\n",
    "seqFISH_imputed_counts_e8_3 = readRDS(io$seqFISH_imputed_counts_e8_3)\n",
    "\n",
    "# Create a combined matrix of gene expression across all time points\n",
    "imputed_counts_expression <- cbind(seqFISH_imputed_counts_e6$scRNA.RNA, \n",
    "                            seqFISH_imputed_counts_e7$scRNA.RNA, \n",
    "                            seqFISH_imputed_counts_e8_1$scRNA.RNA, \n",
    "                            seqFISH_imputed_counts_e8_2$scRNA.RNA, \n",
    "                            seqFISH_imputed_counts_e8_3$scRNA.RNA)\n",
    "\n",
    "# Creat a new assay object to store imputed data\n",
    "impcounts <- CreateAssayObject(counts = imputed_counts_expression)\n",
    "\n",
    "# add this assay to the previously created Seurat object\n",
    "seqFISH[[\"imputedcounts\"]] <- impcounts\n",
    "\n",
    "seqFISH_postQC <- seqFISH\n",
    "\n",
    "seqFISH_postQC"
   ]
  },
  {
   "cell_type": "code",
   "execution_count": 34,
   "id": "93a95149-a340-4320-aa9d-b96579b39743",
   "metadata": {},
   "outputs": [],
   "source": [
    "## Load in the seqFISH UMAP coordinates\n",
    "io$UMAP_coordinates = file.path(io$main, \n",
    "                               \"projects/03_seqFISH_FINAL/code/stab_map_umap_generation/processed/StabMAP_allstage_postQC_MNNoriginal_UMAP.rds\")"
   ]
  },
  {
   "cell_type": "code",
   "execution_count": 35,
   "id": "b9e97bcc-5314-4447-8ce2-2d53ceafe6c4",
   "metadata": {},
   "outputs": [],
   "source": [
    "# Load in the seqFISH object_postQC\n",
    "atlas = readRDS(io$atlas)"
   ]
  },
  {
   "cell_type": "code",
   "execution_count": 36,
   "id": "9fdb5d28-df7d-4d7d-a286-70aaab2e8e2c",
   "metadata": {},
   "outputs": [],
   "source": [
    "seqFISH_preQC = readRDS(io$seqFISH_preQC)"
   ]
  },
  {
   "cell_type": "code",
   "execution_count": 37,
   "id": "5c4dc285-2fc6-4f03-9a84-448ee0083054",
   "metadata": {},
   "outputs": [
    {
     "data": {
      "text/plain": [
       "An object of class Seurat \n",
       "1053 features across 73470 samples within 3 assays \n",
       "Active assay: across_timepoint_integration (351 features, 351 variable features)\n",
       " 2 other assays present: originalexp, within_timepoint_integration\n",
       " 5 dimensional reductions calculated: pca, umap, spatial, Shila_PCA, Shila_UMAP"
      ]
     },
     "metadata": {},
     "output_type": "display_data"
    }
   ],
   "source": [
    "seqFISH_preQC"
   ]
  },
  {
   "cell_type": "code",
   "execution_count": 38,
   "id": "ab3a8c55-c4f1-4dfb-82dc-e3fae6d54fec",
   "metadata": {},
   "outputs": [
    {
     "name": "stdout",
     "output_type": "stream",
     "text": [
      "Formal class 'Assay' [package \"SeuratObject\"] with 8 slots\n",
      "  ..@ counts       :Formal class 'dgCMatrix' [package \"Matrix\"] with 6 slots\n",
      "  .. .. ..@ i       : int [1:6290902] 13 14 21 25 29 35 36 43 46 48 ...\n",
      "  .. .. ..@ p       : int [1:73471] 0 93 130 189 212 222 270 350 356 371 ...\n",
      "  .. .. ..@ Dim     : int [1:2] 351 73470\n",
      "  .. .. ..@ Dimnames:List of 2\n",
      "  .. .. .. ..$ : chr [1:351] \"Abcc4\" \"Acp5\" \"Acvr1\" \"Acvr2a\" ...\n",
      "  .. .. .. ..$ : chr [1:73470] \"embryo6_Pos0_cell2\" \"embryo6_Pos0_cell3\" \"embryo6_Pos0_cell4\" \"embryo6_Pos0_cell5\" ...\n",
      "  .. .. ..@ x       : num [1:6290902] 3 2 1 1 1 1 1 3 1 1 ...\n",
      "  .. .. ..@ factors : list()\n",
      "  ..@ data         : num [1:351, 1:73470] 0 0 0 0 0 0 0 0 0 0 ...\n",
      "  .. ..- attr(*, \"dimnames\")=List of 2\n",
      "  .. .. ..$ : chr [1:351] \"Abcc4\" \"Acp5\" \"Acvr1\" \"Acvr2a\" ...\n",
      "  .. .. ..$ : chr [1:73470] \"embryo6_Pos0_cell2\" \"embryo6_Pos0_cell3\" \"embryo6_Pos0_cell4\" \"embryo6_Pos0_cell5\" ...\n",
      "  ..@ scale.data   : num[0 , 0 ] \n",
      "  ..@ key          : Named chr \"originalexp_\"\n",
      "  .. ..- attr(*, \"names\")= chr \"\"\n",
      "  ..@ assay.orig   : NULL\n",
      "  ..@ var.features : logi(0) \n",
      "  ..@ meta.features:'data.frame':\t351 obs. of  0 variables\n",
      "  ..@ misc         : list()\n"
     ]
    }
   ],
   "source": [
    "str(seqFISH_preQC@assays$originalexp)"
   ]
  },
  {
   "cell_type": "code",
   "execution_count": 39,
   "id": "21999603-63f2-49c7-a66e-39c7d9d1e648",
   "metadata": {},
   "outputs": [],
   "source": [
    "seqFISH_counts <- seqFISH_preQC@assays$originalexp@counts\n",
    "seqFISH_logcounts <- seqFISH_preQC@assays$originalexp@data"
   ]
  },
  {
   "cell_type": "code",
   "execution_count": 40,
   "id": "21cc16d0-c2ec-4e10-87f8-fd64d32669be",
   "metadata": {},
   "outputs": [],
   "source": [
    "seqFISH_probes <- rownames(seqFISH_counts)"
   ]
  },
  {
   "cell_type": "code",
   "execution_count": 41,
   "id": "31194de4-ce42-4514-8f0c-b615f1172ed3",
   "metadata": {},
   "outputs": [],
   "source": [
    "atlas_counts <- atlas@assays$originalexp@counts\n",
    "atlas_logcounts <- atlas@assays$originalexp@data"
   ]
  },
  {
   "cell_type": "code",
   "execution_count": 42,
   "id": "f473ee1c-1d97-4900-9ba3-52deeafa0726",
   "metadata": {},
   "outputs": [],
   "source": [
    "seqFISH_imputed_logcounts <- imputed_expression"
   ]
  },
  {
   "cell_type": "code",
   "execution_count": 43,
   "id": "842ea7ee-923c-4abb-948d-b38962a521ba",
   "metadata": {},
   "outputs": [],
   "source": [
    "seqFISH_imputed_counts <- imputed_counts_expression"
   ]
  },
  {
   "cell_type": "code",
   "execution_count": 44,
   "id": "ac33feef-d310-4e46-9a28-579bba487de0",
   "metadata": {},
   "outputs": [
    {
     "data": {
      "text/html": [
       "<style>\n",
       ".list-inline {list-style: none; margin:0; padding: 0}\n",
       ".list-inline>li {display: inline-block}\n",
       ".list-inline>li:not(:last-child)::after {content: \"\\00b7\"; padding: 0 .5ex}\n",
       "</style>\n",
       "<ol class=list-inline><li>27670</li><li>63188</li></ol>\n"
      ],
      "text/latex": [
       "\\begin{enumerate*}\n",
       "\\item 27670\n",
       "\\item 63188\n",
       "\\end{enumerate*}\n"
      ],
      "text/markdown": [
       "1. 27670\n",
       "2. 63188\n",
       "\n",
       "\n"
      ],
      "text/plain": [
       "[1] 27670 63188"
      ]
     },
     "metadata": {},
     "output_type": "display_data"
    }
   ],
   "source": [
    "dim(seqFISH_imputed_counts)"
   ]
  },
  {
   "cell_type": "code",
   "execution_count": 45,
   "id": "91bbffe6-6e6a-4272-a59a-0f3b4c167300",
   "metadata": {},
   "outputs": [
    {
     "data": {
      "text/html": [
       "<style>\n",
       ".list-inline {list-style: none; margin:0; padding: 0}\n",
       ".list-inline>li {display: inline-block}\n",
       ".list-inline>li:not(:last-child)::after {content: \"\\00b7\"; padding: 0 .5ex}\n",
       "</style>\n",
       "<ol class=list-inline><li>27669</li><li>125559</li></ol>\n"
      ],
      "text/latex": [
       "\\begin{enumerate*}\n",
       "\\item 27669\n",
       "\\item 125559\n",
       "\\end{enumerate*}\n"
      ],
      "text/markdown": [
       "1. 27669\n",
       "2. 125559\n",
       "\n",
       "\n"
      ],
      "text/plain": [
       "[1]  27669 125559"
      ]
     },
     "metadata": {},
     "output_type": "display_data"
    }
   ],
   "source": [
    "dim(atlas_logcounts)"
   ]
  },
  {
   "cell_type": "markdown",
   "id": "1ac2fc00-1e98-4f4c-8b48-4df7a5116a21",
   "metadata": {},
   "source": [
    "## Generating a new combined log counts matrix that includes the original counts from the scRNA data and the imputed counts or log counts for the seqFISH dataset"
   ]
  },
  {
   "cell_type": "code",
   "execution_count": 46,
   "id": "00e0a104-4adb-4734-b01c-913ab7971f72",
   "metadata": {},
   "outputs": [
    {
     "data": {
      "text/plain": [
       "An object of class Seurat \n",
       "1053 features across 73470 samples within 3 assays \n",
       "Active assay: across_timepoint_integration (351 features, 351 variable features)\n",
       " 2 other assays present: originalexp, within_timepoint_integration\n",
       " 5 dimensional reductions calculated: pca, umap, spatial, Shila_PCA, Shila_UMAP"
      ]
     },
     "metadata": {},
     "output_type": "display_data"
    }
   ],
   "source": [
    "seqFISH_preQC"
   ]
  },
  {
   "cell_type": "code",
   "execution_count": 47,
   "id": "55f9a48e-725f-480e-8f8c-55489a99432a",
   "metadata": {},
   "outputs": [],
   "source": [
    "seqFISH_cells_pre_QC <- colnames(seqFISH_preQC)\n",
    "seqFISH_cells_post_QC <- colnames(seqFISH_postQC)"
   ]
  },
  {
   "cell_type": "code",
   "execution_count": 48,
   "id": "fd4dffde-9c4c-4b1e-a120-16fc94aeaccc",
   "metadata": {},
   "outputs": [],
   "source": [
    "# Step 1: Cells in pre-QC but not in post-QC\n",
    "cells_pre_not_in_post <- setdiff(seqFISH_cells_pre_QC, seqFISH_cells_post_QC)"
   ]
  },
  {
   "cell_type": "code",
   "execution_count": 49,
   "id": "a7f30009-f2ed-42bb-8f56-58c4b22d7cb9",
   "metadata": {},
   "outputs": [
    {
     "name": "stdout",
     "output_type": "stream",
     "text": [
      " chr [1:10282] \"embryo6_Pos0_cell5\" \"embryo6_Pos0_cell6\" ...\n"
     ]
    }
   ],
   "source": [
    "str(cells_pre_not_in_post)"
   ]
  },
  {
   "cell_type": "code",
   "execution_count": 50,
   "id": "5ee66f8c-d7af-4199-a664-c4213f880fd1",
   "metadata": {},
   "outputs": [
    {
     "name": "stdout",
     "output_type": "stream",
     "text": [
      "Number of common genes: 27669 \n"
     ]
    },
    {
     "name": "stderr",
     "output_type": "stream",
     "text": [
      "   [[ suppressing 34 column names ‘cell_1’, ‘cell_2’, ‘cell_5’ ... ]]\n",
      "\n"
     ]
    },
    {
     "data": {
      "text/plain": [
       "6 x 188747 sparse Matrix of class \"dgCMatrix\"\n",
       "                                                                              \n",
       "Xkr4    . . . . . . . . .        . . . . . . . . . . . .       . . . . . . . .\n",
       "Gm1992  . . . . . . . . .        . . . . . . . . . . . .       . . . . . . . .\n",
       "Gm37381 . . . . . . . . .        . . . . . . . . . . . .       . . . . . . . .\n",
       "Rp1     . . . . . . . . .        . . . . . . . . . . . .       . . . . . . . .\n",
       "Sox17   . . . . . . . . 3.065554 . . . . . . . . . . . 2.91074 . . . . . . . .\n",
       "Gm37323 . . . . . . . . .        . . . . . . . . . . . .       . . . . . . . .\n",
       "                        \n",
       "Xkr4    . . . . . ......\n",
       "Gm1992  . . . . . ......\n",
       "Gm37381 . . . . . ......\n",
       "Rp1     . . . . . ......\n",
       "Sox17   . . . . . ......\n",
       "Gm37323 . . . . . ......\n",
       "\n",
       " .....suppressing 188713 columns in show(); maybe adjust 'options(max.print= *, width = *)'\n",
       " .............................."
      ]
     },
     "metadata": {},
     "output_type": "display_data"
    }
   ],
   "source": [
    "counts_matrix1 <- atlas_logcounts\n",
    "counts_matrix2 <- seqFISH_imputed_logcounts\n",
    "\n",
    "# Step 1: Find common row names\n",
    "common_genes <- intersect(rownames(counts_matrix1), rownames(counts_matrix2))\n",
    "num_common_genes <- length(common_genes)\n",
    "\n",
    "# Print the number of common genes\n",
    "cat(\"Number of common genes:\", num_common_genes, \"\\n\")\n",
    "\n",
    "# Step 2: Subset and align rows\n",
    "counts_matrix1_aligned <- counts_matrix1[common_genes, ]\n",
    "counts_matrix2_aligned <- counts_matrix2[common_genes, ]\n",
    "\n",
    "# Step 3: Combine the matrices by columns\n",
    "combined_matrix <- cbind(counts_matrix1_aligned, counts_matrix2_aligned)\n",
    "\n",
    "# Display the combined matrix\n",
    "head(combined_matrix)"
   ]
  },
  {
   "cell_type": "code",
   "execution_count": 51,
   "id": "0e8da0c7-fa05-4c05-90df-e4b87453b7ec",
   "metadata": {},
   "outputs": [
    {
     "name": "stderr",
     "output_type": "stream",
     "text": [
      "   [[ suppressing 34 column names ‘cell_1’, ‘cell_2’, ‘cell_5’ ... ]]\n",
      "\n"
     ]
    },
    {
     "data": {
      "text/plain": [
       "6 x 199029 sparse Matrix of class \"dgCMatrix\"\n",
       "                                                                              \n",
       "Xkr4    . . . . . . . . .        . . . . . . . . . . . .       . . . . . . . .\n",
       "Gm1992  . . . . . . . . .        . . . . . . . . . . . .       . . . . . . . .\n",
       "Gm37381 . . . . . . . . .        . . . . . . . . . . . .       . . . . . . . .\n",
       "Rp1     . . . . . . . . .        . . . . . . . . . . . .       . . . . . . . .\n",
       "Sox17   . . . . . . . . 3.065554 . . . . . . . . . . . 2.91074 . . . . . . . .\n",
       "Gm37323 . . . . . . . . .        . . . . . . . . . . . .       . . . . . . . .\n",
       "                        \n",
       "Xkr4    . . . . . ......\n",
       "Gm1992  . . . . . ......\n",
       "Gm37381 . . . . . ......\n",
       "Rp1     . . . . . ......\n",
       "Sox17   . . . . . ......\n",
       "Gm37323 . . . . . ......\n",
       "\n",
       " .....suppressing 198995 columns in show(); maybe adjust 'options(max.print= *, width = *)'\n",
       " .............................."
      ]
     },
     "metadata": {},
     "output_type": "display_data"
    }
   ],
   "source": [
    "# Create a zero matrix for cells_pre_not_in_post\n",
    "zero_matrix <- Matrix(0, nrow = nrow(combined_matrix), ncol = length(cells_pre_not_in_post))\n",
    "colnames(zero_matrix) <- cells_pre_not_in_post\n",
    "rownames(zero_matrix) <- rownames(combined_matrix)\n",
    "\n",
    "# Add the zero columns to the combined matrix\n",
    "final_combined_matrix <- cbind(combined_matrix, zero_matrix)\n",
    "\n",
    "# Print the final combined matrix\n",
    "head(final_combined_matrix)"
   ]
  },
  {
   "cell_type": "code",
   "execution_count": 52,
   "id": "55f7c410-5ee2-44b2-bce1-da82249e21be",
   "metadata": {},
   "outputs": [
    {
     "data": {
      "text/html": [
       "<style>\n",
       ".list-inline {list-style: none; margin:0; padding: 0}\n",
       ".list-inline>li {display: inline-block}\n",
       ".list-inline>li:not(:last-child)::after {content: \"\\00b7\"; padding: 0 .5ex}\n",
       "</style>\n",
       "<ol class=list-inline><li>27669</li><li>199029</li></ol>\n"
      ],
      "text/latex": [
       "\\begin{enumerate*}\n",
       "\\item 27669\n",
       "\\item 199029\n",
       "\\end{enumerate*}\n"
      ],
      "text/markdown": [
       "1. 27669\n",
       "2. 199029\n",
       "\n",
       "\n"
      ],
      "text/plain": [
       "[1]  27669 199029"
      ]
     },
     "metadata": {},
     "output_type": "display_data"
    }
   ],
   "source": [
    "dim(final_combined_matrix)"
   ]
  },
  {
   "cell_type": "code",
   "execution_count": 53,
   "id": "9cd8fb3f-d7a3-4354-8f3c-33bf7721c61c",
   "metadata": {},
   "outputs": [],
   "source": [
    "total_imputed_logcounts <- final_combined_matrix"
   ]
  },
  {
   "cell_type": "code",
   "execution_count": 54,
   "id": "775b301c-086d-4a2b-b2d3-35114a416f52",
   "metadata": {},
   "outputs": [
    {
     "name": "stdout",
     "output_type": "stream",
     "text": [
      "Number of common genes: 27669 \n"
     ]
    },
    {
     "name": "stderr",
     "output_type": "stream",
     "text": [
      "   [[ suppressing 34 column names ‘cell_1’, ‘cell_2’, ‘cell_5’ ... ]]\n",
      "\n"
     ]
    },
    {
     "data": {
      "text/plain": [
       "6 x 188747 sparse Matrix of class \"dgCMatrix\"\n",
       "                                                                           \n",
       "Xkr4    . . . . . . . . . . . . . . . . . . . . . . . . . . . . . . . . . .\n",
       "Gm1992  . . . . . . . . . . . . . . . . . . . . . . . . . . . . . . . . . .\n",
       "Gm37381 . . . . . . . . . . . . . . . . . . . . . . . . . . . . . . . . . .\n",
       "Rp1     . . . . . . . . . . . . . . . . . . . . . . . . . . . . . . . . . .\n",
       "Sox17   . . . . . . . . 8 . . . . . . . . . . . 2 . . . . . . . . . . . . .\n",
       "Gm37323 . . . . . . . . . . . . . . . . . . . . . . . . . . . . . . . . . .\n",
       "              \n",
       "Xkr4    ......\n",
       "Gm1992  ......\n",
       "Gm37381 ......\n",
       "Rp1     ......\n",
       "Sox17   ......\n",
       "Gm37323 ......\n",
       "\n",
       " .....suppressing 188713 columns in show(); maybe adjust 'options(max.print= *, width = *)'\n",
       " .............................."
      ]
     },
     "metadata": {},
     "output_type": "display_data"
    }
   ],
   "source": [
    "counts_matrix1 <- atlas_counts\n",
    "counts_matrix2 <- seqFISH_imputed_counts\n",
    "\n",
    "# Step 1: Find common row names\n",
    "common_genes <- intersect(rownames(counts_matrix1), rownames(counts_matrix2))\n",
    "num_common_genes <- length(common_genes)\n",
    "\n",
    "# Print the number of common genes\n",
    "cat(\"Number of common genes:\", num_common_genes, \"\\n\")\n",
    "\n",
    "# Step 2: Subset and align rows\n",
    "counts_matrix1_aligned <- counts_matrix1[common_genes, ]\n",
    "counts_matrix2_aligned <- counts_matrix2[common_genes, ]\n",
    "\n",
    "# Step 3: Combine the matrices by columns\n",
    "combined_matrix <- cbind(counts_matrix1_aligned, counts_matrix2_aligned)\n",
    "\n",
    "# Display the combined matrix\n",
    "head(combined_matrix)"
   ]
  },
  {
   "cell_type": "code",
   "execution_count": 55,
   "id": "cb5b5c7e-e282-4abd-8b66-75aff42a9f51",
   "metadata": {},
   "outputs": [
    {
     "name": "stderr",
     "output_type": "stream",
     "text": [
      "   [[ suppressing 34 column names ‘cell_1’, ‘cell_2’, ‘cell_5’ ... ]]\n",
      "\n"
     ]
    },
    {
     "data": {
      "text/plain": [
       "6 x 199029 sparse Matrix of class \"dgCMatrix\"\n",
       "                                                                           \n",
       "Xkr4    . . . . . . . . . . . . . . . . . . . . . . . . . . . . . . . . . .\n",
       "Gm1992  . . . . . . . . . . . . . . . . . . . . . . . . . . . . . . . . . .\n",
       "Gm37381 . . . . . . . . . . . . . . . . . . . . . . . . . . . . . . . . . .\n",
       "Rp1     . . . . . . . . . . . . . . . . . . . . . . . . . . . . . . . . . .\n",
       "Sox17   . . . . . . . . 8 . . . . . . . . . . . 2 . . . . . . . . . . . . .\n",
       "Gm37323 . . . . . . . . . . . . . . . . . . . . . . . . . . . . . . . . . .\n",
       "              \n",
       "Xkr4    ......\n",
       "Gm1992  ......\n",
       "Gm37381 ......\n",
       "Rp1     ......\n",
       "Sox17   ......\n",
       "Gm37323 ......\n",
       "\n",
       " .....suppressing 198995 columns in show(); maybe adjust 'options(max.print= *, width = *)'\n",
       " .............................."
      ]
     },
     "metadata": {},
     "output_type": "display_data"
    }
   ],
   "source": [
    "# Create a zero matrix for cells_pre_not_in_post\n",
    "zero_matrix <- Matrix(0, nrow = nrow(combined_matrix), ncol = length(cells_pre_not_in_post))\n",
    "colnames(zero_matrix) <- cells_pre_not_in_post\n",
    "rownames(zero_matrix) <- rownames(combined_matrix)\n",
    "\n",
    "# Add the zero columns to the combined matrix\n",
    "final_combined_matrix <- cbind(combined_matrix, zero_matrix)\n",
    "\n",
    "# Print the final combined matrix\n",
    "head(final_combined_matrix)"
   ]
  },
  {
   "cell_type": "code",
   "execution_count": 56,
   "id": "19b301fa-912f-4268-bad9-90e714ddcd20",
   "metadata": {},
   "outputs": [
    {
     "data": {
      "text/html": [
       "<style>\n",
       ".list-inline {list-style: none; margin:0; padding: 0}\n",
       ".list-inline>li {display: inline-block}\n",
       ".list-inline>li:not(:last-child)::after {content: \"\\00b7\"; padding: 0 .5ex}\n",
       "</style>\n",
       "<ol class=list-inline><li>27669</li><li>199029</li></ol>\n"
      ],
      "text/latex": [
       "\\begin{enumerate*}\n",
       "\\item 27669\n",
       "\\item 199029\n",
       "\\end{enumerate*}\n"
      ],
      "text/markdown": [
       "1. 27669\n",
       "2. 199029\n",
       "\n",
       "\n"
      ],
      "text/plain": [
       "[1]  27669 199029"
      ]
     },
     "metadata": {},
     "output_type": "display_data"
    }
   ],
   "source": [
    "dim(final_combined_matrix)"
   ]
  },
  {
   "cell_type": "code",
   "execution_count": 57,
   "id": "8b871013-011c-47c7-8043-408153a27bc4",
   "metadata": {},
   "outputs": [],
   "source": [
    "total_imputed_counts <- final_combined_matrix"
   ]
  },
  {
   "cell_type": "code",
   "execution_count": 58,
   "id": "846d7e69-c634-4db5-a1d9-9ad82eb3ce21",
   "metadata": {},
   "outputs": [
    {
     "data": {
      "text/html": [
       "<style>\n",
       ".list-inline {list-style: none; margin:0; padding: 0}\n",
       ".list-inline>li {display: inline-block}\n",
       ".list-inline>li:not(:last-child)::after {content: \"\\00b7\"; padding: 0 .5ex}\n",
       "</style>\n",
       "<ol class=list-inline><li>27669</li><li>199029</li></ol>\n"
      ],
      "text/latex": [
       "\\begin{enumerate*}\n",
       "\\item 27669\n",
       "\\item 199029\n",
       "\\end{enumerate*}\n"
      ],
      "text/markdown": [
       "1. 27669\n",
       "2. 199029\n",
       "\n",
       "\n"
      ],
      "text/plain": [
       "[1]  27669 199029"
      ]
     },
     "metadata": {},
     "output_type": "display_data"
    }
   ],
   "source": [
    "dim(total_imputed_counts)"
   ]
  },
  {
   "cell_type": "code",
   "execution_count": 59,
   "id": "355e59cd-da66-475f-82ef-ec1ab6179cc3",
   "metadata": {},
   "outputs": [
    {
     "data": {
      "text/html": [
       "<style>\n",
       ".list-inline {list-style: none; margin:0; padding: 0}\n",
       ".list-inline>li {display: inline-block}\n",
       ".list-inline>li:not(:last-child)::after {content: \"\\00b7\"; padding: 0 .5ex}\n",
       "</style>\n",
       "<ol class=list-inline><li>27669</li><li>199029</li></ol>\n"
      ],
      "text/latex": [
       "\\begin{enumerate*}\n",
       "\\item 27669\n",
       "\\item 199029\n",
       "\\end{enumerate*}\n"
      ],
      "text/markdown": [
       "1. 27669\n",
       "2. 199029\n",
       "\n",
       "\n"
      ],
      "text/plain": [
       "[1]  27669 199029"
      ]
     },
     "metadata": {},
     "output_type": "display_data"
    }
   ],
   "source": [
    "dim(total_imputed_logcounts)"
   ]
  },
  {
   "cell_type": "code",
   "execution_count": 60,
   "id": "01dc22c3-5157-488f-877a-dd928b4f1f5b",
   "metadata": {},
   "outputs": [
    {
     "name": "stderr",
     "output_type": "stream",
     "text": [
      "   [[ suppressing 34 column names ‘cell_1’, ‘cell_2’, ‘cell_5’ ... ]]\n",
      "\n"
     ]
    },
    {
     "data": {
      "text/plain": [
       "6 x 199029 sparse Matrix of class \"dgCMatrix\"\n",
       "                                                                           \n",
       "Xkr4    . . . . . . . . . . . . . . . . . . . . . . . . . . . . . . . . . .\n",
       "Gm1992  . . . . . . . . . . . . . . . . . . . . . . . . . . . . . . . . . .\n",
       "Gm37381 . . . . . . . . . . . . . . . . . . . . . . . . . . . . . . . . . .\n",
       "Rp1     . . . . . . . . . . . . . . . . . . . . . . . . . . . . . . . . . .\n",
       "Sox17   . . . . . . . . 8 . . . . . . . . . . . 2 . . . . . . . . . . . . .\n",
       "Gm37323 . . . . . . . . . . . . . . . . . . . . . . . . . . . . . . . . . .\n",
       "              \n",
       "Xkr4    ......\n",
       "Gm1992  ......\n",
       "Gm37381 ......\n",
       "Rp1     ......\n",
       "Sox17   ......\n",
       "Gm37323 ......\n",
       "\n",
       " .....suppressing 198995 columns in show(); maybe adjust 'options(max.print= *, width = *)'\n",
       " .............................."
      ]
     },
     "metadata": {},
     "output_type": "display_data"
    }
   ],
   "source": [
    "head(total_imputed_counts)"
   ]
  },
  {
   "cell_type": "code",
   "execution_count": 61,
   "id": "c36d1680-9d05-4481-a11b-e5034cce41ae",
   "metadata": {},
   "outputs": [
    {
     "name": "stderr",
     "output_type": "stream",
     "text": [
      "   [[ suppressing 34 column names ‘cell_1’, ‘cell_2’, ‘cell_5’ ... ]]\n",
      "\n"
     ]
    },
    {
     "data": {
      "text/plain": [
       "6 x 199029 sparse Matrix of class \"dgCMatrix\"\n",
       "                                                                              \n",
       "Xkr4    . . . . . . . . .        . . . . . . . . . . . .       . . . . . . . .\n",
       "Gm1992  . . . . . . . . .        . . . . . . . . . . . .       . . . . . . . .\n",
       "Gm37381 . . . . . . . . .        . . . . . . . . . . . .       . . . . . . . .\n",
       "Rp1     . . . . . . . . .        . . . . . . . . . . . .       . . . . . . . .\n",
       "Sox17   . . . . . . . . 3.065554 . . . . . . . . . . . 2.91074 . . . . . . . .\n",
       "Gm37323 . . . . . . . . .        . . . . . . . . . . . .       . . . . . . . .\n",
       "                        \n",
       "Xkr4    . . . . . ......\n",
       "Gm1992  . . . . . ......\n",
       "Gm37381 . . . . . ......\n",
       "Rp1     . . . . . ......\n",
       "Sox17   . . . . . ......\n",
       "Gm37323 . . . . . ......\n",
       "\n",
       " .....suppressing 198995 columns in show(); maybe adjust 'options(max.print= *, width = *)'\n",
       " .............................."
      ]
     },
     "metadata": {},
     "output_type": "display_data"
    }
   ],
   "source": [
    "head(total_imputed_logcounts)"
   ]
  },
  {
   "cell_type": "code",
   "execution_count": 62,
   "id": "85ccf8dd-f031-4573-b777-b4c0429a30ba",
   "metadata": {},
   "outputs": [],
   "source": [
    "seurat <- CreateSeuratObject(counts = total_imputed_counts)"
   ]
  },
  {
   "cell_type": "code",
   "execution_count": 63,
   "id": "019f46dd-ba09-4391-a3aa-9fbe607d8596",
   "metadata": {},
   "outputs": [
    {
     "data": {
      "text/plain": [
       "An object of class Seurat \n",
       "27669 features across 199029 samples within 1 assay \n",
       "Active assay: RNA (27669 features, 0 variable features)"
      ]
     },
     "metadata": {},
     "output_type": "display_data"
    }
   ],
   "source": [
    "seurat"
   ]
  },
  {
   "cell_type": "code",
   "execution_count": 64,
   "id": "1d5c1fae-501e-462f-9c53-dc290c49cafd",
   "metadata": {},
   "outputs": [],
   "source": [
    "# Creat a new assay object to store imputed data\n",
    "imputed_logcounts <- CreateAssayObject(data = total_imputed_logcounts)\n",
    "\n"
   ]
  },
  {
   "cell_type": "code",
   "execution_count": 65,
   "id": "3c234853-b7b4-4831-8ad8-fd3151f752b8",
   "metadata": {},
   "outputs": [
    {
     "data": {
      "text/html": [
       "<style>\n",
       ".list-inline {list-style: none; margin:0; padding: 0}\n",
       ".list-inline>li {display: inline-block}\n",
       ".list-inline>li:not(:last-child)::after {content: \"\\00b7\"; padding: 0 .5ex}\n",
       "</style>\n",
       "<ol class=list-inline><li>27669</li><li>199029</li></ol>\n"
      ],
      "text/latex": [
       "\\begin{enumerate*}\n",
       "\\item 27669\n",
       "\\item 199029\n",
       "\\end{enumerate*}\n"
      ],
      "text/markdown": [
       "1. 27669\n",
       "2. 199029\n",
       "\n",
       "\n"
      ],
      "text/plain": [
       "[1]  27669 199029"
      ]
     },
     "metadata": {},
     "output_type": "display_data"
    }
   ],
   "source": [
    "dim(imputed_logcounts)"
   ]
  },
  {
   "cell_type": "code",
   "execution_count": 66,
   "id": "5af8ccde-933b-4a4d-b743-0e74f4c59872",
   "metadata": {},
   "outputs": [],
   "source": [
    "# add this assay to the previously created Seurat object\n",
    "seurat[[\"imputedlogcounts\"]] <- imputed_logcounts"
   ]
  },
  {
   "cell_type": "code",
   "execution_count": 67,
   "id": "434a7578-59da-448e-8690-255aae283262",
   "metadata": {},
   "outputs": [
    {
     "data": {
      "text/plain": [
       "An object of class Seurat \n",
       "55338 features across 199029 samples within 2 assays \n",
       "Active assay: RNA (27669 features, 0 variable features)\n",
       " 1 other assay present: imputedlogcounts"
      ]
     },
     "metadata": {},
     "output_type": "display_data"
    }
   ],
   "source": [
    "seurat"
   ]
  },
  {
   "cell_type": "markdown",
   "id": "69c40e1a-ff9a-475a-a843-24d282215fb2",
   "metadata": {},
   "source": [
    "## Generate an assay with just the seqFISH probe expression for seqFISH and the same set of genes in scRNA dataset"
   ]
  },
  {
   "cell_type": "code",
   "execution_count": 68,
   "id": "197329fa-dfeb-4dcf-aabc-dc6502c20456",
   "metadata": {},
   "outputs": [
    {
     "name": "stdout",
     "output_type": "stream",
     "text": [
      "Number of common genes: 350 \n"
     ]
    },
    {
     "name": "stderr",
     "output_type": "stream",
     "text": [
      "   [[ suppressing 34 column names ‘cell_1’, ‘cell_2’, ‘cell_5’ ... ]]\n",
      "\n"
     ]
    },
    {
     "data": {
      "text/plain": [
       "6 x 199029 sparse Matrix of class \"dgCMatrix\"\n",
       "                                                                              \n",
       "Sox17  . . . . . . . . 3.065554 . . . . . . . . . . . 2.91074 . . .        . .\n",
       "Tfap2b . . . . . . . . .        . . . . . . . . . . . .       . . .        . .\n",
       "Gbx2   . . . . . . . . .        . . . . . . . . . . . .       . . .        . .\n",
       "Per2   . . . . . . . . .        . . . . . . . . . . . .       . . .        . .\n",
       "Twist2 . . . . . . . . .        . . . . . . . . . . . .       . . .        . .\n",
       "Bcl2   . . . . . . . . .        . . . . . . . . . . . .       . . 1.144674 . .\n",
       "                             \n",
       "Sox17  . . . . . . . . ......\n",
       "Tfap2b . . . . . . . . ......\n",
       "Gbx2   . . . . . . . . ......\n",
       "Per2   . . . . . . . . ......\n",
       "Twist2 . . . . . . . . ......\n",
       "Bcl2   . . . . . . . . ......\n",
       "\n",
       " .....suppressing 198995 columns in show(); maybe adjust 'options(max.print= *, width = *)'\n",
       " .............................."
      ]
     },
     "metadata": {},
     "output_type": "display_data"
    }
   ],
   "source": [
    "counts_matrix1 <- atlas_logcounts\n",
    "counts_matrix2 <- seqFISH_logcounts\n",
    "\n",
    "# Step 1: Find common row names\n",
    "common_genes <- intersect(rownames(counts_matrix1), rownames(counts_matrix2))\n",
    "num_common_genes <- length(common_genes)\n",
    "\n",
    "# Print the number of common genes\n",
    "cat(\"Number of common genes:\", num_common_genes, \"\\n\")\n",
    "\n",
    "# Step 2: Subset and align rows\n",
    "counts_matrix1_aligned <- counts_matrix1[common_genes, ]\n",
    "counts_matrix2_aligned <- counts_matrix2[common_genes, ]\n",
    "\n",
    "# Step 3: Combine the matrices by columns\n",
    "combined_matrix <- cbind(counts_matrix1_aligned, counts_matrix2_aligned)\n",
    "\n",
    "# Display the combined matrix\n",
    "head(combined_matrix)"
   ]
  },
  {
   "cell_type": "code",
   "execution_count": 69,
   "id": "03db128a-0faf-4871-b0e9-905e043ac10d",
   "metadata": {},
   "outputs": [
    {
     "data": {
      "text/html": [
       "<style>\n",
       ".list-inline {list-style: none; margin:0; padding: 0}\n",
       ".list-inline>li {display: inline-block}\n",
       ".list-inline>li:not(:last-child)::after {content: \"\\00b7\"; padding: 0 .5ex}\n",
       "</style>\n",
       "<ol class=list-inline><li>350</li><li>199029</li></ol>\n"
      ],
      "text/latex": [
       "\\begin{enumerate*}\n",
       "\\item 350\n",
       "\\item 199029\n",
       "\\end{enumerate*}\n"
      ],
      "text/markdown": [
       "1. 350\n",
       "2. 199029\n",
       "\n",
       "\n"
      ],
      "text/plain": [
       "[1]    350 199029"
      ]
     },
     "metadata": {},
     "output_type": "display_data"
    }
   ],
   "source": [
    "dim(combined_matrix)"
   ]
  },
  {
   "cell_type": "code",
   "execution_count": 70,
   "id": "e5676778-5d14-420f-a658-2e1f9d36d6ff",
   "metadata": {},
   "outputs": [],
   "source": [
    "total_seqFISH_features_logcounts <- combined_matrix"
   ]
  },
  {
   "cell_type": "code",
   "execution_count": 71,
   "id": "366f1c5c-e4ff-4b35-b661-549674607292",
   "metadata": {},
   "outputs": [],
   "source": [
    "# Creat a new assay object to store imputed data\n",
    "seqFISH_logcounts <- CreateAssayObject(data = total_seqFISH_features_logcounts)\n",
    "\n",
    "# add this assay to the previously created Seurat object\n",
    "seurat[[\"seqFISHlogcounts\"]] <- seqFISH_logcounts"
   ]
  },
  {
   "cell_type": "code",
   "execution_count": 72,
   "id": "12db0b1a-f875-4676-a744-cd6b2fa8a2d5",
   "metadata": {},
   "outputs": [
    {
     "data": {
      "text/plain": [
       "An object of class Seurat \n",
       "55688 features across 199029 samples within 3 assays \n",
       "Active assay: RNA (27669 features, 0 variable features)\n",
       " 2 other assays present: imputedlogcounts, seqFISHlogcounts"
      ]
     },
     "metadata": {},
     "output_type": "display_data"
    }
   ],
   "source": [
    "seurat"
   ]
  },
  {
   "cell_type": "markdown",
   "id": "d70faa4a-53f9-48bd-ba45-0a1749c303dc",
   "metadata": {
    "tags": []
   },
   "source": [
    "## Data Locations"
   ]
  },
  {
   "cell_type": "code",
   "execution_count": 73,
   "id": "0acc9762-ea3a-417a-8b15-8e1e39c2610f",
   "metadata": {
    "tags": []
   },
   "outputs": [],
   "source": [
    "##### Load in Seurat Objects for post QC analyses #####\n",
    "\n",
    "io = list()\n",
    "io$main = \"/rds/project/rds-SDzz0CATGms/users/ltgh2\" # this is the main directory\n",
    "\n",
    "# Set the working directory\n",
    "setwd(io$main)\n",
    "\n",
    "## Set location for the cell type metadata\n",
    "io$seqFISH_celltype = file.path(io$main, \n",
    "                               \"projects/03_seqFISH_FINAL/code/FINAL_METADATA/outputs/seqFISH_celltype.Rds\")\n",
    "io$extended_atlas_celltype = file.path(io$main, \n",
    "                               \"projects/03_seqFISH_FINAL/code/FINAL_METADATA/outputs/extended_atlas_celltype.Rds\")\n",
    "io$AP_DV = file.path(io$main, \n",
    "                               \"projects/03_seqFISH_FINAL/code/FINAL_METADATA/outputs/AP_DV.Rds\")"
   ]
  },
  {
   "cell_type": "code",
   "execution_count": 74,
   "id": "db0b10b8-0ccd-453d-b7de-1924c20e0724",
   "metadata": {},
   "outputs": [],
   "source": [
    "# Load in the labels\n",
    "seqFISH_celltype = readRDS(io$seqFISH_celltype)\n",
    "extended_atlas_celltype = readRDS(io$extended_atlas_celltype)\n",
    "AP_DV = readRDS(io$AP_DV)"
   ]
  },
  {
   "cell_type": "code",
   "execution_count": 75,
   "id": "ff1b9a3a-1e55-4331-b661-78c364fefd78",
   "metadata": {},
   "outputs": [],
   "source": [
    "seurat <- AddMetaData(seurat, metadata = seqFISH_celltype)\n",
    "seurat <- AddMetaData(seurat, metadata = extended_atlas_celltype)\n",
    "seurat <- AddMetaData(seurat, metadata = AP_DV)"
   ]
  },
  {
   "cell_type": "code",
   "execution_count": 76,
   "id": "8a64e30e-e5df-45fc-998c-b8b1c5aabeef",
   "metadata": {},
   "outputs": [
    {
     "data": {
      "text/html": [
       "<table class=\"dataframe\">\n",
       "<caption>A data.frame: 6 x 7</caption>\n",
       "<thead>\n",
       "\t<tr><th></th><th scope=col>orig.ident</th><th scope=col>nCount_RNA</th><th scope=col>nFeature_RNA</th><th scope=col>seqFISH_celltype</th><th scope=col>extended_atlas_celltype</th><th scope=col>AP</th><th scope=col>DV</th></tr>\n",
       "\t<tr><th></th><th scope=col>&lt;fct&gt;</th><th scope=col>&lt;dbl&gt;</th><th scope=col>&lt;int&gt;</th><th scope=col>&lt;fct&gt;</th><th scope=col>&lt;chr&gt;</th><th scope=col>&lt;dbl&gt;</th><th scope=col>&lt;dbl&gt;</th></tr>\n",
       "</thead>\n",
       "<tbody>\n",
       "\t<tr><th scope=row>cell_1</th><td>cell</td><td> 8962</td><td>2546</td><td>epiblast              </td><td>Epiblast        </td><td>      NA</td><td>      NA</td></tr>\n",
       "\t<tr><th scope=row>cell_2</th><td>cell</td><td>19569</td><td>3722</td><td>rostral epiblast      </td><td>Primitive Streak</td><td>53.41397</td><td>44.80898</td></tr>\n",
       "\t<tr><th scope=row>cell_5</th><td>cell</td><td>14190</td><td>3479</td><td>distal ExE ectoderm #1</td><td>ExE ectoderm    </td><td>      NA</td><td>      NA</td></tr>\n",
       "\t<tr><th scope=row>cell_6</th><td>cell</td><td>20345</td><td>3864</td><td>epiblast              </td><td>Epiblast        </td><td>69.74577</td><td>69.83081</td></tr>\n",
       "\t<tr><th scope=row>cell_8</th><td>cell</td><td>22542</td><td>4040</td><td>epiblast              </td><td>Epiblast        </td><td>71.04784</td><td>62.39884</td></tr>\n",
       "\t<tr><th scope=row>cell_9</th><td>cell</td><td>24502</td><td>4350</td><td>epiblast              </td><td>Epiblast        </td><td>77.50144</td><td>78.04394</td></tr>\n",
       "</tbody>\n",
       "</table>\n"
      ],
      "text/latex": [
       "A data.frame: 6 x 7\n",
       "\\begin{tabular}{r|lllllll}\n",
       "  & orig.ident & nCount\\_RNA & nFeature\\_RNA & seqFISH\\_celltype & extended\\_atlas\\_celltype & AP & DV\\\\\n",
       "  & <fct> & <dbl> & <int> & <fct> & <chr> & <dbl> & <dbl>\\\\\n",
       "\\hline\n",
       "\tcell\\_1 & cell &  8962 & 2546 & epiblast               & Epiblast         &       NA &       NA\\\\\n",
       "\tcell\\_2 & cell & 19569 & 3722 & rostral epiblast       & Primitive Streak & 53.41397 & 44.80898\\\\\n",
       "\tcell\\_5 & cell & 14190 & 3479 & distal ExE ectoderm \\#1 & ExE ectoderm     &       NA &       NA\\\\\n",
       "\tcell\\_6 & cell & 20345 & 3864 & epiblast               & Epiblast         & 69.74577 & 69.83081\\\\\n",
       "\tcell\\_8 & cell & 22542 & 4040 & epiblast               & Epiblast         & 71.04784 & 62.39884\\\\\n",
       "\tcell\\_9 & cell & 24502 & 4350 & epiblast               & Epiblast         & 77.50144 & 78.04394\\\\\n",
       "\\end{tabular}\n"
      ],
      "text/markdown": [
       "\n",
       "A data.frame: 6 x 7\n",
       "\n",
       "| <!--/--> | orig.ident &lt;fct&gt; | nCount_RNA &lt;dbl&gt; | nFeature_RNA &lt;int&gt; | seqFISH_celltype &lt;fct&gt; | extended_atlas_celltype &lt;chr&gt; | AP &lt;dbl&gt; | DV &lt;dbl&gt; |\n",
       "|---|---|---|---|---|---|---|---|\n",
       "| cell_1 | cell |  8962 | 2546 | epiblast               | Epiblast         |       NA |       NA |\n",
       "| cell_2 | cell | 19569 | 3722 | rostral epiblast       | Primitive Streak | 53.41397 | 44.80898 |\n",
       "| cell_5 | cell | 14190 | 3479 | distal ExE ectoderm #1 | ExE ectoderm     |       NA |       NA |\n",
       "| cell_6 | cell | 20345 | 3864 | epiblast               | Epiblast         | 69.74577 | 69.83081 |\n",
       "| cell_8 | cell | 22542 | 4040 | epiblast               | Epiblast         | 71.04784 | 62.39884 |\n",
       "| cell_9 | cell | 24502 | 4350 | epiblast               | Epiblast         | 77.50144 | 78.04394 |\n",
       "\n"
      ],
      "text/plain": [
       "       orig.ident nCount_RNA nFeature_RNA seqFISH_celltype      \n",
       "cell_1 cell        8962      2546         epiblast              \n",
       "cell_2 cell       19569      3722         rostral epiblast      \n",
       "cell_5 cell       14190      3479         distal ExE ectoderm #1\n",
       "cell_6 cell       20345      3864         epiblast              \n",
       "cell_8 cell       22542      4040         epiblast              \n",
       "cell_9 cell       24502      4350         epiblast              \n",
       "       extended_atlas_celltype AP       DV      \n",
       "cell_1 Epiblast                      NA       NA\n",
       "cell_2 Primitive Streak        53.41397 44.80898\n",
       "cell_5 ExE ectoderm                  NA       NA\n",
       "cell_6 Epiblast                69.74577 69.83081\n",
       "cell_8 Epiblast                71.04784 62.39884\n",
       "cell_9 Epiblast                77.50144 78.04394"
      ]
     },
     "metadata": {},
     "output_type": "display_data"
    }
   ],
   "source": [
    "head(seurat@meta.data)"
   ]
  },
  {
   "cell_type": "code",
   "execution_count": 77,
   "id": "1301e4d5-b11f-4227-b7ed-573a75faacfd",
   "metadata": {},
   "outputs": [],
   "source": [
    "# Add Meta Data the includes dataset information\n",
    "seurat@meta.data$dataset <- seurat@meta.data$orig.ident\n",
    "seurat@meta.data$dataset <- recode(seurat@meta.data$dataset, \n",
    "                                            \"cell\" = \"scRNA\",\n",
    "                                            \"embryo4\" = \"seqFISH\",\n",
    "                                            \"embryo5\" = \"seqFISH\",\n",
    "                                            \"embryo6\" = \"seqFISH\",\n",
    "                                            \"embryo7\" = \"seqFISH\",\n",
    "                                            \"embryo1\" = \"seqFISH\",\n",
    "                                            \"embryo2\" = \"seqFISH\",\n",
    "                                            \"embryo3\" = \"seqFISH\",\n",
    "                                            \"ext\" = \"scRNA\")"
   ]
  },
  {
   "cell_type": "code",
   "execution_count": 78,
   "id": "ee775d40-5951-4f0f-a26b-8165120fcac0",
   "metadata": {},
   "outputs": [
    {
     "data": {
      "text/html": [
       "<table class=\"dataframe\">\n",
       "<caption>A data.frame: 6 x 8</caption>\n",
       "<thead>\n",
       "\t<tr><th></th><th scope=col>orig.ident</th><th scope=col>nCount_RNA</th><th scope=col>nFeature_RNA</th><th scope=col>seqFISH_celltype</th><th scope=col>extended_atlas_celltype</th><th scope=col>AP</th><th scope=col>DV</th><th scope=col>dataset</th></tr>\n",
       "\t<tr><th></th><th scope=col>&lt;fct&gt;</th><th scope=col>&lt;dbl&gt;</th><th scope=col>&lt;int&gt;</th><th scope=col>&lt;fct&gt;</th><th scope=col>&lt;chr&gt;</th><th scope=col>&lt;dbl&gt;</th><th scope=col>&lt;dbl&gt;</th><th scope=col>&lt;fct&gt;</th></tr>\n",
       "</thead>\n",
       "<tbody>\n",
       "\t<tr><th scope=row>cell_1</th><td>cell</td><td> 8962</td><td>2546</td><td>epiblast              </td><td>Epiblast        </td><td>      NA</td><td>      NA</td><td>scRNA</td></tr>\n",
       "\t<tr><th scope=row>cell_2</th><td>cell</td><td>19569</td><td>3722</td><td>rostral epiblast      </td><td>Primitive Streak</td><td>53.41397</td><td>44.80898</td><td>scRNA</td></tr>\n",
       "\t<tr><th scope=row>cell_5</th><td>cell</td><td>14190</td><td>3479</td><td>distal ExE ectoderm #1</td><td>ExE ectoderm    </td><td>      NA</td><td>      NA</td><td>scRNA</td></tr>\n",
       "\t<tr><th scope=row>cell_6</th><td>cell</td><td>20345</td><td>3864</td><td>epiblast              </td><td>Epiblast        </td><td>69.74577</td><td>69.83081</td><td>scRNA</td></tr>\n",
       "\t<tr><th scope=row>cell_8</th><td>cell</td><td>22542</td><td>4040</td><td>epiblast              </td><td>Epiblast        </td><td>71.04784</td><td>62.39884</td><td>scRNA</td></tr>\n",
       "\t<tr><th scope=row>cell_9</th><td>cell</td><td>24502</td><td>4350</td><td>epiblast              </td><td>Epiblast        </td><td>77.50144</td><td>78.04394</td><td>scRNA</td></tr>\n",
       "</tbody>\n",
       "</table>\n"
      ],
      "text/latex": [
       "A data.frame: 6 x 8\n",
       "\\begin{tabular}{r|llllllll}\n",
       "  & orig.ident & nCount\\_RNA & nFeature\\_RNA & seqFISH\\_celltype & extended\\_atlas\\_celltype & AP & DV & dataset\\\\\n",
       "  & <fct> & <dbl> & <int> & <fct> & <chr> & <dbl> & <dbl> & <fct>\\\\\n",
       "\\hline\n",
       "\tcell\\_1 & cell &  8962 & 2546 & epiblast               & Epiblast         &       NA &       NA & scRNA\\\\\n",
       "\tcell\\_2 & cell & 19569 & 3722 & rostral epiblast       & Primitive Streak & 53.41397 & 44.80898 & scRNA\\\\\n",
       "\tcell\\_5 & cell & 14190 & 3479 & distal ExE ectoderm \\#1 & ExE ectoderm     &       NA &       NA & scRNA\\\\\n",
       "\tcell\\_6 & cell & 20345 & 3864 & epiblast               & Epiblast         & 69.74577 & 69.83081 & scRNA\\\\\n",
       "\tcell\\_8 & cell & 22542 & 4040 & epiblast               & Epiblast         & 71.04784 & 62.39884 & scRNA\\\\\n",
       "\tcell\\_9 & cell & 24502 & 4350 & epiblast               & Epiblast         & 77.50144 & 78.04394 & scRNA\\\\\n",
       "\\end{tabular}\n"
      ],
      "text/markdown": [
       "\n",
       "A data.frame: 6 x 8\n",
       "\n",
       "| <!--/--> | orig.ident &lt;fct&gt; | nCount_RNA &lt;dbl&gt; | nFeature_RNA &lt;int&gt; | seqFISH_celltype &lt;fct&gt; | extended_atlas_celltype &lt;chr&gt; | AP &lt;dbl&gt; | DV &lt;dbl&gt; | dataset &lt;fct&gt; |\n",
       "|---|---|---|---|---|---|---|---|---|\n",
       "| cell_1 | cell |  8962 | 2546 | epiblast               | Epiblast         |       NA |       NA | scRNA |\n",
       "| cell_2 | cell | 19569 | 3722 | rostral epiblast       | Primitive Streak | 53.41397 | 44.80898 | scRNA |\n",
       "| cell_5 | cell | 14190 | 3479 | distal ExE ectoderm #1 | ExE ectoderm     |       NA |       NA | scRNA |\n",
       "| cell_6 | cell | 20345 | 3864 | epiblast               | Epiblast         | 69.74577 | 69.83081 | scRNA |\n",
       "| cell_8 | cell | 22542 | 4040 | epiblast               | Epiblast         | 71.04784 | 62.39884 | scRNA |\n",
       "| cell_9 | cell | 24502 | 4350 | epiblast               | Epiblast         | 77.50144 | 78.04394 | scRNA |\n",
       "\n"
      ],
      "text/plain": [
       "       orig.ident nCount_RNA nFeature_RNA seqFISH_celltype      \n",
       "cell_1 cell        8962      2546         epiblast              \n",
       "cell_2 cell       19569      3722         rostral epiblast      \n",
       "cell_5 cell       14190      3479         distal ExE ectoderm #1\n",
       "cell_6 cell       20345      3864         epiblast              \n",
       "cell_8 cell       22542      4040         epiblast              \n",
       "cell_9 cell       24502      4350         epiblast              \n",
       "       extended_atlas_celltype AP       DV       dataset\n",
       "cell_1 Epiblast                      NA       NA scRNA  \n",
       "cell_2 Primitive Streak        53.41397 44.80898 scRNA  \n",
       "cell_5 ExE ectoderm                  NA       NA scRNA  \n",
       "cell_6 Epiblast                69.74577 69.83081 scRNA  \n",
       "cell_8 Epiblast                71.04784 62.39884 scRNA  \n",
       "cell_9 Epiblast                77.50144 78.04394 scRNA  "
      ]
     },
     "metadata": {},
     "output_type": "display_data"
    }
   ],
   "source": [
    "head(seurat@meta.data)"
   ]
  },
  {
   "cell_type": "code",
   "execution_count": 79,
   "id": "567e8085-00a1-4f3a-94d5-c7a0517b155f",
   "metadata": {},
   "outputs": [],
   "source": [
    "##### Load in StabMAP_Outputs #####\n",
    "io$StabMAP_reweighted_MNNcorrected_original_counts_without_neigh = file.path(io$main, \"projects/03_seqFISH_FINAL/code/stab_map_all_together_post_QC/output/StabMAP_allstages_postQC_reweighted_MNNcorrected_original_counts_without_neigh.Rds\")\n",
    "io$StabMAP_reweighted_MNNcorrected_integrated_counts_without_neigh = file.path(io$main, \"projects/03_seqFISH_FINAL/code/stab_map_all_together_post_QC/output/StabMAP_allstages_postQC_reweighted_MNNcorrected_integrated_counts_without_neigh.Rds\")"
   ]
  },
  {
   "cell_type": "code",
   "execution_count": 80,
   "id": "2944357d-37a1-459a-9282-607fa9453f28",
   "metadata": {},
   "outputs": [],
   "source": [
    "## Load in the seqFISH UMAP coordinates\n",
    "io$UMAP_coordinates = file.path(io$main, \n",
    "                               \"projects/03_seqFISH_FINAL/code/stab_map_umap_generation/processed/StabMAP_allstage_postQC_MNNoriginal_UMAP.rds\")"
   ]
  },
  {
   "cell_type": "code",
   "execution_count": 81,
   "id": "eedb21cd-ef8e-4b8f-8943-8b4b241bda20",
   "metadata": {},
   "outputs": [
    {
     "name": "stderr",
     "output_type": "stream",
     "text": [
      "Warning message:\n",
      "“Keys should be one or more alphanumeric characters followed by an underscore, setting key from StabMap.MNN to StabMapMNN_”\n",
      "Warning message:\n",
      "“All keys should be one or more alphanumeric characters followed by an underscore '_', setting key to StabMapMNN_”\n"
     ]
    }
   ],
   "source": [
    "# Load in the UMAP coordinates\n",
    "UMAP_coordinates = readRDS(io$UMAP_coordinates)\n",
    "\n",
    "# Load in the StabMAP coordinates\n",
    "StabMAP_reweighted_MNNcorrected_original_counts_without_neigh = readRDS(io$StabMAP_reweighted_MNNcorrected_original_counts_without_neigh)\n",
    "\n",
    "##Create dimension reduced objects to insert into the seuart object\n",
    "StabMAP_original <- CreateDimReducObject(embeddings = StabMAP_reweighted_MNNcorrected_original_counts_without_neigh, \n",
    "                                         key = \"StabMap.MNN\",\n",
    "                                         assay = \"RNA\")"
   ]
  },
  {
   "cell_type": "code",
   "execution_count": 82,
   "id": "1c8b9df9-f3c9-44c5-8d0b-4047582d461d",
   "metadata": {},
   "outputs": [],
   "source": [
    "umap_post_QC <- UMAP_coordinates@cell.embeddings\n",
    "StabMAP_post_QC <- StabMAP_reweighted_MNNcorrected_original_counts_without_neigh"
   ]
  },
  {
   "cell_type": "code",
   "execution_count": 83,
   "id": "15c2b78f-3469-4b1b-8ef4-4559e360ef56",
   "metadata": {},
   "outputs": [],
   "source": [
    "seurat@meta.data$cell_ID <- row.names(seurat@meta.data)"
   ]
  },
  {
   "cell_type": "code",
   "execution_count": 84,
   "id": "17f0e746-b8b2-44ad-a474-1bda2d81f752",
   "metadata": {},
   "outputs": [
    {
     "data": {
      "text/html": [
       "<table class=\"dataframe\">\n",
       "<caption>A data.frame: 6 x 9</caption>\n",
       "<thead>\n",
       "\t<tr><th></th><th scope=col>orig.ident</th><th scope=col>nCount_RNA</th><th scope=col>nFeature_RNA</th><th scope=col>seqFISH_celltype</th><th scope=col>extended_atlas_celltype</th><th scope=col>AP</th><th scope=col>DV</th><th scope=col>dataset</th><th scope=col>cell_ID</th></tr>\n",
       "\t<tr><th></th><th scope=col>&lt;fct&gt;</th><th scope=col>&lt;dbl&gt;</th><th scope=col>&lt;int&gt;</th><th scope=col>&lt;fct&gt;</th><th scope=col>&lt;chr&gt;</th><th scope=col>&lt;dbl&gt;</th><th scope=col>&lt;dbl&gt;</th><th scope=col>&lt;fct&gt;</th><th scope=col>&lt;chr&gt;</th></tr>\n",
       "</thead>\n",
       "<tbody>\n",
       "\t<tr><th scope=row>embryo3_Pos9_cell165</th><td>embryo3</td><td>0</td><td>0</td><td>NA</td><td>low quality</td><td>NA</td><td>NA</td><td>seqFISH</td><td>embryo3_Pos9_cell165</td></tr>\n",
       "\t<tr><th scope=row>embryo3_Pos9_cell210</th><td>embryo3</td><td>0</td><td>0</td><td>NA</td><td>low quality</td><td>NA</td><td>NA</td><td>seqFISH</td><td>embryo3_Pos9_cell210</td></tr>\n",
       "\t<tr><th scope=row>embryo3_Pos9_cell212</th><td>embryo3</td><td>0</td><td>0</td><td>NA</td><td>low quality</td><td>NA</td><td>NA</td><td>seqFISH</td><td>embryo3_Pos9_cell212</td></tr>\n",
       "\t<tr><th scope=row>embryo3_Pos9_cell219</th><td>embryo3</td><td>0</td><td>0</td><td>NA</td><td>low quality</td><td>NA</td><td>NA</td><td>seqFISH</td><td>embryo3_Pos9_cell219</td></tr>\n",
       "\t<tr><th scope=row>embryo3_Pos9_cell225</th><td>embryo3</td><td>0</td><td>0</td><td>NA</td><td>low quality</td><td>NA</td><td>NA</td><td>seqFISH</td><td>embryo3_Pos9_cell225</td></tr>\n",
       "\t<tr><th scope=row>embryo3_Pos9_cell233</th><td>embryo3</td><td>0</td><td>0</td><td>NA</td><td>low quality</td><td>NA</td><td>NA</td><td>seqFISH</td><td>embryo3_Pos9_cell233</td></tr>\n",
       "</tbody>\n",
       "</table>\n"
      ],
      "text/latex": [
       "A data.frame: 6 x 9\n",
       "\\begin{tabular}{r|lllllllll}\n",
       "  & orig.ident & nCount\\_RNA & nFeature\\_RNA & seqFISH\\_celltype & extended\\_atlas\\_celltype & AP & DV & dataset & cell\\_ID\\\\\n",
       "  & <fct> & <dbl> & <int> & <fct> & <chr> & <dbl> & <dbl> & <fct> & <chr>\\\\\n",
       "\\hline\n",
       "\tembryo3\\_Pos9\\_cell165 & embryo3 & 0 & 0 & NA & low quality & NA & NA & seqFISH & embryo3\\_Pos9\\_cell165\\\\\n",
       "\tembryo3\\_Pos9\\_cell210 & embryo3 & 0 & 0 & NA & low quality & NA & NA & seqFISH & embryo3\\_Pos9\\_cell210\\\\\n",
       "\tembryo3\\_Pos9\\_cell212 & embryo3 & 0 & 0 & NA & low quality & NA & NA & seqFISH & embryo3\\_Pos9\\_cell212\\\\\n",
       "\tembryo3\\_Pos9\\_cell219 & embryo3 & 0 & 0 & NA & low quality & NA & NA & seqFISH & embryo3\\_Pos9\\_cell219\\\\\n",
       "\tembryo3\\_Pos9\\_cell225 & embryo3 & 0 & 0 & NA & low quality & NA & NA & seqFISH & embryo3\\_Pos9\\_cell225\\\\\n",
       "\tembryo3\\_Pos9\\_cell233 & embryo3 & 0 & 0 & NA & low quality & NA & NA & seqFISH & embryo3\\_Pos9\\_cell233\\\\\n",
       "\\end{tabular}\n"
      ],
      "text/markdown": [
       "\n",
       "A data.frame: 6 x 9\n",
       "\n",
       "| <!--/--> | orig.ident &lt;fct&gt; | nCount_RNA &lt;dbl&gt; | nFeature_RNA &lt;int&gt; | seqFISH_celltype &lt;fct&gt; | extended_atlas_celltype &lt;chr&gt; | AP &lt;dbl&gt; | DV &lt;dbl&gt; | dataset &lt;fct&gt; | cell_ID &lt;chr&gt; |\n",
       "|---|---|---|---|---|---|---|---|---|---|\n",
       "| embryo3_Pos9_cell165 | embryo3 | 0 | 0 | NA | low quality | NA | NA | seqFISH | embryo3_Pos9_cell165 |\n",
       "| embryo3_Pos9_cell210 | embryo3 | 0 | 0 | NA | low quality | NA | NA | seqFISH | embryo3_Pos9_cell210 |\n",
       "| embryo3_Pos9_cell212 | embryo3 | 0 | 0 | NA | low quality | NA | NA | seqFISH | embryo3_Pos9_cell212 |\n",
       "| embryo3_Pos9_cell219 | embryo3 | 0 | 0 | NA | low quality | NA | NA | seqFISH | embryo3_Pos9_cell219 |\n",
       "| embryo3_Pos9_cell225 | embryo3 | 0 | 0 | NA | low quality | NA | NA | seqFISH | embryo3_Pos9_cell225 |\n",
       "| embryo3_Pos9_cell233 | embryo3 | 0 | 0 | NA | low quality | NA | NA | seqFISH | embryo3_Pos9_cell233 |\n",
       "\n"
      ],
      "text/plain": [
       "                     orig.ident nCount_RNA nFeature_RNA seqFISH_celltype\n",
       "embryo3_Pos9_cell165 embryo3    0          0            NA              \n",
       "embryo3_Pos9_cell210 embryo3    0          0            NA              \n",
       "embryo3_Pos9_cell212 embryo3    0          0            NA              \n",
       "embryo3_Pos9_cell219 embryo3    0          0            NA              \n",
       "embryo3_Pos9_cell225 embryo3    0          0            NA              \n",
       "embryo3_Pos9_cell233 embryo3    0          0            NA              \n",
       "                     extended_atlas_celltype AP DV dataset cell_ID             \n",
       "embryo3_Pos9_cell165 low quality             NA NA seqFISH embryo3_Pos9_cell165\n",
       "embryo3_Pos9_cell210 low quality             NA NA seqFISH embryo3_Pos9_cell210\n",
       "embryo3_Pos9_cell212 low quality             NA NA seqFISH embryo3_Pos9_cell212\n",
       "embryo3_Pos9_cell219 low quality             NA NA seqFISH embryo3_Pos9_cell219\n",
       "embryo3_Pos9_cell225 low quality             NA NA seqFISH embryo3_Pos9_cell225\n",
       "embryo3_Pos9_cell233 low quality             NA NA seqFISH embryo3_Pos9_cell233"
      ]
     },
     "metadata": {},
     "output_type": "display_data"
    }
   ],
   "source": [
    "tail(seurat@meta.data)"
   ]
  },
  {
   "cell_type": "code",
   "execution_count": 85,
   "id": "5c438b72-d096-4d2c-b893-1e4a2b3685c2",
   "metadata": {},
   "outputs": [],
   "source": [
    "post_QC_cells <- row.names(umap_post_QC)"
   ]
  },
  {
   "cell_type": "code",
   "execution_count": 86,
   "id": "cbc82814-8c3b-4a03-ab26-06a540454abe",
   "metadata": {},
   "outputs": [],
   "source": [
    "seurat_subset <- seurat[,seurat@meta.data$cell_ID %in% post_QC_cells]"
   ]
  },
  {
   "cell_type": "code",
   "execution_count": 87,
   "id": "9c41aa7a-d011-4c51-8d04-4af8a47693fe",
   "metadata": {},
   "outputs": [
    {
     "data": {
      "text/plain": [
       "An object of class Seurat \n",
       "55688 features across 188747 samples within 3 assays \n",
       "Active assay: RNA (27669 features, 0 variable features)\n",
       " 2 other assays present: imputedlogcounts, seqFISHlogcounts"
      ]
     },
     "metadata": {},
     "output_type": "display_data"
    }
   ],
   "source": [
    "seurat_subset"
   ]
  },
  {
   "cell_type": "code",
   "execution_count": 88,
   "id": "def788b1-6a43-4a39-8390-ae61c87f64c6",
   "metadata": {},
   "outputs": [
    {
     "name": "stdout",
     "output_type": "stream",
     "text": [
      "Formal class 'DimReduc' [package \"SeuratObject\"] with 9 slots\n",
      "  ..@ cell.embeddings           : num [1:188747, 1:2] -9.25 -5.67 -4.73 -8.78 -8.68 ...\n",
      "  .. ..- attr(*, \"scaled:center\")= num [1:2] -0.0797 -0.1291\n",
      "  .. ..- attr(*, \"dimnames\")=List of 2\n",
      "  .. .. ..$ : chr [1:188747] \"cell_1\" \"cell_2\" \"cell_5\" \"cell_6\" ...\n",
      "  .. .. ..$ : chr [1:2] \"UMAP_1\" \"UMAP_2\"\n",
      "  ..@ feature.loadings          : num[0 , 0 ] \n",
      "  ..@ feature.loadings.projected: num[0 , 0 ] \n",
      "  ..@ assay.used                : chr \"originalexp\"\n",
      "  ..@ global                    : logi TRUE\n",
      "  ..@ stdev                     : num(0) \n",
      "  ..@ key                       : chr \"UMAP_\"\n",
      "  ..@ jackstraw                 :Formal class 'JackStrawData' [package \"SeuratObject\"] with 4 slots\n",
      "  .. .. ..@ empirical.p.values     : num[0 , 0 ] \n",
      "  .. .. ..@ fake.reduction.scores  : num[0 , 0 ] \n",
      "  .. .. ..@ empirical.p.values.full: num[0 , 0 ] \n",
      "  .. .. ..@ overall.p.values       : num[0 , 0 ] \n",
      "  ..@ misc                      : list()\n"
     ]
    }
   ],
   "source": [
    "str(UMAP_coordinates)"
   ]
  },
  {
   "cell_type": "code",
   "execution_count": 89,
   "id": "b2ddfb5e-f48e-4513-b3ba-6bfacb774287",
   "metadata": {},
   "outputs": [
    {
     "name": "stderr",
     "output_type": "stream",
     "text": [
      "Warning message:\n",
      "“Keys should be one or more alphanumeric characters followed by an underscore, setting key from umap to umap_”\n",
      "Warning message:\n",
      "“All keys should be one or more alphanumeric characters followed by an underscore '_', setting key to umap_”\n"
     ]
    }
   ],
   "source": [
    "##Create dimension reduced objects to insert into the seuart object\n",
    "StabMAP_UMAP<- CreateDimReducObject(embeddings = umap_post_QC, \n",
    "                                         key = \"umap\",\n",
    "                                         assay = \"RNA\")"
   ]
  },
  {
   "cell_type": "code",
   "execution_count": 90,
   "id": "394ad53b-0550-4e93-aed0-efe0eb66a711",
   "metadata": {},
   "outputs": [],
   "source": [
    "## Add the Stabmap coordinates and the UMAP coordinates to the \n",
    "seurat_subset[[\"StabMAP_UMAP\"]] <- StabMAP_UMAP"
   ]
  },
  {
   "cell_type": "code",
   "execution_count": 91,
   "id": "316cd663-5ae9-4a43-82b3-f376b74c4415",
   "metadata": {},
   "outputs": [],
   "source": [
    "## Add the Stabmap coordinates and the UMAP coordinates to the \n",
    "seurat_subset[[\"StabMAP_MNN\"]] <- StabMAP_original"
   ]
  },
  {
   "cell_type": "code",
   "execution_count": 92,
   "id": "c66f53ee-3249-4d1e-948a-9e187f83cc71",
   "metadata": {},
   "outputs": [
    {
     "data": {
      "text/plain": [
       "An object of class Seurat \n",
       "55688 features across 188747 samples within 3 assays \n",
       "Active assay: RNA (27669 features, 0 variable features)\n",
       " 2 other assays present: imputedlogcounts, seqFISHlogcounts\n",
       " 2 dimensional reductions calculated: StabMAP_UMAP, StabMAP_MNN"
      ]
     },
     "metadata": {},
     "output_type": "display_data"
    }
   ],
   "source": [
    "seurat_subset"
   ]
  },
  {
   "cell_type": "code",
   "execution_count": 93,
   "id": "428bf78e-e9b0-4b35-a1b3-1e5abba4c6e6",
   "metadata": {},
   "outputs": [
    {
     "data": {
      "text/html": [
       "<table class=\"dataframe\">\n",
       "<caption>A data.frame: 6 x 9</caption>\n",
       "<thead>\n",
       "\t<tr><th></th><th scope=col>orig.ident</th><th scope=col>nCount_RNA</th><th scope=col>nFeature_RNA</th><th scope=col>seqFISH_celltype</th><th scope=col>extended_atlas_celltype</th><th scope=col>AP</th><th scope=col>DV</th><th scope=col>dataset</th><th scope=col>cell_ID</th></tr>\n",
       "\t<tr><th></th><th scope=col>&lt;fct&gt;</th><th scope=col>&lt;dbl&gt;</th><th scope=col>&lt;int&gt;</th><th scope=col>&lt;fct&gt;</th><th scope=col>&lt;chr&gt;</th><th scope=col>&lt;dbl&gt;</th><th scope=col>&lt;dbl&gt;</th><th scope=col>&lt;fct&gt;</th><th scope=col>&lt;chr&gt;</th></tr>\n",
       "</thead>\n",
       "<tbody>\n",
       "\t<tr><th scope=row>cell_1</th><td>cell</td><td> 8962</td><td>2546</td><td>epiblast              </td><td>Epiblast        </td><td>      NA</td><td>      NA</td><td>scRNA</td><td>cell_1</td></tr>\n",
       "\t<tr><th scope=row>cell_2</th><td>cell</td><td>19569</td><td>3722</td><td>rostral epiblast      </td><td>Primitive Streak</td><td>53.41397</td><td>44.80898</td><td>scRNA</td><td>cell_2</td></tr>\n",
       "\t<tr><th scope=row>cell_5</th><td>cell</td><td>14190</td><td>3479</td><td>distal ExE ectoderm #1</td><td>ExE ectoderm    </td><td>      NA</td><td>      NA</td><td>scRNA</td><td>cell_5</td></tr>\n",
       "\t<tr><th scope=row>cell_6</th><td>cell</td><td>20345</td><td>3864</td><td>epiblast              </td><td>Epiblast        </td><td>69.74577</td><td>69.83081</td><td>scRNA</td><td>cell_6</td></tr>\n",
       "\t<tr><th scope=row>cell_8</th><td>cell</td><td>22542</td><td>4040</td><td>epiblast              </td><td>Epiblast        </td><td>71.04784</td><td>62.39884</td><td>scRNA</td><td>cell_8</td></tr>\n",
       "\t<tr><th scope=row>cell_9</th><td>cell</td><td>24502</td><td>4350</td><td>epiblast              </td><td>Epiblast        </td><td>77.50144</td><td>78.04394</td><td>scRNA</td><td>cell_9</td></tr>\n",
       "</tbody>\n",
       "</table>\n"
      ],
      "text/latex": [
       "A data.frame: 6 x 9\n",
       "\\begin{tabular}{r|lllllllll}\n",
       "  & orig.ident & nCount\\_RNA & nFeature\\_RNA & seqFISH\\_celltype & extended\\_atlas\\_celltype & AP & DV & dataset & cell\\_ID\\\\\n",
       "  & <fct> & <dbl> & <int> & <fct> & <chr> & <dbl> & <dbl> & <fct> & <chr>\\\\\n",
       "\\hline\n",
       "\tcell\\_1 & cell &  8962 & 2546 & epiblast               & Epiblast         &       NA &       NA & scRNA & cell\\_1\\\\\n",
       "\tcell\\_2 & cell & 19569 & 3722 & rostral epiblast       & Primitive Streak & 53.41397 & 44.80898 & scRNA & cell\\_2\\\\\n",
       "\tcell\\_5 & cell & 14190 & 3479 & distal ExE ectoderm \\#1 & ExE ectoderm     &       NA &       NA & scRNA & cell\\_5\\\\\n",
       "\tcell\\_6 & cell & 20345 & 3864 & epiblast               & Epiblast         & 69.74577 & 69.83081 & scRNA & cell\\_6\\\\\n",
       "\tcell\\_8 & cell & 22542 & 4040 & epiblast               & Epiblast         & 71.04784 & 62.39884 & scRNA & cell\\_8\\\\\n",
       "\tcell\\_9 & cell & 24502 & 4350 & epiblast               & Epiblast         & 77.50144 & 78.04394 & scRNA & cell\\_9\\\\\n",
       "\\end{tabular}\n"
      ],
      "text/markdown": [
       "\n",
       "A data.frame: 6 x 9\n",
       "\n",
       "| <!--/--> | orig.ident &lt;fct&gt; | nCount_RNA &lt;dbl&gt; | nFeature_RNA &lt;int&gt; | seqFISH_celltype &lt;fct&gt; | extended_atlas_celltype &lt;chr&gt; | AP &lt;dbl&gt; | DV &lt;dbl&gt; | dataset &lt;fct&gt; | cell_ID &lt;chr&gt; |\n",
       "|---|---|---|---|---|---|---|---|---|---|\n",
       "| cell_1 | cell |  8962 | 2546 | epiblast               | Epiblast         |       NA |       NA | scRNA | cell_1 |\n",
       "| cell_2 | cell | 19569 | 3722 | rostral epiblast       | Primitive Streak | 53.41397 | 44.80898 | scRNA | cell_2 |\n",
       "| cell_5 | cell | 14190 | 3479 | distal ExE ectoderm #1 | ExE ectoderm     |       NA |       NA | scRNA | cell_5 |\n",
       "| cell_6 | cell | 20345 | 3864 | epiblast               | Epiblast         | 69.74577 | 69.83081 | scRNA | cell_6 |\n",
       "| cell_8 | cell | 22542 | 4040 | epiblast               | Epiblast         | 71.04784 | 62.39884 | scRNA | cell_8 |\n",
       "| cell_9 | cell | 24502 | 4350 | epiblast               | Epiblast         | 77.50144 | 78.04394 | scRNA | cell_9 |\n",
       "\n"
      ],
      "text/plain": [
       "       orig.ident nCount_RNA nFeature_RNA seqFISH_celltype      \n",
       "cell_1 cell        8962      2546         epiblast              \n",
       "cell_2 cell       19569      3722         rostral epiblast      \n",
       "cell_5 cell       14190      3479         distal ExE ectoderm #1\n",
       "cell_6 cell       20345      3864         epiblast              \n",
       "cell_8 cell       22542      4040         epiblast              \n",
       "cell_9 cell       24502      4350         epiblast              \n",
       "       extended_atlas_celltype AP       DV       dataset cell_ID\n",
       "cell_1 Epiblast                      NA       NA scRNA   cell_1 \n",
       "cell_2 Primitive Streak        53.41397 44.80898 scRNA   cell_2 \n",
       "cell_5 ExE ectoderm                  NA       NA scRNA   cell_5 \n",
       "cell_6 Epiblast                69.74577 69.83081 scRNA   cell_6 \n",
       "cell_8 Epiblast                71.04784 62.39884 scRNA   cell_8 \n",
       "cell_9 Epiblast                77.50144 78.04394 scRNA   cell_9 "
      ]
     },
     "metadata": {},
     "output_type": "display_data"
    }
   ],
   "source": [
    "head(seurat_subset@meta.data)"
   ]
  },
  {
   "cell_type": "code",
   "execution_count": 94,
   "id": "72d29c17-4c3c-47f2-8371-6f1bffd49b50",
   "metadata": {},
   "outputs": [
    {
     "name": "stderr",
     "output_type": "stream",
     "text": [
      "Rasterizing points since number of points exceeds 100,000.\n",
      "To disable this behavior set `raster=FALSE`\n",
      "\n"
     ]
    },
    {
     "data": {
      "image/png": "[encoded data removed]",
      "text/plain": [
       "plot without title"
      ]
     },
     "metadata": {
      "image/png": {
       "height": 600,
       "width": 1200
      }
     },
     "output_type": "display_data"
    }
   ],
   "source": [
    "options(repr.plot.width=20, repr.plot.height=10)\n",
    "DimPlot(seurat_subset, split.by = \"dataset\", group.by = \"extended_atlas_celltype\") +\n",
    "  scale_color_manual(values = celltype.colors.extended) + \n",
    "  theme(legend.position = \"none\")"
   ]
  },
  {
   "cell_type": "markdown",
   "id": "0ca798f6-985b-46dc-978f-054b78a5d223",
   "metadata": {
    "tags": []
   },
   "source": [
    "## Perform CLustering and SubClustering"
   ]
  },
  {
   "cell_type": "code",
   "execution_count": 150,
   "id": "994b8414-e94c-4d95-bcf1-51d3e23c9d15",
   "metadata": {},
   "outputs": [],
   "source": [
    "seurat_subset <- seurat[,seurat@meta.data$cell_ID %in% post_QC_cells]"
   ]
  },
  {
   "cell_type": "code",
   "execution_count": 151,
   "id": "5baf4fc1-e1c6-428c-a2d1-6cc7166e3c68",
   "metadata": {},
   "outputs": [
    {
     "data": {
      "text/plain": [
       "An object of class Seurat \n",
       "55688 features across 188747 samples within 3 assays \n",
       "Active assay: RNA (27669 features, 0 variable features)\n",
       " 2 other assays present: imputedlogcounts, seqFISHlogcounts"
      ]
     },
     "metadata": {},
     "output_type": "display_data"
    }
   ],
   "source": [
    "seurat_subset"
   ]
  },
  {
   "cell_type": "code",
   "execution_count": 152,
   "id": "e7506456-a162-49a4-a764-2a96d430daee",
   "metadata": {},
   "outputs": [
    {
     "name": "stdout",
     "output_type": "stream",
     "text": [
      "Formal class 'DimReduc' [package \"SeuratObject\"] with 9 slots\n",
      "  ..@ cell.embeddings           : num [1:188747, 1:2] -9.25 -5.67 -4.73 -8.78 -8.68 ...\n",
      "  .. ..- attr(*, \"scaled:center\")= num [1:2] -0.0797 -0.1291\n",
      "  .. ..- attr(*, \"dimnames\")=List of 2\n",
      "  .. .. ..$ : chr [1:188747] \"cell_1\" \"cell_2\" \"cell_5\" \"cell_6\" ...\n",
      "  .. .. ..$ : chr [1:2] \"UMAP_1\" \"UMAP_2\"\n",
      "  ..@ feature.loadings          : num[0 , 0 ] \n",
      "  ..@ feature.loadings.projected: num[0 , 0 ] \n",
      "  ..@ assay.used                : chr \"originalexp\"\n",
      "  ..@ global                    : logi TRUE\n",
      "  ..@ stdev                     : num(0) \n",
      "  ..@ key                       : chr \"UMAP_\"\n",
      "  ..@ jackstraw                 :Formal class 'JackStrawData' [package \"SeuratObject\"] with 4 slots\n",
      "  .. .. ..@ empirical.p.values     : num[0 , 0 ] \n",
      "  .. .. ..@ fake.reduction.scores  : num[0 , 0 ] \n",
      "  .. .. ..@ empirical.p.values.full: num[0 , 0 ] \n",
      "  .. .. ..@ overall.p.values       : num[0 , 0 ] \n",
      "  ..@ misc                      : list()\n"
     ]
    }
   ],
   "source": [
    "str(UMAP_coordinates)"
   ]
  },
  {
   "cell_type": "code",
   "execution_count": 153,
   "id": "7e3e51a5-0af7-4f97-b9e9-ec2e0c81f23f",
   "metadata": {},
   "outputs": [
    {
     "name": "stderr",
     "output_type": "stream",
     "text": [
      "Warning message:\n",
      "“Keys should be one or more alphanumeric characters followed by an underscore, setting key from umap to umap_”\n",
      "Warning message:\n",
      "“All keys should be one or more alphanumeric characters followed by an underscore '_', setting key to umap_”\n"
     ]
    }
   ],
   "source": [
    "##Create dimension reduced objects to insert into the seuart object\n",
    "StabMAP_UMAP<- CreateDimReducObject(embeddings = umap_post_QC, \n",
    "                                         key = \"umap\",\n",
    "                                         assay = \"RNA\")"
   ]
  },
  {
   "cell_type": "code",
   "execution_count": 154,
   "id": "87d4ccba-ec6f-4b34-970a-b1801fc3bf4c",
   "metadata": {},
   "outputs": [],
   "source": [
    "## Add the Stabmap coordinates and the UMAP coordinates to the \n",
    "seurat_subset[[\"StabMAP_UMAP\"]] <- StabMAP_UMAP"
   ]
  },
  {
   "cell_type": "code",
   "execution_count": 155,
   "id": "f0b7fa33-e804-410b-b1e0-379480d62430",
   "metadata": {},
   "outputs": [],
   "source": [
    "## Add the Stabmap coordinates and the UMAP coordinates to the \n",
    "seurat_subset[[\"StabMAP_MNN\"]] <- StabMAP_original"
   ]
  },
  {
   "cell_type": "code",
   "execution_count": 156,
   "id": "140adc73-1713-445b-a6f5-129ad4611b0a",
   "metadata": {},
   "outputs": [
    {
     "data": {
      "text/plain": [
       "An object of class Seurat \n",
       "55688 features across 188747 samples within 3 assays \n",
       "Active assay: RNA (27669 features, 0 variable features)\n",
       " 2 other assays present: imputedlogcounts, seqFISHlogcounts\n",
       " 2 dimensional reductions calculated: StabMAP_UMAP, StabMAP_MNN"
      ]
     },
     "metadata": {},
     "output_type": "display_data"
    }
   ],
   "source": [
    "seurat_subset"
   ]
  },
  {
   "cell_type": "code",
   "execution_count": 157,
   "id": "9fcba59e-119a-4a87-bc2b-2bed9c0778a5",
   "metadata": {},
   "outputs": [
    {
     "name": "stderr",
     "output_type": "stream",
     "text": [
      "Computing nearest neighbor graph\n",
      "\n",
      "Computing SNN\n",
      "\n"
     ]
    },
    {
     "name": "stdout",
     "output_type": "stream",
     "text": [
      "Modularity Optimizer version 1.3.0 by Ludo Waltman and Nees Jan van Eck\n",
      "\n",
      "Number of nodes: 188747\n",
      "Number of edges: 9360097\n",
      "\n",
      "Running Louvain algorithm...\n",
      "Maximum modularity in 10 random starts: 0.8721\n",
      "Number of communities: 75\n",
      "Elapsed time: 67 seconds\n"
     ]
    },
    {
     "name": "stderr",
     "output_type": "stream",
     "text": [
      "10 singletons identified. 65 final clusters.\n",
      "\n"
     ]
    }
   ],
   "source": [
    "# Define the dimensions and cluster resolution to use for the first round of clustering\n",
    "dims_to_use <- 1:60  # Adjust as needed\n",
    "cluster_resolution <- 3  # Adjust as needed\n",
    "\n",
    "# Perform the first round of clustering\n",
    "# Find Neighbors\n",
    "seurat_subset <- FindNeighbors(seurat_subset, \n",
    "                               reduction = \"StabMAP_MNN\",\n",
    "                               graph.name = c(\"StabMAP_NN\", \"StabMAP_SNN\"),\n",
    "                               dims = dims_to_use,\n",
    "                               k.param = 5) \n",
    "\n",
    "# Find Clusters\n",
    "seurat_subset <- FindClusters(seurat_subset, resolution = cluster_resolution,\n",
    "                              graph.name = \"StabMAP_SNN\")"
   ]
  },
  {
   "cell_type": "code",
   "execution_count": 158,
   "id": "30d42f0c-09c4-48be-b574-58c0eb4d33ce",
   "metadata": {},
   "outputs": [],
   "source": [
    "seurat_subcluster <- seurat_subset"
   ]
  },
  {
   "cell_type": "code",
   "execution_count": 159,
   "id": "07111ad5-b8fe-4ffc-be1c-4b91e9735cde",
   "metadata": {},
   "outputs": [],
   "source": [
    "# Initialize a list to store subcluster IDs\n",
    "subcluster_ids <- list()\n",
    "\n",
    "# Get the unique clusters from the initial clustering\n",
    "initial_clusters <- unique(Idents(seurat_subcluster))"
   ]
  },
  {
   "cell_type": "code",
   "execution_count": 160,
   "id": "8723f894-bb4e-4086-a41d-559706fee2fe",
   "metadata": {},
   "outputs": [
    {
     "data": {
      "text/html": [
       "<style>\n",
       ".list-inline {list-style: none; margin:0; padding: 0}\n",
       ".list-inline>li {display: inline-block}\n",
       ".list-inline>li:not(:last-child)::after {content: \"\\00b7\"; padding: 0 .5ex}\n",
       "</style>\n",
       "<ol class=list-inline><li>0</li><li>2</li><li>6</li><li>45</li><li>37</li><li>7</li><li>13</li><li>27</li><li>38</li><li>61</li><li>22</li><li>43</li><li>63</li><li>44</li><li>29</li><li>19</li><li>17</li><li>25</li><li>12</li><li>26</li><li>10</li><li>24</li><li>47</li><li>36</li><li>57</li><li>14</li><li>31</li><li>56</li><li>35</li><li>20</li><li>51</li><li>39</li><li>48</li><li>40</li><li>15</li><li>11</li><li>3</li><li>16</li><li>53</li><li>58</li><li>30</li><li>46</li><li>23</li><li>41</li><li>4</li><li>49</li><li>62</li><li>50</li><li>54</li><li>28</li><li>5</li><li>8</li><li>32</li><li>42</li><li>60</li><li>52</li><li>21</li><li>34</li><li>1</li><li>59</li><li>18</li><li>33</li><li>64</li><li>9</li><li>55</li></ol>\n",
       "\n",
       "<details>\n",
       "\t<summary style=display:list-item;cursor:pointer>\n",
       "\t\t<strong>Levels</strong>:\n",
       "\t</summary>\n",
       "\t<style>\n",
       "\t.list-inline {list-style: none; margin:0; padding: 0}\n",
       "\t.list-inline>li {display: inline-block}\n",
       "\t.list-inline>li:not(:last-child)::after {content: \"\\00b7\"; padding: 0 .5ex}\n",
       "\t</style>\n",
       "\t<ol class=list-inline><li>'0'</li><li>'1'</li><li>'2'</li><li>'3'</li><li>'4'</li><li>'5'</li><li>'6'</li><li>'7'</li><li>'8'</li><li>'9'</li><li>'10'</li><li>'11'</li><li>'12'</li><li>'13'</li><li>'14'</li><li>'15'</li><li>'16'</li><li>'17'</li><li>'18'</li><li>'19'</li><li>'20'</li><li>'21'</li><li>'22'</li><li>'23'</li><li>'24'</li><li>'25'</li><li>'26'</li><li>'27'</li><li>'28'</li><li>'29'</li><li>'30'</li><li>'31'</li><li>'32'</li><li>'33'</li><li>'34'</li><li>'35'</li><li>'36'</li><li>'37'</li><li>'38'</li><li>'39'</li><li>'40'</li><li>'41'</li><li>'42'</li><li>'43'</li><li>'44'</li><li>'45'</li><li>'46'</li><li>'47'</li><li>'48'</li><li>'49'</li><li>'50'</li><li>'51'</li><li>'52'</li><li>'53'</li><li>'54'</li><li>'55'</li><li>'56'</li><li>'57'</li><li>'58'</li><li>'59'</li><li>'60'</li><li>'61'</li><li>'62'</li><li>'63'</li><li>'64'</li></ol>\n",
       "</details>"
      ],
      "text/latex": [
       "\\begin{enumerate*}\n",
       "\\item 0\n",
       "\\item 2\n",
       "\\item 6\n",
       "\\item 45\n",
       "\\item 37\n",
       "\\item 7\n",
       "\\item 13\n",
       "\\item 27\n",
       "\\item 38\n",
       "\\item 61\n",
       "\\item 22\n",
       "\\item 43\n",
       "\\item 63\n",
       "\\item 44\n",
       "\\item 29\n",
       "\\item 19\n",
       "\\item 17\n",
       "\\item 25\n",
       "\\item 12\n",
       "\\item 26\n",
       "\\item 10\n",
       "\\item 24\n",
       "\\item 47\n",
       "\\item 36\n",
       "\\item 57\n",
       "\\item 14\n",
       "\\item 31\n",
       "\\item 56\n",
       "\\item 35\n",
       "\\item 20\n",
       "\\item 51\n",
       "\\item 39\n",
       "\\item 48\n",
       "\\item 40\n",
       "\\item 15\n",
       "\\item 11\n",
       "\\item 3\n",
       "\\item 16\n",
       "\\item 53\n",
       "\\item 58\n",
       "\\item 30\n",
       "\\item 46\n",
       "\\item 23\n",
       "\\item 41\n",
       "\\item 4\n",
       "\\item 49\n",
       "\\item 62\n",
       "\\item 50\n",
       "\\item 54\n",
       "\\item 28\n",
       "\\item 5\n",
       "\\item 8\n",
       "\\item 32\n",
       "\\item 42\n",
       "\\item 60\n",
       "\\item 52\n",
       "\\item 21\n",
       "\\item 34\n",
       "\\item 1\n",
       "\\item 59\n",
       "\\item 18\n",
       "\\item 33\n",
       "\\item 64\n",
       "\\item 9\n",
       "\\item 55\n",
       "\\end{enumerate*}\n",
       "\n",
       "\\emph{Levels}: \\begin{enumerate*}\n",
       "\\item '0'\n",
       "\\item '1'\n",
       "\\item '2'\n",
       "\\item '3'\n",
       "\\item '4'\n",
       "\\item '5'\n",
       "\\item '6'\n",
       "\\item '7'\n",
       "\\item '8'\n",
       "\\item '9'\n",
       "\\item '10'\n",
       "\\item '11'\n",
       "\\item '12'\n",
       "\\item '13'\n",
       "\\item '14'\n",
       "\\item '15'\n",
       "\\item '16'\n",
       "\\item '17'\n",
       "\\item '18'\n",
       "\\item '19'\n",
       "\\item '20'\n",
       "\\item '21'\n",
       "\\item '22'\n",
       "\\item '23'\n",
       "\\item '24'\n",
       "\\item '25'\n",
       "\\item '26'\n",
       "\\item '27'\n",
       "\\item '28'\n",
       "\\item '29'\n",
       "\\item '30'\n",
       "\\item '31'\n",
       "\\item '32'\n",
       "\\item '33'\n",
       "\\item '34'\n",
       "\\item '35'\n",
       "\\item '36'\n",
       "\\item '37'\n",
       "\\item '38'\n",
       "\\item '39'\n",
       "\\item '40'\n",
       "\\item '41'\n",
       "\\item '42'\n",
       "\\item '43'\n",
       "\\item '44'\n",
       "\\item '45'\n",
       "\\item '46'\n",
       "\\item '47'\n",
       "\\item '48'\n",
       "\\item '49'\n",
       "\\item '50'\n",
       "\\item '51'\n",
       "\\item '52'\n",
       "\\item '53'\n",
       "\\item '54'\n",
       "\\item '55'\n",
       "\\item '56'\n",
       "\\item '57'\n",
       "\\item '58'\n",
       "\\item '59'\n",
       "\\item '60'\n",
       "\\item '61'\n",
       "\\item '62'\n",
       "\\item '63'\n",
       "\\item '64'\n",
       "\\end{enumerate*}\n"
      ],
      "text/markdown": [
       "1. 0\n",
       "2. 2\n",
       "3. 6\n",
       "4. 45\n",
       "5. 37\n",
       "6. 7\n",
       "7. 13\n",
       "8. 27\n",
       "9. 38\n",
       "10. 61\n",
       "11. 22\n",
       "12. 43\n",
       "13. 63\n",
       "14. 44\n",
       "15. 29\n",
       "16. 19\n",
       "17. 17\n",
       "18. 25\n",
       "19. 12\n",
       "20. 26\n",
       "21. 10\n",
       "22. 24\n",
       "23. 47\n",
       "24. 36\n",
       "25. 57\n",
       "26. 14\n",
       "27. 31\n",
       "28. 56\n",
       "29. 35\n",
       "30. 20\n",
       "31. 51\n",
       "32. 39\n",
       "33. 48\n",
       "34. 40\n",
       "35. 15\n",
       "36. 11\n",
       "37. 3\n",
       "38. 16\n",
       "39. 53\n",
       "40. 58\n",
       "41. 30\n",
       "42. 46\n",
       "43. 23\n",
       "44. 41\n",
       "45. 4\n",
       "46. 49\n",
       "47. 62\n",
       "48. 50\n",
       "49. 54\n",
       "50. 28\n",
       "51. 5\n",
       "52. 8\n",
       "53. 32\n",
       "54. 42\n",
       "55. 60\n",
       "56. 52\n",
       "57. 21\n",
       "58. 34\n",
       "59. 1\n",
       "60. 59\n",
       "61. 18\n",
       "62. 33\n",
       "63. 64\n",
       "64. 9\n",
       "65. 55\n",
       "\n",
       "\n",
       "\n",
       "**Levels**: 1. '0'\n",
       "2. '1'\n",
       "3. '2'\n",
       "4. '3'\n",
       "5. '4'\n",
       "6. '5'\n",
       "7. '6'\n",
       "8. '7'\n",
       "9. '8'\n",
       "10. '9'\n",
       "11. '10'\n",
       "12. '11'\n",
       "13. '12'\n",
       "14. '13'\n",
       "15. '14'\n",
       "16. '15'\n",
       "17. '16'\n",
       "18. '17'\n",
       "19. '18'\n",
       "20. '19'\n",
       "21. '20'\n",
       "22. '21'\n",
       "23. '22'\n",
       "24. '23'\n",
       "25. '24'\n",
       "26. '25'\n",
       "27. '26'\n",
       "28. '27'\n",
       "29. '28'\n",
       "30. '29'\n",
       "31. '30'\n",
       "32. '31'\n",
       "33. '32'\n",
       "34. '33'\n",
       "35. '34'\n",
       "36. '35'\n",
       "37. '36'\n",
       "38. '37'\n",
       "39. '38'\n",
       "40. '39'\n",
       "41. '40'\n",
       "42. '41'\n",
       "43. '42'\n",
       "44. '43'\n",
       "45. '44'\n",
       "46. '45'\n",
       "47. '46'\n",
       "48. '47'\n",
       "49. '48'\n",
       "50. '49'\n",
       "51. '50'\n",
       "52. '51'\n",
       "53. '52'\n",
       "54. '53'\n",
       "55. '54'\n",
       "56. '55'\n",
       "57. '56'\n",
       "58. '57'\n",
       "59. '58'\n",
       "60. '59'\n",
       "61. '60'\n",
       "62. '61'\n",
       "63. '62'\n",
       "64. '63'\n",
       "65. '64'\n",
       "\n",
       "\n"
      ],
      "text/plain": [
       " [1] 0  2  6  45 37 7  13 27 38 61 22 43 63 44 29 19 17 25 12 26 10 24 47 36 57\n",
       "[26] 14 31 56 35 20 51 39 48 40 15 11 3  16 53 58 30 46 23 41 4  49 62 50 54 28\n",
       "[51] 5  8  32 42 60 52 21 34 1  59 18 33 64 9  55\n",
       "65 Levels: 0 1 2 3 4 5 6 7 8 9 10 11 12 13 14 15 16 17 18 19 20 21 22 23 ... 64"
      ]
     },
     "metadata": {},
     "output_type": "display_data"
    }
   ],
   "source": [
    "initial_clusters"
   ]
  },
  {
   "cell_type": "code",
   "execution_count": 161,
   "id": "ec41ef9a-4ef4-4d04-b418-93cd353f2aa8",
   "metadata": {},
   "outputs": [
    {
     "data": {
      "text/plain": [
       "An object of class Seurat \n",
       "55688 features across 188747 samples within 3 assays \n",
       "Active assay: RNA (27669 features, 0 variable features)\n",
       " 2 other assays present: imputedlogcounts, seqFISHlogcounts\n",
       " 2 dimensional reductions calculated: StabMAP_UMAP, StabMAP_MNN"
      ]
     },
     "metadata": {},
     "output_type": "display_data"
    }
   ],
   "source": [
    "seurat_subcluster"
   ]
  },
  {
   "cell_type": "code",
   "execution_count": 162,
   "id": "35703d3e-23e3-43ca-8a1f-3f7cbfbfe44d",
   "metadata": {
    "tags": []
   },
   "outputs": [
    {
     "name": "stderr",
     "output_type": "stream",
     "text": [
      "Computing nearest neighbor graph\n",
      "\n",
      "Computing SNN\n",
      "\n"
     ]
    },
    {
     "name": "stdout",
     "output_type": "stream",
     "text": [
      "Modularity Optimizer version 1.3.0 by Ludo Waltman and Nees Jan van Eck\n",
      "\n",
      "Number of nodes: 9574\n",
      "Number of edges: 296113\n",
      "\n",
      "Running Louvain algorithm...\n",
      "Maximum modularity in 10 random starts: 0.5084\n",
      "Number of communities: 21\n",
      "Elapsed time: 1 seconds\n"
     ]
    },
    {
     "name": "stderr",
     "output_type": "stream",
     "text": [
      "Computing nearest neighbor graph\n",
      "\n",
      "Computing SNN\n",
      "\n"
     ]
    },
    {
     "name": "stdout",
     "output_type": "stream",
     "text": [
      "Modularity Optimizer version 1.3.0 by Ludo Waltman and Nees Jan van Eck\n",
      "\n",
      "Number of nodes: 6692\n",
      "Number of edges: 256513\n",
      "\n",
      "Running Louvain algorithm...\n",
      "Maximum modularity in 10 random starts: 0.5689\n",
      "Number of communities: 16\n",
      "Elapsed time: 0 seconds\n"
     ]
    },
    {
     "name": "stderr",
     "output_type": "stream",
     "text": [
      "Computing nearest neighbor graph\n",
      "\n",
      "Computing SNN\n",
      "\n"
     ]
    },
    {
     "name": "stdout",
     "output_type": "stream",
     "text": [
      "Modularity Optimizer version 1.3.0 by Ludo Waltman and Nees Jan van Eck\n",
      "\n",
      "Number of nodes: 6380\n",
      "Number of edges: 244551\n",
      "\n",
      "Running Louvain algorithm...\n",
      "Maximum modularity in 10 random starts: 0.5596\n",
      "Number of communities: 15\n",
      "Elapsed time: 0 seconds\n"
     ]
    },
    {
     "name": "stderr",
     "output_type": "stream",
     "text": [
      "Computing nearest neighbor graph\n",
      "\n",
      "Computing SNN\n",
      "\n"
     ]
    },
    {
     "name": "stdout",
     "output_type": "stream",
     "text": [
      "Modularity Optimizer version 1.3.0 by Ludo Waltman and Nees Jan van Eck\n",
      "\n",
      "Number of nodes: 1655\n",
      "Number of edges: 68267\n",
      "\n",
      "Running Louvain algorithm...\n",
      "Maximum modularity in 10 random starts: 0.5774\n",
      "Number of communities: 13\n",
      "Elapsed time: 0 seconds\n"
     ]
    },
    {
     "name": "stderr",
     "output_type": "stream",
     "text": [
      "Computing nearest neighbor graph\n",
      "\n",
      "Computing SNN\n",
      "\n"
     ]
    },
    {
     "name": "stdout",
     "output_type": "stream",
     "text": [
      "Modularity Optimizer version 1.3.0 by Ludo Waltman and Nees Jan van Eck\n",
      "\n",
      "Number of nodes: 2434\n",
      "Number of edges: 120507\n",
      "\n",
      "Running Louvain algorithm...\n",
      "Maximum modularity in 10 random starts: 0.5237\n",
      "Number of communities: 13\n",
      "Elapsed time: 0 seconds\n"
     ]
    },
    {
     "name": "stderr",
     "output_type": "stream",
     "text": [
      "Computing nearest neighbor graph\n",
      "\n",
      "Computing SNN\n",
      "\n"
     ]
    },
    {
     "name": "stdout",
     "output_type": "stream",
     "text": [
      "Modularity Optimizer version 1.3.0 by Ludo Waltman and Nees Jan van Eck\n",
      "\n",
      "Number of nodes: 4572\n",
      "Number of edges: 178137\n",
      "\n",
      "Running Louvain algorithm...\n",
      "Maximum modularity in 10 random starts: 0.5237\n",
      "Number of communities: 16\n",
      "Elapsed time: 0 seconds\n"
     ]
    },
    {
     "name": "stderr",
     "output_type": "stream",
     "text": [
      "Computing nearest neighbor graph\n",
      "\n",
      "Computing SNN\n",
      "\n"
     ]
    },
    {
     "name": "stdout",
     "output_type": "stream",
     "text": [
      "Modularity Optimizer version 1.3.0 by Ludo Waltman and Nees Jan van Eck\n",
      "\n",
      "Number of nodes: 3863\n",
      "Number of edges: 188340\n",
      "\n",
      "Running Louvain algorithm...\n",
      "Maximum modularity in 10 random starts: 0.5631\n",
      "Number of communities: 15\n",
      "Elapsed time: 0 seconds\n"
     ]
    },
    {
     "name": "stderr",
     "output_type": "stream",
     "text": [
      "Computing nearest neighbor graph\n",
      "\n",
      "Computing SNN\n",
      "\n"
     ]
    },
    {
     "name": "stdout",
     "output_type": "stream",
     "text": [
      "Modularity Optimizer version 1.3.0 by Ludo Waltman and Nees Jan van Eck\n",
      "\n",
      "Number of nodes: 2798\n",
      "Number of edges: 122073\n",
      "\n",
      "Running Louvain algorithm...\n",
      "Maximum modularity in 10 random starts: 0.5164\n",
      "Number of communities: 16\n",
      "Elapsed time: 0 seconds\n"
     ]
    },
    {
     "name": "stderr",
     "output_type": "stream",
     "text": [
      "Computing nearest neighbor graph\n",
      "\n",
      "Computing SNN\n",
      "\n"
     ]
    },
    {
     "name": "stdout",
     "output_type": "stream",
     "text": [
      "Modularity Optimizer version 1.3.0 by Ludo Waltman and Nees Jan van Eck\n",
      "\n",
      "Number of nodes: 2171\n",
      "Number of edges: 95365\n",
      "\n",
      "Running Louvain algorithm...\n",
      "Maximum modularity in 10 random starts: 0.6167\n",
      "Number of communities: 14\n",
      "Elapsed time: 0 seconds\n"
     ]
    },
    {
     "name": "stderr",
     "output_type": "stream",
     "text": [
      "Computing nearest neighbor graph\n",
      "\n",
      "Computing SNN\n",
      "\n"
     ]
    },
    {
     "name": "stdout",
     "output_type": "stream",
     "text": [
      "Modularity Optimizer version 1.3.0 by Ludo Waltman and Nees Jan van Eck\n",
      "\n",
      "Number of nodes: 944\n",
      "Number of edges: 46698\n",
      "\n",
      "Running Louvain algorithm...\n",
      "Maximum modularity in 10 random starts: 0.4937\n",
      "Number of communities: 8\n",
      "Elapsed time: 0 seconds\n"
     ]
    },
    {
     "name": "stderr",
     "output_type": "stream",
     "text": [
      "Computing nearest neighbor graph\n",
      "\n",
      "Computing SNN\n",
      "\n"
     ]
    },
    {
     "name": "stdout",
     "output_type": "stream",
     "text": [
      "Modularity Optimizer version 1.3.0 by Ludo Waltman and Nees Jan van Eck\n",
      "\n",
      "Number of nodes: 3320\n",
      "Number of edges: 169341\n",
      "\n",
      "Running Louvain algorithm...\n",
      "Maximum modularity in 10 random starts: 0.5557\n",
      "Number of communities: 14\n",
      "Elapsed time: 0 seconds\n"
     ]
    },
    {
     "name": "stderr",
     "output_type": "stream",
     "text": [
      "Computing nearest neighbor graph\n",
      "\n",
      "Computing SNN\n",
      "\n"
     ]
    },
    {
     "name": "stdout",
     "output_type": "stream",
     "text": [
      "Modularity Optimizer version 1.3.0 by Ludo Waltman and Nees Jan van Eck\n",
      "\n",
      "Number of nodes: 1843\n",
      "Number of edges: 93254\n",
      "\n",
      "Running Louvain algorithm...\n",
      "Maximum modularity in 10 random starts: 0.5049\n",
      "Number of communities: 11\n",
      "Elapsed time: 0 seconds\n"
     ]
    },
    {
     "name": "stderr",
     "output_type": "stream",
     "text": [
      "Computing nearest neighbor graph\n",
      "\n",
      "Computing SNN\n",
      "\n"
     ]
    },
    {
     "name": "stdout",
     "output_type": "stream",
     "text": [
      "Modularity Optimizer version 1.3.0 by Ludo Waltman and Nees Jan van Eck\n",
      "\n",
      "Number of nodes: 803\n",
      "Number of edges: 33289\n",
      "\n",
      "Running Louvain algorithm...\n",
      "Maximum modularity in 10 random starts: 0.5554\n",
      "Number of communities: 9\n",
      "Elapsed time: 0 seconds\n"
     ]
    },
    {
     "name": "stderr",
     "output_type": "stream",
     "text": [
      "Computing nearest neighbor graph\n",
      "\n",
      "Computing SNN\n",
      "\n"
     ]
    },
    {
     "name": "stdout",
     "output_type": "stream",
     "text": [
      "Modularity Optimizer version 1.3.0 by Ludo Waltman and Nees Jan van Eck\n",
      "\n",
      "Number of nodes: 1785\n",
      "Number of edges: 106295\n",
      "\n",
      "Running Louvain algorithm...\n",
      "Maximum modularity in 10 random starts: 0.4518\n",
      "Number of communities: 12\n",
      "Elapsed time: 0 seconds\n"
     ]
    },
    {
     "name": "stderr",
     "output_type": "stream",
     "text": [
      "Computing nearest neighbor graph\n",
      "\n",
      "Computing SNN\n",
      "\n"
     ]
    },
    {
     "name": "stdout",
     "output_type": "stream",
     "text": [
      "Modularity Optimizer version 1.3.0 by Ludo Waltman and Nees Jan van Eck\n",
      "\n",
      "Number of nodes: 2672\n",
      "Number of edges: 127654\n",
      "\n",
      "Running Louvain algorithm...\n",
      "Maximum modularity in 10 random starts: 0.5143\n",
      "Number of communities: 15\n",
      "Elapsed time: 0 seconds\n"
     ]
    },
    {
     "name": "stderr",
     "output_type": "stream",
     "text": [
      "Computing nearest neighbor graph\n",
      "\n",
      "Computing SNN\n",
      "\n"
     ]
    },
    {
     "name": "stdout",
     "output_type": "stream",
     "text": [
      "Modularity Optimizer version 1.3.0 by Ludo Waltman and Nees Jan van Eck\n",
      "\n",
      "Number of nodes: 3598\n",
      "Number of edges: 172721\n",
      "\n",
      "Running Louvain algorithm...\n",
      "Maximum modularity in 10 random starts: 0.5743\n",
      "Number of communities: 15\n",
      "Elapsed time: 0 seconds\n"
     ]
    },
    {
     "name": "stderr",
     "output_type": "stream",
     "text": [
      "Computing nearest neighbor graph\n",
      "\n",
      "Computing SNN\n",
      "\n"
     ]
    },
    {
     "name": "stdout",
     "output_type": "stream",
     "text": [
      "Modularity Optimizer version 1.3.0 by Ludo Waltman and Nees Jan van Eck\n",
      "\n",
      "Number of nodes: 3728\n",
      "Number of edges: 169872\n",
      "\n",
      "Running Louvain algorithm...\n",
      "Maximum modularity in 10 random starts: 0.5775\n",
      "Number of communities: 13\n",
      "Elapsed time: 0 seconds\n"
     ]
    },
    {
     "name": "stderr",
     "output_type": "stream",
     "text": [
      "Computing nearest neighbor graph\n",
      "\n",
      "Computing SNN\n",
      "\n"
     ]
    },
    {
     "name": "stdout",
     "output_type": "stream",
     "text": [
      "Modularity Optimizer version 1.3.0 by Ludo Waltman and Nees Jan van Eck\n",
      "\n",
      "Number of nodes: 3041\n",
      "Number of edges: 152401\n",
      "\n",
      "Running Louvain algorithm...\n",
      "Maximum modularity in 10 random starts: 0.5868\n",
      "Number of communities: 13\n",
      "Elapsed time: 0 seconds\n"
     ]
    },
    {
     "name": "stderr",
     "output_type": "stream",
     "text": [
      "Computing nearest neighbor graph\n",
      "\n",
      "Computing SNN\n",
      "\n"
     ]
    },
    {
     "name": "stdout",
     "output_type": "stream",
     "text": [
      "Modularity Optimizer version 1.3.0 by Ludo Waltman and Nees Jan van Eck\n",
      "\n",
      "Number of nodes: 3953\n",
      "Number of edges: 186181\n",
      "\n",
      "Running Louvain algorithm...\n",
      "Maximum modularity in 10 random starts: 0.5108\n",
      "Number of communities: 13\n",
      "Elapsed time: 0 seconds\n"
     ]
    },
    {
     "name": "stderr",
     "output_type": "stream",
     "text": [
      "Computing nearest neighbor graph\n",
      "\n",
      "Computing SNN\n",
      "\n"
     ]
    },
    {
     "name": "stdout",
     "output_type": "stream",
     "text": [
      "Modularity Optimizer version 1.3.0 by Ludo Waltman and Nees Jan van Eck\n",
      "\n",
      "Number of nodes: 2831\n",
      "Number of edges: 130487\n",
      "\n",
      "Running Louvain algorithm...\n",
      "Maximum modularity in 10 random starts: 0.5714\n",
      "Number of communities: 14\n",
      "Elapsed time: 0 seconds\n"
     ]
    },
    {
     "name": "stderr",
     "output_type": "stream",
     "text": [
      "Computing nearest neighbor graph\n",
      "\n",
      "Computing SNN\n",
      "\n"
     ]
    },
    {
     "name": "stdout",
     "output_type": "stream",
     "text": [
      "Modularity Optimizer version 1.3.0 by Ludo Waltman and Nees Jan van Eck\n",
      "\n",
      "Number of nodes: 4028\n",
      "Number of edges: 175760\n",
      "\n",
      "Running Louvain algorithm...\n",
      "Maximum modularity in 10 random starts: 0.5890\n",
      "Number of communities: 15\n",
      "Elapsed time: 0 seconds\n"
     ]
    },
    {
     "name": "stderr",
     "output_type": "stream",
     "text": [
      "Computing nearest neighbor graph\n",
      "\n",
      "Computing SNN\n",
      "\n"
     ]
    },
    {
     "name": "stdout",
     "output_type": "stream",
     "text": [
      "Modularity Optimizer version 1.3.0 by Ludo Waltman and Nees Jan van Eck\n",
      "\n",
      "Number of nodes: 3073\n",
      "Number of edges: 142354\n",
      "\n",
      "Running Louvain algorithm...\n",
      "Maximum modularity in 10 random starts: 0.5625\n",
      "Number of communities: 14\n",
      "Elapsed time: 0 seconds\n"
     ]
    },
    {
     "name": "stderr",
     "output_type": "stream",
     "text": [
      "Computing nearest neighbor graph\n",
      "\n",
      "Computing SNN\n",
      "\n"
     ]
    },
    {
     "name": "stdout",
     "output_type": "stream",
     "text": [
      "Modularity Optimizer version 1.3.0 by Ludo Waltman and Nees Jan van Eck\n",
      "\n",
      "Number of nodes: 1537\n",
      "Number of edges: 83189\n",
      "\n",
      "Running Louvain algorithm...\n",
      "Maximum modularity in 10 random starts: 0.5430\n",
      "Number of communities: 10\n",
      "Elapsed time: 0 seconds\n"
     ]
    },
    {
     "name": "stderr",
     "output_type": "stream",
     "text": [
      "Computing nearest neighbor graph\n",
      "\n",
      "Computing SNN\n",
      "\n"
     ]
    },
    {
     "name": "stdout",
     "output_type": "stream",
     "text": [
      "Modularity Optimizer version 1.3.0 by Ludo Waltman and Nees Jan van Eck\n",
      "\n",
      "Number of nodes: 2476\n",
      "Number of edges: 124518\n",
      "\n",
      "Running Louvain algorithm...\n",
      "Maximum modularity in 10 random starts: 0.4498\n",
      "Number of communities: 14\n",
      "Elapsed time: 0 seconds\n"
     ]
    },
    {
     "name": "stderr",
     "output_type": "stream",
     "text": [
      "Computing nearest neighbor graph\n",
      "\n",
      "Computing SNN\n",
      "\n"
     ]
    },
    {
     "name": "stdout",
     "output_type": "stream",
     "text": [
      "Modularity Optimizer version 1.3.0 by Ludo Waltman and Nees Jan van Eck\n",
      "\n",
      "Number of nodes: 1086\n",
      "Number of edges: 48536\n",
      "\n",
      "Running Louvain algorithm...\n",
      "Maximum modularity in 10 random starts: 0.4353\n",
      "Number of communities: 13\n",
      "Elapsed time: 0 seconds\n"
     ]
    },
    {
     "name": "stderr",
     "output_type": "stream",
     "text": [
      "Computing nearest neighbor graph\n",
      "\n",
      "Computing SNN\n",
      "\n"
     ]
    },
    {
     "name": "stdout",
     "output_type": "stream",
     "text": [
      "Modularity Optimizer version 1.3.0 by Ludo Waltman and Nees Jan van Eck\n",
      "\n",
      "Number of nodes: 3856\n",
      "Number of edges: 180060\n",
      "\n",
      "Running Louvain algorithm...\n",
      "Maximum modularity in 10 random starts: 0.6010\n",
      "Number of communities: 13\n",
      "Elapsed time: 0 seconds\n"
     ]
    },
    {
     "name": "stderr",
     "output_type": "stream",
     "text": [
      "Computing nearest neighbor graph\n",
      "\n",
      "Computing SNN\n",
      "\n"
     ]
    },
    {
     "name": "stdout",
     "output_type": "stream",
     "text": [
      "Modularity Optimizer version 1.3.0 by Ludo Waltman and Nees Jan van Eck\n",
      "\n",
      "Number of nodes: 2595\n",
      "Number of edges: 120692\n",
      "\n",
      "Running Louvain algorithm...\n",
      "Maximum modularity in 10 random starts: 0.5530\n",
      "Number of communities: 13\n",
      "Elapsed time: 0 seconds\n"
     ]
    },
    {
     "name": "stderr",
     "output_type": "stream",
     "text": [
      "Computing nearest neighbor graph\n",
      "\n",
      "Computing SNN\n",
      "\n"
     ]
    },
    {
     "name": "stdout",
     "output_type": "stream",
     "text": [
      "Modularity Optimizer version 1.3.0 by Ludo Waltman and Nees Jan van Eck\n",
      "\n",
      "Number of nodes: 1091\n",
      "Number of edges: 62865\n",
      "\n",
      "Running Louvain algorithm...\n",
      "Maximum modularity in 10 random starts: 0.4587\n",
      "Number of communities: 9\n",
      "Elapsed time: 0 seconds\n"
     ]
    },
    {
     "name": "stderr",
     "output_type": "stream",
     "text": [
      "Computing nearest neighbor graph\n",
      "\n",
      "Computing SNN\n",
      "\n"
     ]
    },
    {
     "name": "stdout",
     "output_type": "stream",
     "text": [
      "Modularity Optimizer version 1.3.0 by Ludo Waltman and Nees Jan van Eck\n",
      "\n",
      "Number of nodes: 2479\n",
      "Number of edges: 114872\n",
      "\n",
      "Running Louvain algorithm...\n",
      "Maximum modularity in 10 random starts: 0.6016\n",
      "Number of communities: 13\n",
      "Elapsed time: 0 seconds\n"
     ]
    },
    {
     "name": "stderr",
     "output_type": "stream",
     "text": [
      "Computing nearest neighbor graph\n",
      "\n",
      "Computing SNN\n",
      "\n"
     ]
    },
    {
     "name": "stdout",
     "output_type": "stream",
     "text": [
      "Modularity Optimizer version 1.3.0 by Ludo Waltman and Nees Jan van Eck\n",
      "\n",
      "Number of nodes: 3426\n",
      "Number of edges: 163762\n",
      "\n",
      "Running Louvain algorithm...\n",
      "Maximum modularity in 10 random starts: 0.5439\n",
      "Number of communities: 14\n",
      "Elapsed time: 0 seconds\n"
     ]
    },
    {
     "name": "stderr",
     "output_type": "stream",
     "text": [
      "Computing nearest neighbor graph\n",
      "\n",
      "Computing SNN\n",
      "\n"
     ]
    },
    {
     "name": "stdout",
     "output_type": "stream",
     "text": [
      "Modularity Optimizer version 1.3.0 by Ludo Waltman and Nees Jan van Eck\n",
      "\n",
      "Number of nodes: 1352\n",
      "Number of edges: 70579\n",
      "\n",
      "Running Louvain algorithm...\n",
      "Maximum modularity in 10 random starts: 0.5258\n",
      "Number of communities: 11\n",
      "Elapsed time: 0 seconds\n"
     ]
    },
    {
     "name": "stderr",
     "output_type": "stream",
     "text": [
      "Computing nearest neighbor graph\n",
      "\n",
      "Computing SNN\n",
      "\n"
     ]
    },
    {
     "name": "stdout",
     "output_type": "stream",
     "text": [
      "Modularity Optimizer version 1.3.0 by Ludo Waltman and Nees Jan van Eck\n",
      "\n",
      "Number of nodes: 2042\n",
      "Number of edges: 103714\n",
      "\n",
      "Running Louvain algorithm...\n",
      "Maximum modularity in 10 random starts: 0.5199\n",
      "Number of communities: 12\n",
      "Elapsed time: 0 seconds\n"
     ]
    },
    {
     "name": "stderr",
     "output_type": "stream",
     "text": [
      "Computing nearest neighbor graph\n",
      "\n",
      "Computing SNN\n",
      "\n"
     ]
    },
    {
     "name": "stdout",
     "output_type": "stream",
     "text": [
      "Modularity Optimizer version 1.3.0 by Ludo Waltman and Nees Jan van Eck\n",
      "\n",
      "Number of nodes: 1521\n",
      "Number of edges: 78425\n",
      "\n",
      "Running Louvain algorithm...\n",
      "Maximum modularity in 10 random starts: 0.4629\n",
      "Number of communities: 13\n",
      "Elapsed time: 0 seconds\n"
     ]
    },
    {
     "name": "stderr",
     "output_type": "stream",
     "text": [
      "Computing nearest neighbor graph\n",
      "\n",
      "Computing SNN\n",
      "\n"
     ]
    },
    {
     "name": "stdout",
     "output_type": "stream",
     "text": [
      "Modularity Optimizer version 1.3.0 by Ludo Waltman and Nees Jan van Eck\n",
      "\n",
      "Number of nodes: 2028\n",
      "Number of edges: 92083\n",
      "\n",
      "Running Louvain algorithm...\n",
      "Maximum modularity in 10 random starts: 0.5214\n",
      "Number of communities: 12\n",
      "Elapsed time: 0 seconds\n"
     ]
    },
    {
     "name": "stderr",
     "output_type": "stream",
     "text": [
      "Computing nearest neighbor graph\n",
      "\n",
      "Computing SNN\n",
      "\n"
     ]
    },
    {
     "name": "stdout",
     "output_type": "stream",
     "text": [
      "Modularity Optimizer version 1.3.0 by Ludo Waltman and Nees Jan van Eck\n",
      "\n",
      "Number of nodes: 3793\n",
      "Number of edges: 186720\n",
      "\n",
      "Running Louvain algorithm...\n",
      "Maximum modularity in 10 random starts: 0.5086\n",
      "Number of communities: 14\n",
      "Elapsed time: 0 seconds\n"
     ]
    },
    {
     "name": "stderr",
     "output_type": "stream",
     "text": [
      "Computing nearest neighbor graph\n",
      "\n",
      "Computing SNN\n",
      "\n"
     ]
    },
    {
     "name": "stdout",
     "output_type": "stream",
     "text": [
      "Modularity Optimizer version 1.3.0 by Ludo Waltman and Nees Jan van Eck\n",
      "\n",
      "Number of nodes: 3964\n",
      "Number of edges: 180469\n",
      "\n",
      "Running Louvain algorithm...\n",
      "Maximum modularity in 10 random starts: 0.6017\n",
      "Number of communities: 16\n",
      "Elapsed time: 0 seconds\n"
     ]
    },
    {
     "name": "stderr",
     "output_type": "stream",
     "text": [
      "Computing nearest neighbor graph\n",
      "\n",
      "Computing SNN\n",
      "\n"
     ]
    },
    {
     "name": "stdout",
     "output_type": "stream",
     "text": [
      "Modularity Optimizer version 1.3.0 by Ludo Waltman and Nees Jan van Eck\n",
      "\n",
      "Number of nodes: 6687\n",
      "Number of edges: 276324\n",
      "\n",
      "Running Louvain algorithm...\n",
      "Maximum modularity in 10 random starts: 0.5723\n",
      "Number of communities: 16\n",
      "Elapsed time: 0 seconds\n"
     ]
    },
    {
     "name": "stderr",
     "output_type": "stream",
     "text": [
      "Computing nearest neighbor graph\n",
      "\n",
      "Computing SNN\n",
      "\n"
     ]
    },
    {
     "name": "stdout",
     "output_type": "stream",
     "text": [
      "Modularity Optimizer version 1.3.0 by Ludo Waltman and Nees Jan van Eck\n",
      "\n",
      "Number of nodes: 3792\n",
      "Number of edges: 165970\n",
      "\n",
      "Running Louvain algorithm...\n",
      "Maximum modularity in 10 random starts: 0.5140\n",
      "Number of communities: 14\n",
      "Elapsed time: 0 seconds\n"
     ]
    },
    {
     "name": "stderr",
     "output_type": "stream",
     "text": [
      "Computing nearest neighbor graph\n",
      "\n",
      "Computing SNN\n",
      "\n"
     ]
    },
    {
     "name": "stdout",
     "output_type": "stream",
     "text": [
      "Modularity Optimizer version 1.3.0 by Ludo Waltman and Nees Jan van Eck\n",
      "\n",
      "Number of nodes: 1316\n",
      "Number of edges: 74217\n",
      "\n",
      "Running Louvain algorithm...\n",
      "Maximum modularity in 10 random starts: 0.4294\n",
      "Number of communities: 11\n",
      "Elapsed time: 0 seconds\n"
     ]
    },
    {
     "name": "stderr",
     "output_type": "stream",
     "text": [
      "Computing nearest neighbor graph\n",
      "\n",
      "Computing SNN\n",
      "\n"
     ]
    },
    {
     "name": "stdout",
     "output_type": "stream",
     "text": [
      "Modularity Optimizer version 1.3.0 by Ludo Waltman and Nees Jan van Eck\n",
      "\n",
      "Number of nodes: 1039\n",
      "Number of edges: 59743\n",
      "\n",
      "Running Louvain algorithm...\n",
      "Maximum modularity in 10 random starts: 0.3337\n",
      "Number of communities: 12\n",
      "Elapsed time: 0 seconds\n"
     ]
    },
    {
     "name": "stderr",
     "output_type": "stream",
     "text": [
      "1 singletons identified. 11 final clusters.\n",
      "\n",
      "Computing nearest neighbor graph\n",
      "\n",
      "Computing SNN\n",
      "\n"
     ]
    },
    {
     "name": "stdout",
     "output_type": "stream",
     "text": [
      "Modularity Optimizer version 1.3.0 by Ludo Waltman and Nees Jan van Eck\n",
      "\n",
      "Number of nodes: 2652\n",
      "Number of edges: 123987\n",
      "\n",
      "Running Louvain algorithm...\n",
      "Maximum modularity in 10 random starts: 0.5457\n",
      "Number of communities: 14\n",
      "Elapsed time: 0 seconds\n"
     ]
    },
    {
     "name": "stderr",
     "output_type": "stream",
     "text": [
      "Computing nearest neighbor graph\n",
      "\n",
      "Computing SNN\n",
      "\n"
     ]
    },
    {
     "name": "stdout",
     "output_type": "stream",
     "text": [
      "Modularity Optimizer version 1.3.0 by Ludo Waltman and Nees Jan van Eck\n",
      "\n",
      "Number of nodes: 1645\n",
      "Number of edges: 102440\n",
      "\n",
      "Running Louvain algorithm...\n",
      "Maximum modularity in 10 random starts: 0.3436\n",
      "Number of communities: 15\n",
      "Elapsed time: 0 seconds\n"
     ]
    },
    {
     "name": "stderr",
     "output_type": "stream",
     "text": [
      "1 singletons identified. 14 final clusters.\n",
      "\n",
      "Computing nearest neighbor graph\n",
      "\n",
      "Computing SNN\n",
      "\n"
     ]
    },
    {
     "name": "stdout",
     "output_type": "stream",
     "text": [
      "Modularity Optimizer version 1.3.0 by Ludo Waltman and Nees Jan van Eck\n",
      "\n",
      "Number of nodes: 3269\n",
      "Number of edges: 163414\n",
      "\n",
      "Running Louvain algorithm...\n",
      "Maximum modularity in 10 random starts: 0.5736\n",
      "Number of communities: 12\n",
      "Elapsed time: 0 seconds\n"
     ]
    },
    {
     "name": "stderr",
     "output_type": "stream",
     "text": [
      "Computing nearest neighbor graph\n",
      "\n",
      "Computing SNN\n",
      "\n"
     ]
    },
    {
     "name": "stdout",
     "output_type": "stream",
     "text": [
      "Modularity Optimizer version 1.3.0 by Ludo Waltman and Nees Jan van Eck\n",
      "\n",
      "Number of nodes: 1978\n",
      "Number of edges: 106189\n",
      "\n",
      "Running Louvain algorithm...\n",
      "Maximum modularity in 10 random starts: 0.4840\n",
      "Number of communities: 12\n",
      "Elapsed time: 0 seconds\n"
     ]
    },
    {
     "name": "stderr",
     "output_type": "stream",
     "text": [
      "Computing nearest neighbor graph\n",
      "\n",
      "Computing SNN\n",
      "\n"
     ]
    },
    {
     "name": "stdout",
     "output_type": "stream",
     "text": [
      "Modularity Optimizer version 1.3.0 by Ludo Waltman and Nees Jan van Eck\n",
      "\n",
      "Number of nodes: 6640\n",
      "Number of edges: 264489\n",
      "\n",
      "Running Louvain algorithm...\n",
      "Maximum modularity in 10 random starts: 0.5370\n",
      "Number of communities: 17\n",
      "Elapsed time: 0 seconds\n"
     ]
    },
    {
     "name": "stderr",
     "output_type": "stream",
     "text": [
      "Computing nearest neighbor graph\n",
      "\n",
      "Computing SNN\n",
      "\n"
     ]
    },
    {
     "name": "stdout",
     "output_type": "stream",
     "text": [
      "Modularity Optimizer version 1.3.0 by Ludo Waltman and Nees Jan van Eck\n",
      "\n",
      "Number of nodes: 1514\n",
      "Number of edges: 86990\n",
      "\n",
      "Running Louvain algorithm...\n",
      "Maximum modularity in 10 random starts: 0.4568\n",
      "Number of communities: 11\n",
      "Elapsed time: 0 seconds\n"
     ]
    },
    {
     "name": "stderr",
     "output_type": "stream",
     "text": [
      "Computing nearest neighbor graph\n",
      "\n",
      "Computing SNN\n",
      "\n"
     ]
    },
    {
     "name": "stdout",
     "output_type": "stream",
     "text": [
      "Modularity Optimizer version 1.3.0 by Ludo Waltman and Nees Jan van Eck\n",
      "\n",
      "Number of nodes: 804\n",
      "Number of edges: 47123\n",
      "\n",
      "Running Louvain algorithm...\n",
      "Maximum modularity in 10 random starts: 0.3375\n",
      "Number of communities: 10\n",
      "Elapsed time: 0 seconds\n"
     ]
    },
    {
     "name": "stderr",
     "output_type": "stream",
     "text": [
      "1 singletons identified. 9 final clusters.\n",
      "\n",
      "Computing nearest neighbor graph\n",
      "\n",
      "Computing SNN\n",
      "\n"
     ]
    },
    {
     "name": "stdout",
     "output_type": "stream",
     "text": [
      "Modularity Optimizer version 1.3.0 by Ludo Waltman and Nees Jan van Eck\n",
      "\n",
      "Number of nodes: 1378\n",
      "Number of edges: 76247\n",
      "\n",
      "Running Louvain algorithm...\n",
      "Maximum modularity in 10 random starts: 0.4046\n",
      "Number of communities: 12\n",
      "Elapsed time: 0 seconds\n"
     ]
    },
    {
     "name": "stderr",
     "output_type": "stream",
     "text": [
      "Computing nearest neighbor graph\n",
      "\n",
      "Computing SNN\n",
      "\n"
     ]
    },
    {
     "name": "stdout",
     "output_type": "stream",
     "text": [
      "Modularity Optimizer version 1.3.0 by Ludo Waltman and Nees Jan van Eck\n",
      "\n",
      "Number of nodes: 1232\n",
      "Number of edges: 61371\n",
      "\n",
      "Running Louvain algorithm...\n",
      "Maximum modularity in 10 random starts: 0.5052\n",
      "Number of communities: 9\n",
      "Elapsed time: 0 seconds\n"
     ]
    },
    {
     "name": "stderr",
     "output_type": "stream",
     "text": [
      "Computing nearest neighbor graph\n",
      "\n",
      "Computing SNN\n",
      "\n"
     ]
    },
    {
     "name": "stdout",
     "output_type": "stream",
     "text": [
      "Modularity Optimizer version 1.3.0 by Ludo Waltman and Nees Jan van Eck\n",
      "\n",
      "Number of nodes: 2677\n",
      "Number of edges: 131578\n",
      "\n",
      "Running Louvain algorithm...\n",
      "Maximum modularity in 10 random starts: 0.5500\n",
      "Number of communities: 14\n",
      "Elapsed time: 0 seconds\n"
     ]
    },
    {
     "name": "stderr",
     "output_type": "stream",
     "text": [
      "Computing nearest neighbor graph\n",
      "\n",
      "Computing SNN\n",
      "\n"
     ]
    },
    {
     "name": "stdout",
     "output_type": "stream",
     "text": [
      "Modularity Optimizer version 1.3.0 by Ludo Waltman and Nees Jan van Eck\n",
      "\n",
      "Number of nodes: 6545\n",
      "Number of edges: 270297\n",
      "\n",
      "Running Louvain algorithm...\n",
      "Maximum modularity in 10 random starts: 0.5419\n",
      "Number of communities: 18\n",
      "Elapsed time: 0 seconds\n"
     ]
    },
    {
     "name": "stderr",
     "output_type": "stream",
     "text": [
      "1 singletons identified. 17 final clusters.\n",
      "\n",
      "Computing nearest neighbor graph\n",
      "\n",
      "Computing SNN\n",
      "\n"
     ]
    },
    {
     "name": "stdout",
     "output_type": "stream",
     "text": [
      "Modularity Optimizer version 1.3.0 by Ludo Waltman and Nees Jan van Eck\n",
      "\n",
      "Number of nodes: 4124\n",
      "Number of edges: 184864\n",
      "\n",
      "Running Louvain algorithm...\n",
      "Maximum modularity in 10 random starts: 0.4961\n",
      "Number of communities: 16\n",
      "Elapsed time: 0 seconds\n"
     ]
    },
    {
     "name": "stderr",
     "output_type": "stream",
     "text": [
      "Computing nearest neighbor graph\n",
      "\n",
      "Computing SNN\n",
      "\n"
     ]
    },
    {
     "name": "stdout",
     "output_type": "stream",
     "text": [
      "Modularity Optimizer version 1.3.0 by Ludo Waltman and Nees Jan van Eck\n",
      "\n",
      "Number of nodes: 2575\n",
      "Number of edges: 142802\n",
      "\n",
      "Running Louvain algorithm...\n",
      "Maximum modularity in 10 random starts: 0.5054\n",
      "Number of communities: 14\n",
      "Elapsed time: 0 seconds\n"
     ]
    },
    {
     "name": "stderr",
     "output_type": "stream",
     "text": [
      "Computing nearest neighbor graph\n",
      "\n",
      "Computing SNN\n",
      "\n"
     ]
    },
    {
     "name": "stdout",
     "output_type": "stream",
     "text": [
      "Modularity Optimizer version 1.3.0 by Ludo Waltman and Nees Jan van Eck\n",
      "\n",
      "Number of nodes: 1927\n",
      "Number of edges: 95984\n",
      "\n",
      "Running Louvain algorithm...\n",
      "Maximum modularity in 10 random starts: 0.4627\n",
      "Number of communities: 12\n",
      "Elapsed time: 0 seconds\n"
     ]
    },
    {
     "name": "stderr",
     "output_type": "stream",
     "text": [
      "Computing nearest neighbor graph\n",
      "\n",
      "Computing SNN\n",
      "\n"
     ]
    },
    {
     "name": "stdout",
     "output_type": "stream",
     "text": [
      "Modularity Optimizer version 1.3.0 by Ludo Waltman and Nees Jan van Eck\n",
      "\n",
      "Number of nodes: 984\n",
      "Number of edges: 41972\n",
      "\n",
      "Running Louvain algorithm...\n",
      "Maximum modularity in 10 random starts: 0.5376\n",
      "Number of communities: 10\n",
      "Elapsed time: 0 seconds\n"
     ]
    },
    {
     "name": "stderr",
     "output_type": "stream",
     "text": [
      "Computing nearest neighbor graph\n",
      "\n",
      "Computing SNN\n",
      "\n"
     ]
    },
    {
     "name": "stdout",
     "output_type": "stream",
     "text": [
      "Modularity Optimizer version 1.3.0 by Ludo Waltman and Nees Jan van Eck\n",
      "\n",
      "Number of nodes: 1335\n",
      "Number of edges: 69784\n",
      "\n",
      "Running Louvain algorithm...\n",
      "Maximum modularity in 10 random starts: 0.4363\n",
      "Number of communities: 10\n",
      "Elapsed time: 0 seconds\n"
     ]
    },
    {
     "name": "stderr",
     "output_type": "stream",
     "text": [
      "Computing nearest neighbor graph\n",
      "\n",
      "Computing SNN\n",
      "\n"
     ]
    },
    {
     "name": "stdout",
     "output_type": "stream",
     "text": [
      "Modularity Optimizer version 1.3.0 by Ludo Waltman and Nees Jan van Eck\n",
      "\n",
      "Number of nodes: 3351\n",
      "Number of edges: 142357\n",
      "\n",
      "Running Louvain algorithm...\n",
      "Maximum modularity in 10 random starts: 0.4855\n",
      "Number of communities: 17\n",
      "Elapsed time: 0 seconds\n"
     ]
    },
    {
     "name": "stderr",
     "output_type": "stream",
     "text": [
      "Computing nearest neighbor graph\n",
      "\n",
      "Computing SNN\n",
      "\n"
     ]
    },
    {
     "name": "stdout",
     "output_type": "stream",
     "text": [
      "Modularity Optimizer version 1.3.0 by Ludo Waltman and Nees Jan van Eck\n",
      "\n",
      "Number of nodes: 2482\n",
      "Number of edges: 117537\n",
      "\n",
      "Running Louvain algorithm...\n",
      "Maximum modularity in 10 random starts: 0.5071\n",
      "Number of communities: 12\n",
      "Elapsed time: 0 seconds\n"
     ]
    },
    {
     "name": "stderr",
     "output_type": "stream",
     "text": [
      "Computing nearest neighbor graph\n",
      "\n",
      "Computing SNN\n",
      "\n"
     ]
    },
    {
     "name": "stdout",
     "output_type": "stream",
     "text": [
      "Modularity Optimizer version 1.3.0 by Ludo Waltman and Nees Jan van Eck\n",
      "\n",
      "Number of nodes: 7276\n",
      "Number of edges: 288588\n",
      "\n",
      "Running Louvain algorithm...\n",
      "Maximum modularity in 10 random starts: 0.5568\n",
      "Number of communities: 17\n",
      "Elapsed time: 0 seconds\n"
     ]
    },
    {
     "name": "stderr",
     "output_type": "stream",
     "text": [
      "Computing nearest neighbor graph\n",
      "\n",
      "Computing SNN\n",
      "\n"
     ]
    },
    {
     "name": "stdout",
     "output_type": "stream",
     "text": [
      "Modularity Optimizer version 1.3.0 by Ludo Waltman and Nees Jan van Eck\n",
      "\n",
      "Number of nodes: 1033\n",
      "Number of edges: 45929\n",
      "\n",
      "Running Louvain algorithm...\n",
      "Maximum modularity in 10 random starts: 0.5656\n",
      "Number of communities: 10\n",
      "Elapsed time: 0 seconds\n"
     ]
    },
    {
     "name": "stderr",
     "output_type": "stream",
     "text": [
      "Computing nearest neighbor graph\n",
      "\n",
      "Computing SNN\n",
      "\n"
     ]
    },
    {
     "name": "stdout",
     "output_type": "stream",
     "text": [
      "Modularity Optimizer version 1.3.0 by Ludo Waltman and Nees Jan van Eck\n",
      "\n",
      "Number of nodes: 3627\n",
      "Number of edges: 165879\n",
      "\n",
      "Running Louvain algorithm...\n",
      "Maximum modularity in 10 random starts: 0.5325\n",
      "Number of communities: 14\n",
      "Elapsed time: 0 seconds\n"
     ]
    },
    {
     "name": "stderr",
     "output_type": "stream",
     "text": [
      "Computing nearest neighbor graph\n",
      "\n",
      "Computing SNN\n",
      "\n"
     ]
    },
    {
     "name": "stdout",
     "output_type": "stream",
     "text": [
      "Modularity Optimizer version 1.3.0 by Ludo Waltman and Nees Jan van Eck\n",
      "\n",
      "Number of nodes: 2573\n",
      "Number of edges: 144952\n",
      "\n",
      "Running Louvain algorithm...\n",
      "Maximum modularity in 10 random starts: 0.4574\n",
      "Number of communities: 12\n",
      "Elapsed time: 0 seconds\n"
     ]
    },
    {
     "name": "stderr",
     "output_type": "stream",
     "text": [
      "Computing nearest neighbor graph\n",
      "\n",
      "Computing SNN\n",
      "\n"
     ]
    },
    {
     "name": "stdout",
     "output_type": "stream",
     "text": [
      "Modularity Optimizer version 1.3.0 by Ludo Waltman and Nees Jan van Eck\n",
      "\n",
      "Number of nodes: 119\n",
      "Number of edges: 3053\n",
      "\n",
      "Running Louvain algorithm...\n",
      "Maximum modularity in 10 random starts: 0.2138\n",
      "Number of communities: 7\n",
      "Elapsed time: 0 seconds\n"
     ]
    },
    {
     "name": "stderr",
     "output_type": "stream",
     "text": [
      "1 singletons identified. 6 final clusters.\n",
      "\n",
      "Computing nearest neighbor graph\n",
      "\n",
      "Computing SNN\n",
      "\n"
     ]
    },
    {
     "name": "stdout",
     "output_type": "stream",
     "text": [
      "Modularity Optimizer version 1.3.0 by Ludo Waltman and Nees Jan van Eck\n",
      "\n",
      "Number of nodes: 4035\n",
      "Number of edges: 163633\n",
      "\n",
      "Running Louvain algorithm...\n",
      "Maximum modularity in 10 random starts: 0.5287\n",
      "Number of communities: 17\n",
      "Elapsed time: 0 seconds\n"
     ]
    },
    {
     "name": "stderr",
     "output_type": "stream",
     "text": [
      "Computing nearest neighbor graph\n",
      "\n",
      "Computing SNN\n",
      "\n"
     ]
    },
    {
     "name": "stdout",
     "output_type": "stream",
     "text": [
      "Modularity Optimizer version 1.3.0 by Ludo Waltman and Nees Jan van Eck\n",
      "\n",
      "Number of nodes: 1134\n",
      "Number of edges: 61626\n",
      "\n",
      "Running Louvain algorithm...\n",
      "Maximum modularity in 10 random starts: 0.4679\n",
      "Number of communities: 11\n",
      "Elapsed time: 0 seconds\n"
     ]
    }
   ],
   "source": [
    "# Define the dimensions and cluster resolution to use for the second round of subclustering\n",
    "subcluster_dims_to_use <- 1:60  # Adjust as needed\n",
    "subcluster_resolution <- 2  # Adjust as needed\n",
    "\n",
    "# Get the unique clusters from the initial clustering\n",
    "initial_clusters <- unique(Idents(seurat_subcluster))\n",
    "\n",
    "# Function to perform subclustering on a given cluster\n",
    "subcluster_function <- function(cluster) {\n",
    "  # Identify the cells in the current cluster\n",
    "  clusters_of_interest <- WhichCells(seurat_subcluster, idents = cluster)\n",
    "  \n",
    "  # Subset the Seurat object to include only the cells in the current cluster\n",
    "  cluster_subset <- subset(seurat_subcluster, cells = clusters_of_interest)\n",
    "  \n",
    "  # Perform the second round of subclustering\n",
    "  # Find Neighbors\n",
    "  cluster_subset <- FindNeighbors(cluster_subset, \n",
    "                                  reduction = \"StabMAP_MNN\",\n",
    "                                  graph.name = c(\"StabMAP_NN\", \"StabMAP_SNN\"),\n",
    "                                  dims = subcluster_dims_to_use)\n",
    "  \n",
    "  # Find Clusters\n",
    "  cluster_subset <- FindClusters(cluster_subset, resolution = subcluster_resolution,\n",
    "                                 graph.name = \"StabMAP_SNN\")\n",
    "  return(cluster_subset)\n",
    "}\n",
    "\n",
    "# Apply the subclustering function to each initial cluster\n",
    "subcluster_ids_list <- lapply(initial_clusters, subcluster_function)"
   ]
  },
  {
   "cell_type": "code",
   "execution_count": 163,
   "id": "56745151-9dd6-4df4-b0ac-ef465972fb81",
   "metadata": {},
   "outputs": [
    {
     "data": {
      "text/plain": [
       "[[1]]\n",
       "An object of class Seurat \n",
       "55688 features across 9574 samples within 3 assays \n",
       "Active assay: RNA (27669 features, 0 variable features)\n",
       " 2 other assays present: imputedlogcounts, seqFISHlogcounts\n",
       " 2 dimensional reductions calculated: StabMAP_UMAP, StabMAP_MNN\n",
       "\n",
       "[[2]]\n",
       "An object of class Seurat \n",
       "55688 features across 6692 samples within 3 assays \n",
       "Active assay: RNA (27669 features, 0 variable features)\n",
       " 2 other assays present: imputedlogcounts, seqFISHlogcounts\n",
       " 2 dimensional reductions calculated: StabMAP_UMAP, StabMAP_MNN\n",
       "\n",
       "[[3]]\n",
       "An object of class Seurat \n",
       "55688 features across 6380 samples within 3 assays \n",
       "Active assay: RNA (27669 features, 0 variable features)\n",
       " 2 other assays present: imputedlogcounts, seqFISHlogcounts\n",
       " 2 dimensional reductions calculated: StabMAP_UMAP, StabMAP_MNN\n",
       "\n",
       "[[4]]\n",
       "An object of class Seurat \n",
       "55688 features across 1655 samples within 3 assays \n",
       "Active assay: RNA (27669 features, 0 variable features)\n",
       " 2 other assays present: imputedlogcounts, seqFISHlogcounts\n",
       " 2 dimensional reductions calculated: StabMAP_UMAP, StabMAP_MNN\n",
       "\n",
       "[[5]]\n",
       "An object of class Seurat \n",
       "55688 features across 2434 samples within 3 assays \n",
       "Active assay: RNA (27669 features, 0 variable features)\n",
       " 2 other assays present: imputedlogcounts, seqFISHlogcounts\n",
       " 2 dimensional reductions calculated: StabMAP_UMAP, StabMAP_MNN\n",
       "\n",
       "[[6]]\n",
       "An object of class Seurat \n",
       "55688 features across 4572 samples within 3 assays \n",
       "Active assay: RNA (27669 features, 0 variable features)\n",
       " 2 other assays present: imputedlogcounts, seqFISHlogcounts\n",
       " 2 dimensional reductions calculated: StabMAP_UMAP, StabMAP_MNN\n",
       "\n",
       "[[7]]\n",
       "An object of class Seurat \n",
       "55688 features across 3863 samples within 3 assays \n",
       "Active assay: RNA (27669 features, 0 variable features)\n",
       " 2 other assays present: imputedlogcounts, seqFISHlogcounts\n",
       " 2 dimensional reductions calculated: StabMAP_UMAP, StabMAP_MNN\n",
       "\n",
       "[[8]]\n",
       "An object of class Seurat \n",
       "55688 features across 2798 samples within 3 assays \n",
       "Active assay: RNA (27669 features, 0 variable features)\n",
       " 2 other assays present: imputedlogcounts, seqFISHlogcounts\n",
       " 2 dimensional reductions calculated: StabMAP_UMAP, StabMAP_MNN\n",
       "\n",
       "[[9]]\n",
       "An object of class Seurat \n",
       "55688 features across 2171 samples within 3 assays \n",
       "Active assay: RNA (27669 features, 0 variable features)\n",
       " 2 other assays present: imputedlogcounts, seqFISHlogcounts\n",
       " 2 dimensional reductions calculated: StabMAP_UMAP, StabMAP_MNN\n",
       "\n",
       "[[10]]\n",
       "An object of class Seurat \n",
       "55688 features across 944 samples within 3 assays \n",
       "Active assay: RNA (27669 features, 0 variable features)\n",
       " 2 other assays present: imputedlogcounts, seqFISHlogcounts\n",
       " 2 dimensional reductions calculated: StabMAP_UMAP, StabMAP_MNN\n",
       "\n",
       "[[11]]\n",
       "An object of class Seurat \n",
       "55688 features across 3320 samples within 3 assays \n",
       "Active assay: RNA (27669 features, 0 variable features)\n",
       " 2 other assays present: imputedlogcounts, seqFISHlogcounts\n",
       " 2 dimensional reductions calculated: StabMAP_UMAP, StabMAP_MNN\n",
       "\n",
       "[[12]]\n",
       "An object of class Seurat \n",
       "55688 features across 1843 samples within 3 assays \n",
       "Active assay: RNA (27669 features, 0 variable features)\n",
       " 2 other assays present: imputedlogcounts, seqFISHlogcounts\n",
       " 2 dimensional reductions calculated: StabMAP_UMAP, StabMAP_MNN\n",
       "\n",
       "[[13]]\n",
       "An object of class Seurat \n",
       "55688 features across 803 samples within 3 assays \n",
       "Active assay: RNA (27669 features, 0 variable features)\n",
       " 2 other assays present: imputedlogcounts, seqFISHlogcounts\n",
       " 2 dimensional reductions calculated: StabMAP_UMAP, StabMAP_MNN\n",
       "\n",
       "[[14]]\n",
       "An object of class Seurat \n",
       "55688 features across 1785 samples within 3 assays \n",
       "Active assay: RNA (27669 features, 0 variable features)\n",
       " 2 other assays present: imputedlogcounts, seqFISHlogcounts\n",
       " 2 dimensional reductions calculated: StabMAP_UMAP, StabMAP_MNN\n",
       "\n",
       "[[15]]\n",
       "An object of class Seurat \n",
       "55688 features across 2672 samples within 3 assays \n",
       "Active assay: RNA (27669 features, 0 variable features)\n",
       " 2 other assays present: imputedlogcounts, seqFISHlogcounts\n",
       " 2 dimensional reductions calculated: StabMAP_UMAP, StabMAP_MNN\n",
       "\n",
       "[[16]]\n",
       "An object of class Seurat \n",
       "55688 features across 3598 samples within 3 assays \n",
       "Active assay: RNA (27669 features, 0 variable features)\n",
       " 2 other assays present: imputedlogcounts, seqFISHlogcounts\n",
       " 2 dimensional reductions calculated: StabMAP_UMAP, StabMAP_MNN\n",
       "\n",
       "[[17]]\n",
       "An object of class Seurat \n",
       "55688 features across 3728 samples within 3 assays \n",
       "Active assay: RNA (27669 features, 0 variable features)\n",
       " 2 other assays present: imputedlogcounts, seqFISHlogcounts\n",
       " 2 dimensional reductions calculated: StabMAP_UMAP, StabMAP_MNN\n",
       "\n",
       "[[18]]\n",
       "An object of class Seurat \n",
       "55688 features across 3041 samples within 3 assays \n",
       "Active assay: RNA (27669 features, 0 variable features)\n",
       " 2 other assays present: imputedlogcounts, seqFISHlogcounts\n",
       " 2 dimensional reductions calculated: StabMAP_UMAP, StabMAP_MNN\n",
       "\n",
       "[[19]]\n",
       "An object of class Seurat \n",
       "55688 features across 3953 samples within 3 assays \n",
       "Active assay: RNA (27669 features, 0 variable features)\n",
       " 2 other assays present: imputedlogcounts, seqFISHlogcounts\n",
       " 2 dimensional reductions calculated: StabMAP_UMAP, StabMAP_MNN\n",
       "\n",
       "[[20]]\n",
       "An object of class Seurat \n",
       "55688 features across 2831 samples within 3 assays \n",
       "Active assay: RNA (27669 features, 0 variable features)\n",
       " 2 other assays present: imputedlogcounts, seqFISHlogcounts\n",
       " 2 dimensional reductions calculated: StabMAP_UMAP, StabMAP_MNN\n",
       "\n",
       "[[21]]\n",
       "An object of class Seurat \n",
       "55688 features across 4028 samples within 3 assays \n",
       "Active assay: RNA (27669 features, 0 variable features)\n",
       " 2 other assays present: imputedlogcounts, seqFISHlogcounts\n",
       " 2 dimensional reductions calculated: StabMAP_UMAP, StabMAP_MNN\n",
       "\n",
       "[[22]]\n",
       "An object of class Seurat \n",
       "55688 features across 3073 samples within 3 assays \n",
       "Active assay: RNA (27669 features, 0 variable features)\n",
       " 2 other assays present: imputedlogcounts, seqFISHlogcounts\n",
       " 2 dimensional reductions calculated: StabMAP_UMAP, StabMAP_MNN\n",
       "\n",
       "[[23]]\n",
       "An object of class Seurat \n",
       "55688 features across 1537 samples within 3 assays \n",
       "Active assay: RNA (27669 features, 0 variable features)\n",
       " 2 other assays present: imputedlogcounts, seqFISHlogcounts\n",
       " 2 dimensional reductions calculated: StabMAP_UMAP, StabMAP_MNN\n",
       "\n",
       "[[24]]\n",
       "An object of class Seurat \n",
       "55688 features across 2476 samples within 3 assays \n",
       "Active assay: RNA (27669 features, 0 variable features)\n",
       " 2 other assays present: imputedlogcounts, seqFISHlogcounts\n",
       " 2 dimensional reductions calculated: StabMAP_UMAP, StabMAP_MNN\n",
       "\n",
       "[[25]]\n",
       "An object of class Seurat \n",
       "55688 features across 1086 samples within 3 assays \n",
       "Active assay: RNA (27669 features, 0 variable features)\n",
       " 2 other assays present: imputedlogcounts, seqFISHlogcounts\n",
       " 2 dimensional reductions calculated: StabMAP_UMAP, StabMAP_MNN\n",
       "\n",
       "[[26]]\n",
       "An object of class Seurat \n",
       "55688 features across 3856 samples within 3 assays \n",
       "Active assay: RNA (27669 features, 0 variable features)\n",
       " 2 other assays present: imputedlogcounts, seqFISHlogcounts\n",
       " 2 dimensional reductions calculated: StabMAP_UMAP, StabMAP_MNN\n",
       "\n",
       "[[27]]\n",
       "An object of class Seurat \n",
       "55688 features across 2595 samples within 3 assays \n",
       "Active assay: RNA (27669 features, 0 variable features)\n",
       " 2 other assays present: imputedlogcounts, seqFISHlogcounts\n",
       " 2 dimensional reductions calculated: StabMAP_UMAP, StabMAP_MNN\n",
       "\n",
       "[[28]]\n",
       "An object of class Seurat \n",
       "55688 features across 1091 samples within 3 assays \n",
       "Active assay: RNA (27669 features, 0 variable features)\n",
       " 2 other assays present: imputedlogcounts, seqFISHlogcounts\n",
       " 2 dimensional reductions calculated: StabMAP_UMAP, StabMAP_MNN\n",
       "\n",
       "[[29]]\n",
       "An object of class Seurat \n",
       "55688 features across 2479 samples within 3 assays \n",
       "Active assay: RNA (27669 features, 0 variable features)\n",
       " 2 other assays present: imputedlogcounts, seqFISHlogcounts\n",
       " 2 dimensional reductions calculated: StabMAP_UMAP, StabMAP_MNN\n",
       "\n",
       "[[30]]\n",
       "An object of class Seurat \n",
       "55688 features across 3426 samples within 3 assays \n",
       "Active assay: RNA (27669 features, 0 variable features)\n",
       " 2 other assays present: imputedlogcounts, seqFISHlogcounts\n",
       " 2 dimensional reductions calculated: StabMAP_UMAP, StabMAP_MNN\n",
       "\n",
       "[[31]]\n",
       "An object of class Seurat \n",
       "55688 features across 1352 samples within 3 assays \n",
       "Active assay: RNA (27669 features, 0 variable features)\n",
       " 2 other assays present: imputedlogcounts, seqFISHlogcounts\n",
       " 2 dimensional reductions calculated: StabMAP_UMAP, StabMAP_MNN\n",
       "\n",
       "[[32]]\n",
       "An object of class Seurat \n",
       "55688 features across 2042 samples within 3 assays \n",
       "Active assay: RNA (27669 features, 0 variable features)\n",
       " 2 other assays present: imputedlogcounts, seqFISHlogcounts\n",
       " 2 dimensional reductions calculated: StabMAP_UMAP, StabMAP_MNN\n",
       "\n",
       "[[33]]\n",
       "An object of class Seurat \n",
       "55688 features across 1521 samples within 3 assays \n",
       "Active assay: RNA (27669 features, 0 variable features)\n",
       " 2 other assays present: imputedlogcounts, seqFISHlogcounts\n",
       " 2 dimensional reductions calculated: StabMAP_UMAP, StabMAP_MNN\n",
       "\n",
       "[[34]]\n",
       "An object of class Seurat \n",
       "55688 features across 2028 samples within 3 assays \n",
       "Active assay: RNA (27669 features, 0 variable features)\n",
       " 2 other assays present: imputedlogcounts, seqFISHlogcounts\n",
       " 2 dimensional reductions calculated: StabMAP_UMAP, StabMAP_MNN\n",
       "\n",
       "[[35]]\n",
       "An object of class Seurat \n",
       "55688 features across 3793 samples within 3 assays \n",
       "Active assay: RNA (27669 features, 0 variable features)\n",
       " 2 other assays present: imputedlogcounts, seqFISHlogcounts\n",
       " 2 dimensional reductions calculated: StabMAP_UMAP, StabMAP_MNN\n",
       "\n",
       "[[36]]\n",
       "An object of class Seurat \n",
       "55688 features across 3964 samples within 3 assays \n",
       "Active assay: RNA (27669 features, 0 variable features)\n",
       " 2 other assays present: imputedlogcounts, seqFISHlogcounts\n",
       " 2 dimensional reductions calculated: StabMAP_UMAP, StabMAP_MNN\n",
       "\n",
       "[[37]]\n",
       "An object of class Seurat \n",
       "55688 features across 6687 samples within 3 assays \n",
       "Active assay: RNA (27669 features, 0 variable features)\n",
       " 2 other assays present: imputedlogcounts, seqFISHlogcounts\n",
       " 2 dimensional reductions calculated: StabMAP_UMAP, StabMAP_MNN\n",
       "\n",
       "[[38]]\n",
       "An object of class Seurat \n",
       "55688 features across 3792 samples within 3 assays \n",
       "Active assay: RNA (27669 features, 0 variable features)\n",
       " 2 other assays present: imputedlogcounts, seqFISHlogcounts\n",
       " 2 dimensional reductions calculated: StabMAP_UMAP, StabMAP_MNN\n",
       "\n",
       "[[39]]\n",
       "An object of class Seurat \n",
       "55688 features across 1316 samples within 3 assays \n",
       "Active assay: RNA (27669 features, 0 variable features)\n",
       " 2 other assays present: imputedlogcounts, seqFISHlogcounts\n",
       " 2 dimensional reductions calculated: StabMAP_UMAP, StabMAP_MNN\n",
       "\n",
       "[[40]]\n",
       "An object of class Seurat \n",
       "55688 features across 1039 samples within 3 assays \n",
       "Active assay: RNA (27669 features, 0 variable features)\n",
       " 2 other assays present: imputedlogcounts, seqFISHlogcounts\n",
       " 2 dimensional reductions calculated: StabMAP_UMAP, StabMAP_MNN\n",
       "\n",
       "[[41]]\n",
       "An object of class Seurat \n",
       "55688 features across 2652 samples within 3 assays \n",
       "Active assay: RNA (27669 features, 0 variable features)\n",
       " 2 other assays present: imputedlogcounts, seqFISHlogcounts\n",
       " 2 dimensional reductions calculated: StabMAP_UMAP, StabMAP_MNN\n",
       "\n",
       "[[42]]\n",
       "An object of class Seurat \n",
       "55688 features across 1645 samples within 3 assays \n",
       "Active assay: RNA (27669 features, 0 variable features)\n",
       " 2 other assays present: imputedlogcounts, seqFISHlogcounts\n",
       " 2 dimensional reductions calculated: StabMAP_UMAP, StabMAP_MNN\n",
       "\n",
       "[[43]]\n",
       "An object of class Seurat \n",
       "55688 features across 3269 samples within 3 assays \n",
       "Active assay: RNA (27669 features, 0 variable features)\n",
       " 2 other assays present: imputedlogcounts, seqFISHlogcounts\n",
       " 2 dimensional reductions calculated: StabMAP_UMAP, StabMAP_MNN\n",
       "\n",
       "[[44]]\n",
       "An object of class Seurat \n",
       "55688 features across 1978 samples within 3 assays \n",
       "Active assay: RNA (27669 features, 0 variable features)\n",
       " 2 other assays present: imputedlogcounts, seqFISHlogcounts\n",
       " 2 dimensional reductions calculated: StabMAP_UMAP, StabMAP_MNN\n",
       "\n",
       "[[45]]\n",
       "An object of class Seurat \n",
       "55688 features across 6640 samples within 3 assays \n",
       "Active assay: RNA (27669 features, 0 variable features)\n",
       " 2 other assays present: imputedlogcounts, seqFISHlogcounts\n",
       " 2 dimensional reductions calculated: StabMAP_UMAP, StabMAP_MNN\n",
       "\n",
       "[[46]]\n",
       "An object of class Seurat \n",
       "55688 features across 1514 samples within 3 assays \n",
       "Active assay: RNA (27669 features, 0 variable features)\n",
       " 2 other assays present: imputedlogcounts, seqFISHlogcounts\n",
       " 2 dimensional reductions calculated: StabMAP_UMAP, StabMAP_MNN\n",
       "\n",
       "[[47]]\n",
       "An object of class Seurat \n",
       "55688 features across 804 samples within 3 assays \n",
       "Active assay: RNA (27669 features, 0 variable features)\n",
       " 2 other assays present: imputedlogcounts, seqFISHlogcounts\n",
       " 2 dimensional reductions calculated: StabMAP_UMAP, StabMAP_MNN\n",
       "\n",
       "[[48]]\n",
       "An object of class Seurat \n",
       "55688 features across 1378 samples within 3 assays \n",
       "Active assay: RNA (27669 features, 0 variable features)\n",
       " 2 other assays present: imputedlogcounts, seqFISHlogcounts\n",
       " 2 dimensional reductions calculated: StabMAP_UMAP, StabMAP_MNN\n",
       "\n",
       "[[49]]\n",
       "An object of class Seurat \n",
       "55688 features across 1232 samples within 3 assays \n",
       "Active assay: RNA (27669 features, 0 variable features)\n",
       " 2 other assays present: imputedlogcounts, seqFISHlogcounts\n",
       " 2 dimensional reductions calculated: StabMAP_UMAP, StabMAP_MNN\n",
       "\n",
       "[[50]]\n",
       "An object of class Seurat \n",
       "55688 features across 2677 samples within 3 assays \n",
       "Active assay: RNA (27669 features, 0 variable features)\n",
       " 2 other assays present: imputedlogcounts, seqFISHlogcounts\n",
       " 2 dimensional reductions calculated: StabMAP_UMAP, StabMAP_MNN\n",
       "\n",
       "[[51]]\n",
       "An object of class Seurat \n",
       "55688 features across 6545 samples within 3 assays \n",
       "Active assay: RNA (27669 features, 0 variable features)\n",
       " 2 other assays present: imputedlogcounts, seqFISHlogcounts\n",
       " 2 dimensional reductions calculated: StabMAP_UMAP, StabMAP_MNN\n",
       "\n",
       "[[52]]\n",
       "An object of class Seurat \n",
       "55688 features across 4124 samples within 3 assays \n",
       "Active assay: RNA (27669 features, 0 variable features)\n",
       " 2 other assays present: imputedlogcounts, seqFISHlogcounts\n",
       " 2 dimensional reductions calculated: StabMAP_UMAP, StabMAP_MNN\n",
       "\n",
       "[[53]]\n",
       "An object of class Seurat \n",
       "55688 features across 2575 samples within 3 assays \n",
       "Active assay: RNA (27669 features, 0 variable features)\n",
       " 2 other assays present: imputedlogcounts, seqFISHlogcounts\n",
       " 2 dimensional reductions calculated: StabMAP_UMAP, StabMAP_MNN\n",
       "\n",
       "[[54]]\n",
       "An object of class Seurat \n",
       "55688 features across 1927 samples within 3 assays \n",
       "Active assay: RNA (27669 features, 0 variable features)\n",
       " 2 other assays present: imputedlogcounts, seqFISHlogcounts\n",
       " 2 dimensional reductions calculated: StabMAP_UMAP, StabMAP_MNN\n",
       "\n",
       "[[55]]\n",
       "An object of class Seurat \n",
       "55688 features across 984 samples within 3 assays \n",
       "Active assay: RNA (27669 features, 0 variable features)\n",
       " 2 other assays present: imputedlogcounts, seqFISHlogcounts\n",
       " 2 dimensional reductions calculated: StabMAP_UMAP, StabMAP_MNN\n",
       "\n",
       "[[56]]\n",
       "An object of class Seurat \n",
       "55688 features across 1335 samples within 3 assays \n",
       "Active assay: RNA (27669 features, 0 variable features)\n",
       " 2 other assays present: imputedlogcounts, seqFISHlogcounts\n",
       " 2 dimensional reductions calculated: StabMAP_UMAP, StabMAP_MNN\n",
       "\n",
       "[[57]]\n",
       "An object of class Seurat \n",
       "55688 features across 3351 samples within 3 assays \n",
       "Active assay: RNA (27669 features, 0 variable features)\n",
       " 2 other assays present: imputedlogcounts, seqFISHlogcounts\n",
       " 2 dimensional reductions calculated: StabMAP_UMAP, StabMAP_MNN\n",
       "\n",
       "[[58]]\n",
       "An object of class Seurat \n",
       "55688 features across 2482 samples within 3 assays \n",
       "Active assay: RNA (27669 features, 0 variable features)\n",
       " 2 other assays present: imputedlogcounts, seqFISHlogcounts\n",
       " 2 dimensional reductions calculated: StabMAP_UMAP, StabMAP_MNN\n",
       "\n",
       "[[59]]\n",
       "An object of class Seurat \n",
       "55688 features across 7276 samples within 3 assays \n",
       "Active assay: RNA (27669 features, 0 variable features)\n",
       " 2 other assays present: imputedlogcounts, seqFISHlogcounts\n",
       " 2 dimensional reductions calculated: StabMAP_UMAP, StabMAP_MNN\n",
       "\n",
       "[[60]]\n",
       "An object of class Seurat \n",
       "55688 features across 1033 samples within 3 assays \n",
       "Active assay: RNA (27669 features, 0 variable features)\n",
       " 2 other assays present: imputedlogcounts, seqFISHlogcounts\n",
       " 2 dimensional reductions calculated: StabMAP_UMAP, StabMAP_MNN\n",
       "\n",
       "[[61]]\n",
       "An object of class Seurat \n",
       "55688 features across 3627 samples within 3 assays \n",
       "Active assay: RNA (27669 features, 0 variable features)\n",
       " 2 other assays present: imputedlogcounts, seqFISHlogcounts\n",
       " 2 dimensional reductions calculated: StabMAP_UMAP, StabMAP_MNN\n",
       "\n",
       "[[62]]\n",
       "An object of class Seurat \n",
       "55688 features across 2573 samples within 3 assays \n",
       "Active assay: RNA (27669 features, 0 variable features)\n",
       " 2 other assays present: imputedlogcounts, seqFISHlogcounts\n",
       " 2 dimensional reductions calculated: StabMAP_UMAP, StabMAP_MNN\n",
       "\n",
       "[[63]]\n",
       "An object of class Seurat \n",
       "55688 features across 119 samples within 3 assays \n",
       "Active assay: RNA (27669 features, 0 variable features)\n",
       " 2 other assays present: imputedlogcounts, seqFISHlogcounts\n",
       " 2 dimensional reductions calculated: StabMAP_UMAP, StabMAP_MNN\n",
       "\n",
       "[[64]]\n",
       "An object of class Seurat \n",
       "55688 features across 4035 samples within 3 assays \n",
       "Active assay: RNA (27669 features, 0 variable features)\n",
       " 2 other assays present: imputedlogcounts, seqFISHlogcounts\n",
       " 2 dimensional reductions calculated: StabMAP_UMAP, StabMAP_MNN\n",
       "\n",
       "[[65]]\n",
       "An object of class Seurat \n",
       "55688 features across 1134 samples within 3 assays \n",
       "Active assay: RNA (27669 features, 0 variable features)\n",
       " 2 other assays present: imputedlogcounts, seqFISHlogcounts\n",
       " 2 dimensional reductions calculated: StabMAP_UMAP, StabMAP_MNN\n"
      ]
     },
     "metadata": {},
     "output_type": "display_data"
    }
   ],
   "source": [
    "subcluster_ids_list"
   ]
  },
  {
   "cell_type": "code",
   "execution_count": 182,
   "id": "a31c2299-b990-4e21-8ae6-2d78bd9f630d",
   "metadata": {},
   "outputs": [
    {
     "data": {
      "text/html": [
       "<table class=\"dataframe\">\n",
       "<caption>A data.frame: 6 x 12</caption>\n",
       "<thead>\n",
       "\t<tr><th></th><th scope=col>orig.ident</th><th scope=col>nCount_RNA</th><th scope=col>nFeature_RNA</th><th scope=col>seqFISH_celltype</th><th scope=col>extended_atlas_celltype</th><th scope=col>AP</th><th scope=col>DV</th><th scope=col>dataset</th><th scope=col>cell_ID</th><th scope=col>StabMAP_SNN_res.3</th><th scope=col>seurat_clusters</th><th scope=col>StabMAP_SNN_res.2</th></tr>\n",
       "\t<tr><th></th><th scope=col>&lt;fct&gt;</th><th scope=col>&lt;dbl&gt;</th><th scope=col>&lt;int&gt;</th><th scope=col>&lt;fct&gt;</th><th scope=col>&lt;chr&gt;</th><th scope=col>&lt;dbl&gt;</th><th scope=col>&lt;dbl&gt;</th><th scope=col>&lt;fct&gt;</th><th scope=col>&lt;chr&gt;</th><th scope=col>&lt;fct&gt;</th><th scope=col>&lt;fct&gt;</th><th scope=col>&lt;fct&gt;</th></tr>\n",
       "</thead>\n",
       "<tbody>\n",
       "\t<tr><th scope=row>cell_1</th><td>cell</td><td> 8962</td><td>2546</td><td>epiblast</td><td>Epiblast</td><td>      NA</td><td>      NA</td><td>scRNA</td><td>cell_1 </td><td>0</td><td>10</td><td>10</td></tr>\n",
       "\t<tr><th scope=row>cell_6</th><td>cell</td><td>20345</td><td>3864</td><td>epiblast</td><td>Epiblast</td><td>69.74577</td><td>69.83081</td><td>scRNA</td><td>cell_6 </td><td>0</td><td>17</td><td>17</td></tr>\n",
       "\t<tr><th scope=row>cell_8</th><td>cell</td><td>22542</td><td>4040</td><td>epiblast</td><td>Epiblast</td><td>71.04784</td><td>62.39884</td><td>scRNA</td><td>cell_8 </td><td>0</td><td>6 </td><td>6 </td></tr>\n",
       "\t<tr><th scope=row>cell_9</th><td>cell</td><td>24502</td><td>4350</td><td>epiblast</td><td>Epiblast</td><td>77.50144</td><td>78.04394</td><td>scRNA</td><td>cell_9 </td><td>0</td><td>7 </td><td>7 </td></tr>\n",
       "\t<tr><th scope=row>cell_10</th><td>cell</td><td> 5640</td><td>1930</td><td>epiblast</td><td>Epiblast</td><td>73.56492</td><td>75.40462</td><td>scRNA</td><td>cell_10</td><td>0</td><td>8 </td><td>8 </td></tr>\n",
       "\t<tr><th scope=row>cell_11</th><td>cell</td><td>20830</td><td>4025</td><td>epiblast</td><td>Epiblast</td><td>74.16856</td><td>58.93064</td><td>scRNA</td><td>cell_11</td><td>0</td><td>6 </td><td>6 </td></tr>\n",
       "</tbody>\n",
       "</table>\n"
      ],
      "text/latex": [
       "A data.frame: 6 x 12\n",
       "\\begin{tabular}{r|llllllllllll}\n",
       "  & orig.ident & nCount\\_RNA & nFeature\\_RNA & seqFISH\\_celltype & extended\\_atlas\\_celltype & AP & DV & dataset & cell\\_ID & StabMAP\\_SNN\\_res.3 & seurat\\_clusters & StabMAP\\_SNN\\_res.2\\\\\n",
       "  & <fct> & <dbl> & <int> & <fct> & <chr> & <dbl> & <dbl> & <fct> & <chr> & <fct> & <fct> & <fct>\\\\\n",
       "\\hline\n",
       "\tcell\\_1 & cell &  8962 & 2546 & epiblast & Epiblast &       NA &       NA & scRNA & cell\\_1  & 0 & 10 & 10\\\\\n",
       "\tcell\\_6 & cell & 20345 & 3864 & epiblast & Epiblast & 69.74577 & 69.83081 & scRNA & cell\\_6  & 0 & 17 & 17\\\\\n",
       "\tcell\\_8 & cell & 22542 & 4040 & epiblast & Epiblast & 71.04784 & 62.39884 & scRNA & cell\\_8  & 0 & 6  & 6 \\\\\n",
       "\tcell\\_9 & cell & 24502 & 4350 & epiblast & Epiblast & 77.50144 & 78.04394 & scRNA & cell\\_9  & 0 & 7  & 7 \\\\\n",
       "\tcell\\_10 & cell &  5640 & 1930 & epiblast & Epiblast & 73.56492 & 75.40462 & scRNA & cell\\_10 & 0 & 8  & 8 \\\\\n",
       "\tcell\\_11 & cell & 20830 & 4025 & epiblast & Epiblast & 74.16856 & 58.93064 & scRNA & cell\\_11 & 0 & 6  & 6 \\\\\n",
       "\\end{tabular}\n"
      ],
      "text/markdown": [
       "\n",
       "A data.frame: 6 x 12\n",
       "\n",
       "| <!--/--> | orig.ident &lt;fct&gt; | nCount_RNA &lt;dbl&gt; | nFeature_RNA &lt;int&gt; | seqFISH_celltype &lt;fct&gt; | extended_atlas_celltype &lt;chr&gt; | AP &lt;dbl&gt; | DV &lt;dbl&gt; | dataset &lt;fct&gt; | cell_ID &lt;chr&gt; | StabMAP_SNN_res.3 &lt;fct&gt; | seurat_clusters &lt;fct&gt; | StabMAP_SNN_res.2 &lt;fct&gt; |\n",
       "|---|---|---|---|---|---|---|---|---|---|---|---|---|\n",
       "| cell_1 | cell |  8962 | 2546 | epiblast | Epiblast |       NA |       NA | scRNA | cell_1  | 0 | 10 | 10 |\n",
       "| cell_6 | cell | 20345 | 3864 | epiblast | Epiblast | 69.74577 | 69.83081 | scRNA | cell_6  | 0 | 17 | 17 |\n",
       "| cell_8 | cell | 22542 | 4040 | epiblast | Epiblast | 71.04784 | 62.39884 | scRNA | cell_8  | 0 | 6  | 6  |\n",
       "| cell_9 | cell | 24502 | 4350 | epiblast | Epiblast | 77.50144 | 78.04394 | scRNA | cell_9  | 0 | 7  | 7  |\n",
       "| cell_10 | cell |  5640 | 1930 | epiblast | Epiblast | 73.56492 | 75.40462 | scRNA | cell_10 | 0 | 8  | 8  |\n",
       "| cell_11 | cell | 20830 | 4025 | epiblast | Epiblast | 74.16856 | 58.93064 | scRNA | cell_11 | 0 | 6  | 6  |\n",
       "\n"
      ],
      "text/plain": [
       "        orig.ident nCount_RNA nFeature_RNA seqFISH_celltype\n",
       "cell_1  cell        8962      2546         epiblast        \n",
       "cell_6  cell       20345      3864         epiblast        \n",
       "cell_8  cell       22542      4040         epiblast        \n",
       "cell_9  cell       24502      4350         epiblast        \n",
       "cell_10 cell        5640      1930         epiblast        \n",
       "cell_11 cell       20830      4025         epiblast        \n",
       "        extended_atlas_celltype AP       DV       dataset cell_ID\n",
       "cell_1  Epiblast                      NA       NA scRNA   cell_1 \n",
       "cell_6  Epiblast                69.74577 69.83081 scRNA   cell_6 \n",
       "cell_8  Epiblast                71.04784 62.39884 scRNA   cell_8 \n",
       "cell_9  Epiblast                77.50144 78.04394 scRNA   cell_9 \n",
       "cell_10 Epiblast                73.56492 75.40462 scRNA   cell_10\n",
       "cell_11 Epiblast                74.16856 58.93064 scRNA   cell_11\n",
       "        StabMAP_SNN_res.3 seurat_clusters StabMAP_SNN_res.2\n",
       "cell_1  0                 10              10               \n",
       "cell_6  0                 17              17               \n",
       "cell_8  0                 6               6                \n",
       "cell_9  0                 7               7                \n",
       "cell_10 0                 8               8                \n",
       "cell_11 0                 6               6                "
      ]
     },
     "metadata": {},
     "output_type": "display_data"
    }
   ],
   "source": [
    "# Extract metadata from each Seurat object\n",
    "metadata_list <- lapply(subcluster_ids_list, function(seurat_obj) {\n",
    "  seurat_obj@meta.data\n",
    "})\n",
    "\n",
    "# Combine all metadata data.frames into a single data.frame\n",
    "combined_metadata <- do.call(rbind, metadata_list)\n",
    "\n",
    "# View the combined metadata\n",
    "head(combined_metadata)"
   ]
  },
  {
   "cell_type": "code",
   "execution_count": 183,
   "id": "f5039a5b-aba1-4103-af0b-6cfbfb45a53e",
   "metadata": {},
   "outputs": [
    {
     "data": {
      "text/html": [
       "<style>\n",
       ".list-inline {list-style: none; margin:0; padding: 0}\n",
       ".list-inline>li {display: inline-block}\n",
       ".list-inline>li:not(:last-child)::after {content: \"\\00b7\"; padding: 0 .5ex}\n",
       "</style>\n",
       "<ol class=list-inline><li>188747</li><li>12</li></ol>\n"
      ],
      "text/latex": [
       "\\begin{enumerate*}\n",
       "\\item 188747\n",
       "\\item 12\n",
       "\\end{enumerate*}\n"
      ],
      "text/markdown": [
       "1. 188747\n",
       "2. 12\n",
       "\n",
       "\n"
      ],
      "text/plain": [
       "[1] 188747     12"
      ]
     },
     "metadata": {},
     "output_type": "display_data"
    }
   ],
   "source": [
    "dim(combined_metadata)"
   ]
  },
  {
   "cell_type": "code",
   "execution_count": 184,
   "id": "2f99731c-804e-4e18-aa49-b55f068a0e69",
   "metadata": {},
   "outputs": [],
   "source": [
    "# extract the new subcluster information \n",
    "subcluster_metadata <- subset(combined_metadata, select = c(StabMAP_SNN_res.3, seurat_clusters))\n",
    "colnames(subcluster_metadata) <- c(\"cluster\", \"subcluster\")\n",
    "\n",
    "subcluster_metadata$cluster_subcluster <- paste0(subcluster_metadata$cluster, \".\", subcluster_metadata$subcluster)"
   ]
  },
  {
   "cell_type": "code",
   "execution_count": 278,
   "id": "27c2514a-6bb6-4622-a57d-2a4c92e8f8fd",
   "metadata": {},
   "outputs": [
    {
     "data": {
      "text/html": [
       "<table class=\"dataframe\">\n",
       "<caption>A data.frame: 6 x 3</caption>\n",
       "<thead>\n",
       "\t<tr><th></th><th scope=col>cluster</th><th scope=col>subcluster</th><th scope=col>cluster_subcluster</th></tr>\n",
       "\t<tr><th></th><th scope=col>&lt;fct&gt;</th><th scope=col>&lt;fct&gt;</th><th scope=col>&lt;chr&gt;</th></tr>\n",
       "</thead>\n",
       "<tbody>\n",
       "\t<tr><th scope=row>cell_1</th><td>0</td><td>10</td><td>0.10</td></tr>\n",
       "\t<tr><th scope=row>cell_6</th><td>0</td><td>17</td><td>0.17</td></tr>\n",
       "\t<tr><th scope=row>cell_8</th><td>0</td><td>6 </td><td>0.6 </td></tr>\n",
       "\t<tr><th scope=row>cell_9</th><td>0</td><td>7 </td><td>0.7 </td></tr>\n",
       "\t<tr><th scope=row>cell_10</th><td>0</td><td>8 </td><td>0.8 </td></tr>\n",
       "\t<tr><th scope=row>cell_11</th><td>0</td><td>6 </td><td>0.6 </td></tr>\n",
       "</tbody>\n",
       "</table>\n"
      ],
      "text/latex": [
       "A data.frame: 6 x 3\n",
       "\\begin{tabular}{r|lll}\n",
       "  & cluster & subcluster & cluster\\_subcluster\\\\\n",
       "  & <fct> & <fct> & <chr>\\\\\n",
       "\\hline\n",
       "\tcell\\_1 & 0 & 10 & 0.10\\\\\n",
       "\tcell\\_6 & 0 & 17 & 0.17\\\\\n",
       "\tcell\\_8 & 0 & 6  & 0.6 \\\\\n",
       "\tcell\\_9 & 0 & 7  & 0.7 \\\\\n",
       "\tcell\\_10 & 0 & 8  & 0.8 \\\\\n",
       "\tcell\\_11 & 0 & 6  & 0.6 \\\\\n",
       "\\end{tabular}\n"
      ],
      "text/markdown": [
       "\n",
       "A data.frame: 6 x 3\n",
       "\n",
       "| <!--/--> | cluster &lt;fct&gt; | subcluster &lt;fct&gt; | cluster_subcluster &lt;chr&gt; |\n",
       "|---|---|---|---|\n",
       "| cell_1 | 0 | 10 | 0.10 |\n",
       "| cell_6 | 0 | 17 | 0.17 |\n",
       "| cell_8 | 0 | 6  | 0.6  |\n",
       "| cell_9 | 0 | 7  | 0.7  |\n",
       "| cell_10 | 0 | 8  | 0.8  |\n",
       "| cell_11 | 0 | 6  | 0.6  |\n",
       "\n"
      ],
      "text/plain": [
       "        cluster subcluster cluster_subcluster\n",
       "cell_1  0       10         0.10              \n",
       "cell_6  0       17         0.17              \n",
       "cell_8  0       6          0.6               \n",
       "cell_9  0       7          0.7               \n",
       "cell_10 0       8          0.8               \n",
       "cell_11 0       6          0.6               "
      ]
     },
     "metadata": {},
     "output_type": "display_data"
    }
   ],
   "source": [
    "head(subcluster_metadata)"
   ]
  },
  {
   "cell_type": "code",
   "execution_count": 279,
   "id": "2520385c-ac43-473c-81ba-e60dddc4ed98",
   "metadata": {},
   "outputs": [],
   "source": [
    "saveRDS(subcluster_metadata, \"projects/03_seqFISH_FINAL/code/FINAL_METADATA/outputs/subcluster_metadata.Rds\")"
   ]
  },
  {
   "cell_type": "code",
   "execution_count": 280,
   "id": "51de87c9-7612-44cb-ad5b-196fa725c04b",
   "metadata": {},
   "outputs": [],
   "source": [
    "# add the subcluster now to the \n",
    "seurat_subset <- AddMetaData(seurat_subset, metadata = subcluster_metadata)"
   ]
  },
  {
   "cell_type": "code",
   "execution_count": 299,
   "id": "7be5a23c-20f9-4963-a200-f02a0ccd7544",
   "metadata": {},
   "outputs": [
    {
     "data": {
      "image/png": "[encoded data removed]",
      "text/plain": [
       "plot without title"
      ]
     },
     "metadata": {
      "image/png": {
       "height": 1200,
       "width": 1800
      }
     },
     "output_type": "display_data"
    }
   ],
   "source": [
    "options(repr.plot.width=30, repr.plot.height=15)\n",
    "df <- seurat_subset@meta.data\n",
    "\n",
    "# Custom sorting function\n",
    "sort_cluster_subcluster <- function(x) {\n",
    "  parts <- strsplit(x, \"\\\\.\")\n",
    "  parts <- lapply(parts, as.numeric)\n",
    "  ordered <- order(sapply(parts, `[`, 1), sapply(parts, `[`, 2))\n",
    "  x[ordered]\n",
    "}\n",
    "\n",
    "# Apply the sorting function to order the cluster_subcluster column\n",
    "df <- df %>%\n",
    "  mutate(cluster_subcluster = factor(cluster_subcluster, levels = sort_cluster_subcluster(unique(cluster_subcluster))))\n",
    "\n",
    "options(repr.plot.width=30, repr.plot.height=20)\n",
    "pheatmap(table(df$extended_atlas_celltype, df$cluster_subcluster), scale = \"column\",\n",
    "        cluster_rows = TRUE,\n",
    "        cluster_cols = FALSE)"
   ]
  }
 ],
 "metadata": {
  "kernelspec": {
   "display_name": "R",
   "language": "R",
   "name": "ir"
  },
  "language_info": {
   "codemirror_mode": "r",
   "file_extension": ".r",
   "mimetype": "text/x-r-source",
   "name": "R",
   "pygments_lexer": "r",
   "version": "4.2.1"
  }
 },
 "nbformat": 4,
 "nbformat_minor": 5
}
