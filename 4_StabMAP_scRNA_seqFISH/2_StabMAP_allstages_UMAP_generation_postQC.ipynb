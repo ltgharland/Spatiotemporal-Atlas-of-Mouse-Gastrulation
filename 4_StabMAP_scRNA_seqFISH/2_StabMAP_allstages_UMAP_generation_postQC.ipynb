{
 "cells": [
  {
   "cell_type": "markdown",
   "id": "0387b121-35bb-467a-895b-af08bdde93d9",
   "metadata": {
    "tags": []
   },
   "source": [
    "## Load Libraries"
   ]
  },
  {
   "cell_type": "code",
   "execution_count": 1,
   "id": "b87019f7-ad08-4592-8496-3e290190ce1c",
   "metadata": {},
   "outputs": [],
   "source": [
    "suppressPackageStartupMessages({ \n",
    "    library(data.table) \n",
    "    library(dplyr) \n",
    "    library(ggplot2) \n",
    "    library(SingleCellExperiment)\n",
    "    library(dplyr)\n",
    "    library(celldex)\n",
    "    library(SingleR)\n",
    "    library(RColorBrewer)\n",
    "    library(scater) \n",
    "    library(StabMap) \n",
    "    library(scran) \n",
    "    library(harmony) \n",
    "    library(patchwork)\n",
    "    library(Seurat)\n",
    "    library(plotly)\n",
    "    library(pheatmap)\n",
    "    library(batchelor)\n",
    "})"
   ]
  },
  {
   "cell_type": "markdown",
   "id": "30fb6bad-40f7-445b-86d4-0c34561705e0",
   "metadata": {
    "tags": []
   },
   "source": [
    "## List of Cell Types"
   ]
  },
  {
   "cell_type": "code",
   "execution_count": 2,
   "id": "057273ad-d57a-4efb-954c-dbf914275204",
   "metadata": {},
   "outputs": [],
   "source": [
    "#############################\n",
    "######### MESODERM ##########\n",
    "#############################\n",
    "\n",
    "## list mesoderm posterior --> anterior along the primitive streak\n",
    "\n",
    "Early_gastrula <- c(\"ExE ectoderm\",\n",
    "                    \"Epiblast\",\n",
    "                    \"Caudal epiblast\",\n",
    "                    \"Primitive Streak\",\n",
    "                    \"Nascent mesoderm\",\n",
    "                    \"PGC\")\n",
    "\n",
    "yolksac_blood <- c(\"Haematoendothelial progenitors\", \n",
    "                   \"EMP\", \n",
    "                   \"MEP\", \n",
    "                   \"Megakaryocyte progenitors\", \n",
    "                   \"Blood progenitors\", \n",
    "                   \"Erythroid\", \n",
    "                   \"Chorioallantoic-derived erythroid progenitors\")\n",
    "\n",
    "endo <- c(\"YS endothelium\",\n",
    "          \"Venous endothelium\",\n",
    "          \"Embryo proper endothelium\",\n",
    "          \"Allantois endothelium\")\n",
    "    \n",
    "yolksac_other <- c(\"YS mesothelium-derived endothelial progenitors\",\n",
    "                   \"YS mesothelium\")\n",
    "\n",
    "mesenchymal <- c(\"Embryo proper mesothelium\",\n",
    "                 \"Mesenchyme\")                   \n",
    "                \n",
    "allantois <- c(\"Allantois endothelium\", \n",
    "               \"Allantois\")\n"
   ]
  },
  {
   "cell_type": "code",
   "execution_count": 3,
   "id": "1a230788-80ea-433d-a118-e67bf0767e24",
   "metadata": {},
   "outputs": [],
   "source": [
    "#############################\n",
    "######### MESODERM ##########\n",
    "#############################\n",
    "\n",
    "## list mesoderm posterior --> anterior along the primitive streak\n",
    "\n",
    "Early_gastrula <- c(\"ExE ectoderm\",\n",
    "                    \"Epiblast\",\n",
    "                    \"Caudal epiblast\",\n",
    "                    \"Primitive Streak\",\n",
    "                    \"Nascent mesoderm\",\n",
    "                    \"PGC\")\n",
    "\n",
    "yolksac_blood <- c(\"Haematoendothelial progenitors\", \n",
    "                   \"EMP\", \n",
    "                   \"MEP\", \n",
    "                   \"Megakaryocyte progenitors\", \n",
    "                   \"Blood progenitors\", \n",
    "                   \"Erythroid\", \n",
    "                   \"Chorioallantoic-derived erythroid progenitors\")\n",
    "\n",
    "endo <- c(\"YS endothelium\",\n",
    "          \"Venous endothelium\",\n",
    "          \"Embryo proper endothelium\",\n",
    "          \"Allantois endothelium\",\n",
    "          \"Endocardium\",\n",
    "          \"Haematoendothelial progenitors\")\n",
    "    \n",
    "yolksac_other <- c(\"YS mesothelium-derived endothelial progenitors\",\n",
    "                   \"YS mesothelium\")\n",
    "\n",
    "yolksac_other_2 <- c(\"YS mesothelium-derived endothelial progenitors\"\n",
    "                   #\"YS mesothelium\"\n",
    "                     )\n",
    "\n",
    "mesenchymal <- c(\"Embryo proper mesothelium\",\n",
    "                 \"Mesenchyme\")                   \n",
    "                \n",
    "allantois <- c(\"Allantois\" \n",
    "               #\"Allantois endothelium\"\n",
    "              )\n",
    "\n",
    "ExE_mesoderm <- c(yolksac_blood, endo, yolksac_other, mesenchymal, allantois) \n",
    "\n",
    "Cranial_mesoderm <- c(\"Cranial mesoderm\")\n",
    "\n",
    "Cardiac_mesoderm <- c(\"Pharyngeal mesoderm\",\n",
    "                  \"Cardiopharyngeal progenitors\",\n",
    "                  \"Cardiopharyngeal progenitors SHF\",\n",
    "                  \"Anterior cardiopharyngeal progenitors\",\n",
    "                  \"Cardiopharyngeal progenitors FHF\",\n",
    "                  \"Cardiomyocytes FHF 1\",\n",
    "                  \"Cardiomyocytes FHF 2\",\n",
    "                  \"Cardiomyocytes SHF 1\",\n",
    "                  \"Cardiomyocytes SHF 2\",\n",
    "                  \"Epicardium\",\n",
    "                  \"Endocardium\")\n",
    "\n",
    "Lateral_plate_mesoderm <- c(\"Lateral plate mesoderm\",\n",
    "                           \"Limb mesoderm\",\n",
    "                           \"Forelimb\")\n",
    "\n",
    "Intermediate_mesoderm <- c(\"Intermediate mesoderm\", \"Kidney primordium\")\n",
    "\n",
    "Paraxial_mesoderm <- c(\"Paraxial mesoderm\", \n",
    "                  \"Presomitic mesoderm\", \n",
    "                  \"Somitic mesoderm\",\n",
    "                  \"Anterior somitic tissues\",\n",
    "                  \"Posterior somitic tissues\",\n",
    "                  \"Dermomyotome\", \n",
    "                  \"Endotome\", \n",
    "                  \"Sclerotome\")\n",
    "\n",
    "Axial_mesoderm <- c(\"Caudal mesoderm\", \n",
    "                  \"NMPs\", \n",
    "                  \"NMPs/Mesoderm-biased\",\n",
    "                  \"Node\",\n",
    "                  \"Notochord\")\n",
    "                       \n",
    "Frontonasal_mesenchyme <- c(\"Frontonasal mesenchyme\")\n",
    "\n",
    "mesoderm_list <- c(Early_gastrula,\n",
    "                   ExE_mesoderm, \n",
    "                   Cranial_mesoderm, \n",
    "                   Cardiac_mesoderm, \n",
    "                   Lateral_plate_mesoderm, \n",
    "                   Intermediate_mesoderm, \n",
    "                   Paraxial_mesoderm, \n",
    "                   Axial_mesoderm,\n",
    "                   Frontonasal_mesenchyme)\n",
    "\n",
    "non_ExE_mesoderm_list <- c(Early_gastrula,\n",
    "                   Cranial_mesoderm, \n",
    "                   Cardiac_mesoderm, \n",
    "                   Lateral_plate_mesoderm, \n",
    "                   Intermediate_mesoderm, \n",
    "                   Paraxial_mesoderm, \n",
    "                   Axial_mesoderm,\n",
    "                   Frontonasal_mesenchyme)\n",
    "\n",
    "cardiac_somitic_mesoderm_list <- c(Cranial_mesoderm, \n",
    "                   Cardiac_mesoderm, \n",
    "                   Lateral_plate_mesoderm, \n",
    "                   Intermediate_mesoderm, \n",
    "                   Paraxial_mesoderm, \n",
    "                   Axial_mesoderm,\n",
    "                   Frontonasal_mesenchyme)\n",
    "\n",
    "hemato_endo <- c(yolksac_blood, \n",
    "                   endo, \n",
    "                   yolksac_other_2, \n",
    "                   allantois)"
   ]
  },
  {
   "cell_type": "code",
   "execution_count": 4,
   "id": "8b52a8d6-16e8-40fb-b79e-dc8f0b6b8503",
   "metadata": {},
   "outputs": [
    {
     "name": "stdout",
     "output_type": "stream",
     "text": [
      " chr [1:55] \"ExE ectoderm\" \"Epiblast\" \"Caudal epiblast\" \"Primitive Streak\" ...\n"
     ]
    }
   ],
   "source": [
    "str(mesoderm_list)"
   ]
  },
  {
   "cell_type": "code",
   "execution_count": 5,
   "id": "a44ec294-be5e-4f03-a078-2c1914b7591a",
   "metadata": {},
   "outputs": [],
   "source": [
    "#############################\n",
    "######### ECTODERM ##########\n",
    "#############################\n",
    "\n",
    "Surface_ectoderm <- c(\"Amniotic ectoderm\",\n",
    "                  \"Surface ectoderm\",\n",
    "                  \"Epidermis\",\n",
    "                  \"Placodal ectoderm\",\n",
    "                  \"Otic placode\",\n",
    "                  \"Otic neural progenitors\",\n",
    "                  \"Limb ectoderm\")\n",
    "\n",
    "# list A --> P + D --> V\n",
    "Neural_tube <- c(\"Neural tube\",\n",
    "                \"Optic vesicle\",\n",
    "                \"Early dorsal forebrain progenitors\",\n",
    "                \"Late dorsal forebrain progenitors\",\n",
    "                \"Ventral forebrain progenitors\",\n",
    "                \"Midbrain progenitors\",\n",
    "                \"Dorsal midbrain neurons\",\n",
    "                \"Midbrain/Hindbrain boundary\",\n",
    "                \"Dorsal hindbrain progenitors\", \n",
    "                \"Hindbrain floor plate\",\n",
    "                \"Hindbrain neural progenitors\",\n",
    "                \"Ventral hindbrain progenitors\",\n",
    "                \"Dorsal spinal cord progenitors\",\n",
    "                \"Spinal cord progenitors\")\n",
    "\n",
    "Neural_crest <- c(\"Migratory neural crest\",\n",
    "                \"Branchial arch neural crest\")\n",
    "\n",
    "extra_ectoderm <- c(\"Ectoderm\", \"Non-neural ectoderm\")\n",
    "\n",
    "ectoderm_list <- c(Surface_ectoderm, Neural_tube, Neural_crest, extra_ectoderm)\n",
    "\n"
   ]
  },
  {
   "cell_type": "code",
   "execution_count": 6,
   "id": "5273474c-0c41-4008-95a4-8e8b9f27f8ec",
   "metadata": {},
   "outputs": [],
   "source": [
    "#############################\n",
    "######### ENDODERM ##########\n",
    "#############################\n",
    "## list endoderm early --> late, anterior --> posterior \n",
    "\n",
    "Primitive_endoderm <- c(\"Parietal endoderm\", \n",
    "                     \"ExE endoderm\",\n",
    "                     \"Visceral endoderm\")\n",
    "\n",
    "Definitive_endoderm <- c(\"Anterior Primitive Streak\",\n",
    "                 \"Gut tube\",\n",
    "                 \"Foregut\",\n",
    "                 \"Midgut\",\n",
    "                 \"Hindgut\",\n",
    "                 \"Pharyngeal endoderm\",\n",
    "                 \"Thyroid primordium\")\n",
    "\n",
    "endoderm_list <- c(Definitive_endoderm, Primitive_endoderm)"
   ]
  },
  {
   "cell_type": "code",
   "execution_count": 7,
   "id": "c09bf3a2-746c-4d66-b38d-c09b76a444bf",
   "metadata": {},
   "outputs": [
    {
     "name": "stdout",
     "output_type": "stream",
     "text": [
      " chr [1:25] \"Amniotic ectoderm\" \"Surface ectoderm\" \"Epidermis\" ...\n"
     ]
    }
   ],
   "source": [
    "str(ectoderm_list)"
   ]
  },
  {
   "cell_type": "code",
   "execution_count": 8,
   "id": "6e396b3e-bd58-4fc5-b57d-d3ea6528b911",
   "metadata": {},
   "outputs": [
    {
     "name": "stdout",
     "output_type": "stream",
     "text": [
      " chr [1:90] \"Amniotic ectoderm\" \"Surface ectoderm\" \"Epidermis\" ...\n"
     ]
    }
   ],
   "source": [
    "all_germlayer_list <- c(ectoderm_list, mesoderm_list, endoderm_list)\n",
    "\n",
    "str(all_germlayer_list)"
   ]
  },
  {
   "cell_type": "code",
   "execution_count": 9,
   "id": "2b39f7e2-983e-47bf-b14e-9f108a493766",
   "metadata": {},
   "outputs": [],
   "source": [
    "all_cells <- c(\"Allantois\", \"Allantois endothelium\", \"Amniotic ectoderm\", \"Anterior cardiopharyngeal progenitors\",\n",
    "               \"Anterior Primitive Streak\", \"Anterior somitic tissues\", \"Blood progenitors\",\n",
    "               \"Branchial arch neural crest\", \"Cardiomyocytes FHF 1\", \"Cardiomyocytes FHF 2\", \"Cardiomyocytes SHF 1\",\n",
    "               \"Cardiomyocytes SHF 2\", \"Cardiopharyngeal progenitors\", \"Cardiopharyngeal progenitors FHF\",\n",
    "               \"Cardiopharyngeal progenitors SHF\", \"Caudal epiblast\", \"Caudal mesoderm\",\n",
    "               \"Chorioallantoic-derived erythroid progenitors\", \"Cranial mesoderm\", \"Dermomyotome\",\n",
    "               \"Dorsal hindbrain progenitors\", \"Dorsal midbrain neurons\", \"Dorsal spinal cord progenitors\",\n",
    "               \"Early dorsal forebrain progenitors\", \"Ectoderm\", \"Embryo proper endothelium\",\n",
    "               \"Embryo proper mesothelium\", \"EMP\", \"Endocardium\", \"Endotome\", \"Epiblast\", \"Epicardium\", \"Epidermis\",\n",
    "               \"Erythroid\", \"ExE ectoderm\", \"ExE endoderm\", \"Foregut\", \"Forelimb\", \"Frontonasal mesenchyme\",\n",
    "               \"Gut tube\", \"Haematoendothelial progenitors\", \"Hindbrain floor plate\", \"Hindbrain neural progenitors\",\n",
    "               \"Hindgut\", \"Intermediate mesoderm\", \"Kidney primordium\", \"Late dorsal forebrain progenitors\",\n",
    "               \"Lateral plate mesoderm\", \"Limb ectoderm\", \"Limb mesoderm\", \"Megakaryocyte progenitors\", \"MEP\",\n",
    "               \"Mesenchyme\", \"Midbrain progenitors\", \"Midbrain/Hindbrain boundary\", \"Midgut\", \"Migratory neural crest\",\n",
    "               \"Nascent mesoderm\", \"Neural tube\", \"NMPs\", \"NMPs/Mesoderm-biased\", \"Node\", \"Non-neural ectoderm\",\n",
    "               \"Notochord\", \"Optic vesicle\", \"Otic neural progenitors\", \"Otic placode\", \"Paraxial mesoderm\",\n",
    "               \"Parietal endoderm\", \"PGC\", \"Pharyngeal endoderm\", \"Pharyngeal mesoderm\", \"Placodal ectoderm\",\n",
    "               \"Posterior somitic tissues\", \"Presomitic mesoderm\", \"Primitive Streak\", \"Sclerotome\", \"Somitic mesoderm\",\n",
    "               \"Spinal cord progenitors\", \"Surface ectoderm\", \"Thyroid primordium\", \"Venous endothelium\",\n",
    "               \"Ventral forebrain progenitors\", \"Ventral hindbrain progenitors\", \"Visceral endoderm\",\n",
    "               \"YS endothelium\", \"YS mesothelium\", \"YS mesothelium-derived endothelial progenitors\")"
   ]
  },
  {
   "cell_type": "code",
   "execution_count": 10,
   "id": "68221557-f735-4abb-8d71-71fbb1626fcf",
   "metadata": {},
   "outputs": [
    {
     "name": "stdout",
     "output_type": "stream",
     "text": [
      " chr [1:88] \"Allantois\" \"Allantois endothelium\" \"Amniotic ectoderm\" ...\n"
     ]
    }
   ],
   "source": [
    "str(all_cells)"
   ]
  },
  {
   "cell_type": "code",
   "execution_count": 11,
   "id": "d2c769ce-d92e-485a-a480-1ba4a9b5f99a",
   "metadata": {},
   "outputs": [
    {
     "name": "stdout",
     "output_type": "stream",
     "text": [
      " [1] \"Allantois\"                                    \n",
      " [2] \"Allantois endothelium\"                        \n",
      " [3] \"Amniotic ectoderm\"                            \n",
      " [4] \"Anterior cardiopharyngeal progenitors\"        \n",
      " [5] \"Anterior Primitive Streak\"                    \n",
      " [6] \"Anterior somitic tissues\"                     \n",
      " [7] \"Blood progenitors\"                            \n",
      " [8] \"Branchial arch neural crest\"                  \n",
      " [9] \"Cardiomyocytes FHF 1\"                         \n",
      "[10] \"Cardiomyocytes FHF 2\"                         \n",
      "[11] \"Cardiomyocytes SHF 1\"                         \n",
      "[12] \"Cardiomyocytes SHF 2\"                         \n",
      "[13] \"Cardiopharyngeal progenitors\"                 \n",
      "[14] \"Cardiopharyngeal progenitors FHF\"             \n",
      "[15] \"Cardiopharyngeal progenitors SHF\"             \n",
      "[16] \"Caudal epiblast\"                              \n",
      "[17] \"Caudal mesoderm\"                              \n",
      "[18] \"Chorioallantoic-derived erythroid progenitors\"\n",
      "[19] \"Cranial mesoderm\"                             \n",
      "[20] \"Dermomyotome\"                                 \n",
      "[21] \"Dorsal hindbrain progenitors\"                 \n",
      "[22] \"Dorsal midbrain neurons\"                      \n",
      " [1] \"Dorsal spinal cord progenitors\"     \"Early dorsal forebrain progenitors\"\n",
      " [3] \"Ectoderm\"                           \"Embryo proper endothelium\"         \n",
      " [5] \"Embryo proper mesothelium\"          \"EMP\"                               \n",
      " [7] \"Endocardium\"                        \"Endotome\"                          \n",
      " [9] \"Epiblast\"                           \"Epicardium\"                        \n",
      "[11] \"Epidermis\"                          \"Erythroid\"                         \n",
      "[13] \"ExE ectoderm\"                       \"ExE endoderm\"                      \n",
      "[15] \"Foregut\"                            \"Forelimb\"                          \n",
      "[17] \"Frontonasal mesenchyme\"             \"Gut tube\"                          \n",
      "[19] \"Haematoendothelial progenitors\"     \"Hindbrain floor plate\"             \n",
      "[21] \"Hindbrain neural progenitors\"       \"Hindgut\"                           \n",
      " [1] \"Intermediate mesoderm\"             \"Kidney primordium\"                \n",
      " [3] \"Late dorsal forebrain progenitors\" \"Lateral plate mesoderm\"           \n",
      " [5] \"Limb ectoderm\"                     \"Limb mesoderm\"                    \n",
      " [7] \"Megakaryocyte progenitors\"         \"MEP\"                              \n",
      " [9] \"Mesenchyme\"                        \"Midbrain progenitors\"             \n",
      "[11] \"Midbrain/Hindbrain boundary\"       \"Midgut\"                           \n",
      "[13] \"Migratory neural crest\"            \"Nascent mesoderm\"                 \n",
      "[15] \"Neural tube\"                       \"NMPs\"                             \n",
      "[17] \"NMPs/Mesoderm-biased\"              \"Node\"                             \n",
      "[19] \"Non-neural ectoderm\"               \"Notochord\"                        \n",
      "[21] \"Optic vesicle\"                     \"Otic neural progenitors\"          \n",
      " [1] \"Otic placode\"                                  \n",
      " [2] \"Paraxial mesoderm\"                             \n",
      " [3] \"Parietal endoderm\"                             \n",
      " [4] \"PGC\"                                           \n",
      " [5] \"Pharyngeal endoderm\"                           \n",
      " [6] \"Pharyngeal mesoderm\"                           \n",
      " [7] \"Placodal ectoderm\"                             \n",
      " [8] \"Posterior somitic tissues\"                     \n",
      " [9] \"Presomitic mesoderm\"                           \n",
      "[10] \"Primitive Streak\"                              \n",
      "[11] \"Sclerotome\"                                    \n",
      "[12] \"Somitic mesoderm\"                              \n",
      "[13] \"Spinal cord progenitors\"                       \n",
      "[14] \"Surface ectoderm\"                              \n",
      "[15] \"Thyroid primordium\"                            \n",
      "[16] \"Venous endothelium\"                            \n",
      "[17] \"Ventral forebrain progenitors\"                 \n",
      "[18] \"Ventral hindbrain progenitors\"                 \n",
      "[19] \"Visceral endoderm\"                             \n",
      "[20] \"YS endothelium\"                                \n",
      "[21] \"YS mesothelium\"                                \n",
      "[22] \"YS mesothelium-derived endothelial progenitors\"\n"
     ]
    }
   ],
   "source": [
    "# Split the character vector into four smaller vectors\n",
    "split_size <- 22\n",
    "char_vector_1 <- all_cells[1:split_size]\n",
    "char_vector_2 <- all_cells[(split_size + 1):(2 * split_size)]\n",
    "char_vector_3 <- all_cells[(2 * split_size + 1):(3 * split_size)]\n",
    "char_vector_4 <- all_cells[(3 * split_size + 1):length(all_cells)]\n",
    "\n",
    "# Print the smaller vectors\n",
    "print(char_vector_1)\n",
    "print(char_vector_2)\n",
    "print(char_vector_3)\n",
    "print(char_vector_4)"
   ]
  },
  {
   "cell_type": "code",
   "execution_count": 12,
   "id": "dff0a1d9-fe9f-4a45-a65f-176cb5cc9a7e",
   "metadata": {},
   "outputs": [
    {
     "name": "stdout",
     "output_type": "stream",
     "text": [
      "character(0)\n"
     ]
    }
   ],
   "source": [
    "not_in_both <- setdiff(unique(c(all_cells, all_germlayer_list)), intersect(all_cells, all_germlayer_list))\n",
    "\n",
    "# Display the names that do not appear in both lists\n",
    "print(not_in_both)"
   ]
  },
  {
   "cell_type": "markdown",
   "id": "58c5182c-2e23-4dfa-b694-416ba2931d91",
   "metadata": {
    "tags": []
   },
   "source": [
    "## Celltype Colours"
   ]
  },
  {
   "cell_type": "code",
   "execution_count": 13,
   "id": "5c8c2608-d1c4-4461-8187-fcf1a8050837",
   "metadata": {},
   "outputs": [],
   "source": [
    "stages_colors = c(\n",
    "\"E6.5\" = \"#F21A00\",\n",
    "\"E6.75\" = \"#EC4B00\",\n",
    "\"E7.0\" = \"#E67D00\",\n",
    "\"E7.25\" = \"#E1AF00\",\n",
    "\"E7.5\" = \"#E4B80E\",\n",
    "\"E7.75\"=\"#E7C21C\",\n",
    "\"E8.0\" = \"#EBCC2A\",\n",
    "\"E8.25\" = \"#C4C55D\",\n",
    "\"E8.5\" = \"#9EBE91\",\n",
    "\"E8.75\" = \"#78B7C5\",\n",
    "\"E9.0\" = \"#3399FF\",\n",
    "\"E9.25\"=\"#297ACC\",\n",
    "\"E9.5\"=\"#2162A3\",\n",
    "\"Mixed gastrulation\" = \"#BEBEBE\")"
   ]
  },
  {
   "cell_type": "code",
   "execution_count": 14,
   "id": "f5ddd557-deb2-4c17-80cf-444211136a09",
   "metadata": {},
   "outputs": [],
   "source": [
    "anatomy_colors = c(\n",
    "\"EP\" = \"#000000\",\n",
    "\"YS\" = \"#5E4FA2\",\n",
    "\"Anterior section\" = \"#774611\",\n",
    "\"Posterior section\" = \"#A2D630\",\n",
    "\"Medial section\" = \"#D95F02\",\n",
    "\"Posterior\"=\"#E2C207\",\n",
    "\"Anterior\" = \"#F71616\",\n",
    "\"Pooled\" = \"#BEBEBE\",\n",
    "\"NA\" = \"#BEBEBE\")"
   ]
  },
  {
   "cell_type": "code",
   "execution_count": 15,
   "id": "b8103a1c-fa31-4ee1-b30a-eae19a51155e",
   "metadata": {
    "tags": []
   },
   "outputs": [],
   "source": [
    "original.colors = c(\n",
    "  \"Epiblast\" = \"#635547\",\n",
    "  \"Primitive Streak\" = \"#DABE99\",\n",
    "  \"Anterior Primitive Streak\" = \"#c19f70\",\n",
    "  \"Caudal epiblast\" = \"#9e6762\",\n",
    "  \"PGC\" = \"#FACB12\",\n",
    "  \"Anterior Primitive_Streak\" = \"#c19f70\",\n",
    "  \"Notochord\" = \"#0F4A9C\",\n",
    "  \"Def. endoderm\" = \"#F397C0\",\n",
    "  \"Gut\" = \"#EF5A9D\",\n",
    "  \"Nascent mesoderm\" = \"#C594BF\",\n",
    "  \"Mixed mesoderm\" = \"#DFCDE4\",\n",
    "  \"Intermediate mesoderm\" = \"#139992\",\n",
    "  \"Caudal Mesoderm\" = \"#3F84AA\",\n",
    "  \"Paraxial mesoderm\" = \"#8DB5CE\",\n",
    "  \"Somitic mesoderm\" = \"#005579\",\n",
    "  \"Pharyngeal mesoderm\" = \"#C9EBFB\",\n",
    "  \"Cardiomyocytes\" = \"#B51D8D\",\n",
    "  \"Allantois\" = \"#532C8A\",\n",
    "  \"ExE mesoderm\" = \"#8870ad\",\n",
    "  \"Mesenchyme\" = \"#cc7818\",\n",
    "  \"Haematoendothelial progenitors\" = \"#FBBE92\",\n",
    "  \"Endothelium\" = \"#ff891c\",\n",
    "  \"Blood progenitors\" = \"#c9a997\",\n",
    "  \"Blood progenitors 1\" = \"#f9decf\",\n",
    "  \"Blood progenitors 2\" = \"#c9a997\",\n",
    "  \"Erythroid\" = \"#EF4E22\",\n",
    "  \"Erythroid1\" = \"#C72228\",\n",
    "  \"Erythroid2\" = \"#f79083\",\n",
    "  \"Erythroid3\" = \"#EF4E22\",\n",
    "  \"NMP\" = \"#8EC792\",\n",
    "  \"Neurectoderm\" = \"#65A83E\",\n",
    "  \"Rostral neurectoderm\" = \"#65A83E\",\n",
    "  \"Caudal neurectoderm\" = \"#354E23\",\n",
    "  \"Neural crest\" = \"#C3C388\",\n",
    "  \"Forebrain Midbrain_Hindbrain\" = \"#647a4f\",\n",
    "  \"Spinal cord\" = \"#CDE088\",\n",
    "  \"Surface ectoderm\" = \"#f7f79e\",\n",
    "  \"Visceral endoderm\" = \"#F6BFCB\",\n",
    "  \"ExE endoderm\" = \"#7F6874\",\n",
    "  \"ExE ectoderm\" = \"#989898\",\n",
    "  \"Parietal endoderm\" = \"#1A1A1A\"\n",
    ")"
   ]
  },
  {
   "cell_type": "code",
   "execution_count": 16,
   "id": "e5172f4a-4dff-4f70-aabc-cd3a92741bff",
   "metadata": {},
   "outputs": [],
   "source": [
    "extended.colors = c(\n",
    "\"Epiblast\" = \"#635547\",\n",
    "\"Epiblast_0\" = \"#635547\",\n",
    "\"Epiblast_1\" = \"#FACB12\",\n",
    "\"Primitive Streak\" = \"#DABE99\",\n",
    "\"Caudal epiblast\" = \"#9e6762\",\n",
    "\"PGC\" = \"#FACB12\",\n",
    "\"Anterior Primitive Streak\" = \"#c19f70\",\n",
    "\"Node\"=\"#153b3d\",\n",
    "\"Notochord\" = \"#0F4A9C\",\n",
    "\"Gut tube\" = \"#EF5A9D\",\n",
    "\"Hindgut\" = \"#F397C0\",\n",
    "\"Midgut\" = \"#ff00b2\",\n",
    "\"Foregut\" = \"#ffb7ff\",\n",
    "\"Pharyngeal endoderm\"=\"#95e1ff\",\n",
    "\"Thyroid primordium\"=\"#97bad3\",\n",
    "\"Nascent mesoderm\" = \"#C594BF\",\n",
    "\"Intermediate mesoderm\" = \"#139992\",\n",
    "\"Caudal mesoderm\" = \"#3F84AA\",\n",
    "\"Lateral plate mesoderm\" = \"#F9DFE6\",\n",
    "\"Limb mesoderm\" = \"#e35f82\",\n",
    "\"Forelimb\" = \"#d02d75\",\n",
    "\"Kidney primordium\" = \"#e85639\",\n",
    "\"Presomitic mesoderm\"=\"#5581ca\",#\"#0000ff\",#blue\n",
    "\"Somitic mesoderm\" = \"#005579\",\n",
    "\"Posterior somitic tissues\" = \"#5adbe4\",#\"#40e0d0\",#turquoise\n",
    "\"Paraxial mesoderm\" = \"#8DB5CE\",\n",
    "\"Cranial mesoderm\" = \"#456722\",#\"#006400\",#darkgreen\n",
    "\"Anterior somitic tissues\"= \"#d5e839\",\n",
    "\"Sclerotome\" = \"#e3cb3a\",#\"#ffff00\",#yellow\n",
    "\"Dermomyotome\" = \"#00BFC4\",#\"#a52a2a\",#brown\n",
    "\"Pharyngeal mesoderm\" = \"#C9EBFB\",\n",
    "\"Cardiopharyngeal progenitors\" = \"#556789\",\n",
    "\"Anterior cardiopharyngeal progenitors\"=\"#683ed8\",\n",
    "\"Allantois\" = \"#532C8A\",\n",
    "\"Mesenchyme\" = \"#cc7818\",\n",
    "\"YS mesothelium\" = \"#ff7f9c\",\n",
    "\"Epicardium\"=\"#f79083\",\n",
    "\"Embryo proper mesothelium\" = \"#ff487d\",\n",
    "\"Cardiopharyngeal progenitors FHF\"=\"#d780b0\",\n",
    "\"Cardiomyocytes FHF 1\"=\"#a64d7e\",\n",
    "\"Cardiomyocytes FHF 2\"=\"#B51D8D\",\n",
    "\"Cardiopharyngeal progenitors SHF\"=\"#4b7193\",\n",
    "\"Cardiomyocytes SHF 1\"=\"#5d70dc\",\n",
    "\"Cardiomyocytes SHF 2\"=\"#332c6c\",\n",
    "\"Haematoendothelial progenitors\" = \"#FBBE92\",\n",
    "\"Blood progenitors\" = \"#6c4b4c\",\n",
    "\"Erythroid\" = \"#C72228\",\n",
    "\"Chorioallantoic-derived erythroid progenitors\"=\"#E50000\",\n",
    "\"Megakaryocyte progenitors\"=\"#e3cb3a\",\n",
    "\"MEP\"=\"#EF4E22\",\n",
    "\"EMP\"=\"#7c2a47\",\n",
    "\"YS endothelium\"=\"#ff891c\",\n",
    "\"YS mesothelium-derived endothelial progenitors\"=\"#AE3F3F\",\n",
    "\"Allantois endothelium\"=\"#2f4a60\",\n",
    "\"Embryo proper endothelium\"=\"#90e3bf\",\n",
    "\"Venous endothelium\"=\"#bd3400\",\n",
    "\"Endocardium\"=\"#9d0049\",\n",
    "\"NMPs/Mesoderm-biased\" = \"#89c1f5\",\n",
    "\"NMPs\" = \"#8EC792\",\n",
    "\"Ectoderm\" = \"#ff675c\",\n",
    "\"Optic vesicle\" = \"#bd7300\",\n",
    "\"Ventral forebrain progenitors\"=\"#a0b689\",\n",
    "\"Early dorsal forebrain progenitors\"=\"#0f8073\",\n",
    "\"Late dorsal forebrain progenitors\"=\"#7a9941\",\n",
    "\"Midbrain/Hindbrain boundary\"=\"#8ab3b5\",\n",
    "\"Midbrain progenitors\"=\"#9bf981\",\n",
    "\"Dorsal midbrain neurons\"=\"#12ed4c\",\n",
    "\"Ventral hindbrain progenitors\"=\"#7e907a\",\n",
    "\"Dorsal hindbrain progenitors\"=\"#2c6521\",\n",
    "\"Hindbrain floor plate\"=\"#bf9da8\",\n",
    "\"Hindbrain neural progenitors\"=\"#59b545\",\n",
    "\"Neural tube\"=\"#233629\",\n",
    "\"Migratory neural crest\"=\"#4a6798\",\n",
    "\"Branchial arch neural crest\"=\"#bd84b0\",\n",
    "\"Frontonasal mesenchyme\"=\"#d3b1b1\",\n",
    "\"Spinal cord progenitors\"=\"#6b2035\",\n",
    "\"Dorsal spinal cord progenitors\"=\"#e273d6\",\n",
    "\"Non-neural ectoderm\" = \"#f7f79e\",\n",
    "\"Surface ectoderm\" = \"#fcff00\",\n",
    "\"Epidermis\" = \"#fff335\",\n",
    "\"Limb ectoderm\" = \"#ffd731\",\n",
    "\"Amniotic ectoderm\" = \"#dbb400\",\n",
    "\"Placodal ectoderm\" = \"#ff5c00\",\n",
    "\"Otic placode\"=\"#f1a262\",\n",
    "\"Otic neural progenitors\"=\"#00b000\",\n",
    "\"Visceral endoderm\" = \"#F6BFCB\",\n",
    "\"ExE endoderm\" = \"#7F6874\",\n",
    "\"ExE ectoderm\" = \"#989898\",\n",
    "\"Parietal endoderm\" = \"#1A1A1A\"\n",
    ")"
   ]
  },
  {
   "cell_type": "markdown",
   "id": "d48ae9a5-54a5-41c5-94e7-2cce661ff3fb",
   "metadata": {
    "tags": []
   },
   "source": [
    "## Shila's Code for StabMap"
   ]
  },
  {
   "cell_type": "code",
   "execution_count": 17,
   "id": "5ff85e85-b128-4721-b90a-bb427e839c3d",
   "metadata": {},
   "outputs": [],
   "source": [
    "vectorSubset = function(vec, mat){\n",
    "  # vec is a named vector\n",
    "  # mat is a matrix containing the names or indices for which you want\n",
    "  # to get the entries of vec\n",
    "  \n",
    "  vmat = c(mat)\n",
    "  vvec = vec[vmat]\n",
    "  \n",
    "  vecmat = matrix(vvec, nrow = nrow(mat), ncol = ncol(mat))\n",
    "  colnames(vecmat) <- colnames(mat)\n",
    "  rownames(vecmat) <- rownames(mat)\n",
    "  \n",
    "  return(vecmat)\n",
    "}\n",
    "\n",
    "vectorMatch = function(vec, mat, vecnames){\n",
    "  # vec is an unnamed vector\n",
    "  # vecnames is the names of vec\n",
    "  # mat is a matrix containing the names or indices for which you want\n",
    "  # to get the entries of vec, matching vecnames\n",
    "  \n",
    "  vmat = c(mat)\n",
    "  \n",
    "  vecind = match(vmat,vecnames)\n",
    "  \n",
    "  vvec = vec[vecind]\n",
    "  \n",
    "  vecmat = matrix(vvec, nrow = nrow(mat), ncol = ncol(mat))\n",
    "  colnames(vecmat) <- colnames(mat)\n",
    "  rownames(vecmat) <- rownames(mat)\n",
    "  \n",
    "  return(vecmat)\n",
    "}\n",
    "\n",
    "Harmony_batchFactor = function(embedding,\n",
    "                               batchFactor, ...) {\n",
    "  # batch correct within this embedding, wrapper around Harmony\n",
    "  # batchFactor is a named vector that is matched\n",
    "  # ... passed to HarmonyMatrix\n",
    "  \n",
    "  require(harmony)\n",
    "  \n",
    "  batchFactor_used = batchFactor[rownames(embedding)]\n",
    "  \n",
    "  out = HarmonyMatrix(as.matrix(t(embedding)), batchFactor_used, do_pca = FALSE, ...)\n",
    "  resub_corrected = t(out)\n",
    "  \n",
    "  return(resub_corrected)\n",
    "}"
   ]
  },
  {
   "cell_type": "code",
   "execution_count": 18,
   "id": "58f97add-7115-451b-9484-c28192a25b41",
   "metadata": {},
   "outputs": [],
   "source": [
    "vectorSubset = function(vec, mat) {\n",
    "  # copied from SpatialUtils to avoid dependency\n",
    "  \n",
    "  # vec is a named vector\n",
    "  # mat is a matrix containing the names or indices for which you want\n",
    "  # to get the entries of vec\n",
    "  \n",
    "  vmat = c(mat)\n",
    "  vvec = vec[vmat]\n",
    "  \n",
    "  vecmat = matrix(vvec, nrow = nrow(mat), ncol = ncol(mat))\n",
    "  colnames(vecmat) <- colnames(mat)\n",
    "  rownames(vecmat) <- rownames(mat)\n",
    "  \n",
    "  return(vecmat)\n",
    "}\n",
    "\n",
    "getArgMin = function(M, return_colnames = TRUE, identicalNA = TRUE) {\n",
    "  # For each row in a matrix calculate the first index\n",
    "  # which gives the minimum value\n",
    "  # keep the rownames\n",
    "  # if return_colnames then extract the column name,\n",
    "  # otherwise just the index\n",
    "  m = max.col(-M, ties.method = \"first\")\n",
    "  \n",
    "  if (return_colnames) {\n",
    "    if (!is.null(colnames(M)[1])) {\n",
    "    m <- colnames(M)[m]\n",
    "    }\n",
    "  }\n",
    "  \n",
    "  names(m) <- rownames(M)\n",
    "  \n",
    "  if (identicalNA) {\n",
    "    # if all the values in a row of M are identical,\n",
    "    # return NA\n",
    "    m[apply(M,1,allEqual)] <- NA\n",
    "  }\n",
    "  \n",
    "  return(m)\n",
    "}\n",
    "\n",
    "getAdaptiveK = function(E,\n",
    "                        labels = NULL,\n",
    "                        local = NULL,\n",
    "                        outputPerCell = TRUE,\n",
    "                        ...) {\n",
    "  \n",
    "  # adaptive k selection for KNN classification\n",
    "  # Given an error matrix E, with rows corresponding to cells\n",
    "  # and columns corresponding to candidate k values, with values\n",
    "  # themselves corresponding to error values (either binary \n",
    "  # for single classification, or continuous after multiple \n",
    "  # classification)\n",
    "  # and given an optional factor labelling/grouping of cells\n",
    "  # identify the k that maximises the accuracy for cells belonging\n",
    "  # to that label/group\n",
    "  # if no labelling given, expect a cell-cell similarity network\n",
    "  # to identify the k that maximises the accuracy for cells within\n",
    "  # that neighbourhood\n",
    "  # if neither are given, simply treat all cells as if they have\n",
    "  # the same labelling/grouping.\n",
    "  \n",
    "  # ... includes return_colnames, whether to give the\n",
    "  # colnames of the best selected, or just the index, \n",
    "  # which is default TRUE\n",
    "  \n",
    "  # if outputPerCell then return a vector of adaptive k\n",
    "  # values for each cell, not just for each label type\n",
    "  # (used for when labels is given)\n",
    "  \n",
    "  # if both labels and local given, labels will be \n",
    "  # prioritised\n",
    "  \n",
    "  # local is a neighbourhood index representation\n",
    "  # as typically output using BiocNeighbors::findKNN()\n",
    "\n",
    "  # example data generation\n",
    "  # data = matrix(rpois(10*20, 10), 10, 20) # 10 genes, 20 cells\n",
    "  # local = BiocNeighbors::findKNN(t(data), k = 5, get.distance = FALSE)$index\n",
    "  # E = matrix(runif(100),20,5)\n",
    "  # colnames(E) <- paste0(\"K_\", 1:5)\n",
    "  # labels = factor(rep(letters[1:2], each = 10))\n",
    "  \n",
    "  require(Matrix)\n",
    "\n",
    "  if (is.null(labels) & is.null(local)) {\n",
    "    labels = factor(rep(\"All\", nrow(E)))\n",
    "  }\n",
    "  \n",
    "  if (!is.null(labels)) {\n",
    "    if (class(labels) != \"factor\") {\n",
    "      labels <- factor(labels)\n",
    "    }\n",
    "    L = fac2sparse(labels)\n",
    "    \n",
    "    LE = L %*% E\n",
    "    \n",
    "    k_best = getArgMin(LE, ...)\n",
    "    \n",
    "    if (outputPerCell) {\n",
    "      k_best <- k_best[labels]\n",
    "      names(k_best) <- rownames(E)\n",
    "    }\n",
    "    \n",
    "    return(k_best) \n",
    "  }\n",
    "\n",
    "  # if function still running, then use the neighbours in local\n",
    "  # ensure that self is also included\n",
    "  # local_self = cbind(seq_len(nrow(E)), local)\n",
    "  local_self = local\n",
    "  \n",
    "  LE = apply(E, 2, function(e) rowSums(vectorSubset(e, local_self)))\n",
    "  \n",
    "  k_best = getArgMin(LE, ...)\n",
    "  names(k_best) <- rownames(E)\n",
    "  \n",
    "  return(k_best)\n",
    "}\n",
    "\n",
    "getModeFirst = function(x, first) {\n",
    "  # identify the mode of x among the first values\n",
    "  # x is a character or a factor\n",
    "  # first is an integer\n",
    "  # x = knn_class[1,]\n",
    "  # first = query_best_k[i]\n",
    "  names(which.max(table(x[1:first])[unique(x[1:first])]))\n",
    "}\n",
    "\n",
    "getQueryK = function(knn, k_local) {\n",
    "  \n",
    "  # knn is a k-nearest neighbour matrix, giving the \n",
    "  # indices of the training set that the query is \n",
    "  # closest to. Rows are the query cells, columns\n",
    "  # are the NNs, should be a large value. Typically\n",
    "  # output using BiocNeighbors::queryKNN(,,k = max(k_local))\n",
    "  \n",
    "  # k_local is an integer vector length of the training\n",
    "  # set, giving the local k to use\n",
    "  # if k_local is given as a single integer, then\n",
    "  # that value is used as k for all observations\n",
    "  \n",
    "  if (length(k_local) == 1) {\n",
    "    k_local <- rep(k_local, nrow(knn))\n",
    "    return(k_local)\n",
    "  }\n",
    "  \n",
    "  # Use 1NN to identify the local best k value\n",
    "  query_best_k = k_local[knn[,1]]\n",
    "  \n",
    "  return(query_best_k)\n",
    "}\n",
    "\n",
    "adaptiveKNN = function(knn,\n",
    "                       class,\n",
    "                       k_local) {\n",
    "  \n",
    "  # knn is a k-nearest neighbour matrix, giving the \n",
    "  # indices of the training set that the query is \n",
    "  # closest to. Rows are the query cells, columns\n",
    "  # are the NNs, should be a large value. Typically\n",
    "  # output using BiocNeighbors::queryKNN(,,k = max(k_local))\n",
    "  \n",
    "  # class is the labels associated with the training\n",
    "  # set\n",
    "  \n",
    "  # k_local is an integer vector length of the training\n",
    "  # set, giving the local k to use\n",
    "  # if k_local is given as a single integer, then\n",
    "  # that value is used as k for all observations\n",
    "  \n",
    "  # example data\n",
    "  # data = matrix(rpois(10*20, 10), 10, 20) # 10 genes, 20 cells\n",
    "  # local = BiocNeighbors::findKNN(t(data), k = 5, get.distance = FALSE)$index\n",
    "  # A = matrix(runif(100),20,5)\n",
    "  # colnames(A) <- paste0(\"K_\", 1:5)\n",
    "  # labels = factor(rep(letters[1:2], each = 10))\n",
    "  # k_local = getAdaptiveK(A, labels = labels)\n",
    "  # data_2 = matrix(rpois(10*30, 10), 10, 30) # 10 genes, 30 cells\n",
    "  # knn = BiocNeighbors::queryKNN(t(data), t(data_2), k = 5, get.distance = FALSE)$index\n",
    "  # class = labels\n",
    "  \n",
    "  # if (length(k_local) == 1) {\n",
    "  #   k_local <- rep(k_local, max(knn))\n",
    "  # }\n",
    "  # \n",
    "  # # first use 1NN to identify the local best k value\n",
    "  # query_best_k = k_local[knn[,1]]\n",
    "  \n",
    "  query_best_k = getQueryK(knn, k_local)\n",
    "  \n",
    "  if (any(query_best_k > ncol(knn))) {\n",
    "    warning(\"k is larger than nearest neighbours provided, taking all neighbours given\")\n",
    "  }\n",
    "  \n",
    "  # convert the KNN names to the class labels\n",
    "  knn_class = vectorSubset(class, knn)\n",
    "  \n",
    "  # extract the most frequent among the nearest local best k neighbours\n",
    "  # new_class = sapply(1:nrow(knn), function(i) getModeFirst(knn_class[i,], query_best_k[i]))\n",
    "  # same as:\n",
    "  new_class = mapply(getModeFirst, split(knn_class, seq_len(nrow(knn_class))), query_best_k,\n",
    "                     USE.NAMES = FALSE)\n",
    "  names(new_class) <- rownames(knn_class)\n",
    "  \n",
    "  return(new_class)\n",
    "}\n",
    "\n",
    "isEqual = function(x,y) {\n",
    "  # returns an integer vector\n",
    "  1*(as.character(x) == as.character(y))\n",
    "}\n",
    "\n",
    "isUnequal = function(x,y) {\n",
    "  # returns an integer vector\n",
    "  1*(as.character(x) != as.character(y))\n",
    "}\n",
    "\n",
    "allEqual = function(x) {\n",
    "  all(x == x[1])\n",
    "}\n",
    "\n",
    "getBinaryError = function(knn,\n",
    "                          k_values,\n",
    "                          class_train,\n",
    "                          class_true) {\n",
    "  \n",
    "  # output is a sparse binary error matrix E\n",
    "  \n",
    "  # knn is a k-nearest neighbour matrix, giving the \n",
    "  # indices of the training set that the query is \n",
    "  # closest to. Rows are the query cells, columns\n",
    "  # are the NNs, should be a large value. Typically\n",
    "  # output using BiocNeighbors::queryKNN(,,k = max(k_values))\n",
    "  \n",
    "  # k_values is an integer vector of the values of k\n",
    "  # to consider for extracting accuracy\n",
    "  # if k_values has names then pass these to \n",
    "  # colnames of E\n",
    "  \n",
    "  # class_train is a factor or character vector of\n",
    "  # classes that corresponds to the indices given\n",
    "  # within knn\n",
    "  \n",
    "  # class_true is a factor or character vector that\n",
    "  # corresponds to the rows of knn\n",
    "  # if class_true has names then pass these to rownames\n",
    "  # of E\n",
    "  \n",
    "  # example data\n",
    "  # data = matrix(rpois(10*20, 10), 10, 20) # 10 genes, 20 cells\n",
    "  # local = BiocNeighbors::findKNN(t(data), k = 5, get.distance = FALSE)$index\n",
    "  # A = matrix(runif(100),20,5)\n",
    "  # colnames(A) <- paste0(\"K_\", 1:5)\n",
    "  # labels = factor(rep(letters[1:2], each = 10))\n",
    "  # k_local = getAdaptiveK(A, labels = labels)\n",
    "  # data_2 = matrix(rpois(10*30, 10), 10, 30) # 10 genes, 30 cells\n",
    "  # knn = BiocNeighbors::queryKNN(t(data), t(data_2), k = 5, get.distance = FALSE)$index\n",
    "  # class = labels\n",
    "  # class_train = labels\n",
    "  # class_true = rep(letters[1], 30)\n",
    "  # k_values = c(1,3,5)\n",
    "  \n",
    "  if (max(unlist(k_values)) > ncol(knn)) {\n",
    "  # if (max(k_values) > ncol(knn)) {\n",
    "    stop(\"largest k value is larger than neighbours provided in knn,\n",
    "         select a smaller k value or provide more neighbours\")\n",
    "  }\n",
    "  \n",
    "  # class_pred = adaptiveKNN(knn, class = class_train, k_local = k_values[1])\n",
    "  # isEqual(class_pred, class_true)\n",
    "  \n",
    "  class_pred = mapply(adaptiveKNN, k_values, MoreArgs = list(class = class_train, knn = knn))\n",
    "  E = as(apply(class_pred, 2, isUnequal, y = class_true), \"sparseMatrix\")\n",
    "  \n",
    "  rownames(E) <- names(class_true)\n",
    "  colnames(E) <- names(k_values)\n",
    "  \n",
    "  return(E)\n",
    "}\n",
    "\n",
    "combineBinaryErrors = function(E_list) {\n",
    "  # E_list is a list containing matrices\n",
    "  # each matrix must have the same number of columns (k-values)\n",
    "  # and contain rownames (cells)\n",
    "  \n",
    "  # example data\n",
    "  # E_1 = as(matrix(rbinom(50, 1, 0.5), 10, 5), \"sparseMatrix\")\n",
    "  # rownames(E_1) <- letters[1:10]\n",
    "  # E_2 = as(matrix(rbinom(60, 1, 0.5), 12, 5), \"sparseMatrix\")\n",
    "  # rownames(E_2) <- letters[5:16]\n",
    "  # E_list = list(E_1, E_2)\n",
    "\n",
    "  if (!allEqual(unlist(lapply(E_list, ncol)))) {\n",
    "    stop(\"each matrix in E_list must have the same number of columns\")\n",
    "  }\n",
    "  \n",
    "  if (any(unlist(lapply(E_list, function(x) is.null(rownames(x)))))) {\n",
    "    stop(\"each matrix in E_list must have associated rownames\")\n",
    "  }\n",
    "  \n",
    "  all_rows = unlist(lapply(E_list, rownames))\n",
    "  \n",
    "  E_exp = do.call(rbind, E_list)\n",
    "  E_split = split.data.frame(E_exp, all_rows)\n",
    "  \n",
    "  # data becomes dense at this stage\n",
    "  E_means = lapply(E_split, colMeans, na.rm = TRUE)\n",
    "  \n",
    "  E = as(do.call(rbind, E_means), \"sparseMatrix\")\n",
    "  \n",
    "  return(E)  \n",
    "}\n",
    "\n",
    "\n",
    "getDensityK = function(coords, k_values = k_values, dist_maxK = 100) {\n",
    "  \n",
    "  # coords is a cells (rows) x dimensions matrix for which distances should be calculated\n",
    "  # k_values is a numeric character of maximum k-values to use\n",
    "  # dist_maxK is the maximum distance to consider for estimating the local density\n",
    "  \n",
    "  # the output is a list of k-values based on the density for the possible values\n",
    "  \n",
    "  require(BiocNeighbors)\n",
    "  \n",
    "  dists = findKNN(coords, k = dist_maxK, get.distance = TRUE)$distance[,dist_maxK]\n",
    "  \n",
    "  k_norm_unscaled = (1/dists) / max(1/dists)\n",
    "  \n",
    "  k_norm = ceiling(outer(k_norm_unscaled, k_values))\n",
    "  rownames(k_norm) <- rownames(coords)\n",
    "  \n",
    "  # k_norm_split = split.data.frame(t(k_norm), 1:ncol(k_norm))\n",
    "  k_norm_split = sapply(seq_len(ncol(k_norm)), function(i) k_norm[,i], simplify = FALSE)\n",
    "  \n",
    "  return(k_norm_split)\n",
    "}\n",
    "\n",
    "getBestColumn = function(E,\n",
    "                         balanced_labels = NULL) {\n",
    "  # returns the index of the best performing column of E\n",
    "  # if balanced_labels given then return the best\n",
    "  # given the balanced accuracy, otherwise just total accuracy\n",
    "  \n",
    "  if (is.null(balanced_labels)) {\n",
    "    return(which.min(colMeans(E, na.rm = TRUE)))\n",
    "  } else {\n",
    "    E_lab = apply(E, 2, function(x) tapply(x, balanced_labels, mean))\n",
    "    return(which.min(colMeans(E_lab, na.rm = TRUE))) \n",
    "  }\n",
    "}\n",
    "\n",
    "# core functions from Jonny 2019 paper\n",
    "getHVGs = function(sce, min.mean = 1e-3){\n",
    "  # require(biomaRt)\n",
    "  decomp = modelGeneVar(assay(sce, \"logcounts\"), block = sce$sample, span = 0.05)\n",
    "  decomp = decomp[decomp$mean > min.mean,]\n",
    "  \n",
    "  #exclude sex genes\n",
    "  xist = \"ENSMUSG00000086503\"\n",
    "  # mouse_ensembl = useMart(\"ensembl\")\n",
    "  # mouse_ensembl = useDataset(\"mmusculus_gene_ensembl\", mart = mouse_ensembl)\n",
    "  # gene_map = getBM(attributes=c(\"ensembl_gene_id\", \"chromosome_name\"), filters = \"ensembl_gene_id\", values = rownames(decomp), mart = mouse_ensembl)\n",
    "  # ychr = gene_map[gene_map[,2] == \"Y\", 1]\n",
    "  ychr = read.table(\"/Users/ghazan01/Dropbox/Backup/fromjonny/misc/ygenes.tab\", stringsAsFactors = FALSE)[,1]\n",
    "  other = c(\"tomato-td\") #for the chimera\n",
    "  decomp = decomp[!rownames(decomp) %in% c(xist, ychr, other),]\n",
    "  \n",
    "  decomp$FDR = p.adjust(decomp$p.value, method = \"fdr\")\n",
    "  return(rownames(decomp)[decomp$p.value < 0.05])\n",
    "}\n",
    "\n",
    "getMergeOrder = function(s, meta) {\n",
    "  require(gtools)\n",
    "  s_uniq = as.character(unique(s))\n",
    "  rownames(meta) <- as.character(meta$sample)\n",
    "  s_split = split(s_uniq, meta[as.character(s_uniq), \"stage\"])\n",
    "  s_split <- s_split[rev(mixedsort(names(s_split)))]\n",
    "  s_split_ordered = lapply(s_split, function(ss){\n",
    "    ss[order(meta[as.character(ss), \"ncells\"], decreasing = TRUE)]\n",
    "  })\n",
    "  return(s_split_ordered)\n",
    "}\n",
    "\n",
    "doBatchCorrect = function(sce) {\n",
    "  \n",
    "  # perform the integration once outside of the loop, then call within\n",
    "  sce <- multiBatchNorm(sce, batch = sce$sample)\n",
    "  # fit_train_test = modelGeneVar(assay(sce_train_test, \"logcounts\"), block = sce_train_test$sample)\n",
    "  # HVG_train_test = getTopHVGs(fit_train_test, fdr.threshold = 0.05)\n",
    "  HVG = getHVGs(sce)\n",
    "  mergeOrder = getMergeOrder(sce$sample, mt)\n",
    "  pc_out = fastMNN(sce, batch = sce$sample,\n",
    "                   subset.row = HVG,\n",
    "                   merge.order = mergeOrder\n",
    "  )\n",
    "  \n",
    "  pc = reducedDim(pc_out, \"corrected\")\n",
    "  \n",
    "  umap = uwot::umap(pc)\n",
    "  plot(umap)\n",
    "  \n",
    "  return(pc)\n",
    "}\n",
    "\n",
    "\n",
    "smoothLocal = function(best_k, local, smooth = 10, mean_type = \"geometric\") {\n",
    "  # best_k is a named vector of local best k values\n",
    "  # local is a matrix with rows same as best_k and values indices of best_k\n",
    "  nms = names(best_k)\n",
    "  \n",
    "  if (mean_type == \"arithmetic\") {\n",
    "  best_k_smooth = ceiling(rowMeans(vectorSubset(best_k, local[,1:smooth])))\n",
    "  }\n",
    "  if (mean_type == \"geometric\") {\n",
    "    best_k_smooth = ceiling(apply(vectorSubset(best_k, local[,1:smooth]),1, gm_mean))\n",
    "  }\n",
    "  names(best_k_smooth) <- nms\n",
    "  return(best_k_smooth)\n",
    "}\n",
    "\n",
    "gm_mean = function(x, na.rm=TRUE){\n",
    "  if (all(is.na(x))) return(NA)\n",
    "  exp(sum(log(x[x > 0]), na.rm=na.rm) / sum(!is.na(x)))\n",
    "}\n",
    "\n",
    "queryNamedKNN = function(coords_reference, coords_query, k) {\n",
    "  \n",
    "  require(BiocNeighbors)\n",
    "  \n",
    "  knn = queryKNN(\n",
    "    coords_reference,\n",
    "    coords_query,\n",
    "    k = k, get.distance = FALSE)$index\n",
    "  rownames(knn) <- rownames(coords_query)\n",
    "  knn_name = vectorSubset(rownames(coords_reference), knn)\n",
    "  \n",
    "  return(knn_name)\n",
    "}\n",
    "\n",
    "buildLabelsDataFrame = function(labels, resubstituted_labels, k_adaptive) {\n",
    "  # labels is a named character vector with true labels\n",
    "  # resubstituted_labels is a named character vector with\n",
    "  # extra labels\n",
    "  # k_adaptive is a named vector of the k-values, this could \n",
    "  # be a single integer when fixed\n",
    "  \n",
    "  # output a dataframe with rows the same as resubstituted_labels\n",
    "  # and columns for input_labels, predicted_labels, and resubstituted_labels\n",
    "  \n",
    "  df = data.frame(input_labels = labels[names(resubstituted_labels)],\n",
    "                  resubstituted_labels = resubstituted_labels,\n",
    "                  predicted_labels = resubstituted_labels,\n",
    "                  row.names = names(resubstituted_labels))\n",
    "  df[names(labels), \"predicted_labels\"] <- labels\n",
    "  \n",
    "  if (length(k_adaptive) == 1) {\n",
    "    df$k = k_adaptive\n",
    "  } else {\n",
    "    df$k <- k_adaptive[rownames(df)]\n",
    "  }\n",
    "  \n",
    "  return(df)\n",
    "}\n",
    "\n",
    "getBinaryErrorFromPredictions = function(pred, labels) {\n",
    "  # pred is a matrix of class label predictions\n",
    "  # with named rows\n",
    "  # labels is a named vector of true labels\n",
    "  \n",
    "  # output is a binary error matrix, sparse\n",
    "  \n",
    "  E = as(apply(pred, 2, isUnequal, y = labels[rownames(pred)]), \"sparseMatrix\")\n",
    "  rownames(E) <- names(labels)\n",
    "  colnames(E) <- colnames(pred)\n",
    "  \n",
    "  return(E)\n",
    "}\n",
    "\n",
    "embeddingKNN = function(\n",
    "  coords,\n",
    "  labels,\n",
    "  type = \"adaptive_local\",\n",
    "  k_values = 1:50,\n",
    "  error_measure = \"simple_error\",\n",
    "  adaptive_nFold = 2,\n",
    "  adaptive_nRep = 5,\n",
    "  adaptive_local_nhood = 100,\n",
    "  adaptive_local_smooth = 10,\n",
    "  adaptive_density_maxK = 100,\n",
    "  verbose = TRUE\n",
    ") {\n",
    "  \n",
    "  # to-do: \n",
    "  # the cross validation step can be parallelised\n",
    "  # provide a priori values for adaptive k rather than need to calculate\n",
    "  \n",
    "  # coords is cells (rows) x dimensions data matrix, on which euclidean \n",
    "  # distances are to be calculated. coords must have rownames\n",
    "  # labels is a named character vector\n",
    "  # type is one of \"adaptive_local\", \"adaptive_labels\", \n",
    "  # \"uniform_optimised\", \"uniform_fixed\", or \"adaptive_density\"\n",
    "  # k_values is a numeric vector of potential values. if type is \"uniform_fixed\",\n",
    "  # then the first value of k_values is used.\n",
    "  # error_measure is the error type to use for selection. Simple error is used\n",
    "  # for adaptive_local and adaptive_labels (since balanced error can be noisy)\n",
    "  # adaptive_nFold is the number of folds for adaptive selection cross-validation\n",
    "  # adaptive_nRep is the number of repetitions of adaptive selection cross-validation\n",
    "  # adaptive_local_nhood is the neighbourhood size for optimising locally\n",
    "  # adaptive_local_smooth is the number of neighbours to use for smoothing locally\n",
    "  # adaptive_density_maxK is the maximum k to use for estimating the relative density\n",
    "  \n",
    "  # output is a dataframe with rows the same as coords, and same rownames\n",
    "  # columns are input_labels: NA-filled labels that were input\n",
    "  # resubstituted_labels is full reclassified labels including for the training data\n",
    "  # predicted_labels = input_labels is the classified labels along with the input\n",
    "  # training labels\n",
    "  \n",
    "  # example data\n",
    "  # coords = matrix(rnorm(1000), 100, 10)\n",
    "  # rownames(coords) <- paste0(\"cell_\", 1:nrow(coords))\n",
    "  # labels = rep(paste0(\"type_\", letters[1:5]), 10)\n",
    "  # names(labels) <- rownames(coords)[1:length(labels)]\n",
    "  \n",
    "  require(BiocNeighbors)\n",
    "  require(Matrix)\n",
    "\n",
    "  if (is.null(rownames(coords)[1])) {\n",
    "    stop(\"coords must have rownames\")\n",
    "  }\n",
    "  \n",
    "  if (is.null(names(labels)[1])) {\n",
    "    stop(\"labels must have names\")\n",
    "  }\n",
    "  \n",
    "  max_k = max(k_values)\n",
    "  \n",
    "  coords_train = coords[names(labels),]\n",
    "  \n",
    "  if (type == \"uniform_fixed\") {\n",
    "    k = k_values[1]\n",
    "    \n",
    "    knn = queryNamedKNN(coords_train, coords, k = k)\n",
    "    \n",
    "    resubstituted_labels = adaptiveKNN(knn,\n",
    "                                       labels,\n",
    "                                       k)\n",
    "    \n",
    "    out = buildLabelsDataFrame(labels, resubstituted_labels, k_adaptive = k)\n",
    "    \n",
    "    return(out)\n",
    "  }\n",
    "  \n",
    "  # all other types require some adaptive or optimised component\n",
    "  \n",
    "  # if type is based on density (of all data), then calculate the error rates\n",
    "  # for these density based choices, and select the best k's for them\n",
    "  \n",
    "  if (type == \"adaptive_density\") {\n",
    "    \n",
    "    densityK_all = getDensityK(coords, k_values = k_values, dist_maxK = adaptive_density_maxK)\n",
    "    \n",
    "    max_k = max(unlist(densityK_all), na.rm = TRUE)\n",
    "    \n",
    "    knn = queryNamedKNN(coords_train, coords_train, k = max_k)\n",
    "    \n",
    "    densityK_pred = mapply(adaptiveKNN, densityK_all, MoreArgs = list(class = labels, knn = knn))\n",
    "    \n",
    "    E = getBinaryErrorFromPredictions(densityK_pred, labels)\n",
    "    \n",
    "    # select the best column based on the error type\n",
    "    if (error_measure == \"simple_error\") {\n",
    "      best_column = getBestColumn(E)\n",
    "    }\n",
    "    if (error_measure == \"balanced_error\") {\n",
    "      best_column = getBestColumn(E, balanced_labels = labels[rownames(E)])\n",
    "    }\n",
    "    k_adaptive = densityK_all[[best_column]]\n",
    "    \n",
    "  }\n",
    "  \n",
    "  # if neither of above types are chosen, then an error matrix\n",
    "  # is needed, using internal cross-validation\n",
    "  \n",
    "  E_list = list()\n",
    "  \n",
    "  for (Rep in seq_len(adaptive_nRep)) {\n",
    "    \n",
    "    train_k = sample(seq_len(adaptive_nFold), nrow(coords_train),\n",
    "                     prob = rep(1,adaptive_nFold), replace = TRUE)\n",
    "    \n",
    "    if (verbose) print(paste(\"Rep\", Rep, \"of\", adaptive_nRep))\n",
    "    \n",
    "    for (fold in seq_len(adaptive_nFold)) {\n",
    "      \n",
    "      if (verbose) print(paste(\"Fold\", fold, \"of\", adaptive_nFold))\n",
    "      \n",
    "      coords_train_k = coords_train[train_k == fold,]\n",
    "      coords_test_k = coords_train[!train_k == fold,]\n",
    "      \n",
    "      knn = queryNamedKNN(coords_train_k, coords_test_k, k = max_k)\n",
    "      \n",
    "      labels_train = labels[rownames(coords_train_k)]\n",
    "      labels_test = labels[rownames(coords_test_k)]\n",
    "      \n",
    "      E = getBinaryError(knn = knn,\n",
    "                         k_values = k_values,\n",
    "                         class_train = labels_train,\n",
    "                         class_true = labels_test)\n",
    "      \n",
    "      E_list[[length(E_list) + 1]] <- E\n",
    "      \n",
    "    }\n",
    "    \n",
    "  }\n",
    "  E = combineBinaryErrors(E_list)[rownames(coords_train),]\n",
    "  \n",
    "  \n",
    "  if (type == \"uniform_optimised\") {\n",
    "    \n",
    "    # select the best column based on the error type\n",
    "    if (error_measure == \"simple_error\") {\n",
    "      best_column = getBestColumn(E)\n",
    "    }\n",
    "    if (error_measure == \"balanced_error\") {\n",
    "      best_column = getBestColumn(E, balanced_labels = labels[rownames(E)])\n",
    "    }\n",
    "    k_adaptive = k_values[best_column]\n",
    "  }\n",
    "  \n",
    "  if (type == \"adaptive_labels\") {\n",
    "    best_k_labels_index = getAdaptiveK(E,\n",
    "                                       labels = labels[rownames(E)],\n",
    "                                       local = NULL,\n",
    "                                       outputPerCell = TRUE)\n",
    "    best_k_labels <- vectorSubset(k_values, as.matrix(best_k_labels_index))[,1]\n",
    "    \n",
    "    # if any are NA, select the geometric mean value among the rest\n",
    "    best_k_labels[is.na(best_k_labels)] <- ceiling(gm_mean(best_k_labels))\n",
    "    \n",
    "    k_adaptive = best_k_labels[names(labels)]\n",
    "  }\n",
    "  \n",
    "  if (type == \"adaptive_local\") {\n",
    "    \n",
    "    local = queryNamedKNN(coords_train, coords_train, k = adaptive_local_nhood)\n",
    "    \n",
    "    best_k_local_index = getAdaptiveK(E,\n",
    "                                      local = local,\n",
    "                                      outputPerCell = TRUE)\n",
    "    best_k_local_unsmoothed <- vectorSubset(k_values, as.matrix(best_k_local_index))[,1]\n",
    "    \n",
    "    if (any(is.na(best_k_local_unsmoothed))) {\n",
    "      defined = names(best_k_local_unsmoothed)[!is.na(best_k_local_unsmoothed)]\n",
    "      \n",
    "      local_defined = queryNamedKNN(coords_train[defined,], coords_train, k = adaptive_local_nhood)\n",
    "    } else {\n",
    "      local_defined = local\n",
    "    }\n",
    "    \n",
    "    best_k_local <- smoothLocal(best_k_local_unsmoothed, local_defined, smooth = adaptive_local_smooth)\n",
    "    \n",
    "    k_adaptive = best_k_local[names(labels)]\n",
    "  }\n",
    "  \n",
    "  # with k_adaptive defined, perform the classification and extract out\n",
    "  \n",
    "  max_k = max(k_adaptive)\n",
    "  \n",
    "  knn = queryNamedKNN(coords_train, coords, k = max_k)\n",
    "  \n",
    "  resubstituted_labels = adaptiveKNN(knn,\n",
    "                                     labels,\n",
    "                                     k_adaptive)\n",
    "  \n",
    "  out = buildLabelsDataFrame(labels, resubstituted_labels, k_adaptive = k_adaptive)\n",
    "  \n",
    "  return(out)\n",
    "\n",
    "}"
   ]
  },
  {
   "cell_type": "code",
   "execution_count": 19,
   "id": "d7fefd9b-d8d9-47bc-8fe0-60d82cdf7a8b",
   "metadata": {},
   "outputs": [],
   "source": [
    "reducedMNN_batchFactor = function(embedding,\n",
    "                                  batchFactor,\n",
    "                                  ...) {\n",
    "  # batch correct within this embedding, wrapper around reducedMNN\n",
    "  # batchFactor is a named vector that is matched\n",
    "  # ... passed to reducedMNN\n",
    "  \n",
    "  require(batchelor)\n",
    "  \n",
    "  # for some reason reducedMNN only takes dense matrices\n",
    "  embedding <- as.matrix(embedding)\n",
    "  \n",
    "  batchFactor_used = batchFactor[rownames(embedding)]\n",
    "  \n",
    "  out = reducedMNN(embedding, batch = batchFactor_used, ...)\n",
    "  resub_corrected = out$corrected\n",
    "  \n",
    "  return(resub_corrected)\n",
    "}"
   ]
  },
  {
   "cell_type": "markdown",
   "id": "e75e749b-0e63-48ae-9e79-ac70982c4cbc",
   "metadata": {
    "tags": []
   },
   "source": [
    "## Data Locations"
   ]
  },
  {
   "cell_type": "code",
   "execution_count": 20,
   "id": "66519c91-e023-4dc3-94c1-e40e0b83fca4",
   "metadata": {},
   "outputs": [],
   "source": [
    "##### Load in Seurat Objects #####\n",
    "\n",
    "io = list()\n",
    "io$main = \"/rds/project/rds-SDzz0CATGms/users/ltgh2\" # this is the main directory"
   ]
  },
  {
   "cell_type": "code",
   "execution_count": 22,
   "id": "6c85f48a-a2f0-419f-8ecf-8cb57e92ff4b",
   "metadata": {},
   "outputs": [],
   "source": [
    "##### Load in Seurat Objects #####\n",
    "\n",
    "io = list()\n",
    "io$main = \"/rds/project/rds-SDzz0CATGms/users/ltgh2\" # this is the main directory\n",
    "\n",
    "io$atlas = file.path(io$main, \"projects/03_seqFISH_FINAL/code/extended_atlas_integration/processed_downsampled/downsample_10K_within_timpoint_all_stages.Rds\")\n",
    "io$seqFISH = file.path(io$main, \"projects/03_seqFISH_FINAL/code/seqFISH_integration/processed/seqFISH_after_QC_filtering_within_and_across_dataset_integration_without_neighbour_features_E6_7_8.Rds\") "
   ]
  },
  {
   "cell_type": "code",
   "execution_count": 23,
   "id": "35dbbddf-c777-40d7-9b23-4c14b9b5bb56",
   "metadata": {},
   "outputs": [],
   "source": [
    "##### Load in StabMAP_Outputs #####\n",
    "io$StabMAP_reweighted_MNNcorrected_original_counts_without_neigh = file.path(io$main, \"projects/03_seqFISH_FINAL/code/stab_map_all_together_post_QC/output/StabMAP_allstages_postQC_reweighted_MNNcorrected_original_counts_without_neigh.Rds\")\n",
    "io$StabMAP_reweighted_MNNcorrected_integrated_counts_without_neigh = file.path(io$main, \"projects/03_seqFISH_FINAL/code/stab_map_all_together_post_QC/output/StabMAP_allstages_postQC_reweighted_MNNcorrected_integrated_counts_without_neigh.Rds\")"
   ]
  },
  {
   "cell_type": "code",
   "execution_count": 24,
   "id": "e8063a43-8580-45e5-b813-94010551a61b",
   "metadata": {},
   "outputs": [],
   "source": [
    "# Set the working directory\n",
    "setwd(io$main)"
   ]
  },
  {
   "cell_type": "code",
   "execution_count": 25,
   "id": "d7e42b46-2356-4c26-85be-eda581825379",
   "metadata": {},
   "outputs": [
    {
     "data": {
      "text/html": [
       "<dl>\n",
       "\t<dt>$main</dt>\n",
       "\t\t<dd>'/rds/project/rds-SDzz0CATGms/users/ltgh2'</dd>\n",
       "\t<dt>$atlas</dt>\n",
       "\t\t<dd>'/rds/project/rds-SDzz0CATGms/users/ltgh2/projects/03_seqFISH_FINAL/code/extended_atlas_integration/processed_downsampled/downsample_10K_within_timpoint_all_stages.Rds'</dd>\n",
       "\t<dt>$seqFISH</dt>\n",
       "\t\t<dd>'/rds/project/rds-SDzz0CATGms/users/ltgh2/projects/03_seqFISH_FINAL/code/seqFISH_integration/processed/seqFISH_after_QC_filtering_within_and_across_dataset_integration_without_neighbour_features_E6_7_8.Rds'</dd>\n",
       "\t<dt>$StabMAP_reweighted_MNNcorrected_original_counts_without_neigh</dt>\n",
       "\t\t<dd>'/rds/project/rds-SDzz0CATGms/users/ltgh2/projects/03_seqFISH_FINAL/code/stab_map_all_together_post_QC/output/StabMAP_allstages_postQC_reweighted_MNNcorrected_original_counts_without_neigh.Rds'</dd>\n",
       "\t<dt>$StabMAP_reweighted_MNNcorrected_integrated_counts_without_neigh</dt>\n",
       "\t\t<dd>'/rds/project/rds-SDzz0CATGms/users/ltgh2/projects/03_seqFISH_FINAL/code/stab_map_all_together_post_QC/output/StabMAP_allstages_postQC_reweighted_MNNcorrected_integrated_counts_without_neigh.Rds'</dd>\n",
       "</dl>\n"
      ],
      "text/latex": [
       "\\begin{description}\n",
       "\\item[\\$main] '/rds/project/rds-SDzz0CATGms/users/ltgh2'\n",
       "\\item[\\$atlas] '/rds/project/rds-SDzz0CATGms/users/ltgh2/projects/03\\_seqFISH\\_FINAL/code/extended\\_atlas\\_integration/processed\\_downsampled/downsample\\_10K\\_within\\_timpoint\\_all\\_stages.Rds'\n",
       "\\item[\\$seqFISH] '/rds/project/rds-SDzz0CATGms/users/ltgh2/projects/03\\_seqFISH\\_FINAL/code/seqFISH\\_integration/processed/seqFISH\\_after\\_QC\\_filtering\\_within\\_and\\_across\\_dataset\\_integration\\_without\\_neighbour\\_features\\_E6\\_7\\_8.Rds'\n",
       "\\item[\\$StabMAP\\_reweighted\\_MNNcorrected\\_original\\_counts\\_without\\_neigh] '/rds/project/rds-SDzz0CATGms/users/ltgh2/projects/03\\_seqFISH\\_FINAL/code/stab\\_map\\_all\\_together\\_post\\_QC/output/StabMAP\\_allstages\\_postQC\\_reweighted\\_MNNcorrected\\_original\\_counts\\_without\\_neigh.Rds'\n",
       "\\item[\\$StabMAP\\_reweighted\\_MNNcorrected\\_integrated\\_counts\\_without\\_neigh] '/rds/project/rds-SDzz0CATGms/users/ltgh2/projects/03\\_seqFISH\\_FINAL/code/stab\\_map\\_all\\_together\\_post\\_QC/output/StabMAP\\_allstages\\_postQC\\_reweighted\\_MNNcorrected\\_integrated\\_counts\\_without\\_neigh.Rds'\n",
       "\\end{description}\n"
      ],
      "text/markdown": [
       "$main\n",
       ":   '/rds/project/rds-SDzz0CATGms/users/ltgh2'\n",
       "$atlas\n",
       ":   '/rds/project/rds-SDzz0CATGms/users/ltgh2/projects/03_seqFISH_FINAL/code/extended_atlas_integration/processed_downsampled/downsample_10K_within_timpoint_all_stages.Rds'\n",
       "$seqFISH\n",
       ":   '/rds/project/rds-SDzz0CATGms/users/ltgh2/projects/03_seqFISH_FINAL/code/seqFISH_integration/processed/seqFISH_after_QC_filtering_within_and_across_dataset_integration_without_neighbour_features_E6_7_8.Rds'\n",
       "$StabMAP_reweighted_MNNcorrected_original_counts_without_neigh\n",
       ":   '/rds/project/rds-SDzz0CATGms/users/ltgh2/projects/03_seqFISH_FINAL/code/stab_map_all_together_post_QC/output/StabMAP_allstages_postQC_reweighted_MNNcorrected_original_counts_without_neigh.Rds'\n",
       "$StabMAP_reweighted_MNNcorrected_integrated_counts_without_neigh\n",
       ":   '/rds/project/rds-SDzz0CATGms/users/ltgh2/projects/03_seqFISH_FINAL/code/stab_map_all_together_post_QC/output/StabMAP_allstages_postQC_reweighted_MNNcorrected_integrated_counts_without_neigh.Rds'\n",
       "\n",
       "\n"
      ],
      "text/plain": [
       "$main\n",
       "[1] \"/rds/project/rds-SDzz0CATGms/users/ltgh2\"\n",
       "\n",
       "$atlas\n",
       "[1] \"/rds/project/rds-SDzz0CATGms/users/ltgh2/projects/03_seqFISH_FINAL/code/extended_atlas_integration/processed_downsampled/downsample_10K_within_timpoint_all_stages.Rds\"\n",
       "\n",
       "$seqFISH\n",
       "[1] \"/rds/project/rds-SDzz0CATGms/users/ltgh2/projects/03_seqFISH_FINAL/code/seqFISH_integration/processed/seqFISH_after_QC_filtering_within_and_across_dataset_integration_without_neighbour_features_E6_7_8.Rds\"\n",
       "\n",
       "$StabMAP_reweighted_MNNcorrected_original_counts_without_neigh\n",
       "[1] \"/rds/project/rds-SDzz0CATGms/users/ltgh2/projects/03_seqFISH_FINAL/code/stab_map_all_together_post_QC/output/StabMAP_allstages_postQC_reweighted_MNNcorrected_original_counts_without_neigh.Rds\"\n",
       "\n",
       "$StabMAP_reweighted_MNNcorrected_integrated_counts_without_neigh\n",
       "[1] \"/rds/project/rds-SDzz0CATGms/users/ltgh2/projects/03_seqFISH_FINAL/code/stab_map_all_together_post_QC/output/StabMAP_allstages_postQC_reweighted_MNNcorrected_integrated_counts_without_neigh.Rds\"\n"
      ]
     },
     "metadata": {},
     "output_type": "display_data"
    }
   ],
   "source": [
    "io"
   ]
  },
  {
   "cell_type": "markdown",
   "id": "52e262a1-2a7b-403e-8ebd-117793d89f06",
   "metadata": {
    "tags": []
   },
   "source": [
    "## Load in Seurat Objects and Extract the PCs and LogCounts"
   ]
  },
  {
   "cell_type": "code",
   "execution_count": 26,
   "id": "1b9db4ce-3677-4794-9236-4389fde67afb",
   "metadata": {},
   "outputs": [],
   "source": [
    "#atlas_umap_coordinates = readRDS(io$atlas_umap_coordinates)"
   ]
  },
  {
   "cell_type": "code",
   "execution_count": 27,
   "id": "f5e7208c-8942-4111-a5d2-e4a16c9ee9e2",
   "metadata": {},
   "outputs": [],
   "source": [
    "atlas_scRNA = readRDS(io$atlas)"
   ]
  },
  {
   "cell_type": "code",
   "execution_count": 28,
   "id": "921a48ea-b6c1-4e13-a452-2255c6441cf0",
   "metadata": {},
   "outputs": [
    {
     "data": {
      "text/plain": [
       "An object of class Seurat \n",
       "66770 features across 125559 samples within 4 assays \n",
       "Active assay: originalexp (27669 features, 0 variable features)\n",
       " 3 other assays present: within_timepoint_integration, within_atlas_version_integration, across_atlas_version_integration\n",
       " 2 dimensional reductions calculated: pca, umap"
      ]
     },
     "metadata": {},
     "output_type": "display_data"
    }
   ],
   "source": [
    "atlas_scRNA"
   ]
  },
  {
   "cell_type": "code",
   "execution_count": 29,
   "id": "8ba78b0c-2fd5-40d7-bd99-f6114b6764e3",
   "metadata": {},
   "outputs": [],
   "source": [
    "atlas_scRNA_metadata <- atlas_scRNA@meta.data"
   ]
  },
  {
   "cell_type": "code",
   "execution_count": 30,
   "id": "1e3f8415-b486-4bb8-828d-6e25bffc8891",
   "metadata": {},
   "outputs": [],
   "source": [
    "atlas_pca <- atlas_scRNA@reductions$pca@cell.embeddings\n",
    "atlas_originalexp_logcounts <- atlas_scRNA@assays$originalexp@data\n",
    "atlas_integrated_logcounts <- atlas_scRNA@assays$across_atlas_version_integration@data"
   ]
  },
  {
   "cell_type": "code",
   "execution_count": 31,
   "id": "72c5e41d-46ea-45c9-b9a1-1a0344456f88",
   "metadata": {},
   "outputs": [],
   "source": [
    "seqFISH = readRDS(io$seqFISH)"
   ]
  },
  {
   "cell_type": "code",
   "execution_count": 32,
   "id": "a4ed5e35-7b8f-468c-ae88-c9f709a8d18a",
   "metadata": {},
   "outputs": [
    {
     "data": {
      "text/plain": [
       "An object of class Seurat \n",
       "1053 features across 63188 samples within 3 assays \n",
       "Active assay: across_timepoint_integration (351 features, 351 variable features)\n",
       " 2 other assays present: originalexp, within_timepoint_integration\n",
       " 5 dimensional reductions calculated: pca, umap, spatial, Shila_PCA, Shila_UMAP"
      ]
     },
     "metadata": {},
     "output_type": "display_data"
    }
   ],
   "source": [
    "seqFISH"
   ]
  },
  {
   "cell_type": "code",
   "execution_count": 33,
   "id": "fcaeacbf-6180-4183-b60d-73af90e12090",
   "metadata": {},
   "outputs": [],
   "source": [
    "seqFISH_pca <- seqFISH@reductions$pca@cell.embeddings\n",
    "seqFISH_integrated_logcounts <- seqFISH@assays$across_timepoint_integration@data\n",
    "seqFISH_RNA_logcounts <- seqFISH@assays$originalexp@data"
   ]
  },
  {
   "cell_type": "code",
   "execution_count": 34,
   "id": "ee352bdf-ccb1-46e5-b988-245dc6245a40",
   "metadata": {},
   "outputs": [
    {
     "data": {
      "text/html": [
       "<style>\n",
       ".list-inline {list-style: none; margin:0; padding: 0}\n",
       ".list-inline>li {display: inline-block}\n",
       ".list-inline>li:not(:last-child)::after {content: \"\\00b7\"; padding: 0 .5ex}\n",
       "</style>\n",
       "<ol class=list-inline><li>351</li><li>63188</li></ol>\n"
      ],
      "text/latex": [
       "\\begin{enumerate*}\n",
       "\\item 351\n",
       "\\item 63188\n",
       "\\end{enumerate*}\n"
      ],
      "text/markdown": [
       "1. 351\n",
       "2. 63188\n",
       "\n",
       "\n"
      ],
      "text/plain": [
       "[1]   351 63188"
      ]
     },
     "metadata": {},
     "output_type": "display_data"
    },
    {
     "data": {
      "text/html": [
       "<style>\n",
       ".list-inline {list-style: none; margin:0; padding: 0}\n",
       ".list-inline>li {display: inline-block}\n",
       ".list-inline>li:not(:last-child)::after {content: \"\\00b7\"; padding: 0 .5ex}\n",
       "</style>\n",
       "<ol class=list-inline><li>351</li><li>63188</li></ol>\n"
      ],
      "text/latex": [
       "\\begin{enumerate*}\n",
       "\\item 351\n",
       "\\item 63188\n",
       "\\end{enumerate*}\n"
      ],
      "text/markdown": [
       "1. 351\n",
       "2. 63188\n",
       "\n",
       "\n"
      ],
      "text/plain": [
       "[1]   351 63188"
      ]
     },
     "metadata": {},
     "output_type": "display_data"
    }
   ],
   "source": [
    "dim(seqFISH_integrated_logcounts)\n",
    "dim(seqFISH_RNA_logcounts)"
   ]
  },
  {
   "cell_type": "markdown",
   "id": "c123ee05-7120-4398-9747-493004698060",
   "metadata": {
    "tags": []
   },
   "source": [
    "## Load in the StabMAP Outputs"
   ]
  },
  {
   "cell_type": "code",
   "execution_count": 35,
   "id": "8aef0f4e-e40e-473f-b747-e42c63883cca",
   "metadata": {},
   "outputs": [],
   "source": [
    "StabMAP.MNNoriginal = readRDS(io$StabMAP_reweighted_MNNcorrected_original_counts_without_neigh)\n",
    "StabMAP.MNNintegrated = readRDS(io$StabMAP_reweighted_MNNcorrected_integrated_counts_without_neigh)\n",
    "\n",
    "#StabMAP_reweighted_Harmonycorrected_original_counts_with_neigh = readRDS(io$StabMAP_reweighted_Harmonycorrected_original_counts_with_neigh)\n",
    "#StabMAP_reweighted_MNNcorrected_original_counts_with_neigh = readRDS(io$StabMAP_reweighted_MNNcorrected_original_counts_with_neigh)\n",
    "\n",
    "#StabMAP_reweighted_Harmonycorrected_integrated_counts_without_neigh = readRDS(io$StabMAP_reweighted_Harmonycorrected_integrated_counts_without_neigh)\n",
    "#StabMAP_reweighted_MNNcorrected_integrated_counts_without_neigh = readRDS(io$StabMAP_reweighted_MNNcorrected_integrated_counts_without_neigh)\n",
    "\n",
    "#StabMAP_reweighted_Harmonycorrected_integrated_counts_with_neigh = readRDS(io$StabMAP_reweighted_Harmonycorrected_integrated_counts_with_neigh)\n",
    "#StabMAP_reweighted_MNNcorrected_integrated_counts_with_neigh = readRDS(io$StabMAP_reweighted_MNNcorrected_integrated_counts_with_neigh)"
   ]
  },
  {
   "cell_type": "markdown",
   "id": "09f9eb2d-7cfa-424a-a700-098c3bcce57b",
   "metadata": {
    "tags": []
   },
   "source": [
    "## Generate a New Combined Seurat Object and Add the STABMAP Dimensional Reductions"
   ]
  },
  {
   "cell_type": "code",
   "execution_count": 36,
   "id": "b8df018a-0050-4464-8d44-25297cd7c21e",
   "metadata": {},
   "outputs": [],
   "source": [
    "seurat_combined <- merge(atlas_scRNA, y = seqFISH)"
   ]
  },
  {
   "cell_type": "code",
   "execution_count": 37,
   "id": "efdc9471-6146-4347-99a9-e62f22b17943",
   "metadata": {},
   "outputs": [
    {
     "data": {
      "text/plain": [
       "An object of class Seurat \n",
       "67123 features across 188747 samples within 5 assays \n",
       "Active assay: originalexp (27670 features, 0 variable features)\n",
       " 4 other assays present: within_timepoint_integration, within_atlas_version_integration, across_atlas_version_integration, across_timepoint_integration"
      ]
     },
     "metadata": {},
     "output_type": "display_data"
    }
   ],
   "source": [
    "seurat_combined"
   ]
  },
  {
   "cell_type": "code",
   "execution_count": 38,
   "id": "aa781dc3-9023-4b6d-bd42-aa3342767a9c",
   "metadata": {},
   "outputs": [
    {
     "data": {
      "text/html": [
       "<style>\n",
       ".list-inline {list-style: none; margin:0; padding: 0}\n",
       ".list-inline>li {display: inline-block}\n",
       ".list-inline>li:not(:last-child)::after {content: \"\\00b7\"; padding: 0 .5ex}\n",
       "</style>\n",
       "<ol class=list-inline><li>'orig.ident'</li><li>'nCount_originalexp'</li><li>'nFeature_originalexp'</li><li>'cell'</li><li>'sample'</li><li>'embryo_version'</li><li>'stage'</li><li>'somite_count'</li><li>'anatomy'</li><li>'S_score'</li><li>'G2M_score'</li><li>'phase'</li><li>'louvain'</li><li>'leiden'</li><li>'celltype_PijuanSala2019'</li><li>'celltype_extended_atlas'</li><li>'sizeFactor'</li><li>'stage_updated'</li><li>'within_timepoint_integration_snn_res.2'</li><li>'seurat_clusters'</li><li>'originalexp_snn_res.2'</li><li>'within_atlas_version_integration_snn_res.2'</li><li>'dim1'</li><li>'dim2'</li><li>'dim3'</li><li>'sample_id'</li><li>'embryo'</li><li>'pos'</li><li>'fov'</li><li>'Experiment'</li><li>'DataStage'</li><li>'Estage'</li><li>'pixel_width'</li><li>'area_um2'</li><li>'sum'</li><li>'detected'</li><li>'total'</li><li>'quality_keep'</li><li>'cell_ID'</li><li>'within_timepoint_integration_snn_res.1'</li></ol>\n"
      ],
      "text/latex": [
       "\\begin{enumerate*}\n",
       "\\item 'orig.ident'\n",
       "\\item 'nCount\\_originalexp'\n",
       "\\item 'nFeature\\_originalexp'\n",
       "\\item 'cell'\n",
       "\\item 'sample'\n",
       "\\item 'embryo\\_version'\n",
       "\\item 'stage'\n",
       "\\item 'somite\\_count'\n",
       "\\item 'anatomy'\n",
       "\\item 'S\\_score'\n",
       "\\item 'G2M\\_score'\n",
       "\\item 'phase'\n",
       "\\item 'louvain'\n",
       "\\item 'leiden'\n",
       "\\item 'celltype\\_PijuanSala2019'\n",
       "\\item 'celltype\\_extended\\_atlas'\n",
       "\\item 'sizeFactor'\n",
       "\\item 'stage\\_updated'\n",
       "\\item 'within\\_timepoint\\_integration\\_snn\\_res.2'\n",
       "\\item 'seurat\\_clusters'\n",
       "\\item 'originalexp\\_snn\\_res.2'\n",
       "\\item 'within\\_atlas\\_version\\_integration\\_snn\\_res.2'\n",
       "\\item 'dim1'\n",
       "\\item 'dim2'\n",
       "\\item 'dim3'\n",
       "\\item 'sample\\_id'\n",
       "\\item 'embryo'\n",
       "\\item 'pos'\n",
       "\\item 'fov'\n",
       "\\item 'Experiment'\n",
       "\\item 'DataStage'\n",
       "\\item 'Estage'\n",
       "\\item 'pixel\\_width'\n",
       "\\item 'area\\_um2'\n",
       "\\item 'sum'\n",
       "\\item 'detected'\n",
       "\\item 'total'\n",
       "\\item 'quality\\_keep'\n",
       "\\item 'cell\\_ID'\n",
       "\\item 'within\\_timepoint\\_integration\\_snn\\_res.1'\n",
       "\\end{enumerate*}\n"
      ],
      "text/markdown": [
       "1. 'orig.ident'\n",
       "2. 'nCount_originalexp'\n",
       "3. 'nFeature_originalexp'\n",
       "4. 'cell'\n",
       "5. 'sample'\n",
       "6. 'embryo_version'\n",
       "7. 'stage'\n",
       "8. 'somite_count'\n",
       "9. 'anatomy'\n",
       "10. 'S_score'\n",
       "11. 'G2M_score'\n",
       "12. 'phase'\n",
       "13. 'louvain'\n",
       "14. 'leiden'\n",
       "15. 'celltype_PijuanSala2019'\n",
       "16. 'celltype_extended_atlas'\n",
       "17. 'sizeFactor'\n",
       "18. 'stage_updated'\n",
       "19. 'within_timepoint_integration_snn_res.2'\n",
       "20. 'seurat_clusters'\n",
       "21. 'originalexp_snn_res.2'\n",
       "22. 'within_atlas_version_integration_snn_res.2'\n",
       "23. 'dim1'\n",
       "24. 'dim2'\n",
       "25. 'dim3'\n",
       "26. 'sample_id'\n",
       "27. 'embryo'\n",
       "28. 'pos'\n",
       "29. 'fov'\n",
       "30. 'Experiment'\n",
       "31. 'DataStage'\n",
       "32. 'Estage'\n",
       "33. 'pixel_width'\n",
       "34. 'area_um2'\n",
       "35. 'sum'\n",
       "36. 'detected'\n",
       "37. 'total'\n",
       "38. 'quality_keep'\n",
       "39. 'cell_ID'\n",
       "40. 'within_timepoint_integration_snn_res.1'\n",
       "\n",
       "\n"
      ],
      "text/plain": [
       " [1] \"orig.ident\"                                \n",
       " [2] \"nCount_originalexp\"                        \n",
       " [3] \"nFeature_originalexp\"                      \n",
       " [4] \"cell\"                                      \n",
       " [5] \"sample\"                                    \n",
       " [6] \"embryo_version\"                            \n",
       " [7] \"stage\"                                     \n",
       " [8] \"somite_count\"                              \n",
       " [9] \"anatomy\"                                   \n",
       "[10] \"S_score\"                                   \n",
       "[11] \"G2M_score\"                                 \n",
       "[12] \"phase\"                                     \n",
       "[13] \"louvain\"                                   \n",
       "[14] \"leiden\"                                    \n",
       "[15] \"celltype_PijuanSala2019\"                   \n",
       "[16] \"celltype_extended_atlas\"                   \n",
       "[17] \"sizeFactor\"                                \n",
       "[18] \"stage_updated\"                             \n",
       "[19] \"within_timepoint_integration_snn_res.2\"    \n",
       "[20] \"seurat_clusters\"                           \n",
       "[21] \"originalexp_snn_res.2\"                     \n",
       "[22] \"within_atlas_version_integration_snn_res.2\"\n",
       "[23] \"dim1\"                                      \n",
       "[24] \"dim2\"                                      \n",
       "[25] \"dim3\"                                      \n",
       "[26] \"sample_id\"                                 \n",
       "[27] \"embryo\"                                    \n",
       "[28] \"pos\"                                       \n",
       "[29] \"fov\"                                       \n",
       "[30] \"Experiment\"                                \n",
       "[31] \"DataStage\"                                 \n",
       "[32] \"Estage\"                                    \n",
       "[33] \"pixel_width\"                               \n",
       "[34] \"area_um2\"                                  \n",
       "[35] \"sum\"                                       \n",
       "[36] \"detected\"                                  \n",
       "[37] \"total\"                                     \n",
       "[38] \"quality_keep\"                              \n",
       "[39] \"cell_ID\"                                   \n",
       "[40] \"within_timepoint_integration_snn_res.1\"    "
      ]
     },
     "metadata": {},
     "output_type": "display_data"
    }
   ],
   "source": [
    "colnames(seurat_combined@meta.data)"
   ]
  },
  {
   "cell_type": "code",
   "execution_count": 39,
   "id": "be8bba2c-49f8-4b81-a086-7c5df289ddd7",
   "metadata": {
    "tags": []
   },
   "outputs": [
    {
     "name": "stderr",
     "output_type": "stream",
     "text": [
      "Warning message:\n",
      "“Keys should be one or more alphanumeric characters followed by an underscore, setting key from StabMap.original to StabMaporiginal_”\n",
      "Warning message:\n",
      "“All keys should be one or more alphanumeric characters followed by an underscore '_', setting key to StabMaporiginal_”\n",
      "Warning message:\n",
      "“No assay specified, setting assay as RNA by default.”\n",
      "Warning message:\n",
      "“Keys should be one or more alphanumeric characters followed by an underscore, setting key from StabMap.integrated to StabMapintegrated_”\n",
      "Warning message:\n",
      "“All keys should be one or more alphanumeric characters followed by an underscore '_', setting key to StabMapintegrated_”\n"
     ]
    }
   ],
   "source": [
    "##Create dimension reduced objects to insert into the seuart object\n",
    "StabMAP_original <- CreateDimReducObject(embeddings = StabMAP.MNNoriginal, \n",
    "                                         key = \"StabMap.original\",\n",
    "                                         assay = \"originalexp\")\n",
    "\n",
    "StabMAP_integrated <- CreateDimReducObject(embeddings = StabMAP.MNNintegrated, \n",
    "                                           key = \"StabMap.integrated\")"
   ]
  },
  {
   "cell_type": "code",
   "execution_count": 40,
   "id": "4d5c7998-31a0-49e6-a095-2e86fbaff288",
   "metadata": {},
   "outputs": [],
   "source": [
    "##Add dimensional reductions to the seurat object\n",
    "seurat_combined[[\"StabMAP_original_counts\"]] <- StabMAP_original\n",
    "#seurat_combined[[\"StabMAP_integrated_counts\"]] <- StabMAP_integrated"
   ]
  },
  {
   "cell_type": "code",
   "execution_count": 41,
   "id": "95e53b59-e4c7-4dee-a036-763bf5bbdfda",
   "metadata": {},
   "outputs": [
    {
     "data": {
      "text/plain": [
       "An object of class Seurat \n",
       "67123 features across 188747 samples within 5 assays \n",
       "Active assay: originalexp (27670 features, 0 variable features)\n",
       " 4 other assays present: within_timepoint_integration, within_atlas_version_integration, across_atlas_version_integration, across_timepoint_integration\n",
       " 1 dimensional reduction calculated: StabMAP_original_counts"
      ]
     },
     "metadata": {},
     "output_type": "display_data"
    }
   ],
   "source": [
    "seurat_combined"
   ]
  },
  {
   "cell_type": "code",
   "execution_count": 42,
   "id": "2c197a28-71c4-413c-99dc-94294e21208c",
   "metadata": {},
   "outputs": [
    {
     "data": {
      "text/plain": [
       "\n",
       "   cell embryo1 embryo2 embryo3 embryo4 embryo5 embryo6 embryo7     ext \n",
       "  75559   18295   14420   21236    2914    1105    2383    2835   50000 "
      ]
     },
     "metadata": {},
     "output_type": "display_data"
    }
   ],
   "source": [
    "table(seurat_combined@meta.data$orig.ident)"
   ]
  },
  {
   "cell_type": "code",
   "execution_count": 43,
   "id": "5f58fb55-b75f-4642-a106-870f7bc61c08",
   "metadata": {},
   "outputs": [],
   "source": [
    "# Add Meta Data the includes dataset information\n",
    "seurat_combined@meta.data$dataset <- seurat_combined@meta.data$orig.ident\n",
    "seurat_combined@meta.data$dataset <- recode(seurat_combined@meta.data$dataset, \n",
    "                                            \"cell\" = \"scRNA\",\n",
    "                                            \"embryo4\" = \"seqFISH\",\n",
    "                                            \"embryo5\" = \"seqFISH\",\n",
    "                                            \"embryo6\" = \"seqFISH\",\n",
    "                                            \"embryo7\" = \"seqFISH\",\n",
    "                                            \"embryo1\" = \"seqFISH\",\n",
    "                                            \"embryo2\" = \"seqFISH\",\n",
    "                                            \"embryo3\" = \"seqFISH\",\n",
    "                                            \"ext\" = \"scRNA\")"
   ]
  },
  {
   "cell_type": "code",
   "execution_count": 44,
   "id": "f654bffe-28f9-4ee8-83f4-0fdf92e87b91",
   "metadata": {},
   "outputs": [
    {
     "name": "stderr",
     "output_type": "stream",
     "text": [
      "Rasterizing points since number of points exceeds 100,000.\n",
      "To disable this behavior set `raster=FALSE`\n",
      "\n"
     ]
    },
    {
     "data": {
      "image/png": "[encoded data removed]",
      "text/plain": [
       "plot without title"
      ]
     },
     "metadata": {
      "image/png": {
       "height": 480,
       "width": 900
      }
     },
     "output_type": "display_data"
    }
   ],
   "source": [
    "options(repr.plot.width=15, repr.plot.height=8) \n",
    "p1 <- DimPlot(seurat_combined, reduction = \"StabMAP_original_counts\", group.by = \"dataset\", order = TRUE)\n",
    "#p2 <- DimPlot(seurat_combined, reduction = \"StabMAP_reweighted_Harmonycorrected_original_counts_without_neigh\", group.by = \"dataset\", order = TRUE)\n",
    "#p3 <- DimPlot(seurat_combined, reduction = \"StabMAP_reweighted_MNNcorrected_integrated_counts_without_neigh\", group.by = \"dataset\", order = TRUE)\n",
    "#p4 <- DimPlot(seurat_combined, reduction = \"StabMAP_reweighted_Harmonycorrected_integrated_counts_without_neigh\", group.by = \"dataset\", order = TRUE)\n",
    "\n",
    "p1"
   ]
  },
  {
   "cell_type": "markdown",
   "id": "7f38dbc6-0694-4b26-996d-289265b13cae",
   "metadata": {
    "tags": []
   },
   "source": [
    "## Run UMAP on the STABMAP DIMENSIONS"
   ]
  },
  {
   "cell_type": "code",
   "execution_count": 45,
   "id": "c0578273-75f4-4632-b31d-ad31c5ee1695",
   "metadata": {},
   "outputs": [
    {
     "data": {
      "text/html": [
       "60"
      ],
      "text/latex": [
       "60"
      ],
      "text/markdown": [
       "60"
      ],
      "text/plain": [
       "[1] 60"
      ]
     },
     "metadata": {},
     "output_type": "display_data"
    }
   ],
   "source": [
    "ncol(StabMAP.MNNoriginal)"
   ]
  },
  {
   "cell_type": "code",
   "execution_count": 46,
   "id": "4a6e1f18-fb88-4b34-be5a-451c626cb180",
   "metadata": {},
   "outputs": [
    {
     "data": {
      "text/plain": [
       "An object of class Seurat \n",
       "67123 features across 188747 samples within 5 assays \n",
       "Active assay: originalexp (27670 features, 0 variable features)\n",
       " 4 other assays present: within_timepoint_integration, within_atlas_version_integration, across_atlas_version_integration, across_timepoint_integration\n",
       " 1 dimensional reduction calculated: StabMAP_original_counts"
      ]
     },
     "metadata": {},
     "output_type": "display_data"
    }
   ],
   "source": [
    "seurat_combined"
   ]
  },
  {
   "cell_type": "code",
   "execution_count": 47,
   "id": "77525401-2042-44c2-a604-9e11d600ecb4",
   "metadata": {
    "tags": []
   },
   "outputs": [
    {
     "name": "stderr",
     "output_type": "stream",
     "text": [
      "Warning message:\n",
      "“The default method for RunUMAP has changed from calling Python UMAP via reticulate to the R-native UWOT using the cosine metric\n",
      "To use Python UMAP via reticulate, set umap.method to 'umap-learn' and metric to 'correlation'\n",
      "This message will be shown once per session”\n"
     ]
    }
   ],
   "source": [
    "# Run UMAP on the STABMAP + CORRECTED DIMENSIONAL REDUCTION \n",
    "#seurat_combined <- RunUMAP(seurat_combined, reduction = \"StabMap\", dims = 1:30, reduction.name = \"StabMap_UMAP\", verbose = FALSE)\n",
    "#seurat_combined <- RunUMAP(seurat_combined, reduction = \"StabMap_reweighted\", dims = 1:30, reduction.name = \"StabMap_reweighted_UMAP\", verbose = FALSE)\n",
    "\n",
    "seurat_combined <- RunUMAP(seurat_combined, reduction = \"StabMAP_original_counts\", \n",
    "                           dims = 1:ncol(StabMAP.MNNoriginal),\n",
    "                           reduction.name = \"StabMAP.MNNoriginal.UMAP\",\n",
    "                           verbose = FALSE)"
   ]
  },
  {
   "cell_type": "code",
   "execution_count": 48,
   "id": "2a7742aa-5d3d-4d98-b2e9-b5947a583da9",
   "metadata": {},
   "outputs": [
    {
     "name": "stderr",
     "output_type": "stream",
     "text": [
      "Rasterizing points since number of points exceeds 100,000.\n",
      "To disable this behavior set `raster=FALSE`\n",
      "\n"
     ]
    },
    {
     "data": {
      "image/png": "[encoded data removed]",
      "text/plain": [
       "plot without title"
      ]
     },
     "metadata": {
      "image/png": {
       "height": 360,
       "width": 600
      }
     },
     "output_type": "display_data"
    }
   ],
   "source": [
    "options(repr.plot.width=10, repr.plot.height=6) \n",
    "p1 <- DimPlot(seurat_combined, \n",
    "              reduction = \"StabMAP.MNNoriginal.UMAP\", \n",
    "              group.by = \"dataset\", \n",
    "              order = TRUE) \n",
    "p1 "
   ]
  },
  {
   "cell_type": "code",
   "execution_count": 49,
   "id": "2f622d8c-5e05-4be4-a293-607009c6d763",
   "metadata": {},
   "outputs": [
    {
     "name": "stderr",
     "output_type": "stream",
     "text": [
      "Rasterizing points since number of points exceeds 100,000.\n",
      "To disable this behavior set `raster=FALSE`\n",
      "\n"
     ]
    },
    {
     "data": {
      "image/png": "[encoded data removed]",
      "text/plain": [
       "plot without title"
      ]
     },
     "metadata": {
      "image/png": {
       "height": 360,
       "width": 600
      }
     },
     "output_type": "display_data"
    }
   ],
   "source": [
    "options(repr.plot.width=10, repr.plot.height=6) \n",
    "p1 <- DimPlot(seurat_combined, \n",
    "              reduction = \"StabMAP.MNNoriginal.UMAP\", \n",
    "              split.by = \"dataset\",\n",
    "              group.by = \"celltype_extended_atlas\",\n",
    "              order = FALSE) + scale_color_manual(values=extended.colors) + theme(legend.position='false')\n",
    "p1 "
   ]
  },
  {
   "cell_type": "markdown",
   "id": "6f23f335-b359-4a50-91eb-42f19b98b24d",
   "metadata": {},
   "source": [
    "## Save the UMAP DIM REDUCED OBJECT "
   ]
  },
  {
   "cell_type": "code",
   "execution_count": 50,
   "id": "8b77533d-ed68-40c7-a4ac-809a412ec0b1",
   "metadata": {},
   "outputs": [],
   "source": [
    "StabMAP_MNNoriginal_UMAP <- seurat_combined[['StabMAP.MNNoriginal.UMAP']]"
   ]
  },
  {
   "cell_type": "code",
   "execution_count": 52,
   "id": "28911d5e-d443-44e5-b1c7-12a83dcaab37",
   "metadata": {},
   "outputs": [],
   "source": [
    "seurat_scRNA <- seurat_combined[,seurat_combined@meta.data$dataset == \"scRNA\"]\n",
    "seurat_seqFISH <- seurat_combined[,seurat_combined@meta.data$dataset == \"seqFISH\"]"
   ]
  },
  {
   "cell_type": "code",
   "execution_count": 53,
   "id": "e9d765db-edcf-4eca-b0a2-7238e99275e8",
   "metadata": {},
   "outputs": [],
   "source": [
    "StabMAP_MNNoriginal_UMAP_seqFISH <- seurat_seqFISH[['StabMAP.MNNoriginal.UMAP']]\n",
    "StabMAP_MNNoriginal_UMAP_scRNA <- seurat_scRNA[['StabMAP.MNNoriginal.UMAP']]"
   ]
  },
  {
   "cell_type": "code",
   "execution_count": 51,
   "id": "c2854b06-34f9-490a-9497-9de7d26eac7b",
   "metadata": {},
   "outputs": [],
   "source": [
    "saveRDS(StabMAP_MNNoriginal_UMAP, \"projects/03_seqFISH_FINAL/code/stab_map_umap_generation/processed/StabMAP_allstage_postQC_MNNoriginal_UMAP.rds\")"
   ]
  },
  {
   "cell_type": "code",
   "execution_count": 54,
   "id": "c33c5fdd-7877-4cc9-ba2d-af50717f27f4",
   "metadata": {},
   "outputs": [],
   "source": [
    "saveRDS(StabMAP_MNNoriginal_UMAP_seqFISH, \"projects/03_seqFISH_FINAL/code/stab_map_umap_generation/processed/StabMAP_allstage_postQC_MNNoriginal_UMAP_seqFISH.rds\")\n",
    "saveRDS(StabMAP_MNNoriginal_UMAP_scRNA, \"projects/03_seqFISH_FINAL/code/stab_map_umap_generation/processed/StabMAP_allstage_postQC_MNNoriginal_UMAP_scRNA.rds\")"
   ]
  },
  {
   "cell_type": "code",
   "execution_count": null,
   "id": "59627c26-282d-4bd5-a31c-b2bacdc036cc",
   "metadata": {},
   "outputs": [],
   "source": []
  }
 ],
 "metadata": {
  "kernelspec": {
   "display_name": "R",
   "language": "R",
   "name": "ir"
  },
  "language_info": {
   "codemirror_mode": "r",
   "file_extension": ".r",
   "mimetype": "text/x-r-source",
   "name": "R",
   "pygments_lexer": "r",
   "version": "4.2.1"
  }
 },
 "nbformat": 4,
 "nbformat_minor": 5
}
